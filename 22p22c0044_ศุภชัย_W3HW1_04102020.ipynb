{
  "nbformat": 4,
  "nbformat_minor": 0,
  "metadata": {
    "colab": {
      "name": "Untitled9.ipynb",
      "provenance": [],
      "toc_visible": true,
      "authorship_tag": "ABX9TyPKcF6PzZtkMcGFII7nMkuM",
      "include_colab_link": true
    },
    "kernelspec": {
      "name": "python3",
      "display_name": "Python 3"
    }
  },
  "cells": [
    {
      "cell_type": "markdown",
      "metadata": {
        "id": "view-in-github",
        "colab_type": "text"
      },
      "source": [
        "<a href=\"https://colab.research.google.com/github/CakeNuthep/Super_AI/blob/master/22p22c0044_%E0%B8%A8%E0%B8%B8%E0%B8%A0%E0%B8%8A%E0%B8%B1%E0%B8%A2_W3HW1_04102020.ipynb\" target=\"_parent\"><img src=\"https://colab.research.google.com/assets/colab-badge.svg\" alt=\"Open In Colab\"/></a>"
      ]
    },
    {
      "cell_type": "code",
      "metadata": {
        "id": "wIGgkHLPWusC"
      },
      "source": [
        "import pandas as pd\n",
        "import numpy as np\n",
        "import matplotlib.pyplot as plt\n",
        "import seaborn as sns\n",
        "import datetime as dt\n",
        "from sklearn.utils import resample, shuffle"
      ],
      "execution_count": 1,
      "outputs": []
    },
    {
      "cell_type": "code",
      "metadata": {
        "id": "TKRga7HYYXcD"
      },
      "source": [
        "df_image = pd.read_csv('https://raw.githubusercontent.com/CakeNuthep/Super_AI/master/super-ai-image-classification/train/train/train.csv')"
      ],
      "execution_count": 2,
      "outputs": []
    },
    {
      "cell_type": "code",
      "metadata": {
        "id": "9_NrMadYYm8i",
        "outputId": "aeae5d6e-83ba-43a9-ced9-04acea110cbd",
        "colab": {
          "base_uri": "https://localhost:8080/",
          "height": 402
        }
      },
      "source": [
        "df_image"
      ],
      "execution_count": 3,
      "outputs": [
        {
          "output_type": "execute_result",
          "data": {
            "text/html": [
              "<div>\n",
              "<style scoped>\n",
              "    .dataframe tbody tr th:only-of-type {\n",
              "        vertical-align: middle;\n",
              "    }\n",
              "\n",
              "    .dataframe tbody tr th {\n",
              "        vertical-align: top;\n",
              "    }\n",
              "\n",
              "    .dataframe thead th {\n",
              "        text-align: right;\n",
              "    }\n",
              "</style>\n",
              "<table border=\"1\" class=\"dataframe\">\n",
              "  <thead>\n",
              "    <tr style=\"text-align: right;\">\n",
              "      <th></th>\n",
              "      <th>id</th>\n",
              "      <th>category</th>\n",
              "    </tr>\n",
              "  </thead>\n",
              "  <tbody>\n",
              "    <tr>\n",
              "      <th>0</th>\n",
              "      <td>6380fb87-18fe-4b76-a085-639a4e01b664.jpg</td>\n",
              "      <td>0</td>\n",
              "    </tr>\n",
              "    <tr>\n",
              "      <th>1</th>\n",
              "      <td>9956035b-0500-47b7-b508-cc7414c10270.jpg</td>\n",
              "      <td>0</td>\n",
              "    </tr>\n",
              "    <tr>\n",
              "      <th>2</th>\n",
              "      <td>fa6b4604-a080-410b-a8d1-fdf7cf61a92d.jpg</td>\n",
              "      <td>0</td>\n",
              "    </tr>\n",
              "    <tr>\n",
              "      <th>3</th>\n",
              "      <td>6e6dc67b-73ba-404b-b685-1f726d0357c3.jpg</td>\n",
              "      <td>0</td>\n",
              "    </tr>\n",
              "    <tr>\n",
              "      <th>4</th>\n",
              "      <td>15121f8e-f428-4cd5-83bf-1c9a051aea54.jpg</td>\n",
              "      <td>0</td>\n",
              "    </tr>\n",
              "    <tr>\n",
              "      <th>...</th>\n",
              "      <td>...</td>\n",
              "      <td>...</td>\n",
              "    </tr>\n",
              "    <tr>\n",
              "      <th>1720</th>\n",
              "      <td>245a6e32-55b1-47b9-ad43-527b95c9d770.jpg</td>\n",
              "      <td>0</td>\n",
              "    </tr>\n",
              "    <tr>\n",
              "      <th>1721</th>\n",
              "      <td>6e8cf04c-6ce1-4971-8978-0d40094378b8.jpg</td>\n",
              "      <td>0</td>\n",
              "    </tr>\n",
              "    <tr>\n",
              "      <th>1722</th>\n",
              "      <td>d6a0e4cb-1b83-4867-b9f8-9759a3ba22b0.jpg</td>\n",
              "      <td>0</td>\n",
              "    </tr>\n",
              "    <tr>\n",
              "      <th>1723</th>\n",
              "      <td>d6a4760d-c694-4d30-82a5-196f32ddec64.jpg</td>\n",
              "      <td>1</td>\n",
              "    </tr>\n",
              "    <tr>\n",
              "      <th>1724</th>\n",
              "      <td>62a559b3-6b50-468d-bb7a-665ef2fee227.jpg</td>\n",
              "      <td>1</td>\n",
              "    </tr>\n",
              "  </tbody>\n",
              "</table>\n",
              "<p>1725 rows × 2 columns</p>\n",
              "</div>"
            ],
            "text/plain": [
              "                                            id  category\n",
              "0     6380fb87-18fe-4b76-a085-639a4e01b664.jpg         0\n",
              "1     9956035b-0500-47b7-b508-cc7414c10270.jpg         0\n",
              "2     fa6b4604-a080-410b-a8d1-fdf7cf61a92d.jpg         0\n",
              "3     6e6dc67b-73ba-404b-b685-1f726d0357c3.jpg         0\n",
              "4     15121f8e-f428-4cd5-83bf-1c9a051aea54.jpg         0\n",
              "...                                        ...       ...\n",
              "1720  245a6e32-55b1-47b9-ad43-527b95c9d770.jpg         0\n",
              "1721  6e8cf04c-6ce1-4971-8978-0d40094378b8.jpg         0\n",
              "1722  d6a0e4cb-1b83-4867-b9f8-9759a3ba22b0.jpg         0\n",
              "1723  d6a4760d-c694-4d30-82a5-196f32ddec64.jpg         1\n",
              "1724  62a559b3-6b50-468d-bb7a-665ef2fee227.jpg         1\n",
              "\n",
              "[1725 rows x 2 columns]"
            ]
          },
          "metadata": {
            "tags": []
          },
          "execution_count": 3
        }
      ]
    },
    {
      "cell_type": "code",
      "metadata": {
        "id": "qOXGPSwlYqhq",
        "outputId": "cbc258eb-d420-4d53-8120-085e87fb42fb",
        "colab": {
          "base_uri": "https://localhost:8080/",
          "height": 265
        }
      },
      "source": [
        "df_image['category'].hist()\n",
        "plt.show()"
      ],
      "execution_count": 4,
      "outputs": [
        {
          "output_type": "display_data",
          "data": {
            "image/png": "[encoded data removed]",
            "text/plain": [
              "<Figure size 432x288 with 1 Axes>"
            ]
          },
          "metadata": {
            "tags": [],
            "needs_background": "light"
          }
        }
      ]
    },
    {
      "cell_type": "code",
      "metadata": {
        "id": "eSrSgyanY1lC",
        "outputId": "98a7242c-ee9f-4d37-8a75-c1788947d781",
        "colab": {
          "base_uri": "https://localhost:8080/",
          "height": 168
        }
      },
      "source": [
        "df_image.info()"
      ],
      "execution_count": 5,
      "outputs": [
        {
          "output_type": "stream",
          "text": [
            "<class 'pandas.core.frame.DataFrame'>\n",
            "RangeIndex: 1725 entries, 0 to 1724\n",
            "Data columns (total 2 columns):\n",
            " #   Column    Non-Null Count  Dtype \n",
            "---  ------    --------------  ----- \n",
            " 0   id        1725 non-null   object\n",
            " 1   category  1725 non-null   int64 \n",
            "dtypes: int64(1), object(1)\n",
            "memory usage: 27.1+ KB\n"
          ],
          "name": "stdout"
        }
      ]
    },
    {
      "cell_type": "code",
      "metadata": {
        "id": "D5XCk8ENZNQ5",
        "outputId": "b4da0301-deb5-4206-9e10-0167a5c2e502",
        "colab": {
          "base_uri": "https://localhost:8080/",
          "height": 166
        }
      },
      "source": [
        "df_image.groupby(['category']).agg(['count'])"
      ],
      "execution_count": 6,
      "outputs": [
        {
          "output_type": "execute_result",
          "data": {
            "text/html": [
              "<div>\n",
              "<style scoped>\n",
              "    .dataframe tbody tr th:only-of-type {\n",
              "        vertical-align: middle;\n",
              "    }\n",
              "\n",
              "    .dataframe tbody tr th {\n",
              "        vertical-align: top;\n",
              "    }\n",
              "\n",
              "    .dataframe thead tr th {\n",
              "        text-align: left;\n",
              "    }\n",
              "\n",
              "    .dataframe thead tr:last-of-type th {\n",
              "        text-align: right;\n",
              "    }\n",
              "</style>\n",
              "<table border=\"1\" class=\"dataframe\">\n",
              "  <thead>\n",
              "    <tr>\n",
              "      <th></th>\n",
              "      <th>id</th>\n",
              "    </tr>\n",
              "    <tr>\n",
              "      <th></th>\n",
              "      <th>count</th>\n",
              "    </tr>\n",
              "    <tr>\n",
              "      <th>category</th>\n",
              "      <th></th>\n",
              "    </tr>\n",
              "  </thead>\n",
              "  <tbody>\n",
              "    <tr>\n",
              "      <th>0</th>\n",
              "      <td>1317</td>\n",
              "    </tr>\n",
              "    <tr>\n",
              "      <th>1</th>\n",
              "      <td>408</td>\n",
              "    </tr>\n",
              "  </tbody>\n",
              "</table>\n",
              "</div>"
            ],
            "text/plain": [
              "            id\n",
              "         count\n",
              "category      \n",
              "0         1317\n",
              "1          408"
            ]
          },
          "metadata": {
            "tags": []
          },
          "execution_count": 6
        }
      ]
    },
    {
      "cell_type": "code",
      "metadata": {
        "id": "Iaa-s2SNaKqa"
      },
      "source": [
        "df_class0 = df_image[df_image['category']==0]\n",
        "df_class1 = df_image[df_image['category']==1]\n",
        "\n",
        "df_class1_upsampled = resample(df_class1, \n",
        "                                 replace=True,     \n",
        "                                 n_samples=1317,    \n",
        "                                 random_state=123) "
      ],
      "execution_count": 7,
      "outputs": []
    },
    {
      "cell_type": "code",
      "metadata": {
        "id": "GSFveYedbKby",
        "outputId": "6ca4af8a-0951-4a37-cecc-550f8be80c41",
        "colab": {
          "base_uri": "https://localhost:8080/",
          "height": 402
        }
      },
      "source": [
        "df_class1_upsampled"
      ],
      "execution_count": 8,
      "outputs": [
        {
          "output_type": "execute_result",
          "data": {
            "text/html": [
              "<div>\n",
              "<style scoped>\n",
              "    .dataframe tbody tr th:only-of-type {\n",
              "        vertical-align: middle;\n",
              "    }\n",
              "\n",
              "    .dataframe tbody tr th {\n",
              "        vertical-align: top;\n",
              "    }\n",
              "\n",
              "    .dataframe thead th {\n",
              "        text-align: right;\n",
              "    }\n",
              "</style>\n",
              "<table border=\"1\" class=\"dataframe\">\n",
              "  <thead>\n",
              "    <tr style=\"text-align: right;\">\n",
              "      <th></th>\n",
              "      <th>id</th>\n",
              "      <th>category</th>\n",
              "    </tr>\n",
              "  </thead>\n",
              "  <tbody>\n",
              "    <tr>\n",
              "      <th>1648</th>\n",
              "      <td>ef1db5ea-b4c3-4d60-9f8e-2478ba8be5b1.jpg</td>\n",
              "      <td>1</td>\n",
              "    </tr>\n",
              "    <tr>\n",
              "      <th>1686</th>\n",
              "      <td>d3594385-f9b5-4a5c-8785-b03489427c5a.jpg</td>\n",
              "      <td>1</td>\n",
              "    </tr>\n",
              "    <tr>\n",
              "      <th>1580</th>\n",
              "      <td>b5f0ca73-eace-4124-a442-f15af925b3f5.jpg</td>\n",
              "      <td>1</td>\n",
              "    </tr>\n",
              "    <tr>\n",
              "      <th>1111</th>\n",
              "      <td>2c3efe14-44f0-476d-9086-6af40d89f23f.jpg</td>\n",
              "      <td>1</td>\n",
              "    </tr>\n",
              "    <tr>\n",
              "      <th>1402</th>\n",
              "      <td>2cd57caf-9484-4dec-b3c0-f93eb760b935.jpg</td>\n",
              "      <td>1</td>\n",
              "    </tr>\n",
              "    <tr>\n",
              "      <th>...</th>\n",
              "      <td>...</td>\n",
              "      <td>...</td>\n",
              "    </tr>\n",
              "    <tr>\n",
              "      <th>1439</th>\n",
              "      <td>9380be3e-3fc8-49e6-9d17-f71d9fcabc45.jpg</td>\n",
              "      <td>1</td>\n",
              "    </tr>\n",
              "    <tr>\n",
              "      <th>1604</th>\n",
              "      <td>66f4abf1-c977-446f-a202-004556fae60d.jpg</td>\n",
              "      <td>1</td>\n",
              "    </tr>\n",
              "    <tr>\n",
              "      <th>1585</th>\n",
              "      <td>9e6f24a8-157c-4018-924a-fa83cf64d332.jpg</td>\n",
              "      <td>1</td>\n",
              "    </tr>\n",
              "    <tr>\n",
              "      <th>1572</th>\n",
              "      <td>da54f2b1-4c45-45ec-af22-6e3115ed9b6c.jpg</td>\n",
              "      <td>1</td>\n",
              "    </tr>\n",
              "    <tr>\n",
              "      <th>1584</th>\n",
              "      <td>fbd6c1c8-bbfd-4594-a83a-7ad24ab0cf6e.jpg</td>\n",
              "      <td>1</td>\n",
              "    </tr>\n",
              "  </tbody>\n",
              "</table>\n",
              "<p>1317 rows × 2 columns</p>\n",
              "</div>"
            ],
            "text/plain": [
              "                                            id  category\n",
              "1648  ef1db5ea-b4c3-4d60-9f8e-2478ba8be5b1.jpg         1\n",
              "1686  d3594385-f9b5-4a5c-8785-b03489427c5a.jpg         1\n",
              "1580  b5f0ca73-eace-4124-a442-f15af925b3f5.jpg         1\n",
              "1111  2c3efe14-44f0-476d-9086-6af40d89f23f.jpg         1\n",
              "1402  2cd57caf-9484-4dec-b3c0-f93eb760b935.jpg         1\n",
              "...                                        ...       ...\n",
              "1439  9380be3e-3fc8-49e6-9d17-f71d9fcabc45.jpg         1\n",
              "1604  66f4abf1-c977-446f-a202-004556fae60d.jpg         1\n",
              "1585  9e6f24a8-157c-4018-924a-fa83cf64d332.jpg         1\n",
              "1572  da54f2b1-4c45-45ec-af22-6e3115ed9b6c.jpg         1\n",
              "1584  fbd6c1c8-bbfd-4594-a83a-7ad24ab0cf6e.jpg         1\n",
              "\n",
              "[1317 rows x 2 columns]"
            ]
          },
          "metadata": {
            "tags": []
          },
          "execution_count": 8
        }
      ]
    },
    {
      "cell_type": "code",
      "metadata": {
        "id": "kC8_dEPwbTPR",
        "outputId": "39944ffa-db60-4a35-873e-df1ea075fcd5",
        "colab": {
          "base_uri": "https://localhost:8080/",
          "height": 402
        }
      },
      "source": [
        "df_upsampled = pd.concat([df_class0, df_class1_upsampled])\n",
        "df_upsampled"
      ],
      "execution_count": 9,
      "outputs": [
        {
          "output_type": "execute_result",
          "data": {
            "text/html": [
              "<div>\n",
              "<style scoped>\n",
              "    .dataframe tbody tr th:only-of-type {\n",
              "        vertical-align: middle;\n",
              "    }\n",
              "\n",
              "    .dataframe tbody tr th {\n",
              "        vertical-align: top;\n",
              "    }\n",
              "\n",
              "    .dataframe thead th {\n",
              "        text-align: right;\n",
              "    }\n",
              "</style>\n",
              "<table border=\"1\" class=\"dataframe\">\n",
              "  <thead>\n",
              "    <tr style=\"text-align: right;\">\n",
              "      <th></th>\n",
              "      <th>id</th>\n",
              "      <th>category</th>\n",
              "    </tr>\n",
              "  </thead>\n",
              "  <tbody>\n",
              "    <tr>\n",
              "      <th>0</th>\n",
              "      <td>6380fb87-18fe-4b76-a085-639a4e01b664.jpg</td>\n",
              "      <td>0</td>\n",
              "    </tr>\n",
              "    <tr>\n",
              "      <th>1</th>\n",
              "      <td>9956035b-0500-47b7-b508-cc7414c10270.jpg</td>\n",
              "      <td>0</td>\n",
              "    </tr>\n",
              "    <tr>\n",
              "      <th>2</th>\n",
              "      <td>fa6b4604-a080-410b-a8d1-fdf7cf61a92d.jpg</td>\n",
              "      <td>0</td>\n",
              "    </tr>\n",
              "    <tr>\n",
              "      <th>3</th>\n",
              "      <td>6e6dc67b-73ba-404b-b685-1f726d0357c3.jpg</td>\n",
              "      <td>0</td>\n",
              "    </tr>\n",
              "    <tr>\n",
              "      <th>4</th>\n",
              "      <td>15121f8e-f428-4cd5-83bf-1c9a051aea54.jpg</td>\n",
              "      <td>0</td>\n",
              "    </tr>\n",
              "    <tr>\n",
              "      <th>...</th>\n",
              "      <td>...</td>\n",
              "      <td>...</td>\n",
              "    </tr>\n",
              "    <tr>\n",
              "      <th>1439</th>\n",
              "      <td>9380be3e-3fc8-49e6-9d17-f71d9fcabc45.jpg</td>\n",
              "      <td>1</td>\n",
              "    </tr>\n",
              "    <tr>\n",
              "      <th>1604</th>\n",
              "      <td>66f4abf1-c977-446f-a202-004556fae60d.jpg</td>\n",
              "      <td>1</td>\n",
              "    </tr>\n",
              "    <tr>\n",
              "      <th>1585</th>\n",
              "      <td>9e6f24a8-157c-4018-924a-fa83cf64d332.jpg</td>\n",
              "      <td>1</td>\n",
              "    </tr>\n",
              "    <tr>\n",
              "      <th>1572</th>\n",
              "      <td>da54f2b1-4c45-45ec-af22-6e3115ed9b6c.jpg</td>\n",
              "      <td>1</td>\n",
              "    </tr>\n",
              "    <tr>\n",
              "      <th>1584</th>\n",
              "      <td>fbd6c1c8-bbfd-4594-a83a-7ad24ab0cf6e.jpg</td>\n",
              "      <td>1</td>\n",
              "    </tr>\n",
              "  </tbody>\n",
              "</table>\n",
              "<p>2634 rows × 2 columns</p>\n",
              "</div>"
            ],
            "text/plain": [
              "                                            id  category\n",
              "0     6380fb87-18fe-4b76-a085-639a4e01b664.jpg         0\n",
              "1     9956035b-0500-47b7-b508-cc7414c10270.jpg         0\n",
              "2     fa6b4604-a080-410b-a8d1-fdf7cf61a92d.jpg         0\n",
              "3     6e6dc67b-73ba-404b-b685-1f726d0357c3.jpg         0\n",
              "4     15121f8e-f428-4cd5-83bf-1c9a051aea54.jpg         0\n",
              "...                                        ...       ...\n",
              "1439  9380be3e-3fc8-49e6-9d17-f71d9fcabc45.jpg         1\n",
              "1604  66f4abf1-c977-446f-a202-004556fae60d.jpg         1\n",
              "1585  9e6f24a8-157c-4018-924a-fa83cf64d332.jpg         1\n",
              "1572  da54f2b1-4c45-45ec-af22-6e3115ed9b6c.jpg         1\n",
              "1584  fbd6c1c8-bbfd-4594-a83a-7ad24ab0cf6e.jpg         1\n",
              "\n",
              "[2634 rows x 2 columns]"
            ]
          },
          "metadata": {
            "tags": []
          },
          "execution_count": 9
        }
      ]
    },
    {
      "cell_type": "code",
      "metadata": {
        "id": "Uxb__Y-mbdvY",
        "outputId": "2939dd01-ce7a-45d0-ef70-6243761db24e",
        "colab": {
          "base_uri": "https://localhost:8080/",
          "height": 166
        }
      },
      "source": [
        "df_upsampled.groupby(['category']).agg(['count'])"
      ],
      "execution_count": 10,
      "outputs": [
        {
          "output_type": "execute_result",
          "data": {
            "text/html": [
              "<div>\n",
              "<style scoped>\n",
              "    .dataframe tbody tr th:only-of-type {\n",
              "        vertical-align: middle;\n",
              "    }\n",
              "\n",
              "    .dataframe tbody tr th {\n",
              "        vertical-align: top;\n",
              "    }\n",
              "\n",
              "    .dataframe thead tr th {\n",
              "        text-align: left;\n",
              "    }\n",
              "\n",
              "    .dataframe thead tr:last-of-type th {\n",
              "        text-align: right;\n",
              "    }\n",
              "</style>\n",
              "<table border=\"1\" class=\"dataframe\">\n",
              "  <thead>\n",
              "    <tr>\n",
              "      <th></th>\n",
              "      <th>id</th>\n",
              "    </tr>\n",
              "    <tr>\n",
              "      <th></th>\n",
              "      <th>count</th>\n",
              "    </tr>\n",
              "    <tr>\n",
              "      <th>category</th>\n",
              "      <th></th>\n",
              "    </tr>\n",
              "  </thead>\n",
              "  <tbody>\n",
              "    <tr>\n",
              "      <th>0</th>\n",
              "      <td>1317</td>\n",
              "    </tr>\n",
              "    <tr>\n",
              "      <th>1</th>\n",
              "      <td>1317</td>\n",
              "    </tr>\n",
              "  </tbody>\n",
              "</table>\n",
              "</div>"
            ],
            "text/plain": [
              "            id\n",
              "         count\n",
              "category      \n",
              "0         1317\n",
              "1         1317"
            ]
          },
          "metadata": {
            "tags": []
          },
          "execution_count": 10
        }
      ]
    },
    {
      "cell_type": "code",
      "metadata": {
        "id": "jIv9Irfzb5M4"
      },
      "source": [
        "df_upsampled = shuffle(df_upsampled)"
      ],
      "execution_count": 11,
      "outputs": []
    },
    {
      "cell_type": "code",
      "metadata": {
        "id": "q6HHBEbLb8qn",
        "outputId": "4b1aeda0-3867-4031-afed-7098747cf9d9",
        "colab": {
          "base_uri": "https://localhost:8080/",
          "height": 402
        }
      },
      "source": [
        "df_upsampled"
      ],
      "execution_count": 12,
      "outputs": [
        {
          "output_type": "execute_result",
          "data": {
            "text/html": [
              "<div>\n",
              "<style scoped>\n",
              "    .dataframe tbody tr th:only-of-type {\n",
              "        vertical-align: middle;\n",
              "    }\n",
              "\n",
              "    .dataframe tbody tr th {\n",
              "        vertical-align: top;\n",
              "    }\n",
              "\n",
              "    .dataframe thead th {\n",
              "        text-align: right;\n",
              "    }\n",
              "</style>\n",
              "<table border=\"1\" class=\"dataframe\">\n",
              "  <thead>\n",
              "    <tr style=\"text-align: right;\">\n",
              "      <th></th>\n",
              "      <th>id</th>\n",
              "      <th>category</th>\n",
              "    </tr>\n",
              "  </thead>\n",
              "  <tbody>\n",
              "    <tr>\n",
              "      <th>1416</th>\n",
              "      <td>7b844b32-d66c-4e4a-94e7-4f353a5b4c3d.jpg</td>\n",
              "      <td>1</td>\n",
              "    </tr>\n",
              "    <tr>\n",
              "      <th>1362</th>\n",
              "      <td>c72c37c4-e5ff-424c-8329-d64d54480883.jpg</td>\n",
              "      <td>1</td>\n",
              "    </tr>\n",
              "    <tr>\n",
              "      <th>349</th>\n",
              "      <td>604a3af9-ea9a-4a7c-9fda-f2cd3244fff4.jpg</td>\n",
              "      <td>0</td>\n",
              "    </tr>\n",
              "    <tr>\n",
              "      <th>1212</th>\n",
              "      <td>62646796-dcb0-4e5e-b3f3-66a83ea6e1f0.jpg</td>\n",
              "      <td>1</td>\n",
              "    </tr>\n",
              "    <tr>\n",
              "      <th>1349</th>\n",
              "      <td>35aa8cee-ffab-4572-b71c-e1ada82da473.jpg</td>\n",
              "      <td>1</td>\n",
              "    </tr>\n",
              "    <tr>\n",
              "      <th>...</th>\n",
              "      <td>...</td>\n",
              "      <td>...</td>\n",
              "    </tr>\n",
              "    <tr>\n",
              "      <th>601</th>\n",
              "      <td>24a3949c-14fe-47c1-b91a-ea5ff90f6a94.jpg</td>\n",
              "      <td>0</td>\n",
              "    </tr>\n",
              "    <tr>\n",
              "      <th>1694</th>\n",
              "      <td>ea503085-70a2-47c2-b52f-e7c4de706df6.jpg</td>\n",
              "      <td>1</td>\n",
              "    </tr>\n",
              "    <tr>\n",
              "      <th>1356</th>\n",
              "      <td>1544a8ee-21c2-46d0-b5a8-2a875fb22b52.jpg</td>\n",
              "      <td>1</td>\n",
              "    </tr>\n",
              "    <tr>\n",
              "      <th>1077</th>\n",
              "      <td>6e1ca251-d3e4-4ec0-b9b4-0f1bbd919638.jpg</td>\n",
              "      <td>1</td>\n",
              "    </tr>\n",
              "    <tr>\n",
              "      <th>852</th>\n",
              "      <td>3f6cad70-f68e-434a-9eaf-7328d1b422bd.jpg</td>\n",
              "      <td>1</td>\n",
              "    </tr>\n",
              "  </tbody>\n",
              "</table>\n",
              "<p>2634 rows × 2 columns</p>\n",
              "</div>"
            ],
            "text/plain": [
              "                                            id  category\n",
              "1416  7b844b32-d66c-4e4a-94e7-4f353a5b4c3d.jpg         1\n",
              "1362  c72c37c4-e5ff-424c-8329-d64d54480883.jpg         1\n",
              "349   604a3af9-ea9a-4a7c-9fda-f2cd3244fff4.jpg         0\n",
              "1212  62646796-dcb0-4e5e-b3f3-66a83ea6e1f0.jpg         1\n",
              "1349  35aa8cee-ffab-4572-b71c-e1ada82da473.jpg         1\n",
              "...                                        ...       ...\n",
              "601   24a3949c-14fe-47c1-b91a-ea5ff90f6a94.jpg         0\n",
              "1694  ea503085-70a2-47c2-b52f-e7c4de706df6.jpg         1\n",
              "1356  1544a8ee-21c2-46d0-b5a8-2a875fb22b52.jpg         1\n",
              "1077  6e1ca251-d3e4-4ec0-b9b4-0f1bbd919638.jpg         1\n",
              "852   3f6cad70-f68e-434a-9eaf-7328d1b422bd.jpg         1\n",
              "\n",
              "[2634 rows x 2 columns]"
            ]
          },
          "metadata": {
            "tags": []
          },
          "execution_count": 12
        }
      ]
    },
    {
      "cell_type": "markdown",
      "metadata": {
        "id": "1wzqzZPIj8cT"
      },
      "source": [
        "# Train"
      ]
    },
    {
      "cell_type": "code",
      "metadata": {
        "id": "qlKlv8dVnwHx",
        "outputId": "033b0a0b-79b1-4435-f988-aa42b48c02b1",
        "colab": {
          "base_uri": "https://localhost:8080/",
          "height": 50
        }
      },
      "source": [
        "from keras.applications.resnet50 import ResNet50\n",
        "from keras.applications.imagenet_utils import preprocess_input\n",
        "from keras.preprocessing import image\n",
        "from PIL import Image, ImageOps\n",
        "import numpy as np\n",
        "import requests\n",
        "import io\n",
        "import PIL\n",
        "from sklearn.preprocessing import normalize\n",
        "\n",
        "model = ResNet50(include_top=False, weights='imagenet', classes=1000)\n",
        "\n",
        "def extract_feature(imgpath):\n",
        "  if imgpath.find('http')!=-1:\n",
        "      r = requests.get(imgpath, allow_redirects=True, timeout=10)\n",
        "      image_bytes = io.BytesIO(r.content)\n",
        "      img = PIL.Image.open(image_bytes)\n",
        "  else:\n",
        "  \t  img = image.load_img(imgpath)\n",
        "  img = ImageOps.fit(img, (224, 224), Image.ANTIALIAS)\n",
        "  x = image.img_to_array(img)\n",
        "  x = np.expand_dims(x, axis=0)\n",
        "  x = preprocess_input(x)\n",
        "  features = model.predict(x, batch_size=1,verbose=0)\n",
        "  features = np.ndarray.flatten(features).astype('float64')\n",
        "  feat = normalize([features])[0]\n",
        "  return feat"
      ],
      "execution_count": 13,
      "outputs": [
        {
          "output_type": "stream",
          "text": [
            "Downloading data from https://storage.googleapis.com/tensorflow/keras-applications/resnet/resnet50_weights_tf_dim_ordering_tf_kernels_notop.h5\n",
            "94773248/94765736 [==============================] - 1s 0us/step\n"
          ],
          "name": "stdout"
        }
      ]
    },
    {
      "cell_type": "code",
      "metadata": {
        "id": "sTx4mBZ-vbk2"
      },
      "source": [
        "featuer = extract_feature('https://github.com/CakeNuthep/Super_AI/blob/master/super-ai-image-classification/train/train/images/00067754-49c2-4de0-b34c-3e0ee8b44ab6.jpg?raw=true')"
      ],
      "execution_count": 14,
      "outputs": []
    },
    {
      "cell_type": "code",
      "metadata": {
        "id": "_PUZa8DF4e3A"
      },
      "source": [
        "df_raw = df_upsampled[:20]"
      ],
      "execution_count": 15,
      "outputs": []
    },
    {
      "cell_type": "code",
      "metadata": {
        "id": "s7NMSEUu4gV4",
        "outputId": "ebc5bf53-2525-40d7-b3b3-6d73c6217179",
        "colab": {
          "base_uri": "https://localhost:8080/",
          "height": 639
        }
      },
      "source": [
        "df_raw"
      ],
      "execution_count": 16,
      "outputs": [
        {
          "output_type": "execute_result",
          "data": {
            "text/html": [
              "<div>\n",
              "<style scoped>\n",
              "    .dataframe tbody tr th:only-of-type {\n",
              "        vertical-align: middle;\n",
              "    }\n",
              "\n",
              "    .dataframe tbody tr th {\n",
              "        vertical-align: top;\n",
              "    }\n",
              "\n",
              "    .dataframe thead th {\n",
              "        text-align: right;\n",
              "    }\n",
              "</style>\n",
              "<table border=\"1\" class=\"dataframe\">\n",
              "  <thead>\n",
              "    <tr style=\"text-align: right;\">\n",
              "      <th></th>\n",
              "      <th>id</th>\n",
              "      <th>category</th>\n",
              "    </tr>\n",
              "  </thead>\n",
              "  <tbody>\n",
              "    <tr>\n",
              "      <th>1416</th>\n",
              "      <td>7b844b32-d66c-4e4a-94e7-4f353a5b4c3d.jpg</td>\n",
              "      <td>1</td>\n",
              "    </tr>\n",
              "    <tr>\n",
              "      <th>1362</th>\n",
              "      <td>c72c37c4-e5ff-424c-8329-d64d54480883.jpg</td>\n",
              "      <td>1</td>\n",
              "    </tr>\n",
              "    <tr>\n",
              "      <th>349</th>\n",
              "      <td>604a3af9-ea9a-4a7c-9fda-f2cd3244fff4.jpg</td>\n",
              "      <td>0</td>\n",
              "    </tr>\n",
              "    <tr>\n",
              "      <th>1212</th>\n",
              "      <td>62646796-dcb0-4e5e-b3f3-66a83ea6e1f0.jpg</td>\n",
              "      <td>1</td>\n",
              "    </tr>\n",
              "    <tr>\n",
              "      <th>1349</th>\n",
              "      <td>35aa8cee-ffab-4572-b71c-e1ada82da473.jpg</td>\n",
              "      <td>1</td>\n",
              "    </tr>\n",
              "    <tr>\n",
              "      <th>297</th>\n",
              "      <td>89fd09be-6178-4423-af4a-4be9683e9c71.jpg</td>\n",
              "      <td>0</td>\n",
              "    </tr>\n",
              "    <tr>\n",
              "      <th>1415</th>\n",
              "      <td>98fcdcdf-0a33-437c-85bd-b48b98a46d22.jpg</td>\n",
              "      <td>0</td>\n",
              "    </tr>\n",
              "    <tr>\n",
              "      <th>1563</th>\n",
              "      <td>027c9998-5c2a-4d78-af7b-e8be8957e279.jpg</td>\n",
              "      <td>0</td>\n",
              "    </tr>\n",
              "    <tr>\n",
              "      <th>1639</th>\n",
              "      <td>0a63d774-0139-4d1a-9644-a6a7a96ade2c.jpg</td>\n",
              "      <td>1</td>\n",
              "    </tr>\n",
              "    <tr>\n",
              "      <th>1133</th>\n",
              "      <td>d69a4d60-0282-40e0-85f1-3eec33186ca0.jpg</td>\n",
              "      <td>1</td>\n",
              "    </tr>\n",
              "    <tr>\n",
              "      <th>913</th>\n",
              "      <td>7d81dde9-87ce-489f-b28b-6777b8cbd1f8.jpg</td>\n",
              "      <td>0</td>\n",
              "    </tr>\n",
              "    <tr>\n",
              "      <th>1244</th>\n",
              "      <td>5213d35a-6ad6-4abd-bcc3-1a79446ca8b9.jpg</td>\n",
              "      <td>1</td>\n",
              "    </tr>\n",
              "    <tr>\n",
              "      <th>1471</th>\n",
              "      <td>27c4792b-a246-4633-bfb0-6e6abe33e669.jpg</td>\n",
              "      <td>0</td>\n",
              "    </tr>\n",
              "    <tr>\n",
              "      <th>993</th>\n",
              "      <td>4bfa0154-00c0-45b6-8d2d-fe549b17a269.jpg</td>\n",
              "      <td>1</td>\n",
              "    </tr>\n",
              "    <tr>\n",
              "      <th>1643</th>\n",
              "      <td>4721c71f-a7c1-466c-bebf-cb1def11d839.jpg</td>\n",
              "      <td>1</td>\n",
              "    </tr>\n",
              "    <tr>\n",
              "      <th>1391</th>\n",
              "      <td>ab75c5ca-bfc5-4308-be14-ae0f5c633f6e.jpg</td>\n",
              "      <td>1</td>\n",
              "    </tr>\n",
              "    <tr>\n",
              "      <th>1465</th>\n",
              "      <td>d98e9f1e-71f6-4697-88d6-049f8ba61cfd.jpg</td>\n",
              "      <td>1</td>\n",
              "    </tr>\n",
              "    <tr>\n",
              "      <th>1158</th>\n",
              "      <td>1cf3fca3-105f-48f3-8cd1-496107210d53.jpg</td>\n",
              "      <td>1</td>\n",
              "    </tr>\n",
              "    <tr>\n",
              "      <th>852</th>\n",
              "      <td>3f6cad70-f68e-434a-9eaf-7328d1b422bd.jpg</td>\n",
              "      <td>1</td>\n",
              "    </tr>\n",
              "    <tr>\n",
              "      <th>1426</th>\n",
              "      <td>43f887cf-6023-49c7-98e6-2a6feb97510d.jpg</td>\n",
              "      <td>1</td>\n",
              "    </tr>\n",
              "  </tbody>\n",
              "</table>\n",
              "</div>"
            ],
            "text/plain": [
              "                                            id  category\n",
              "1416  7b844b32-d66c-4e4a-94e7-4f353a5b4c3d.jpg         1\n",
              "1362  c72c37c4-e5ff-424c-8329-d64d54480883.jpg         1\n",
              "349   604a3af9-ea9a-4a7c-9fda-f2cd3244fff4.jpg         0\n",
              "1212  62646796-dcb0-4e5e-b3f3-66a83ea6e1f0.jpg         1\n",
              "1349  35aa8cee-ffab-4572-b71c-e1ada82da473.jpg         1\n",
              "297   89fd09be-6178-4423-af4a-4be9683e9c71.jpg         0\n",
              "1415  98fcdcdf-0a33-437c-85bd-b48b98a46d22.jpg         0\n",
              "1563  027c9998-5c2a-4d78-af7b-e8be8957e279.jpg         0\n",
              "1639  0a63d774-0139-4d1a-9644-a6a7a96ade2c.jpg         1\n",
              "1133  d69a4d60-0282-40e0-85f1-3eec33186ca0.jpg         1\n",
              "913   7d81dde9-87ce-489f-b28b-6777b8cbd1f8.jpg         0\n",
              "1244  5213d35a-6ad6-4abd-bcc3-1a79446ca8b9.jpg         1\n",
              "1471  27c4792b-a246-4633-bfb0-6e6abe33e669.jpg         0\n",
              "993   4bfa0154-00c0-45b6-8d2d-fe549b17a269.jpg         1\n",
              "1643  4721c71f-a7c1-466c-bebf-cb1def11d839.jpg         1\n",
              "1391  ab75c5ca-bfc5-4308-be14-ae0f5c633f6e.jpg         1\n",
              "1465  d98e9f1e-71f6-4697-88d6-049f8ba61cfd.jpg         1\n",
              "1158  1cf3fca3-105f-48f3-8cd1-496107210d53.jpg         1\n",
              "852   3f6cad70-f68e-434a-9eaf-7328d1b422bd.jpg         1\n",
              "1426  43f887cf-6023-49c7-98e6-2a6feb97510d.jpg         1"
            ]
          },
          "metadata": {
            "tags": []
          },
          "execution_count": 16
        }
      ]
    },
    {
      "cell_type": "code",
      "metadata": {
        "id": "f9CmRjyU0EXF",
        "outputId": "079fbea4-972f-4272-f7e7-59cbdb3540f3",
        "colab": {
          "base_uri": "https://localhost:8080/",
          "height": 790
        }
      },
      "source": [
        "feature = []\n",
        "for index, row in df_raw.iterrows():\n",
        "  f = extract_feature(f'''https://github.com/CakeNuthep/Super_AI/blob/master/super-ai-image-classification/train/train/images/{row['id']}?raw=true''')\n",
        "  print(f)\n",
        "  feature.append(f)\n",
        "  print(row['id'], row['category'])\n",
        "df_raw['feature']=feature"
      ],
      "execution_count": 17,
      "outputs": [
        {
          "output_type": "stream",
          "text": [
            "[0. 0. 0. ... 0. 0. 0.]\n",
            "7b844b32-d66c-4e4a-94e7-4f353a5b4c3d.jpg 1\n",
            "[0. 0. 0. ... 0. 0. 0.]\n",
            "c72c37c4-e5ff-424c-8329-d64d54480883.jpg 1\n",
            "[0. 0. 0. ... 0. 0. 0.]\n",
            "604a3af9-ea9a-4a7c-9fda-f2cd3244fff4.jpg 0\n",
            "[0. 0. 0. ... 0. 0. 0.]\n",
            "62646796-dcb0-4e5e-b3f3-66a83ea6e1f0.jpg 1\n",
            "[0. 0. 0. ... 0. 0. 0.]\n",
            "35aa8cee-ffab-4572-b71c-e1ada82da473.jpg 1\n",
            "[0.        0.        0.        ... 0.        0.        0.0072331]\n",
            "89fd09be-6178-4423-af4a-4be9683e9c71.jpg 0\n",
            "[0. 0. 0. ... 0. 0. 0.]\n",
            "98fcdcdf-0a33-437c-85bd-b48b98a46d22.jpg 0\n",
            "[0. 0. 0. ... 0. 0. 0.]\n",
            "027c9998-5c2a-4d78-af7b-e8be8957e279.jpg 0\n",
            "[0. 0. 0. ... 0. 0. 0.]\n",
            "0a63d774-0139-4d1a-9644-a6a7a96ade2c.jpg 1\n",
            "[0.         0.00142508 0.         ... 0.         0.         0.00640935]\n",
            "d69a4d60-0282-40e0-85f1-3eec33186ca0.jpg 1\n",
            "[0.         0.         0.         ... 0.00296128 0.         0.        ]\n",
            "7d81dde9-87ce-489f-b28b-6777b8cbd1f8.jpg 0\n",
            "[0. 0. 0. ... 0. 0. 0.]\n",
            "5213d35a-6ad6-4abd-bcc3-1a79446ca8b9.jpg 1\n",
            "[0. 0. 0. ... 0. 0. 0.]\n",
            "27c4792b-a246-4633-bfb0-6e6abe33e669.jpg 0\n",
            "[0.         0.         0.         ... 0.00286059 0.         0.00209989]\n",
            "4bfa0154-00c0-45b6-8d2d-fe549b17a269.jpg 1\n",
            "[0. 0. 0. ... 0. 0. 0.]\n",
            "4721c71f-a7c1-466c-bebf-cb1def11d839.jpg 1\n",
            "[0. 0. 0. ... 0. 0. 0.]\n",
            "ab75c5ca-bfc5-4308-be14-ae0f5c633f6e.jpg 1\n",
            "[0.         0.         0.         ... 0.         0.00063403 0.        ]\n",
            "d98e9f1e-71f6-4697-88d6-049f8ba61cfd.jpg 1\n",
            "[0. 0. 0. ... 0. 0. 0.]\n",
            "1cf3fca3-105f-48f3-8cd1-496107210d53.jpg 1\n",
            "[0.         0.         0.         ... 0.01058829 0.         0.        ]\n",
            "3f6cad70-f68e-434a-9eaf-7328d1b422bd.jpg 1\n",
            "[0. 0. 0. ... 0. 0. 0.]\n",
            "43f887cf-6023-49c7-98e6-2a6feb97510d.jpg 1\n"
          ],
          "name": "stdout"
        },
        {
          "output_type": "stream",
          "text": [
            "/usr/local/lib/python3.6/dist-packages/ipykernel_launcher.py:7: SettingWithCopyWarning: \n",
            "A value is trying to be set on a copy of a slice from a DataFrame.\n",
            "Try using .loc[row_indexer,col_indexer] = value instead\n",
            "\n",
            "See the caveats in the documentation: https://pandas.pydata.org/pandas-docs/stable/user_guide/indexing.html#returning-a-view-versus-a-copy\n",
            "  import sys\n"
          ],
          "name": "stderr"
        }
      ]
    },
    {
      "cell_type": "code",
      "metadata": {
        "id": "qtOlmz7I5HoK",
        "outputId": "b4585eec-d0af-4e52-a8cf-c7061131e5c2",
        "colab": {
          "base_uri": "https://localhost:8080/",
          "height": 639
        }
      },
      "source": [
        "df_raw"
      ],
      "execution_count": 18,
      "outputs": [
        {
          "output_type": "execute_result",
          "data": {
            "text/html": [
              "<div>\n",
              "<style scoped>\n",
              "    .dataframe tbody tr th:only-of-type {\n",
              "        vertical-align: middle;\n",
              "    }\n",
              "\n",
              "    .dataframe tbody tr th {\n",
              "        vertical-align: top;\n",
              "    }\n",
              "\n",
              "    .dataframe thead th {\n",
              "        text-align: right;\n",
              "    }\n",
              "</style>\n",
              "<table border=\"1\" class=\"dataframe\">\n",
              "  <thead>\n",
              "    <tr style=\"text-align: right;\">\n",
              "      <th></th>\n",
              "      <th>id</th>\n",
              "      <th>category</th>\n",
              "      <th>feature</th>\n",
              "    </tr>\n",
              "  </thead>\n",
              "  <tbody>\n",
              "    <tr>\n",
              "      <th>1416</th>\n",
              "      <td>7b844b32-d66c-4e4a-94e7-4f353a5b4c3d.jpg</td>\n",
              "      <td>1</td>\n",
              "      <td>[0.0, 0.0, 0.0, 0.0, 0.0, 0.0, 0.0, 0.0, 0.0, ...</td>\n",
              "    </tr>\n",
              "    <tr>\n",
              "      <th>1362</th>\n",
              "      <td>c72c37c4-e5ff-424c-8329-d64d54480883.jpg</td>\n",
              "      <td>1</td>\n",
              "      <td>[0.0, 0.0, 0.0, 0.0, 0.0, 0.0, 0.0, 0.0, 0.0, ...</td>\n",
              "    </tr>\n",
              "    <tr>\n",
              "      <th>349</th>\n",
              "      <td>604a3af9-ea9a-4a7c-9fda-f2cd3244fff4.jpg</td>\n",
              "      <td>0</td>\n",
              "      <td>[0.0, 0.0, 0.0, 0.0, 0.0, 0.0, 0.0, 0.0, 0.0, ...</td>\n",
              "    </tr>\n",
              "    <tr>\n",
              "      <th>1212</th>\n",
              "      <td>62646796-dcb0-4e5e-b3f3-66a83ea6e1f0.jpg</td>\n",
              "      <td>1</td>\n",
              "      <td>[0.0, 0.0, 0.0, 0.0, 0.0, 0.0, 0.0, 0.0, 0.0, ...</td>\n",
              "    </tr>\n",
              "    <tr>\n",
              "      <th>1349</th>\n",
              "      <td>35aa8cee-ffab-4572-b71c-e1ada82da473.jpg</td>\n",
              "      <td>1</td>\n",
              "      <td>[0.0, 0.0, 0.0, 0.0, 0.0, 0.0, 0.0, 0.0, 0.0, ...</td>\n",
              "    </tr>\n",
              "    <tr>\n",
              "      <th>297</th>\n",
              "      <td>89fd09be-6178-4423-af4a-4be9683e9c71.jpg</td>\n",
              "      <td>0</td>\n",
              "      <td>[0.0, 0.0, 0.0, 0.0, 0.0, 0.0, 0.0, 0.0, 0.0, ...</td>\n",
              "    </tr>\n",
              "    <tr>\n",
              "      <th>1415</th>\n",
              "      <td>98fcdcdf-0a33-437c-85bd-b48b98a46d22.jpg</td>\n",
              "      <td>0</td>\n",
              "      <td>[0.0, 0.0, 0.0, 0.0, 0.0003443594786723438, 0....</td>\n",
              "    </tr>\n",
              "    <tr>\n",
              "      <th>1563</th>\n",
              "      <td>027c9998-5c2a-4d78-af7b-e8be8957e279.jpg</td>\n",
              "      <td>0</td>\n",
              "      <td>[0.0, 0.0, 0.0, 0.0, 0.0, 0.0, 0.0, 0.0, 0.0, ...</td>\n",
              "    </tr>\n",
              "    <tr>\n",
              "      <th>1639</th>\n",
              "      <td>0a63d774-0139-4d1a-9644-a6a7a96ade2c.jpg</td>\n",
              "      <td>1</td>\n",
              "      <td>[0.0, 0.0, 0.0, 0.0, 0.0, 0.0, 0.0, 0.0, 0.0, ...</td>\n",
              "    </tr>\n",
              "    <tr>\n",
              "      <th>1133</th>\n",
              "      <td>d69a4d60-0282-40e0-85f1-3eec33186ca0.jpg</td>\n",
              "      <td>1</td>\n",
              "      <td>[0.0, 0.0014250791913088833, 0.0, 0.0, 0.0, 0....</td>\n",
              "    </tr>\n",
              "    <tr>\n",
              "      <th>913</th>\n",
              "      <td>7d81dde9-87ce-489f-b28b-6777b8cbd1f8.jpg</td>\n",
              "      <td>0</td>\n",
              "      <td>[0.0, 0.0, 0.0, 0.0, 0.0, 0.0, 0.0, 0.0, 0.0, ...</td>\n",
              "    </tr>\n",
              "    <tr>\n",
              "      <th>1244</th>\n",
              "      <td>5213d35a-6ad6-4abd-bcc3-1a79446ca8b9.jpg</td>\n",
              "      <td>1</td>\n",
              "      <td>[0.0, 0.0, 0.0, 0.0, 0.0, 0.0, 0.0008593358984...</td>\n",
              "    </tr>\n",
              "    <tr>\n",
              "      <th>1471</th>\n",
              "      <td>27c4792b-a246-4633-bfb0-6e6abe33e669.jpg</td>\n",
              "      <td>0</td>\n",
              "      <td>[0.0, 0.0, 0.0, 0.0, 0.0, 0.0, 0.0, 0.0, 0.0, ...</td>\n",
              "    </tr>\n",
              "    <tr>\n",
              "      <th>993</th>\n",
              "      <td>4bfa0154-00c0-45b6-8d2d-fe549b17a269.jpg</td>\n",
              "      <td>1</td>\n",
              "      <td>[0.0, 0.0, 0.0, 0.0, 0.0, 0.0, 0.0, 0.0, 0.0, ...</td>\n",
              "    </tr>\n",
              "    <tr>\n",
              "      <th>1643</th>\n",
              "      <td>4721c71f-a7c1-466c-bebf-cb1def11d839.jpg</td>\n",
              "      <td>1</td>\n",
              "      <td>[0.0, 0.0, 0.0, 0.0, 0.0, 0.0, 0.0, 0.0, 0.0, ...</td>\n",
              "    </tr>\n",
              "    <tr>\n",
              "      <th>1391</th>\n",
              "      <td>ab75c5ca-bfc5-4308-be14-ae0f5c633f6e.jpg</td>\n",
              "      <td>1</td>\n",
              "      <td>[0.0, 0.0, 0.0, 0.0, 0.0, 0.0, 0.0, 0.0, 0.0, ...</td>\n",
              "    </tr>\n",
              "    <tr>\n",
              "      <th>1465</th>\n",
              "      <td>d98e9f1e-71f6-4697-88d6-049f8ba61cfd.jpg</td>\n",
              "      <td>1</td>\n",
              "      <td>[0.0, 0.0, 0.0, 0.0, 0.0, 0.0, 0.0, 0.0, 0.0, ...</td>\n",
              "    </tr>\n",
              "    <tr>\n",
              "      <th>1158</th>\n",
              "      <td>1cf3fca3-105f-48f3-8cd1-496107210d53.jpg</td>\n",
              "      <td>1</td>\n",
              "      <td>[0.0, 0.0, 0.0, 0.0, 0.0014403764027432998, 0....</td>\n",
              "    </tr>\n",
              "    <tr>\n",
              "      <th>852</th>\n",
              "      <td>3f6cad70-f68e-434a-9eaf-7328d1b422bd.jpg</td>\n",
              "      <td>1</td>\n",
              "      <td>[0.0, 0.0, 0.0, 0.0, 0.0, 0.0, 0.0, 0.0, 0.0, ...</td>\n",
              "    </tr>\n",
              "    <tr>\n",
              "      <th>1426</th>\n",
              "      <td>43f887cf-6023-49c7-98e6-2a6feb97510d.jpg</td>\n",
              "      <td>1</td>\n",
              "      <td>[0.0, 0.0, 0.0, 0.0, 0.0, 0.0, 0.0, 0.0, 0.0, ...</td>\n",
              "    </tr>\n",
              "  </tbody>\n",
              "</table>\n",
              "</div>"
            ],
            "text/plain": [
              "                                            id  ...                                            feature\n",
              "1416  7b844b32-d66c-4e4a-94e7-4f353a5b4c3d.jpg  ...  [0.0, 0.0, 0.0, 0.0, 0.0, 0.0, 0.0, 0.0, 0.0, ...\n",
              "1362  c72c37c4-e5ff-424c-8329-d64d54480883.jpg  ...  [0.0, 0.0, 0.0, 0.0, 0.0, 0.0, 0.0, 0.0, 0.0, ...\n",
              "349   604a3af9-ea9a-4a7c-9fda-f2cd3244fff4.jpg  ...  [0.0, 0.0, 0.0, 0.0, 0.0, 0.0, 0.0, 0.0, 0.0, ...\n",
              "1212  62646796-dcb0-4e5e-b3f3-66a83ea6e1f0.jpg  ...  [0.0, 0.0, 0.0, 0.0, 0.0, 0.0, 0.0, 0.0, 0.0, ...\n",
              "1349  35aa8cee-ffab-4572-b71c-e1ada82da473.jpg  ...  [0.0, 0.0, 0.0, 0.0, 0.0, 0.0, 0.0, 0.0, 0.0, ...\n",
              "297   89fd09be-6178-4423-af4a-4be9683e9c71.jpg  ...  [0.0, 0.0, 0.0, 0.0, 0.0, 0.0, 0.0, 0.0, 0.0, ...\n",
              "1415  98fcdcdf-0a33-437c-85bd-b48b98a46d22.jpg  ...  [0.0, 0.0, 0.0, 0.0, 0.0003443594786723438, 0....\n",
              "1563  027c9998-5c2a-4d78-af7b-e8be8957e279.jpg  ...  [0.0, 0.0, 0.0, 0.0, 0.0, 0.0, 0.0, 0.0, 0.0, ...\n",
              "1639  0a63d774-0139-4d1a-9644-a6a7a96ade2c.jpg  ...  [0.0, 0.0, 0.0, 0.0, 0.0, 0.0, 0.0, 0.0, 0.0, ...\n",
              "1133  d69a4d60-0282-40e0-85f1-3eec33186ca0.jpg  ...  [0.0, 0.0014250791913088833, 0.0, 0.0, 0.0, 0....\n",
              "913   7d81dde9-87ce-489f-b28b-6777b8cbd1f8.jpg  ...  [0.0, 0.0, 0.0, 0.0, 0.0, 0.0, 0.0, 0.0, 0.0, ...\n",
              "1244  5213d35a-6ad6-4abd-bcc3-1a79446ca8b9.jpg  ...  [0.0, 0.0, 0.0, 0.0, 0.0, 0.0, 0.0008593358984...\n",
              "1471  27c4792b-a246-4633-bfb0-6e6abe33e669.jpg  ...  [0.0, 0.0, 0.0, 0.0, 0.0, 0.0, 0.0, 0.0, 0.0, ...\n",
              "993   4bfa0154-00c0-45b6-8d2d-fe549b17a269.jpg  ...  [0.0, 0.0, 0.0, 0.0, 0.0, 0.0, 0.0, 0.0, 0.0, ...\n",
              "1643  4721c71f-a7c1-466c-bebf-cb1def11d839.jpg  ...  [0.0, 0.0, 0.0, 0.0, 0.0, 0.0, 0.0, 0.0, 0.0, ...\n",
              "1391  ab75c5ca-bfc5-4308-be14-ae0f5c633f6e.jpg  ...  [0.0, 0.0, 0.0, 0.0, 0.0, 0.0, 0.0, 0.0, 0.0, ...\n",
              "1465  d98e9f1e-71f6-4697-88d6-049f8ba61cfd.jpg  ...  [0.0, 0.0, 0.0, 0.0, 0.0, 0.0, 0.0, 0.0, 0.0, ...\n",
              "1158  1cf3fca3-105f-48f3-8cd1-496107210d53.jpg  ...  [0.0, 0.0, 0.0, 0.0, 0.0014403764027432998, 0....\n",
              "852   3f6cad70-f68e-434a-9eaf-7328d1b422bd.jpg  ...  [0.0, 0.0, 0.0, 0.0, 0.0, 0.0, 0.0, 0.0, 0.0, ...\n",
              "1426  43f887cf-6023-49c7-98e6-2a6feb97510d.jpg  ...  [0.0, 0.0, 0.0, 0.0, 0.0, 0.0, 0.0, 0.0, 0.0, ...\n",
              "\n",
              "[20 rows x 3 columns]"
            ]
          },
          "metadata": {
            "tags": []
          },
          "execution_count": 18
        }
      ]
    },
    {
      "cell_type": "code",
      "metadata": {
        "id": "utGKmYRq6p75"
      },
      "source": [
        "import pickle\n",
        "from sklearn.model_selection import train_test_split\n",
        "import numpy as np\n",
        "from sklearn.svm import LinearSVC\n",
        "from sklearn.calibration import CalibratedClassifierCV\n",
        "def trainmodel(dataset,modfile=''):\n",
        "  trainfeat, testfeat, trainlabel, testlabel = train_test_split(dataset['feature'], dataset['category'], test_size=0.33, random_state=42)\n",
        "  #return trainfeat,testfeat,trainlabel,testlabel\n",
        "  clf = LinearSVC()\n",
        "  clf = CalibratedClassifierCV() \n",
        "  mod = clf.fit(np.vstack(trainfeat.values),trainlabel.values)\n",
        "  #return mod\n",
        "  res = mod.predict(np.vstack(testfeat.values))\n",
        "  #return res,testlabel\n",
        "  if modfile!='':\n",
        "    pickle.dump(mod,open(modfile,'wb'))\n",
        "  \n",
        "  #return res, testlabel\n",
        "  acc = sum(res == testlabel)/len(res)\n",
        "  conf = mod.predict_proba(np.vstack(testfeat.values))\n",
        "  return mod,acc,conf,testlabel"
      ],
      "execution_count": 28,
      "outputs": []
    },
    {
      "cell_type": "code",
      "metadata": {
        "id": "r4YGZkfR7arZ"
      },
      "source": [
        "mod,acc,conf,testlabel = trainmodel(df_raw,'class_model.mod')"
      ],
      "execution_count": 29,
      "outputs": []
    },
    {
      "cell_type": "code",
      "metadata": {
        "id": "SIIpjusg8QXu",
        "outputId": "c6828a54-7cf3-43c1-b82e-6bd431eab09d",
        "colab": {
          "base_uri": "https://localhost:8080/",
          "height": 34
        }
      },
      "source": [
        "acc"
      ],
      "execution_count": 21,
      "outputs": [
        {
          "output_type": "execute_result",
          "data": {
            "text/plain": [
              "0.2857142857142857"
            ]
          },
          "metadata": {
            "tags": []
          },
          "execution_count": 21
        }
      ]
    },
    {
      "cell_type": "code",
      "metadata": {
        "id": "mOOn7CCMyRSE"
      },
      "source": [
        "df_compete = pd.read_csv('https://raw.githubusercontent.com/CakeNuthep/Super_AI/master/super-ai-image-classification/val/val/template.csv')"
      ],
      "execution_count": 30,
      "outputs": []
    },
    {
      "cell_type": "code",
      "metadata": {
        "id": "a_WVUHMByiTH",
        "outputId": "4aca018a-1250-4380-fcb3-dab84466c28b",
        "colab": {
          "base_uri": "https://localhost:8080/",
          "height": 402
        }
      },
      "source": [
        "df_compete"
      ],
      "execution_count": 31,
      "outputs": [
        {
          "output_type": "execute_result",
          "data": {
            "text/html": [
              "<div>\n",
              "<style scoped>\n",
              "    .dataframe tbody tr th:only-of-type {\n",
              "        vertical-align: middle;\n",
              "    }\n",
              "\n",
              "    .dataframe tbody tr th {\n",
              "        vertical-align: top;\n",
              "    }\n",
              "\n",
              "    .dataframe thead th {\n",
              "        text-align: right;\n",
              "    }\n",
              "</style>\n",
              "<table border=\"1\" class=\"dataframe\">\n",
              "  <thead>\n",
              "    <tr style=\"text-align: right;\">\n",
              "      <th></th>\n",
              "      <th>id</th>\n",
              "      <th>category</th>\n",
              "    </tr>\n",
              "  </thead>\n",
              "  <tbody>\n",
              "    <tr>\n",
              "      <th>0</th>\n",
              "      <td>000af6a7-8302-4085-b448-6eae2c1a60e5.jpg</td>\n",
              "      <td>0</td>\n",
              "    </tr>\n",
              "    <tr>\n",
              "      <th>1</th>\n",
              "      <td>009b786c-b566-42d6-b62a-c191be65708a.jpg</td>\n",
              "      <td>0</td>\n",
              "    </tr>\n",
              "    <tr>\n",
              "      <th>2</th>\n",
              "      <td>01bc0b5f-2701-4670-9edf-6162ed6d65ab.jpg</td>\n",
              "      <td>0</td>\n",
              "    </tr>\n",
              "    <tr>\n",
              "      <th>3</th>\n",
              "      <td>04475007-c7de-45c7-8cf0-a8a86f69b9d4.jpg</td>\n",
              "      <td>0</td>\n",
              "    </tr>\n",
              "    <tr>\n",
              "      <th>4</th>\n",
              "      <td>0487ece9-58d0-4f56-8360-5f7995b184ca.jpg</td>\n",
              "      <td>0</td>\n",
              "    </tr>\n",
              "    <tr>\n",
              "      <th>...</th>\n",
              "      <td>...</td>\n",
              "      <td>...</td>\n",
              "    </tr>\n",
              "    <tr>\n",
              "      <th>393</th>\n",
              "      <td>fe7878d2-79de-4191-b6e2-5345316d4e71.jpg</td>\n",
              "      <td>0</td>\n",
              "    </tr>\n",
              "    <tr>\n",
              "      <th>394</th>\n",
              "      <td>fe96e4b0-6112-4705-af3c-8f200b3ce929.jpg</td>\n",
              "      <td>0</td>\n",
              "    </tr>\n",
              "    <tr>\n",
              "      <th>395</th>\n",
              "      <td>ff18a60d-8522-480f-9270-2d4d9bfc8c07.jpg</td>\n",
              "      <td>0</td>\n",
              "    </tr>\n",
              "    <tr>\n",
              "      <th>396</th>\n",
              "      <td>ff45cb7e-0df8-46a5-9f19-0e915e1355c8.jpg</td>\n",
              "      <td>0</td>\n",
              "    </tr>\n",
              "    <tr>\n",
              "      <th>397</th>\n",
              "      <td>ffb0adf9-51e8-4da2-b19d-ccca8520d3be.jpg</td>\n",
              "      <td>0</td>\n",
              "    </tr>\n",
              "  </tbody>\n",
              "</table>\n",
              "<p>398 rows × 2 columns</p>\n",
              "</div>"
            ],
            "text/plain": [
              "                                           id  category\n",
              "0    000af6a7-8302-4085-b448-6eae2c1a60e5.jpg         0\n",
              "1    009b786c-b566-42d6-b62a-c191be65708a.jpg         0\n",
              "2    01bc0b5f-2701-4670-9edf-6162ed6d65ab.jpg         0\n",
              "3    04475007-c7de-45c7-8cf0-a8a86f69b9d4.jpg         0\n",
              "4    0487ece9-58d0-4f56-8360-5f7995b184ca.jpg         0\n",
              "..                                        ...       ...\n",
              "393  fe7878d2-79de-4191-b6e2-5345316d4e71.jpg         0\n",
              "394  fe96e4b0-6112-4705-af3c-8f200b3ce929.jpg         0\n",
              "395  ff18a60d-8522-480f-9270-2d4d9bfc8c07.jpg         0\n",
              "396  ff45cb7e-0df8-46a5-9f19-0e915e1355c8.jpg         0\n",
              "397  ffb0adf9-51e8-4da2-b19d-ccca8520d3be.jpg         0\n",
              "\n",
              "[398 rows x 2 columns]"
            ]
          },
          "metadata": {
            "tags": []
          },
          "execution_count": 31
        }
      ]
    },
    {
      "cell_type": "code",
      "metadata": {
        "id": "c-RgLRNcz8FW"
      },
      "source": [
        "df_compete_raw = df_compete[:20]"
      ],
      "execution_count": 36,
      "outputs": []
    },
    {
      "cell_type": "code",
      "metadata": {
        "id": "gHGTP8hZzRAe",
        "outputId": "71f54ef9-61df-4b9a-a611-c902dfa50e3f",
        "colab": {
          "base_uri": "https://localhost:8080/",
          "height": 790
        }
      },
      "source": [
        "feature_compete = []\n",
        "for index, row in df_compete_raw.iterrows():\n",
        "  f = extract_feature(f'''https://raw.githubusercontent.com/CakeNuthep/Super_AI/master/super-ai-image-classification/val/val/images/{row['id']}''')\n",
        "  print(f)\n",
        "  feature_compete.append(f)\n",
        "  print(row['id'], row['category'])\n",
        "df_compete_raw['feature']=feature_compete"
      ],
      "execution_count": 37,
      "outputs": [
        {
          "output_type": "stream",
          "text": [
            "[0. 0. 0. ... 0. 0. 0.]\n",
            "000af6a7-8302-4085-b448-6eae2c1a60e5.jpg 0\n",
            "[0. 0. 0. ... 0. 0. 0.]\n",
            "009b786c-b566-42d6-b62a-c191be65708a.jpg 0\n",
            "[0.         0.         0.         ... 0.         0.         0.01835951]\n",
            "01bc0b5f-2701-4670-9edf-6162ed6d65ab.jpg 0\n",
            "[0.         0.00542354 0.         ... 0.         0.         0.        ]\n",
            "04475007-c7de-45c7-8cf0-a8a86f69b9d4.jpg 0\n",
            "[0.         0.         0.         ... 0.02408754 0.         0.        ]\n",
            "0487ece9-58d0-4f56-8360-5f7995b184ca.jpg 0\n",
            "[0.         0.00043575 0.         ... 0.         0.         0.00667686]\n",
            "04c0b6b6-f51a-476f-9dff-cd95f668d8fb.jpg 0\n",
            "[0.         0.         0.         ... 0.         0.01509768 0.        ]\n",
            "04dbbf8a-17a9-40e8-9e41-0d28e81ed4f6.jpg 0\n",
            "[0.         0.         0.         ... 0.         0.01000951 0.        ]\n",
            "068dd93a-f1d1-4e52-ab7b-77894723c209.jpg 0\n",
            "[0. 0. 0. ... 0. 0. 0.]\n",
            "073816f0-5642-48a3-b7a1-05e3df582238.jpg 0\n",
            "[0.         0.         0.         ... 0.01220066 0.         0.        ]\n",
            "0757ddf6-51f8-4ac4-a743-cba63db0aefc.jpg 0\n",
            "[0.         0.         0.         ... 0.         0.         0.00121876]\n",
            "07a571fd-fd65-4821-8067-006231c3829d.jpg 0\n",
            "[0.         0.         0.         ... 0.         0.         0.04802436]\n",
            "07bbb266-0888-4374-8e2b-8c306b9f18f9.jpg 0\n",
            "[0. 0. 0. ... 0. 0. 0.]\n",
            "07cbc517-1e16-4da5-8325-f3374324c098.jpg 0\n",
            "[0. 0. 0. ... 0. 0. 0.]\n",
            "0a0d683f-eab1-4d5e-b582-21c5072ab75b.jpg 0\n",
            "[0. 0. 0. ... 0. 0. 0.]\n",
            "0a81d46b-3793-453d-bdc3-fd9b949710b0.jpg 0\n",
            "[0.         0.         0.         ... 0.         0.00093685 0.        ]\n",
            "0ac5c4e2-a5ce-4f30-ac80-2ca1ee793ee1.jpg 0\n",
            "[0.         0.         0.         ... 0.         0.         0.00286587]\n",
            "0ad43cb2-1394-45c0-988c-9b0978e6e40e.jpg 0\n",
            "[0.         0.00083383 0.         ... 0.         0.         0.00180651]\n",
            "0b2e0680-6192-4cc1-b7ea-eaa85f90450e.jpg 0\n",
            "[0.         0.         0.         ... 0.         0.00012797 0.00178441]\n",
            "0b398255-ab8e-4f0e-b51f-55123af06e35.jpg 0\n",
            "[0. 0. 0. ... 0. 0. 0.]\n",
            "0c04384a-d274-4881-b915-c3b6dd154fd7.jpg 0\n"
          ],
          "name": "stdout"
        },
        {
          "output_type": "stream",
          "text": [
            "/usr/local/lib/python3.6/dist-packages/ipykernel_launcher.py:7: SettingWithCopyWarning: \n",
            "A value is trying to be set on a copy of a slice from a DataFrame.\n",
            "Try using .loc[row_indexer,col_indexer] = value instead\n",
            "\n",
            "See the caveats in the documentation: https://pandas.pydata.org/pandas-docs/stable/user_guide/indexing.html#returning-a-view-versus-a-copy\n",
            "  import sys\n"
          ],
          "name": "stderr"
        }
      ]
    },
    {
      "cell_type": "code",
      "metadata": {
        "id": "Hn33fECOyknU"
      },
      "source": [
        "arr_result = mod.predict(np.vstack(df_compete_raw['feature']))"
      ],
      "execution_count": 44,
      "outputs": []
    },
    {
      "cell_type": "code",
      "metadata": {
        "id": "nHU46aPa0ljF",
        "outputId": "88ba9dc9-95dd-40e5-ac1d-1723ce261b17",
        "colab": {
          "base_uri": "https://localhost:8080/",
          "height": 118
        }
      },
      "source": [
        "df_compete_raw['category']=arr"
      ],
      "execution_count": 45,
      "outputs": [
        {
          "output_type": "stream",
          "text": [
            "/usr/local/lib/python3.6/dist-packages/ipykernel_launcher.py:1: SettingWithCopyWarning: \n",
            "A value is trying to be set on a copy of a slice from a DataFrame.\n",
            "Try using .loc[row_indexer,col_indexer] = value instead\n",
            "\n",
            "See the caveats in the documentation: https://pandas.pydata.org/pandas-docs/stable/user_guide/indexing.html#returning-a-view-versus-a-copy\n",
            "  \"\"\"Entry point for launching an IPython kernel.\n"
          ],
          "name": "stderr"
        }
      ]
    },
    {
      "cell_type": "code",
      "metadata": {
        "id": "XZ5qsOVA006T",
        "outputId": "142ad6fa-07d9-4be3-c206-1a64bf29c926",
        "colab": {
          "base_uri": "https://localhost:8080/",
          "height": 975
        }
      },
      "source": [
        "df_compete_raw"
      ],
      "execution_count": 46,
      "outputs": [
        {
          "output_type": "execute_result",
          "data": {
            "text/html": [
              "<div>\n",
              "<style scoped>\n",
              "    .dataframe tbody tr th:only-of-type {\n",
              "        vertical-align: middle;\n",
              "    }\n",
              "\n",
              "    .dataframe tbody tr th {\n",
              "        vertical-align: top;\n",
              "    }\n",
              "\n",
              "    .dataframe thead th {\n",
              "        text-align: right;\n",
              "    }\n",
              "</style>\n",
              "<table border=\"1\" class=\"dataframe\">\n",
              "  <thead>\n",
              "    <tr style=\"text-align: right;\">\n",
              "      <th></th>\n",
              "      <th>id</th>\n",
              "      <th>category</th>\n",
              "      <th>feature</th>\n",
              "    </tr>\n",
              "  </thead>\n",
              "  <tbody>\n",
              "    <tr>\n",
              "      <th>0</th>\n",
              "      <td>000af6a7-8302-4085-b448-6eae2c1a60e5.jpg</td>\n",
              "      <td>1</td>\n",
              "      <td>[0.0, 0.0, 0.0, 0.0, 0.0, 0.0, 0.0195503921735...</td>\n",
              "    </tr>\n",
              "    <tr>\n",
              "      <th>1</th>\n",
              "      <td>009b786c-b566-42d6-b62a-c191be65708a.jpg</td>\n",
              "      <td>0</td>\n",
              "      <td>[0.0, 0.0, 0.0, 0.0, 0.0, 0.0, 0.0, 0.0, 0.0, ...</td>\n",
              "    </tr>\n",
              "    <tr>\n",
              "      <th>2</th>\n",
              "      <td>01bc0b5f-2701-4670-9edf-6162ed6d65ab.jpg</td>\n",
              "      <td>1</td>\n",
              "      <td>[0.0, 0.0, 0.0, 0.005146342481540306, 0.0, 0.0...</td>\n",
              "    </tr>\n",
              "    <tr>\n",
              "      <th>3</th>\n",
              "      <td>04475007-c7de-45c7-8cf0-a8a86f69b9d4.jpg</td>\n",
              "      <td>1</td>\n",
              "      <td>[0.0, 0.005423536014667031, 0.0, 0.00949814856...</td>\n",
              "    </tr>\n",
              "    <tr>\n",
              "      <th>4</th>\n",
              "      <td>0487ece9-58d0-4f56-8360-5f7995b184ca.jpg</td>\n",
              "      <td>1</td>\n",
              "      <td>[0.0, 0.0, 0.0, 0.0, 0.0, 0.0, 0.0, 0.0, 0.0, ...</td>\n",
              "    </tr>\n",
              "    <tr>\n",
              "      <th>5</th>\n",
              "      <td>04c0b6b6-f51a-476f-9dff-cd95f668d8fb.jpg</td>\n",
              "      <td>1</td>\n",
              "      <td>[0.0, 0.00043575323164276046, 0.0, 0.0, 0.0, 0...</td>\n",
              "    </tr>\n",
              "    <tr>\n",
              "      <th>6</th>\n",
              "      <td>04dbbf8a-17a9-40e8-9e41-0d28e81ed4f6.jpg</td>\n",
              "      <td>1</td>\n",
              "      <td>[0.0, 0.0, 0.0, 0.0, 0.0, 0.0, 0.0, 0.0, 0.0, ...</td>\n",
              "    </tr>\n",
              "    <tr>\n",
              "      <th>7</th>\n",
              "      <td>068dd93a-f1d1-4e52-ab7b-77894723c209.jpg</td>\n",
              "      <td>1</td>\n",
              "      <td>[0.0, 0.0, 0.0, 0.0, 0.0, 0.0, 0.0, 0.0, 0.0, ...</td>\n",
              "    </tr>\n",
              "    <tr>\n",
              "      <th>8</th>\n",
              "      <td>073816f0-5642-48a3-b7a1-05e3df582238.jpg</td>\n",
              "      <td>0</td>\n",
              "      <td>[0.0, 0.0, 0.0, 0.0, 0.0, 0.0, 0.0, 0.0, 0.0, ...</td>\n",
              "    </tr>\n",
              "    <tr>\n",
              "      <th>9</th>\n",
              "      <td>0757ddf6-51f8-4ac4-a743-cba63db0aefc.jpg</td>\n",
              "      <td>0</td>\n",
              "      <td>[0.0, 0.0, 0.0, 0.0, 0.0, 0.0, 0.0, 0.0, 0.0, ...</td>\n",
              "    </tr>\n",
              "    <tr>\n",
              "      <th>10</th>\n",
              "      <td>07a571fd-fd65-4821-8067-006231c3829d.jpg</td>\n",
              "      <td>1</td>\n",
              "      <td>[0.0, 0.0, 0.0, 0.0, 0.0, 0.0, 0.0, 0.0, 0.0, ...</td>\n",
              "    </tr>\n",
              "    <tr>\n",
              "      <th>11</th>\n",
              "      <td>07bbb266-0888-4374-8e2b-8c306b9f18f9.jpg</td>\n",
              "      <td>0</td>\n",
              "      <td>[0.0, 0.0, 0.0, 0.0, 0.0, 0.0, 0.0, 0.0, 0.0, ...</td>\n",
              "    </tr>\n",
              "    <tr>\n",
              "      <th>12</th>\n",
              "      <td>07cbc517-1e16-4da5-8325-f3374324c098.jpg</td>\n",
              "      <td>1</td>\n",
              "      <td>[0.0, 0.0, 0.0, 0.0, 0.0, 0.0, 0.0021462872779...</td>\n",
              "    </tr>\n",
              "    <tr>\n",
              "      <th>13</th>\n",
              "      <td>0a0d683f-eab1-4d5e-b582-21c5072ab75b.jpg</td>\n",
              "      <td>0</td>\n",
              "      <td>[0.0, 0.0, 0.0, 0.0, 0.000528034004891278, 0.0...</td>\n",
              "    </tr>\n",
              "    <tr>\n",
              "      <th>14</th>\n",
              "      <td>0a81d46b-3793-453d-bdc3-fd9b949710b0.jpg</td>\n",
              "      <td>1</td>\n",
              "      <td>[0.0, 0.0, 0.0, 0.0, 0.0, 0.0, 0.0, 0.0, 0.0, ...</td>\n",
              "    </tr>\n",
              "    <tr>\n",
              "      <th>15</th>\n",
              "      <td>0ac5c4e2-a5ce-4f30-ac80-2ca1ee793ee1.jpg</td>\n",
              "      <td>1</td>\n",
              "      <td>[0.0, 0.0, 0.0, 0.0, 0.0, 0.0, 0.0, 0.0, 0.0, ...</td>\n",
              "    </tr>\n",
              "    <tr>\n",
              "      <th>16</th>\n",
              "      <td>0ad43cb2-1394-45c0-988c-9b0978e6e40e.jpg</td>\n",
              "      <td>0</td>\n",
              "      <td>[0.0, 0.0, 0.0, 0.0, 0.0, 0.0, 0.0, 0.0, 0.0, ...</td>\n",
              "    </tr>\n",
              "    <tr>\n",
              "      <th>17</th>\n",
              "      <td>0b2e0680-6192-4cc1-b7ea-eaa85f90450e.jpg</td>\n",
              "      <td>1</td>\n",
              "      <td>[0.0, 0.0008338340927860934, 0.0, 0.0158374833...</td>\n",
              "    </tr>\n",
              "    <tr>\n",
              "      <th>18</th>\n",
              "      <td>0b398255-ab8e-4f0e-b51f-55123af06e35.jpg</td>\n",
              "      <td>1</td>\n",
              "      <td>[0.0, 0.0, 0.0, 0.0, 0.0, 0.0, 0.0, 0.0, 0.0, ...</td>\n",
              "    </tr>\n",
              "    <tr>\n",
              "      <th>19</th>\n",
              "      <td>0c04384a-d274-4881-b915-c3b6dd154fd7.jpg</td>\n",
              "      <td>1</td>\n",
              "      <td>[0.0, 0.0, 0.0, 0.0, 0.0, 0.0, 0.0, 0.0, 0.0, ...</td>\n",
              "    </tr>\n",
              "  </tbody>\n",
              "</table>\n",
              "</div>"
            ],
            "text/plain": [
              "                                          id  ...                                            feature\n",
              "0   000af6a7-8302-4085-b448-6eae2c1a60e5.jpg  ...  [0.0, 0.0, 0.0, 0.0, 0.0, 0.0, 0.0195503921735...\n",
              "1   009b786c-b566-42d6-b62a-c191be65708a.jpg  ...  [0.0, 0.0, 0.0, 0.0, 0.0, 0.0, 0.0, 0.0, 0.0, ...\n",
              "2   01bc0b5f-2701-4670-9edf-6162ed6d65ab.jpg  ...  [0.0, 0.0, 0.0, 0.005146342481540306, 0.0, 0.0...\n",
              "3   04475007-c7de-45c7-8cf0-a8a86f69b9d4.jpg  ...  [0.0, 0.005423536014667031, 0.0, 0.00949814856...\n",
              "4   0487ece9-58d0-4f56-8360-5f7995b184ca.jpg  ...  [0.0, 0.0, 0.0, 0.0, 0.0, 0.0, 0.0, 0.0, 0.0, ...\n",
              "5   04c0b6b6-f51a-476f-9dff-cd95f668d8fb.jpg  ...  [0.0, 0.00043575323164276046, 0.0, 0.0, 0.0, 0...\n",
              "6   04dbbf8a-17a9-40e8-9e41-0d28e81ed4f6.jpg  ...  [0.0, 0.0, 0.0, 0.0, 0.0, 0.0, 0.0, 0.0, 0.0, ...\n",
              "7   068dd93a-f1d1-4e52-ab7b-77894723c209.jpg  ...  [0.0, 0.0, 0.0, 0.0, 0.0, 0.0, 0.0, 0.0, 0.0, ...\n",
              "8   073816f0-5642-48a3-b7a1-05e3df582238.jpg  ...  [0.0, 0.0, 0.0, 0.0, 0.0, 0.0, 0.0, 0.0, 0.0, ...\n",
              "9   0757ddf6-51f8-4ac4-a743-cba63db0aefc.jpg  ...  [0.0, 0.0, 0.0, 0.0, 0.0, 0.0, 0.0, 0.0, 0.0, ...\n",
              "10  07a571fd-fd65-4821-8067-006231c3829d.jpg  ...  [0.0, 0.0, 0.0, 0.0, 0.0, 0.0, 0.0, 0.0, 0.0, ...\n",
              "11  07bbb266-0888-4374-8e2b-8c306b9f18f9.jpg  ...  [0.0, 0.0, 0.0, 0.0, 0.0, 0.0, 0.0, 0.0, 0.0, ...\n",
              "12  07cbc517-1e16-4da5-8325-f3374324c098.jpg  ...  [0.0, 0.0, 0.0, 0.0, 0.0, 0.0, 0.0021462872779...\n",
              "13  0a0d683f-eab1-4d5e-b582-21c5072ab75b.jpg  ...  [0.0, 0.0, 0.0, 0.0, 0.000528034004891278, 0.0...\n",
              "14  0a81d46b-3793-453d-bdc3-fd9b949710b0.jpg  ...  [0.0, 0.0, 0.0, 0.0, 0.0, 0.0, 0.0, 0.0, 0.0, ...\n",
              "15  0ac5c4e2-a5ce-4f30-ac80-2ca1ee793ee1.jpg  ...  [0.0, 0.0, 0.0, 0.0, 0.0, 0.0, 0.0, 0.0, 0.0, ...\n",
              "16  0ad43cb2-1394-45c0-988c-9b0978e6e40e.jpg  ...  [0.0, 0.0, 0.0, 0.0, 0.0, 0.0, 0.0, 0.0, 0.0, ...\n",
              "17  0b2e0680-6192-4cc1-b7ea-eaa85f90450e.jpg  ...  [0.0, 0.0008338340927860934, 0.0, 0.0158374833...\n",
              "18  0b398255-ab8e-4f0e-b51f-55123af06e35.jpg  ...  [0.0, 0.0, 0.0, 0.0, 0.0, 0.0, 0.0, 0.0, 0.0, ...\n",
              "19  0c04384a-d274-4881-b915-c3b6dd154fd7.jpg  ...  [0.0, 0.0, 0.0, 0.0, 0.0, 0.0, 0.0, 0.0, 0.0, ...\n",
              "\n",
              "[20 rows x 3 columns]"
            ]
          },
          "metadata": {
            "tags": []
          },
          "execution_count": 46
        }
      ]
    },
    {
      "cell_type": "code",
      "metadata": {
        "id": "yvPyDIvw03Sy"
      },
      "source": [
        "#save file result to csv\n",
        "df_result = df_compete_raw.drop(columns=['feature'],axis=0)"
      ],
      "execution_count": 48,
      "outputs": []
    },
    {
      "cell_type": "code",
      "metadata": {
        "id": "fCJoJhJ41Q0C",
        "outputId": "b6f4f79d-9809-45e6-cd01-a07232f4b6ec",
        "colab": {
          "base_uri": "https://localhost:8080/",
          "height": 639
        }
      },
      "source": [
        "df_result"
      ],
      "execution_count": 49,
      "outputs": [
        {
          "output_type": "execute_result",
          "data": {
            "text/html": [
              "<div>\n",
              "<style scoped>\n",
              "    .dataframe tbody tr th:only-of-type {\n",
              "        vertical-align: middle;\n",
              "    }\n",
              "\n",
              "    .dataframe tbody tr th {\n",
              "        vertical-align: top;\n",
              "    }\n",
              "\n",
              "    .dataframe thead th {\n",
              "        text-align: right;\n",
              "    }\n",
              "</style>\n",
              "<table border=\"1\" class=\"dataframe\">\n",
              "  <thead>\n",
              "    <tr style=\"text-align: right;\">\n",
              "      <th></th>\n",
              "      <th>id</th>\n",
              "      <th>category</th>\n",
              "    </tr>\n",
              "  </thead>\n",
              "  <tbody>\n",
              "    <tr>\n",
              "      <th>0</th>\n",
              "      <td>000af6a7-8302-4085-b448-6eae2c1a60e5.jpg</td>\n",
              "      <td>1</td>\n",
              "    </tr>\n",
              "    <tr>\n",
              "      <th>1</th>\n",
              "      <td>009b786c-b566-42d6-b62a-c191be65708a.jpg</td>\n",
              "      <td>0</td>\n",
              "    </tr>\n",
              "    <tr>\n",
              "      <th>2</th>\n",
              "      <td>01bc0b5f-2701-4670-9edf-6162ed6d65ab.jpg</td>\n",
              "      <td>1</td>\n",
              "    </tr>\n",
              "    <tr>\n",
              "      <th>3</th>\n",
              "      <td>04475007-c7de-45c7-8cf0-a8a86f69b9d4.jpg</td>\n",
              "      <td>1</td>\n",
              "    </tr>\n",
              "    <tr>\n",
              "      <th>4</th>\n",
              "      <td>0487ece9-58d0-4f56-8360-5f7995b184ca.jpg</td>\n",
              "      <td>1</td>\n",
              "    </tr>\n",
              "    <tr>\n",
              "      <th>5</th>\n",
              "      <td>04c0b6b6-f51a-476f-9dff-cd95f668d8fb.jpg</td>\n",
              "      <td>1</td>\n",
              "    </tr>\n",
              "    <tr>\n",
              "      <th>6</th>\n",
              "      <td>04dbbf8a-17a9-40e8-9e41-0d28e81ed4f6.jpg</td>\n",
              "      <td>1</td>\n",
              "    </tr>\n",
              "    <tr>\n",
              "      <th>7</th>\n",
              "      <td>068dd93a-f1d1-4e52-ab7b-77894723c209.jpg</td>\n",
              "      <td>1</td>\n",
              "    </tr>\n",
              "    <tr>\n",
              "      <th>8</th>\n",
              "      <td>073816f0-5642-48a3-b7a1-05e3df582238.jpg</td>\n",
              "      <td>0</td>\n",
              "    </tr>\n",
              "    <tr>\n",
              "      <th>9</th>\n",
              "      <td>0757ddf6-51f8-4ac4-a743-cba63db0aefc.jpg</td>\n",
              "      <td>0</td>\n",
              "    </tr>\n",
              "    <tr>\n",
              "      <th>10</th>\n",
              "      <td>07a571fd-fd65-4821-8067-006231c3829d.jpg</td>\n",
              "      <td>1</td>\n",
              "    </tr>\n",
              "    <tr>\n",
              "      <th>11</th>\n",
              "      <td>07bbb266-0888-4374-8e2b-8c306b9f18f9.jpg</td>\n",
              "      <td>0</td>\n",
              "    </tr>\n",
              "    <tr>\n",
              "      <th>12</th>\n",
              "      <td>07cbc517-1e16-4da5-8325-f3374324c098.jpg</td>\n",
              "      <td>1</td>\n",
              "    </tr>\n",
              "    <tr>\n",
              "      <th>13</th>\n",
              "      <td>0a0d683f-eab1-4d5e-b582-21c5072ab75b.jpg</td>\n",
              "      <td>0</td>\n",
              "    </tr>\n",
              "    <tr>\n",
              "      <th>14</th>\n",
              "      <td>0a81d46b-3793-453d-bdc3-fd9b949710b0.jpg</td>\n",
              "      <td>1</td>\n",
              "    </tr>\n",
              "    <tr>\n",
              "      <th>15</th>\n",
              "      <td>0ac5c4e2-a5ce-4f30-ac80-2ca1ee793ee1.jpg</td>\n",
              "      <td>1</td>\n",
              "    </tr>\n",
              "    <tr>\n",
              "      <th>16</th>\n",
              "      <td>0ad43cb2-1394-45c0-988c-9b0978e6e40e.jpg</td>\n",
              "      <td>0</td>\n",
              "    </tr>\n",
              "    <tr>\n",
              "      <th>17</th>\n",
              "      <td>0b2e0680-6192-4cc1-b7ea-eaa85f90450e.jpg</td>\n",
              "      <td>1</td>\n",
              "    </tr>\n",
              "    <tr>\n",
              "      <th>18</th>\n",
              "      <td>0b398255-ab8e-4f0e-b51f-55123af06e35.jpg</td>\n",
              "      <td>1</td>\n",
              "    </tr>\n",
              "    <tr>\n",
              "      <th>19</th>\n",
              "      <td>0c04384a-d274-4881-b915-c3b6dd154fd7.jpg</td>\n",
              "      <td>1</td>\n",
              "    </tr>\n",
              "  </tbody>\n",
              "</table>\n",
              "</div>"
            ],
            "text/plain": [
              "                                          id  category\n",
              "0   000af6a7-8302-4085-b448-6eae2c1a60e5.jpg         1\n",
              "1   009b786c-b566-42d6-b62a-c191be65708a.jpg         0\n",
              "2   01bc0b5f-2701-4670-9edf-6162ed6d65ab.jpg         1\n",
              "3   04475007-c7de-45c7-8cf0-a8a86f69b9d4.jpg         1\n",
              "4   0487ece9-58d0-4f56-8360-5f7995b184ca.jpg         1\n",
              "5   04c0b6b6-f51a-476f-9dff-cd95f668d8fb.jpg         1\n",
              "6   04dbbf8a-17a9-40e8-9e41-0d28e81ed4f6.jpg         1\n",
              "7   068dd93a-f1d1-4e52-ab7b-77894723c209.jpg         1\n",
              "8   073816f0-5642-48a3-b7a1-05e3df582238.jpg         0\n",
              "9   0757ddf6-51f8-4ac4-a743-cba63db0aefc.jpg         0\n",
              "10  07a571fd-fd65-4821-8067-006231c3829d.jpg         1\n",
              "11  07bbb266-0888-4374-8e2b-8c306b9f18f9.jpg         0\n",
              "12  07cbc517-1e16-4da5-8325-f3374324c098.jpg         1\n",
              "13  0a0d683f-eab1-4d5e-b582-21c5072ab75b.jpg         0\n",
              "14  0a81d46b-3793-453d-bdc3-fd9b949710b0.jpg         1\n",
              "15  0ac5c4e2-a5ce-4f30-ac80-2ca1ee793ee1.jpg         1\n",
              "16  0ad43cb2-1394-45c0-988c-9b0978e6e40e.jpg         0\n",
              "17  0b2e0680-6192-4cc1-b7ea-eaa85f90450e.jpg         1\n",
              "18  0b398255-ab8e-4f0e-b51f-55123af06e35.jpg         1\n",
              "19  0c04384a-d274-4881-b915-c3b6dd154fd7.jpg         1"
            ]
          },
          "metadata": {
            "tags": []
          },
          "execution_count": 49
        }
      ]
    },
    {
      "cell_type": "code",
      "metadata": {
        "id": "vUiOhnNV1Tbi"
      },
      "source": [
        "df_result.to_csv('output_result.csv',index=False)"
      ],
      "execution_count": 52,
      "outputs": []
    }
  ]
}