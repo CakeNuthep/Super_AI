{
  "nbformat": 4,
  "nbformat_minor": 0,
  "metadata": {
    "colab": {
      "name": "Untitled9.ipynb",
      "provenance": [],
      "authorship_tag": "ABX9TyO0q08Yovxx6Eka7hOKn71T",
      "include_colab_link": true
    },
    "kernelspec": {
      "name": "python3",
      "display_name": "Python 3"
    }
  },
  "cells": [
    {
      "cell_type": "markdown",
      "metadata": {
        "id": "view-in-github",
        "colab_type": "text"
      },
      "source": [
        "<a href=\"https://colab.research.google.com/github/CakeNuthep/Super_AI/blob/master/22p22c0044_%E0%B8%A8%E0%B8%B8%E0%B8%A0%E0%B8%8A%E0%B8%B1%E0%B8%A2_W3HW1_04102020.ipynb\" target=\"_parent\"><img src=\"https://colab.research.google.com/assets/colab-badge.svg\" alt=\"Open In Colab\"/></a>"
      ]
    },
    {
      "cell_type": "code",
      "metadata": {
        "id": "wIGgkHLPWusC"
      },
      "source": [
        "import pandas as pd\n",
        "import numpy as np\n",
        "import matplotlib.pyplot as plt\n",
        "import seaborn as sns\n",
        "import datetime as dt\n",
        "from sklearn.utils import resample, shuffle"
      ],
      "execution_count": 18,
      "outputs": []
    },
    {
      "cell_type": "code",
      "metadata": {
        "id": "TKRga7HYYXcD"
      },
      "source": [
        "df_image = pd.read_csv('https://raw.githubusercontent.com/CakeNuthep/Super_AI/master/super-ai-image-classification/train/train/train.csv')"
      ],
      "execution_count": 2,
      "outputs": []
    },
    {
      "cell_type": "code",
      "metadata": {
        "id": "9_NrMadYYm8i",
        "outputId": "e37eb45e-79e1-4668-f28e-a040b5a1e7b2",
        "colab": {
          "base_uri": "https://localhost:8080/",
          "height": 402
        }
      },
      "source": [
        "df_image"
      ],
      "execution_count": 3,
      "outputs": [
        {
          "output_type": "execute_result",
          "data": {
            "text/html": [
              "<div>\n",
              "<style scoped>\n",
              "    .dataframe tbody tr th:only-of-type {\n",
              "        vertical-align: middle;\n",
              "    }\n",
              "\n",
              "    .dataframe tbody tr th {\n",
              "        vertical-align: top;\n",
              "    }\n",
              "\n",
              "    .dataframe thead th {\n",
              "        text-align: right;\n",
              "    }\n",
              "</style>\n",
              "<table border=\"1\" class=\"dataframe\">\n",
              "  <thead>\n",
              "    <tr style=\"text-align: right;\">\n",
              "      <th></th>\n",
              "      <th>id</th>\n",
              "      <th>category</th>\n",
              "    </tr>\n",
              "  </thead>\n",
              "  <tbody>\n",
              "    <tr>\n",
              "      <th>0</th>\n",
              "      <td>6380fb87-18fe-4b76-a085-639a4e01b664.jpg</td>\n",
              "      <td>0</td>\n",
              "    </tr>\n",
              "    <tr>\n",
              "      <th>1</th>\n",
              "      <td>9956035b-0500-47b7-b508-cc7414c10270.jpg</td>\n",
              "      <td>0</td>\n",
              "    </tr>\n",
              "    <tr>\n",
              "      <th>2</th>\n",
              "      <td>fa6b4604-a080-410b-a8d1-fdf7cf61a92d.jpg</td>\n",
              "      <td>0</td>\n",
              "    </tr>\n",
              "    <tr>\n",
              "      <th>3</th>\n",
              "      <td>6e6dc67b-73ba-404b-b685-1f726d0357c3.jpg</td>\n",
              "      <td>0</td>\n",
              "    </tr>\n",
              "    <tr>\n",
              "      <th>4</th>\n",
              "      <td>15121f8e-f428-4cd5-83bf-1c9a051aea54.jpg</td>\n",
              "      <td>0</td>\n",
              "    </tr>\n",
              "    <tr>\n",
              "      <th>...</th>\n",
              "      <td>...</td>\n",
              "      <td>...</td>\n",
              "    </tr>\n",
              "    <tr>\n",
              "      <th>1720</th>\n",
              "      <td>245a6e32-55b1-47b9-ad43-527b95c9d770.jpg</td>\n",
              "      <td>0</td>\n",
              "    </tr>\n",
              "    <tr>\n",
              "      <th>1721</th>\n",
              "      <td>6e8cf04c-6ce1-4971-8978-0d40094378b8.jpg</td>\n",
              "      <td>0</td>\n",
              "    </tr>\n",
              "    <tr>\n",
              "      <th>1722</th>\n",
              "      <td>d6a0e4cb-1b83-4867-b9f8-9759a3ba22b0.jpg</td>\n",
              "      <td>0</td>\n",
              "    </tr>\n",
              "    <tr>\n",
              "      <th>1723</th>\n",
              "      <td>d6a4760d-c694-4d30-82a5-196f32ddec64.jpg</td>\n",
              "      <td>1</td>\n",
              "    </tr>\n",
              "    <tr>\n",
              "      <th>1724</th>\n",
              "      <td>62a559b3-6b50-468d-bb7a-665ef2fee227.jpg</td>\n",
              "      <td>1</td>\n",
              "    </tr>\n",
              "  </tbody>\n",
              "</table>\n",
              "<p>1725 rows × 2 columns</p>\n",
              "</div>"
            ],
            "text/plain": [
              "                                            id  category\n",
              "0     6380fb87-18fe-4b76-a085-639a4e01b664.jpg         0\n",
              "1     9956035b-0500-47b7-b508-cc7414c10270.jpg         0\n",
              "2     fa6b4604-a080-410b-a8d1-fdf7cf61a92d.jpg         0\n",
              "3     6e6dc67b-73ba-404b-b685-1f726d0357c3.jpg         0\n",
              "4     15121f8e-f428-4cd5-83bf-1c9a051aea54.jpg         0\n",
              "...                                        ...       ...\n",
              "1720  245a6e32-55b1-47b9-ad43-527b95c9d770.jpg         0\n",
              "1721  6e8cf04c-6ce1-4971-8978-0d40094378b8.jpg         0\n",
              "1722  d6a0e4cb-1b83-4867-b9f8-9759a3ba22b0.jpg         0\n",
              "1723  d6a4760d-c694-4d30-82a5-196f32ddec64.jpg         1\n",
              "1724  62a559b3-6b50-468d-bb7a-665ef2fee227.jpg         1\n",
              "\n",
              "[1725 rows x 2 columns]"
            ]
          },
          "metadata": {
            "tags": []
          },
          "execution_count": 3
        }
      ]
    },
    {
      "cell_type": "code",
      "metadata": {
        "id": "qOXGPSwlYqhq",
        "outputId": "e51381c2-8195-45ec-cbf1-a7a27ee30107",
        "colab": {
          "base_uri": "https://localhost:8080/",
          "height": 265
        }
      },
      "source": [
        "df_image['category'].hist()\n",
        "plt.show()"
      ],
      "execution_count": 4,
      "outputs": [
        {
          "output_type": "display_data",
          "data": {
            "image/png": "[encoded data removed]",
            "text/plain": [
              "<Figure size 432x288 with 1 Axes>"
            ]
          },
          "metadata": {
            "tags": [],
            "needs_background": "light"
          }
        }
      ]
    },
    {
      "cell_type": "code",
      "metadata": {
        "id": "eSrSgyanY1lC",
        "outputId": "4ff7df9a-41fc-46bf-d345-8ac7cbe4d0dc",
        "colab": {
          "base_uri": "https://localhost:8080/",
          "height": 168
        }
      },
      "source": [
        "df_image.info()"
      ],
      "execution_count": 8,
      "outputs": [
        {
          "output_type": "stream",
          "text": [
            "<class 'pandas.core.frame.DataFrame'>\n",
            "RangeIndex: 1725 entries, 0 to 1724\n",
            "Data columns (total 2 columns):\n",
            " #   Column    Non-Null Count  Dtype \n",
            "---  ------    --------------  ----- \n",
            " 0   id        1725 non-null   object\n",
            " 1   category  1725 non-null   int64 \n",
            "dtypes: int64(1), object(1)\n",
            "memory usage: 27.1+ KB\n"
          ],
          "name": "stdout"
        }
      ]
    },
    {
      "cell_type": "code",
      "metadata": {
        "id": "D5XCk8ENZNQ5",
        "outputId": "f6381fc6-dba5-4945-c5df-ef92fc584b92",
        "colab": {
          "base_uri": "https://localhost:8080/",
          "height": 166
        }
      },
      "source": [
        "df_image.groupby(['category']).agg(['count'])"
      ],
      "execution_count": 11,
      "outputs": [
        {
          "output_type": "execute_result",
          "data": {
            "text/html": [
              "<div>\n",
              "<style scoped>\n",
              "    .dataframe tbody tr th:only-of-type {\n",
              "        vertical-align: middle;\n",
              "    }\n",
              "\n",
              "    .dataframe tbody tr th {\n",
              "        vertical-align: top;\n",
              "    }\n",
              "\n",
              "    .dataframe thead tr th {\n",
              "        text-align: left;\n",
              "    }\n",
              "\n",
              "    .dataframe thead tr:last-of-type th {\n",
              "        text-align: right;\n",
              "    }\n",
              "</style>\n",
              "<table border=\"1\" class=\"dataframe\">\n",
              "  <thead>\n",
              "    <tr>\n",
              "      <th></th>\n",
              "      <th>id</th>\n",
              "    </tr>\n",
              "    <tr>\n",
              "      <th></th>\n",
              "      <th>count</th>\n",
              "    </tr>\n",
              "    <tr>\n",
              "      <th>category</th>\n",
              "      <th></th>\n",
              "    </tr>\n",
              "  </thead>\n",
              "  <tbody>\n",
              "    <tr>\n",
              "      <th>0</th>\n",
              "      <td>1317</td>\n",
              "    </tr>\n",
              "    <tr>\n",
              "      <th>1</th>\n",
              "      <td>408</td>\n",
              "    </tr>\n",
              "  </tbody>\n",
              "</table>\n",
              "</div>"
            ],
            "text/plain": [
              "            id\n",
              "         count\n",
              "category      \n",
              "0         1317\n",
              "1          408"
            ]
          },
          "metadata": {
            "tags": []
          },
          "execution_count": 11
        }
      ]
    },
    {
      "cell_type": "code",
      "metadata": {
        "id": "Iaa-s2SNaKqa"
      },
      "source": [
        "df_class0 = df_image[df_image['category']==0]\n",
        "df_class1 = df_image[df_image['category']==1]\n",
        "\n",
        "df_class1_upsampled = resample(df_class1, \n",
        "                                 replace=True,     \n",
        "                                 n_samples=1317,    \n",
        "                                 random_state=123) "
      ],
      "execution_count": 13,
      "outputs": []
    },
    {
      "cell_type": "code",
      "metadata": {
        "id": "GSFveYedbKby",
        "outputId": "f27b623c-ef07-4484-ae24-e2f26cc9674d",
        "colab": {
          "base_uri": "https://localhost:8080/",
          "height": 402
        }
      },
      "source": [
        "df_class1_upsampled"
      ],
      "execution_count": 14,
      "outputs": [
        {
          "output_type": "execute_result",
          "data": {
            "text/html": [
              "<div>\n",
              "<style scoped>\n",
              "    .dataframe tbody tr th:only-of-type {\n",
              "        vertical-align: middle;\n",
              "    }\n",
              "\n",
              "    .dataframe tbody tr th {\n",
              "        vertical-align: top;\n",
              "    }\n",
              "\n",
              "    .dataframe thead th {\n",
              "        text-align: right;\n",
              "    }\n",
              "</style>\n",
              "<table border=\"1\" class=\"dataframe\">\n",
              "  <thead>\n",
              "    <tr style=\"text-align: right;\">\n",
              "      <th></th>\n",
              "      <th>id</th>\n",
              "      <th>category</th>\n",
              "    </tr>\n",
              "  </thead>\n",
              "  <tbody>\n",
              "    <tr>\n",
              "      <th>1648</th>\n",
              "      <td>ef1db5ea-b4c3-4d60-9f8e-2478ba8be5b1.jpg</td>\n",
              "      <td>1</td>\n",
              "    </tr>\n",
              "    <tr>\n",
              "      <th>1686</th>\n",
              "      <td>d3594385-f9b5-4a5c-8785-b03489427c5a.jpg</td>\n",
              "      <td>1</td>\n",
              "    </tr>\n",
              "    <tr>\n",
              "      <th>1580</th>\n",
              "      <td>b5f0ca73-eace-4124-a442-f15af925b3f5.jpg</td>\n",
              "      <td>1</td>\n",
              "    </tr>\n",
              "    <tr>\n",
              "      <th>1111</th>\n",
              "      <td>2c3efe14-44f0-476d-9086-6af40d89f23f.jpg</td>\n",
              "      <td>1</td>\n",
              "    </tr>\n",
              "    <tr>\n",
              "      <th>1402</th>\n",
              "      <td>2cd57caf-9484-4dec-b3c0-f93eb760b935.jpg</td>\n",
              "      <td>1</td>\n",
              "    </tr>\n",
              "    <tr>\n",
              "      <th>...</th>\n",
              "      <td>...</td>\n",
              "      <td>...</td>\n",
              "    </tr>\n",
              "    <tr>\n",
              "      <th>1439</th>\n",
              "      <td>9380be3e-3fc8-49e6-9d17-f71d9fcabc45.jpg</td>\n",
              "      <td>1</td>\n",
              "    </tr>\n",
              "    <tr>\n",
              "      <th>1604</th>\n",
              "      <td>66f4abf1-c977-446f-a202-004556fae60d.jpg</td>\n",
              "      <td>1</td>\n",
              "    </tr>\n",
              "    <tr>\n",
              "      <th>1585</th>\n",
              "      <td>9e6f24a8-157c-4018-924a-fa83cf64d332.jpg</td>\n",
              "      <td>1</td>\n",
              "    </tr>\n",
              "    <tr>\n",
              "      <th>1572</th>\n",
              "      <td>da54f2b1-4c45-45ec-af22-6e3115ed9b6c.jpg</td>\n",
              "      <td>1</td>\n",
              "    </tr>\n",
              "    <tr>\n",
              "      <th>1584</th>\n",
              "      <td>fbd6c1c8-bbfd-4594-a83a-7ad24ab0cf6e.jpg</td>\n",
              "      <td>1</td>\n",
              "    </tr>\n",
              "  </tbody>\n",
              "</table>\n",
              "<p>1317 rows × 2 columns</p>\n",
              "</div>"
            ],
            "text/plain": [
              "                                            id  category\n",
              "1648  ef1db5ea-b4c3-4d60-9f8e-2478ba8be5b1.jpg         1\n",
              "1686  d3594385-f9b5-4a5c-8785-b03489427c5a.jpg         1\n",
              "1580  b5f0ca73-eace-4124-a442-f15af925b3f5.jpg         1\n",
              "1111  2c3efe14-44f0-476d-9086-6af40d89f23f.jpg         1\n",
              "1402  2cd57caf-9484-4dec-b3c0-f93eb760b935.jpg         1\n",
              "...                                        ...       ...\n",
              "1439  9380be3e-3fc8-49e6-9d17-f71d9fcabc45.jpg         1\n",
              "1604  66f4abf1-c977-446f-a202-004556fae60d.jpg         1\n",
              "1585  9e6f24a8-157c-4018-924a-fa83cf64d332.jpg         1\n",
              "1572  da54f2b1-4c45-45ec-af22-6e3115ed9b6c.jpg         1\n",
              "1584  fbd6c1c8-bbfd-4594-a83a-7ad24ab0cf6e.jpg         1\n",
              "\n",
              "[1317 rows x 2 columns]"
            ]
          },
          "metadata": {
            "tags": []
          },
          "execution_count": 14
        }
      ]
    },
    {
      "cell_type": "code",
      "metadata": {
        "id": "kC8_dEPwbTPR",
        "outputId": "b6ba63bc-c3e5-4426-f24e-ef1301af9875",
        "colab": {
          "base_uri": "https://localhost:8080/",
          "height": 402
        }
      },
      "source": [
        "df_upsampled = pd.concat([df_class0, df_class1_upsampled])\n",
        "df_upsampled"
      ],
      "execution_count": 16,
      "outputs": [
        {
          "output_type": "execute_result",
          "data": {
            "text/html": [
              "<div>\n",
              "<style scoped>\n",
              "    .dataframe tbody tr th:only-of-type {\n",
              "        vertical-align: middle;\n",
              "    }\n",
              "\n",
              "    .dataframe tbody tr th {\n",
              "        vertical-align: top;\n",
              "    }\n",
              "\n",
              "    .dataframe thead th {\n",
              "        text-align: right;\n",
              "    }\n",
              "</style>\n",
              "<table border=\"1\" class=\"dataframe\">\n",
              "  <thead>\n",
              "    <tr style=\"text-align: right;\">\n",
              "      <th></th>\n",
              "      <th>id</th>\n",
              "      <th>category</th>\n",
              "    </tr>\n",
              "  </thead>\n",
              "  <tbody>\n",
              "    <tr>\n",
              "      <th>0</th>\n",
              "      <td>6380fb87-18fe-4b76-a085-639a4e01b664.jpg</td>\n",
              "      <td>0</td>\n",
              "    </tr>\n",
              "    <tr>\n",
              "      <th>1</th>\n",
              "      <td>9956035b-0500-47b7-b508-cc7414c10270.jpg</td>\n",
              "      <td>0</td>\n",
              "    </tr>\n",
              "    <tr>\n",
              "      <th>2</th>\n",
              "      <td>fa6b4604-a080-410b-a8d1-fdf7cf61a92d.jpg</td>\n",
              "      <td>0</td>\n",
              "    </tr>\n",
              "    <tr>\n",
              "      <th>3</th>\n",
              "      <td>6e6dc67b-73ba-404b-b685-1f726d0357c3.jpg</td>\n",
              "      <td>0</td>\n",
              "    </tr>\n",
              "    <tr>\n",
              "      <th>4</th>\n",
              "      <td>15121f8e-f428-4cd5-83bf-1c9a051aea54.jpg</td>\n",
              "      <td>0</td>\n",
              "    </tr>\n",
              "    <tr>\n",
              "      <th>...</th>\n",
              "      <td>...</td>\n",
              "      <td>...</td>\n",
              "    </tr>\n",
              "    <tr>\n",
              "      <th>1439</th>\n",
              "      <td>9380be3e-3fc8-49e6-9d17-f71d9fcabc45.jpg</td>\n",
              "      <td>1</td>\n",
              "    </tr>\n",
              "    <tr>\n",
              "      <th>1604</th>\n",
              "      <td>66f4abf1-c977-446f-a202-004556fae60d.jpg</td>\n",
              "      <td>1</td>\n",
              "    </tr>\n",
              "    <tr>\n",
              "      <th>1585</th>\n",
              "      <td>9e6f24a8-157c-4018-924a-fa83cf64d332.jpg</td>\n",
              "      <td>1</td>\n",
              "    </tr>\n",
              "    <tr>\n",
              "      <th>1572</th>\n",
              "      <td>da54f2b1-4c45-45ec-af22-6e3115ed9b6c.jpg</td>\n",
              "      <td>1</td>\n",
              "    </tr>\n",
              "    <tr>\n",
              "      <th>1584</th>\n",
              "      <td>fbd6c1c8-bbfd-4594-a83a-7ad24ab0cf6e.jpg</td>\n",
              "      <td>1</td>\n",
              "    </tr>\n",
              "  </tbody>\n",
              "</table>\n",
              "<p>2634 rows × 2 columns</p>\n",
              "</div>"
            ],
            "text/plain": [
              "                                            id  category\n",
              "0     6380fb87-18fe-4b76-a085-639a4e01b664.jpg         0\n",
              "1     9956035b-0500-47b7-b508-cc7414c10270.jpg         0\n",
              "2     fa6b4604-a080-410b-a8d1-fdf7cf61a92d.jpg         0\n",
              "3     6e6dc67b-73ba-404b-b685-1f726d0357c3.jpg         0\n",
              "4     15121f8e-f428-4cd5-83bf-1c9a051aea54.jpg         0\n",
              "...                                        ...       ...\n",
              "1439  9380be3e-3fc8-49e6-9d17-f71d9fcabc45.jpg         1\n",
              "1604  66f4abf1-c977-446f-a202-004556fae60d.jpg         1\n",
              "1585  9e6f24a8-157c-4018-924a-fa83cf64d332.jpg         1\n",
              "1572  da54f2b1-4c45-45ec-af22-6e3115ed9b6c.jpg         1\n",
              "1584  fbd6c1c8-bbfd-4594-a83a-7ad24ab0cf6e.jpg         1\n",
              "\n",
              "[2634 rows x 2 columns]"
            ]
          },
          "metadata": {
            "tags": []
          },
          "execution_count": 16
        }
      ]
    },
    {
      "cell_type": "code",
      "metadata": {
        "id": "Uxb__Y-mbdvY",
        "outputId": "c1079398-1152-47c1-9641-dde0bbf36a6f",
        "colab": {
          "base_uri": "https://localhost:8080/",
          "height": 166
        }
      },
      "source": [
        "df_upsampled.groupby(['category']).agg(['count'])"
      ],
      "execution_count": 17,
      "outputs": [
        {
          "output_type": "execute_result",
          "data": {
            "text/html": [
              "<div>\n",
              "<style scoped>\n",
              "    .dataframe tbody tr th:only-of-type {\n",
              "        vertical-align: middle;\n",
              "    }\n",
              "\n",
              "    .dataframe tbody tr th {\n",
              "        vertical-align: top;\n",
              "    }\n",
              "\n",
              "    .dataframe thead tr th {\n",
              "        text-align: left;\n",
              "    }\n",
              "\n",
              "    .dataframe thead tr:last-of-type th {\n",
              "        text-align: right;\n",
              "    }\n",
              "</style>\n",
              "<table border=\"1\" class=\"dataframe\">\n",
              "  <thead>\n",
              "    <tr>\n",
              "      <th></th>\n",
              "      <th>id</th>\n",
              "    </tr>\n",
              "    <tr>\n",
              "      <th></th>\n",
              "      <th>count</th>\n",
              "    </tr>\n",
              "    <tr>\n",
              "      <th>category</th>\n",
              "      <th></th>\n",
              "    </tr>\n",
              "  </thead>\n",
              "  <tbody>\n",
              "    <tr>\n",
              "      <th>0</th>\n",
              "      <td>1317</td>\n",
              "    </tr>\n",
              "    <tr>\n",
              "      <th>1</th>\n",
              "      <td>1317</td>\n",
              "    </tr>\n",
              "  </tbody>\n",
              "</table>\n",
              "</div>"
            ],
            "text/plain": [
              "            id\n",
              "         count\n",
              "category      \n",
              "0         1317\n",
              "1         1317"
            ]
          },
          "metadata": {
            "tags": []
          },
          "execution_count": 17
        }
      ]
    },
    {
      "cell_type": "code",
      "metadata": {
        "id": "jIv9Irfzb5M4"
      },
      "source": [
        "df_upsampled = shuffle(df_upsampled)"
      ],
      "execution_count": 19,
      "outputs": []
    },
    {
      "cell_type": "code",
      "metadata": {
        "id": "q6HHBEbLb8qn",
        "outputId": "b28b543a-e9dc-4139-b1fd-350e7426f4ff",
        "colab": {
          "base_uri": "https://localhost:8080/",
          "height": 402
        }
      },
      "source": [
        "df_upsampled"
      ],
      "execution_count": 20,
      "outputs": [
        {
          "output_type": "execute_result",
          "data": {
            "text/html": [
              "<div>\n",
              "<style scoped>\n",
              "    .dataframe tbody tr th:only-of-type {\n",
              "        vertical-align: middle;\n",
              "    }\n",
              "\n",
              "    .dataframe tbody tr th {\n",
              "        vertical-align: top;\n",
              "    }\n",
              "\n",
              "    .dataframe thead th {\n",
              "        text-align: right;\n",
              "    }\n",
              "</style>\n",
              "<table border=\"1\" class=\"dataframe\">\n",
              "  <thead>\n",
              "    <tr style=\"text-align: right;\">\n",
              "      <th></th>\n",
              "      <th>id</th>\n",
              "      <th>category</th>\n",
              "    </tr>\n",
              "  </thead>\n",
              "  <tbody>\n",
              "    <tr>\n",
              "      <th>784</th>\n",
              "      <td>dec754a3-04d2-44bb-9c1e-d2306be703fd.jpg</td>\n",
              "      <td>1</td>\n",
              "    </tr>\n",
              "    <tr>\n",
              "      <th>928</th>\n",
              "      <td>286bd61d-2af6-4405-92d4-f94723110830.jpg</td>\n",
              "      <td>1</td>\n",
              "    </tr>\n",
              "    <tr>\n",
              "      <th>448</th>\n",
              "      <td>c1f97ae9-055c-4f02-865f-f4e2628fd0f6.jpg</td>\n",
              "      <td>0</td>\n",
              "    </tr>\n",
              "    <tr>\n",
              "      <th>1247</th>\n",
              "      <td>71ba9a61-90d1-4c30-89ab-ce5527728803.jpg</td>\n",
              "      <td>0</td>\n",
              "    </tr>\n",
              "    <tr>\n",
              "      <th>1508</th>\n",
              "      <td>36c58d04-4a12-400d-9876-6497949935ab.jpg</td>\n",
              "      <td>1</td>\n",
              "    </tr>\n",
              "    <tr>\n",
              "      <th>...</th>\n",
              "      <td>...</td>\n",
              "      <td>...</td>\n",
              "    </tr>\n",
              "    <tr>\n",
              "      <th>1307</th>\n",
              "      <td>ac59ad60-7db1-4309-a05f-abdda69336e2.jpg</td>\n",
              "      <td>0</td>\n",
              "    </tr>\n",
              "    <tr>\n",
              "      <th>186</th>\n",
              "      <td>1577e4ff-b478-4c13-b19b-08c57d69b9f5.jpg</td>\n",
              "      <td>0</td>\n",
              "    </tr>\n",
              "    <tr>\n",
              "      <th>1666</th>\n",
              "      <td>a4acecf4-51c8-41d5-ac5d-3e3edd5b4acc.jpg</td>\n",
              "      <td>0</td>\n",
              "    </tr>\n",
              "    <tr>\n",
              "      <th>1089</th>\n",
              "      <td>e492e2fd-7920-4422-ab38-3ea882b1601e.jpg</td>\n",
              "      <td>1</td>\n",
              "    </tr>\n",
              "    <tr>\n",
              "      <th>825</th>\n",
              "      <td>0b6c642d-b08b-4ea8-b176-6e49a567ba10.jpg</td>\n",
              "      <td>0</td>\n",
              "    </tr>\n",
              "  </tbody>\n",
              "</table>\n",
              "<p>2634 rows × 2 columns</p>\n",
              "</div>"
            ],
            "text/plain": [
              "                                            id  category\n",
              "784   dec754a3-04d2-44bb-9c1e-d2306be703fd.jpg         1\n",
              "928   286bd61d-2af6-4405-92d4-f94723110830.jpg         1\n",
              "448   c1f97ae9-055c-4f02-865f-f4e2628fd0f6.jpg         0\n",
              "1247  71ba9a61-90d1-4c30-89ab-ce5527728803.jpg         0\n",
              "1508  36c58d04-4a12-400d-9876-6497949935ab.jpg         1\n",
              "...                                        ...       ...\n",
              "1307  ac59ad60-7db1-4309-a05f-abdda69336e2.jpg         0\n",
              "186   1577e4ff-b478-4c13-b19b-08c57d69b9f5.jpg         0\n",
              "1666  a4acecf4-51c8-41d5-ac5d-3e3edd5b4acc.jpg         0\n",
              "1089  e492e2fd-7920-4422-ab38-3ea882b1601e.jpg         1\n",
              "825   0b6c642d-b08b-4ea8-b176-6e49a567ba10.jpg         0\n",
              "\n",
              "[2634 rows x 2 columns]"
            ]
          },
          "metadata": {
            "tags": []
          },
          "execution_count": 20
        }
      ]
    }
  ]
}