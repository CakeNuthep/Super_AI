{
  "nbformat": 4,
  "nbformat_minor": 0,
  "metadata": {
    "colab": {
      "name": "Untitled3.ipynb",
      "provenance": [],
      "collapsed_sections": [],
      "authorship_tag": "ABX9TyOMLn5evlFkf01ujvcWbNCn",
      "include_colab_link": true
    },
    "kernelspec": {
      "name": "python3",
      "display_name": "Python 3"
    }
  },
  "cells": [
    {
      "cell_type": "markdown",
      "metadata": {
        "id": "view-in-github",
        "colab_type": "text"
      },
      "source": [
        "<a href=\"https://colab.research.google.com/github/CakeNuthep/Super_AI/blob/master/DFS.ipynb\" target=\"_parent\"><img src=\"https://colab.research.google.com/assets/colab-badge.svg\" alt=\"Open In Colab\"/></a>"
      ]
    },
    {
      "cell_type": "code",
      "metadata": {
        "id": "R2O3HSvvE8MM",
        "colab_type": "code",
        "colab": {}
      },
      "source": [
        "data = [\n",
        "        {\n",
        "            \"name\":\"A\",\n",
        "            \"index\":0,\n",
        "            \"next_edge\":\n",
        "                [\n",
        "                  {\"cost\":20,\"index_node\":1},\n",
        "                  {\"cost\":30,\"index_node\":3}\n",
        "                ]\n",
        "        },\n",
        "        {\n",
        "            \"name\":\"B\",\n",
        "            \"index\":1,\n",
        "            \"next_edge\":\n",
        "               [\n",
        "                {\"cost\":20,\"index_node\":2}\n",
        "               ]\n",
        "        },\n",
        "        {\n",
        "            \"name\":\"C\",\n",
        "            \"index\":2,\n",
        "            \"next_edge\":\n",
        "              [\n",
        "               {\"cost\":10,\"index_node\":3}\n",
        "              ]\n",
        "        },\n",
        "        {\n",
        "            \"name\":\"D\",\n",
        "            \"index\":3,\n",
        "            \"next_edge\":\n",
        "              [\n",
        "               \n",
        "              ]\n",
        "        }\n",
        "       ]"
      ],
      "execution_count": 41,
      "outputs": []
    },
    {
      "cell_type": "code",
      "metadata": {
        "id": "HRTl6usLGupS",
        "colab_type": "code",
        "colab": {}
      },
      "source": [
        "class dfs:\n",
        "  def __init__(self,data):\n",
        "    self.__data = data\n",
        "    self.__manageData()\n",
        "    self.stack = []\n",
        "    self.stack.append(data[0])\n",
        "  \n",
        "  def step(self):\n",
        "    if(len(self.stack)>0):\n",
        "      node_data = self.stack.pop();\n",
        "\n",
        "      for edge in node_data[\"next_edge\"]:\n",
        "        next_index_node = edge[\"index_node\"]\n",
        "        next_node = self.__data[next_index_node]\n",
        "        self.stack.append(next_node)\n",
        "        self.__updateCost(node_data,next_node,edge)\n",
        "        \n",
        "\n",
        "      return node_data\n",
        "    return None\n",
        "  \n",
        "  def __manageData(self):\n",
        "    for node in self.__data:\n",
        "      node[\"prev_node_best\"] = {}\n",
        "      node[\"prev_node_best\"] = {\"index_node\":-1,\"best_cost\":None}\n",
        "\n",
        "  def __updateCost(self,node_data,next_node,edge):\n",
        "    node_best_cost = 0\n",
        "    if node_data[\"prev_node_best\"][\"best_cost\"] is not None:\n",
        "      node_best_cost = node_data[\"prev_node_best\"][\"best_cost\"]\n",
        "\n",
        "    if next_node[\"prev_node_best\"][\"best_cost\"] is None or next_node[\"prev_node_best\"][\"best_cost\"] > edge[\"cost\"]+node_best_cost:\n",
        "        next_node[\"prev_node_best\"][\"best_cost\"] = edge[\"cost\"] + node_best_cost\n",
        "        next_node[\"prev_node_best\"][\"index_node\"] = node_data[\"index\"]\n",
        "\n",
        "  def getData(self):\n",
        "    return self.__data\n"
      ],
      "execution_count": 60,
      "outputs": []
    },
    {
      "cell_type": "code",
      "metadata": {
        "id": "M7aeARomJZOf",
        "colab_type": "code",
        "colab": {
          "base_uri": "https://localhost:8080/",
          "height": 154
        },
        "outputId": "264abc3d-14e3-4b93-e934-1c7abb7d9db2"
      },
      "source": [
        "search = dfs(data)\n",
        "result = search.step()\n",
        "print(result)\n",
        "while result is not None:\n",
        "  result = search.step()\n",
        "  print(result)\n",
        "\n",
        "print(search.getData())"
      ],
      "execution_count": 61,
      "outputs": [
        {
          "output_type": "stream",
          "text": [
            "{'name': 'A', 'index': 0, 'next_edge': [{'cost': 20, 'index_node': 1}, {'cost': 30, 'index_node': 3}], 'prev_node_best': {'index_node': -1, 'best_cost': None}}\n",
            "{'name': 'D', 'index': 3, 'next_edge': [], 'prev_node_best': {'index_node': 0, 'best_cost': 30}}\n",
            "{'name': 'B', 'index': 1, 'next_edge': [{'cost': 20, 'index_node': 2}], 'prev_node_best': {'index_node': 0, 'best_cost': 20}}\n",
            "{'name': 'C', 'index': 2, 'next_edge': [{'cost': 10, 'index_node': 3}], 'prev_node_best': {'index_node': 1, 'best_cost': 40}}\n",
            "{'name': 'D', 'index': 3, 'next_edge': [], 'prev_node_best': {'index_node': 0, 'best_cost': 30}}\n",
            "None\n",
            "[{'name': 'A', 'index': 0, 'next_edge': [{'cost': 20, 'index_node': 1}, {'cost': 30, 'index_node': 3}], 'prev_node_best': {'index_node': -1, 'best_cost': None}}, {'name': 'B', 'index': 1, 'next_edge': [{'cost': 20, 'index_node': 2}], 'prev_node_best': {'index_node': 0, 'best_cost': 20}}, {'name': 'C', 'index': 2, 'next_edge': [{'cost': 10, 'index_node': 3}], 'prev_node_best': {'index_node': 1, 'best_cost': 40}}, {'name': 'D', 'index': 3, 'next_edge': [], 'prev_node_best': {'index_node': 0, 'best_cost': 30}}]\n"
          ],
          "name": "stdout"
        }
      ]
    }
  ]
}