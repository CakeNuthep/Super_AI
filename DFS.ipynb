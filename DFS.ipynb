{
  "nbformat": 4,
  "nbformat_minor": 0,
  "metadata": {
    "colab": {
      "name": "Untitled3.ipynb",
      "provenance": [],
      "collapsed_sections": [],
      "authorship_tag": "ABX9TyNJvi/BVe0YvXiQkGyhbmWf",
      "include_colab_link": true
    },
    "kernelspec": {
      "name": "python3",
      "display_name": "Python 3"
    }
  },
  "cells": [
    {
      "cell_type": "markdown",
      "metadata": {
        "id": "view-in-github",
        "colab_type": "text"
      },
      "source": [
        "<a href=\"https://colab.research.google.com/github/CakeNuthep/Super_AI/blob/master/DFS.ipynb\" target=\"_parent\"><img src=\"https://colab.research.google.com/assets/colab-badge.svg\" alt=\"Open In Colab\"/></a>"
      ]
    },
    {
      "cell_type": "code",
      "metadata": {
        "id": "R2O3HSvvE8MM",
        "colab_type": "code",
        "colab": {}
      },
      "source": [
        "data = [\n",
        "        {\n",
        "            \"name\":\"A\",\n",
        "            \"index\":0,\n",
        "            \"next_edge\":\n",
        "                [\n",
        "                  {\"cost\":20,\"index_node\":1},\n",
        "                  {\"cost\":30,\"index_node\":3}\n",
        "                ]\n",
        "        },\n",
        "        {\n",
        "            \"name\":\"B\",\n",
        "            \"index\":1,\n",
        "            \"next_edge\":\n",
        "               [\n",
        "                {\"cost\":20,\"index_node\":2}\n",
        "               ]\n",
        "        },\n",
        "        {\n",
        "            \"name\":\"C\",\n",
        "            \"index\":2,\n",
        "            \"next_edge\":\n",
        "              [\n",
        "               {\"cost\":10,\"index_node\":3}\n",
        "              ]\n",
        "        },\n",
        "        {\n",
        "            \"name\":\"D\",\n",
        "            \"index\":3,\n",
        "            \"next_edge\":\n",
        "              [\n",
        "               \n",
        "              ]\n",
        "        }\n",
        "       ]"
      ],
      "execution_count": 12,
      "outputs": []
    },
    {
      "cell_type": "code",
      "metadata": {
        "id": "HRTl6usLGupS",
        "colab_type": "code",
        "colab": {}
      },
      "source": [
        "class dfs:\n",
        "  def __init__(self,data,startNode=0):\n",
        "    self.__data = data\n",
        "    self.__manageData()\n",
        "    self.stack = []\n",
        "    self.stack.append(data[startNode])\n",
        "  \n",
        "  def step(self):\n",
        "    if(len(self.stack)>0):\n",
        "      node_data = self.stack.pop();\n",
        "\n",
        "      for edge in node_data[\"next_edge\"]:\n",
        "        next_index_node = edge[\"index_node\"]\n",
        "        next_node = self.__data[next_index_node]\n",
        "        self.stack.append(next_node)\n",
        "        self.__updateCost(node_data,next_node,edge)\n",
        "        \n",
        "\n",
        "      return node_data\n",
        "    return None\n",
        "  \n",
        "  def __manageData(self):\n",
        "    for node in self.__data:\n",
        "      node[\"prev_node_best\"] = {}\n",
        "      node[\"prev_node_best\"] = {\"index_node\":-1,\"best_cost\":None}\n",
        "\n",
        "  def __updateCost(self,node_data,next_node,edge):\n",
        "    node_best_cost = 0\n",
        "    if node_data[\"prev_node_best\"][\"best_cost\"] is not None:\n",
        "      node_best_cost = node_data[\"prev_node_best\"][\"best_cost\"]\n",
        "\n",
        "    if next_node[\"prev_node_best\"][\"best_cost\"] is None or next_node[\"prev_node_best\"][\"best_cost\"] > edge[\"cost\"]+node_best_cost:\n",
        "        next_node[\"prev_node_best\"][\"best_cost\"] = edge[\"cost\"] + node_best_cost\n",
        "        next_node[\"prev_node_best\"][\"index_node\"] = node_data[\"index\"]\n",
        "\n",
        "  def getData(self):\n",
        "    return self.__data\n"
      ],
      "execution_count": 33,
      "outputs": []
    },
    {
      "cell_type": "code",
      "metadata": {
        "id": "NyYz7ibM0mFz",
        "colab_type": "code",
        "colab": {}
      },
      "source": [
        "import matplotlib.pyplot as plt\n",
        "import networkx as nx\n"
      ],
      "execution_count": 124,
      "outputs": []
    },
    {
      "cell_type": "code",
      "metadata": {
        "id": "FZvDrj0S1rIx",
        "colab_type": "code",
        "colab": {}
      },
      "source": [
        "class Graph_DFS:\n",
        "  def __init__(self,data):\n",
        "    self.G=nx.Graph()\n",
        "    self.__createGraph(data)\n",
        "\n",
        "  def __createGraph(self,data):\n",
        "    for node in data:\n",
        "      for next_edge in node[\"next_edge\"]:\n",
        "        index_next_node = next_edge[\"index_node\"]\n",
        "        next_node = data[index_next_node]\n",
        "        self.G.add_edge(node[\"index\"],next_node[\"index\"],weight=1)\n",
        "        self.pos=nx.spring_layout(G) # positions for all nodes\n",
        "\n",
        "  def drawGraph(self,index_node):\n",
        "    all_node = G.nodes\n",
        "    mark_node = [index_node]\n",
        "    other_node = [i for i, e in enumerate(all_node) if i != index_node]\n",
        "    print(mark_node) \n",
        "\n",
        "    all_edge = G.edges(data=True)\n",
        "\n",
        "    # nodes\n",
        "    nx.draw_networkx_nodes(self.G,self.pos,nodelist=mark_node,node_size=700,node_color='#00ff00')\n",
        "\n",
        "    nx.draw_networkx_nodes(self.G,self.pos,nodelist=other_node,node_size=700,node_color='#0000ff')\n",
        "\n",
        "    # labels\n",
        "    nx.draw_networkx_labels(self.G,self.pos,font_size=20,font_family='sans-serif')\n",
        "\n",
        "    \n",
        "    # edges\n",
        "    nx.draw_networkx_edges(self.G,self.pos,edgelist=all_edge,\n",
        "                        width=2,arrows=True,arrowsize=20, arrowstyle='fancy')\n",
        "\n",
        "    plt.axis('off')\n",
        "    plt.savefig(\"weighted_graph.png\") # save as png\n",
        "    plt.show() # display\n"
      ],
      "execution_count": 128,
      "outputs": []
    },
    {
      "cell_type": "code",
      "metadata": {
        "id": "jEr9HYQwJIAu",
        "colab_type": "code",
        "colab": {}
      },
      "source": [
        "graph = Graph_DFS(data)"
      ],
      "execution_count": 129,
      "outputs": []
    },
    {
      "cell_type": "code",
      "metadata": {
        "id": "WoWqA6urI4Mw",
        "colab_type": "code",
        "colab": {
          "base_uri": "https://localhost:8080/",
          "height": 836
        },
        "outputId": "a568f9e1-fdfe-4813-a596-496700ed09cb"
      },
      "source": [
        "\n",
        "graph.drawGraph(2)"
      ],
      "execution_count": 130,
      "outputs": [
        {
          "output_type": "stream",
          "text": [
            "[2]\n"
          ],
          "name": "stdout"
        },
        {
          "output_type": "error",
          "ename": "TypeError",
          "evalue": "ignored",
          "traceback": [
            "\u001b[0;31m---------------------------------------------------------------------------\u001b[0m",
            "\u001b[0;31mTypeError\u001b[0m                                 Traceback (most recent call last)",
            "\u001b[0;32m<ipython-input-130-e4301da6befc>\u001b[0m in \u001b[0;36m<module>\u001b[0;34m()\u001b[0m\n\u001b[1;32m      1\u001b[0m \u001b[0;34m\u001b[0m\u001b[0m\n\u001b[0;32m----> 2\u001b[0;31m \u001b[0mgraph\u001b[0m\u001b[0;34m.\u001b[0m\u001b[0mdrawGraph\u001b[0m\u001b[0;34m(\u001b[0m\u001b[0;36m2\u001b[0m\u001b[0;34m)\u001b[0m\u001b[0;34m\u001b[0m\u001b[0;34m\u001b[0m\u001b[0m\n\u001b[0m",
            "\u001b[0;32m<ipython-input-128-c54b12cdf95b>\u001b[0m in \u001b[0;36mdrawGraph\u001b[0;34m(self, index_node)\u001b[0m\n\u001b[1;32m     37\u001b[0m     \u001b[0mfig\u001b[0m \u001b[0;34m=\u001b[0m \u001b[0mplt\u001b[0m\u001b[0;34m.\u001b[0m\u001b[0mfigure\u001b[0m\u001b[0;34m(\u001b[0m\u001b[0;34m)\u001b[0m\u001b[0;34m\u001b[0m\u001b[0;34m\u001b[0m\u001b[0m\n\u001b[1;32m     38\u001b[0m     \u001b[0;31m#for add in np.arange(15):\u001b[0m\u001b[0;34m\u001b[0m\u001b[0;34m\u001b[0m\u001b[0;34m\u001b[0m\u001b[0m\n\u001b[0;32m---> 39\u001b[0;31m     \u001b[0mims\u001b[0m\u001b[0;34m.\u001b[0m\u001b[0mappend\u001b[0m\u001b[0;34m(\u001b[0m\u001b[0mplt\u001b[0m\u001b[0;34m.\u001b[0m\u001b[0mimshow\u001b[0m\u001b[0;34m(\u001b[0m\u001b[0mfig\u001b[0m\u001b[0;34m)\u001b[0m\u001b[0;34m)\u001b[0m\u001b[0;34m;\u001b[0m\u001b[0;34m\u001b[0m\u001b[0;34m\u001b[0m\u001b[0m\n\u001b[0m\u001b[1;32m     40\u001b[0m \u001b[0;34m\u001b[0m\u001b[0m\n\u001b[1;32m     41\u001b[0m     \u001b[0mim_ani\u001b[0m \u001b[0;34m=\u001b[0m \u001b[0manimation\u001b[0m\u001b[0;34m.\u001b[0m\u001b[0mArtistAnimation\u001b[0m\u001b[0;34m(\u001b[0m\u001b[0mfig\u001b[0m\u001b[0;34m,\u001b[0m \u001b[0mims\u001b[0m\u001b[0;34m,\u001b[0m \u001b[0minterval\u001b[0m\u001b[0;34m=\u001b[0m\u001b[0;36m50\u001b[0m\u001b[0;34m,\u001b[0m \u001b[0mrepeat_delay\u001b[0m\u001b[0;34m=\u001b[0m\u001b[0;36m3000\u001b[0m\u001b[0;34m,\u001b[0m \u001b[0mblit\u001b[0m\u001b[0;34m=\u001b[0m\u001b[0;32mTrue\u001b[0m\u001b[0;34m)\u001b[0m\u001b[0;34m\u001b[0m\u001b[0;34m\u001b[0m\u001b[0m\n",
            "\u001b[0;32m/usr/local/lib/python3.6/dist-packages/matplotlib/pyplot.py\u001b[0m in \u001b[0;36mimshow\u001b[0;34m(X, cmap, norm, aspect, interpolation, alpha, vmin, vmax, origin, extent, shape, filternorm, filterrad, imlim, resample, url, data, **kwargs)\u001b[0m\n\u001b[1;32m   2649\u001b[0m         \u001b[0mfilternorm\u001b[0m\u001b[0;34m=\u001b[0m\u001b[0mfilternorm\u001b[0m\u001b[0;34m,\u001b[0m \u001b[0mfilterrad\u001b[0m\u001b[0;34m=\u001b[0m\u001b[0mfilterrad\u001b[0m\u001b[0;34m,\u001b[0m \u001b[0mimlim\u001b[0m\u001b[0;34m=\u001b[0m\u001b[0mimlim\u001b[0m\u001b[0;34m,\u001b[0m\u001b[0;34m\u001b[0m\u001b[0;34m\u001b[0m\u001b[0m\n\u001b[1;32m   2650\u001b[0m         resample=resample, url=url, **({\"data\": data} if data is not\n\u001b[0;32m-> 2651\u001b[0;31m         None else {}), **kwargs)\n\u001b[0m\u001b[1;32m   2652\u001b[0m     \u001b[0msci\u001b[0m\u001b[0;34m(\u001b[0m\u001b[0m__ret\u001b[0m\u001b[0;34m)\u001b[0m\u001b[0;34m\u001b[0m\u001b[0;34m\u001b[0m\u001b[0m\n\u001b[1;32m   2653\u001b[0m     \u001b[0;32mreturn\u001b[0m \u001b[0m__ret\u001b[0m\u001b[0;34m\u001b[0m\u001b[0;34m\u001b[0m\u001b[0m\n",
            "\u001b[0;32m/usr/local/lib/python3.6/dist-packages/matplotlib/__init__.py\u001b[0m in \u001b[0;36minner\u001b[0;34m(ax, data, *args, **kwargs)\u001b[0m\n\u001b[1;32m   1563\u001b[0m     \u001b[0;32mdef\u001b[0m \u001b[0minner\u001b[0m\u001b[0;34m(\u001b[0m\u001b[0max\u001b[0m\u001b[0;34m,\u001b[0m \u001b[0;34m*\u001b[0m\u001b[0margs\u001b[0m\u001b[0;34m,\u001b[0m \u001b[0mdata\u001b[0m\u001b[0;34m=\u001b[0m\u001b[0;32mNone\u001b[0m\u001b[0;34m,\u001b[0m \u001b[0;34m**\u001b[0m\u001b[0mkwargs\u001b[0m\u001b[0;34m)\u001b[0m\u001b[0;34m:\u001b[0m\u001b[0;34m\u001b[0m\u001b[0;34m\u001b[0m\u001b[0m\n\u001b[1;32m   1564\u001b[0m         \u001b[0;32mif\u001b[0m \u001b[0mdata\u001b[0m \u001b[0;32mis\u001b[0m \u001b[0;32mNone\u001b[0m\u001b[0;34m:\u001b[0m\u001b[0;34m\u001b[0m\u001b[0;34m\u001b[0m\u001b[0m\n\u001b[0;32m-> 1565\u001b[0;31m             \u001b[0;32mreturn\u001b[0m \u001b[0mfunc\u001b[0m\u001b[0;34m(\u001b[0m\u001b[0max\u001b[0m\u001b[0;34m,\u001b[0m \u001b[0;34m*\u001b[0m\u001b[0mmap\u001b[0m\u001b[0;34m(\u001b[0m\u001b[0msanitize_sequence\u001b[0m\u001b[0;34m,\u001b[0m \u001b[0margs\u001b[0m\u001b[0;34m)\u001b[0m\u001b[0;34m,\u001b[0m \u001b[0;34m**\u001b[0m\u001b[0mkwargs\u001b[0m\u001b[0;34m)\u001b[0m\u001b[0;34m\u001b[0m\u001b[0;34m\u001b[0m\u001b[0m\n\u001b[0m\u001b[1;32m   1566\u001b[0m \u001b[0;34m\u001b[0m\u001b[0m\n\u001b[1;32m   1567\u001b[0m         \u001b[0mbound\u001b[0m \u001b[0;34m=\u001b[0m \u001b[0mnew_sig\u001b[0m\u001b[0;34m.\u001b[0m\u001b[0mbind\u001b[0m\u001b[0;34m(\u001b[0m\u001b[0max\u001b[0m\u001b[0;34m,\u001b[0m \u001b[0;34m*\u001b[0m\u001b[0margs\u001b[0m\u001b[0;34m,\u001b[0m \u001b[0;34m**\u001b[0m\u001b[0mkwargs\u001b[0m\u001b[0;34m)\u001b[0m\u001b[0;34m\u001b[0m\u001b[0;34m\u001b[0m\u001b[0m\n",
            "\u001b[0;32m/usr/local/lib/python3.6/dist-packages/matplotlib/cbook/deprecation.py\u001b[0m in \u001b[0;36mwrapper\u001b[0;34m(*args, **kwargs)\u001b[0m\n\u001b[1;32m    356\u001b[0m                 \u001b[0;34mf\"%(removal)s.  If any parameter follows {name!r}, they \"\u001b[0m\u001b[0;34m\u001b[0m\u001b[0;34m\u001b[0m\u001b[0m\n\u001b[1;32m    357\u001b[0m                 f\"should be pass as keyword, not positionally.\")\n\u001b[0;32m--> 358\u001b[0;31m         \u001b[0;32mreturn\u001b[0m \u001b[0mfunc\u001b[0m\u001b[0;34m(\u001b[0m\u001b[0;34m*\u001b[0m\u001b[0margs\u001b[0m\u001b[0;34m,\u001b[0m \u001b[0;34m**\u001b[0m\u001b[0mkwargs\u001b[0m\u001b[0;34m)\u001b[0m\u001b[0;34m\u001b[0m\u001b[0;34m\u001b[0m\u001b[0m\n\u001b[0m\u001b[1;32m    359\u001b[0m \u001b[0;34m\u001b[0m\u001b[0m\n\u001b[1;32m    360\u001b[0m     \u001b[0;32mreturn\u001b[0m \u001b[0mwrapper\u001b[0m\u001b[0;34m\u001b[0m\u001b[0;34m\u001b[0m\u001b[0m\n",
            "\u001b[0;32m/usr/local/lib/python3.6/dist-packages/matplotlib/cbook/deprecation.py\u001b[0m in \u001b[0;36mwrapper\u001b[0;34m(*args, **kwargs)\u001b[0m\n\u001b[1;32m    356\u001b[0m                 \u001b[0;34mf\"%(removal)s.  If any parameter follows {name!r}, they \"\u001b[0m\u001b[0;34m\u001b[0m\u001b[0;34m\u001b[0m\u001b[0m\n\u001b[1;32m    357\u001b[0m                 f\"should be pass as keyword, not positionally.\")\n\u001b[0;32m--> 358\u001b[0;31m         \u001b[0;32mreturn\u001b[0m \u001b[0mfunc\u001b[0m\u001b[0;34m(\u001b[0m\u001b[0;34m*\u001b[0m\u001b[0margs\u001b[0m\u001b[0;34m,\u001b[0m \u001b[0;34m**\u001b[0m\u001b[0mkwargs\u001b[0m\u001b[0;34m)\u001b[0m\u001b[0;34m\u001b[0m\u001b[0;34m\u001b[0m\u001b[0m\n\u001b[0m\u001b[1;32m    359\u001b[0m \u001b[0;34m\u001b[0m\u001b[0m\n\u001b[1;32m    360\u001b[0m     \u001b[0;32mreturn\u001b[0m \u001b[0mwrapper\u001b[0m\u001b[0;34m\u001b[0m\u001b[0;34m\u001b[0m\u001b[0m\n",
            "\u001b[0;32m/usr/local/lib/python3.6/dist-packages/matplotlib/axes/_axes.py\u001b[0m in \u001b[0;36mimshow\u001b[0;34m(self, X, cmap, norm, aspect, interpolation, alpha, vmin, vmax, origin, extent, shape, filternorm, filterrad, imlim, resample, url, **kwargs)\u001b[0m\n\u001b[1;32m   5624\u001b[0m                               resample=resample, **kwargs)\n\u001b[1;32m   5625\u001b[0m \u001b[0;34m\u001b[0m\u001b[0m\n\u001b[0;32m-> 5626\u001b[0;31m         \u001b[0mim\u001b[0m\u001b[0;34m.\u001b[0m\u001b[0mset_data\u001b[0m\u001b[0;34m(\u001b[0m\u001b[0mX\u001b[0m\u001b[0;34m)\u001b[0m\u001b[0;34m\u001b[0m\u001b[0;34m\u001b[0m\u001b[0m\n\u001b[0m\u001b[1;32m   5627\u001b[0m         \u001b[0mim\u001b[0m\u001b[0;34m.\u001b[0m\u001b[0mset_alpha\u001b[0m\u001b[0;34m(\u001b[0m\u001b[0malpha\u001b[0m\u001b[0;34m)\u001b[0m\u001b[0;34m\u001b[0m\u001b[0;34m\u001b[0m\u001b[0m\n\u001b[1;32m   5628\u001b[0m         \u001b[0;32mif\u001b[0m \u001b[0mim\u001b[0m\u001b[0;34m.\u001b[0m\u001b[0mget_clip_path\u001b[0m\u001b[0;34m(\u001b[0m\u001b[0;34m)\u001b[0m \u001b[0;32mis\u001b[0m \u001b[0;32mNone\u001b[0m\u001b[0;34m:\u001b[0m\u001b[0;34m\u001b[0m\u001b[0;34m\u001b[0m\u001b[0m\n",
            "\u001b[0;32m/usr/local/lib/python3.6/dist-packages/matplotlib/image.py\u001b[0m in \u001b[0;36mset_data\u001b[0;34m(self, A)\u001b[0m\n\u001b[1;32m    692\u001b[0m                 not np.can_cast(self._A.dtype, float, \"same_kind\")):\n\u001b[1;32m    693\u001b[0m             raise TypeError(\"Image data of dtype {} cannot be converted to \"\n\u001b[0;32m--> 694\u001b[0;31m                             \"float\".format(self._A.dtype))\n\u001b[0m\u001b[1;32m    695\u001b[0m \u001b[0;34m\u001b[0m\u001b[0m\n\u001b[1;32m    696\u001b[0m         if not (self._A.ndim == 2\n",
            "\u001b[0;31mTypeError\u001b[0m: Image data of dtype object cannot be converted to float"
          ]
        },
        {
          "output_type": "display_data",
          "data": {
            "image/png": "[encoded data removed]",
            "text/plain": [
              "<Figure size 432x288 with 1 Axes>"
            ]
          },
          "metadata": {
            "tags": []
          }
        },
        {
          "output_type": "display_data",
          "data": {
            "image/png": "[encoded data removed]",
            "text/plain": [
              "<Figure size 432x288 with 1 Axes>"
            ]
          },
          "metadata": {
            "tags": [],
            "needs_background": "light"
          }
        }
      ]
    },
    {
      "cell_type": "code",
      "metadata": {
        "id": "M7aeARomJZOf",
        "colab_type": "code",
        "colab": {
          "base_uri": "https://localhost:8080/",
          "height": 161
        },
        "outputId": "c930c0a2-7508-416f-b329-9745870e8e26"
      },
      "source": [
        "search = dfs(data)\n",
        "result = search.step()\n",
        "print(result)\n",
        "while result is not None:\n",
        "  result = search.step()\n",
        "  print(result)\n",
        "\n",
        "print(search.getData())"
      ],
      "execution_count": 13,
      "outputs": [
        {
          "output_type": "stream",
          "text": [
            "{'name': 'A', 'index': 0, 'next_edge': [{'cost': 20, 'index_node': 1}, {'cost': 30, 'index_node': 3}], 'prev_node_best': {'index_node': -1, 'best_cost': None}}\n",
            "{'name': 'D', 'index': 3, 'next_edge': [], 'prev_node_best': {'index_node': 0, 'best_cost': 30}}\n",
            "{'name': 'B', 'index': 1, 'next_edge': [{'cost': 20, 'index_node': 2}], 'prev_node_best': {'index_node': 0, 'best_cost': 20}}\n",
            "{'name': 'C', 'index': 2, 'next_edge': [{'cost': 10, 'index_node': 3}], 'prev_node_best': {'index_node': 1, 'best_cost': 40}}\n",
            "{'name': 'D', 'index': 3, 'next_edge': [], 'prev_node_best': {'index_node': 0, 'best_cost': 30}}\n",
            "None\n",
            "[{'name': 'A', 'index': 0, 'next_edge': [{'cost': 20, 'index_node': 1}, {'cost': 30, 'index_node': 3}], 'prev_node_best': {'index_node': -1, 'best_cost': None}}, {'name': 'B', 'index': 1, 'next_edge': [{'cost': 20, 'index_node': 2}], 'prev_node_best': {'index_node': 0, 'best_cost': 20}}, {'name': 'C', 'index': 2, 'next_edge': [{'cost': 10, 'index_node': 3}], 'prev_node_best': {'index_node': 1, 'best_cost': 40}}, {'name': 'D', 'index': 3, 'next_edge': [], 'prev_node_best': {'index_node': 0, 'best_cost': 30}}]\n"
          ],
          "name": "stdout"
        }
      ]
    }
  ]
}