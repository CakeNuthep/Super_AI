{
  "nbformat": 4,
  "nbformat_minor": 0,
  "metadata": {
    "colab": {
      "name": "Untitled3.ipynb",
      "provenance": [],
      "collapsed_sections": [],
      "authorship_tag": "ABX9TyNHCuw0KwVeZvVzbpORahIQ",
      "include_colab_link": true
    },
    "kernelspec": {
      "name": "python3",
      "display_name": "Python 3"
    }
  },
  "cells": [
    {
      "cell_type": "markdown",
      "metadata": {
        "id": "view-in-github",
        "colab_type": "text"
      },
      "source": [
        "<a href=\"https://colab.research.google.com/github/CakeNuthep/Super_AI/blob/master/DFS.ipynb\" target=\"_parent\"><img src=\"https://colab.research.google.com/assets/colab-badge.svg\" alt=\"Open In Colab\"/></a>"
      ]
    },
    {
      "cell_type": "code",
      "metadata": {
        "id": "R2O3HSvvE8MM",
        "colab_type": "code",
        "colab": {}
      },
      "source": [
        "data = [\n",
        "        {\n",
        "            \"name\":\"A\",\n",
        "            \"index\":0,\n",
        "            \"next_edge\":\n",
        "                [\n",
        "                  {\"cost\":1,\"index_node\":3},\n",
        "                  {\"cost\":1,\"index_node\":1}\n",
        "                ]\n",
        "        },\n",
        "        {\n",
        "            \"name\":\"B\",\n",
        "            \"index\":1,\n",
        "            \"next_edge\":\n",
        "               [\n",
        "                {\"cost\":1,\"index_node\":2},\n",
        "                {\"cost\":1,\"index_node\":4}\n",
        "               ]\n",
        "        },\n",
        "        {\n",
        "            \"name\":\"C\",\n",
        "            \"index\":2,\n",
        "            \"next_edge\":\n",
        "              [\n",
        "               \n",
        "              ]\n",
        "        },\n",
        "        {\n",
        "            \"name\":\"D\",\n",
        "            \"index\":3,\n",
        "            \"next_edge\":\n",
        "              [\n",
        "               {\"cost\":1,\"index_node\":5}\n",
        "              ]\n",
        "        },\n",
        "        {\n",
        "            \"name\":\"D\",\n",
        "            \"index\":4,\n",
        "            \"next_edge\":\n",
        "              [\n",
        "               \n",
        "              ]\n",
        "        },\n",
        "        {\n",
        "            \"name\":\"D\",\n",
        "            \"index\":5,\n",
        "            \"next_edge\":\n",
        "              [\n",
        "               \n",
        "              ]\n",
        "        }\n",
        "       ]"
      ],
      "execution_count": 1,
      "outputs": []
    },
    {
      "cell_type": "code",
      "metadata": {
        "id": "HRTl6usLGupS",
        "colab_type": "code",
        "colab": {}
      },
      "source": [
        "class dfs:\n",
        "  def __init__(self,data,startNode=0):\n",
        "    self.__data = data\n",
        "    self.__manageData()\n",
        "    self.stack = []\n",
        "    self.stack.append(data[startNode])\n",
        "  \n",
        "  def step(self):\n",
        "    if(len(self.stack)>0):\n",
        "      node_data = self.stack.pop();\n",
        "\n",
        "      for edge in node_data[\"next_edge\"]:\n",
        "        next_index_node = edge[\"index_node\"]\n",
        "        next_node = self.__data[next_index_node]\n",
        "        self.__updateCost(node_data,next_node,edge)\n",
        "        \n",
        "\n",
        "      return node_data\n",
        "    return None\n",
        "  \n",
        "  def __manageData(self):\n",
        "    for node in self.__data:\n",
        "      node[\"prev_node_best\"] = {}\n",
        "      node[\"prev_node_best\"] = {\"index_node\":-1,\"best_cost\":None}\n",
        "\n",
        "  def __updateCost(self,node_data,next_node,edge):\n",
        "    node_best_cost = 0\n",
        "    if node_data[\"prev_node_best\"][\"best_cost\"] is not None:\n",
        "      node_best_cost = node_data[\"prev_node_best\"][\"best_cost\"]\n",
        "\n",
        "    if next_node[\"prev_node_best\"][\"best_cost\"] is None or next_node[\"prev_node_best\"][\"best_cost\"] > edge[\"cost\"]+node_best_cost:\n",
        "        next_node[\"prev_node_best\"][\"best_cost\"] = edge[\"cost\"] + node_best_cost\n",
        "        next_node[\"prev_node_best\"][\"index_node\"] = node_data[\"index\"]\n",
        "        self.stack.append(next_node)\n",
        "\n",
        "  def getData(self):\n",
        "    return self.__data\n"
      ],
      "execution_count": 2,
      "outputs": []
    },
    {
      "cell_type": "code",
      "metadata": {
        "id": "NyYz7ibM0mFz",
        "colab_type": "code",
        "colab": {}
      },
      "source": [
        "import matplotlib.pyplot as plt\n",
        "import networkx as nx\n",
        "from matplotlib.animation import FuncAnimation"
      ],
      "execution_count": 3,
      "outputs": []
    },
    {
      "cell_type": "code",
      "metadata": {
        "id": "FZvDrj0S1rIx",
        "colab_type": "code",
        "colab": {}
      },
      "source": [
        "class Graph_DFS:\n",
        "  def __init__(self,data):\n",
        "    self.G=nx.DiGraph()\n",
        "    self.__createGraph(data)\n",
        "\n",
        "  def __createGraph(self,data):\n",
        "    for node in data:\n",
        "      for next_edge in node[\"next_edge\"]:\n",
        "        index_next_node = next_edge[\"index_node\"]\n",
        "        #next_node = data[index_next_node]\n",
        "        self.G.add_edge(node[\"index\"],index_next_node,weight=1)\n",
        "        print(f\"\"\"node={node[\"index\"]} , next={index_next_node}\"\"\")\n",
        "    self.pos=nx.spring_layout(self.G) # positions for all nodes\n",
        "\n",
        "  def drawGraph(self,index_node=-1):\n",
        "    all_node = self.G.nodes\n",
        "  \n",
        "    if index_node != -1:\n",
        "      mark_node = [index_node]\n",
        "      other_node = [i for i, e in enumerate(all_node) if i != index_node]\n",
        "\n",
        "      # nodes \n",
        "      nx.draw_networkx_nodes(self.G,self.pos,nodelist=mark_node,node_size=700,node_color='#00ff00')\n",
        "      nx.draw_networkx_nodes(self.G,self.pos,nodelist=other_node,node_size=700,node_color='#0000ff')\n",
        "    else:\n",
        "      nx.draw_networkx_nodes(self.G,self.pos,nodelist=all_node,node_size=700,node_color='#0000ff')\n",
        "    \n",
        "\n",
        "    # labels\n",
        "    nx.draw_networkx_labels(self.G,self.pos,font_size=20,font_family='sans-serif')\n",
        "\n",
        "    \n",
        "    # edges\n",
        "    all_edge = self.G.edges(data=True)\n",
        "    nx.draw_networkx_edges(self.G,self.pos,edgelist=all_edge,\n",
        "                        arrows=True,arrowsize=20,arrowstyle='-|>')\n",
        "\n",
        "    plt.axis('off')\n",
        "    #plt.show() # display\n",
        "    return\n",
        "    "
      ],
      "execution_count": 7,
      "outputs": []
    },
    {
      "cell_type": "code",
      "metadata": {
        "id": "ZzsW-BnCoqTC",
        "colab_type": "code",
        "colab": {
          "base_uri": "https://localhost:8080/",
          "height": 337
        },
        "outputId": "c15cf352-35da-4845-b3c2-4d366c0d6eef"
      },
      "source": [
        "graph = Graph_DFS(data)\n",
        "graph.drawGraph()"
      ],
      "execution_count": 8,
      "outputs": [
        {
          "output_type": "stream",
          "text": [
            "node=0 , next=3\n",
            "node=0 , next=1\n",
            "node=1 , next=2\n",
            "node=1 , next=4\n",
            "node=3 , next=5\n"
          ],
          "name": "stdout"
        },
        {
          "output_type": "display_data",
          "data": {
            "image/png": "[encoded data removed]",
            "text/plain": [
              "<Figure size 432x288 with 1 Axes>"
            ]
          },
          "metadata": {
            "tags": []
          }
        }
      ]
    },
    {
      "cell_type": "code",
      "metadata": {
        "id": "ppWosQryoYy2",
        "colab_type": "code",
        "colab": {
          "base_uri": "https://localhost:8080/",
          "height": 248
        },
        "outputId": "8a085c38-870e-492e-cc55-7c1c46c3adc3"
      },
      "source": [
        "start_node = 0\n",
        "search = dfs(data,start_node)\n",
        "def update(i):\n",
        "  result = search.step()\n",
        "  if result is not None:\n",
        "    graph.drawGraph(result[\"index\"])\n",
        "  else:\n",
        "    graph.drawGraph()\n",
        "\n",
        "# output animation; its important I save it\n",
        "fig = plt.gcf()\n",
        "\n",
        "ani = FuncAnimation(fig, update, interval=1000,frames=10)\n",
        "ani.save('dfs_graph.mp4')"
      ],
      "execution_count": 9,
      "outputs": [
        {
          "output_type": "display_data",
          "data": {
            "image/png": "[encoded data removed]",
            "text/plain": [
              "<Figure size 432x288 with 1 Axes>"
            ]
          },
          "metadata": {
            "tags": []
          }
        }
      ]
    }
  ]
}