{
  "nbformat": 4,
  "nbformat_minor": 0,
  "metadata": {
    "colab": {
      "name": "Untitled7.ipynb",
      "provenance": [],
      "authorship_tag": "ABX9TyN8+xmGfOVJYLpM/6fAnKz+",
      "include_colab_link": true
    },
    "kernelspec": {
      "name": "python3",
      "display_name": "Python 3"
    }
  },
  "cells": [
    {
      "cell_type": "markdown",
      "metadata": {
        "id": "view-in-github",
        "colab_type": "text"
      },
      "source": [
        "<a href=\"https://colab.research.google.com/github/CakeNuthep/Super_AI/blob/master/Data%20Analysis.ipynb\" target=\"_parent\"><img src=\"https://colab.research.google.com/assets/colab-badge.svg\" alt=\"Open In Colab\"/></a>"
      ]
    },
    {
      "cell_type": "markdown",
      "metadata": {
        "id": "xGHB8XT1Bfc3",
        "colab_type": "text"
      },
      "source": [
        "# **Data Analysis**\n",
        "\n",
        "\n",
        "---\n",
        "ข้อมูลที่ใช้เป็นข้อมูลการขายของประเทศไทย โดยใช้ Platform ที่ชื่อว่า Facebook \n",
        "\n",
        "Data: https://www.kaggle.com/ashishg21/facebook-live-sellers-in-thailand-uci-ml-repo?select=Live.csv\n",
        "\n",
        "**สิ่งที่ต้องการค้นหา**\n",
        "- แนวโน้มการใช้วีดีโอ\n",
        "- แนวโน้มการใข้รูปภาพ\n",
        "- สิ่งที่มีผลต่อ การ แชร์\n",
        "- สิ่งที่มีผลต่อ การ comment\n",
        "\n",
        "\n",
        "\n"
      ]
    },
    {
      "cell_type": "code",
      "metadata": {
        "id": "1uwS1zBcAxiQ",
        "colab_type": "code",
        "colab": {}
      },
      "source": [
        ""
      ],
      "execution_count": null,
      "outputs": []
    }
  ]
}