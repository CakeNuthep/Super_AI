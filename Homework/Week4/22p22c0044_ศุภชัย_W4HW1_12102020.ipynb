{
  "nbformat": 4,
  "nbformat_minor": 0,
  "metadata": {
    "colab": {
      "name": "Untitled10.ipynb",
      "provenance": [],
      "toc_visible": true,
      "authorship_tag": "ABX9TyP6vsH4/wJ1RYzZnP+Lan6d",
      "include_colab_link": true
    },
    "kernelspec": {
      "name": "python3",
      "display_name": "Python 3"
    }
  },
  "cells": [
    {
      "cell_type": "markdown",
      "metadata": {
        "id": "view-in-github",
        "colab_type": "text"
      },
      "source": [
        "<a href=\"https://colab.research.google.com/github/CakeNuthep/Super_AI/blob/master/Homework/Week4/22p22c0044_%E0%B8%A8%E0%B8%B8%E0%B8%A0%E0%B8%8A%E0%B8%B1%E0%B8%A2_W4HW1_12102020.ipynb\" target=\"_parent\"><img src=\"https://colab.research.google.com/assets/colab-badge.svg\" alt=\"Open In Colab\"/></a>"
      ]
    },
    {
      "cell_type": "markdown",
      "metadata": {
        "id": "08sKAqHPbcXA"
      },
      "source": [
        "# IMAGE ML"
      ]
    },
    {
      "cell_type": "code",
      "metadata": {
        "id": "XOPCJjd7t2tW"
      },
      "source": [
        "import pandas as pd\n",
        "import numpy as np\n",
        "import matplotlib.pyplot as plt\n",
        "import seaborn as sns\n",
        "import datetime as dt\n",
        "from sklearn.utils import resample, shuffle"
      ],
      "execution_count": null,
      "outputs": []
    },
    {
      "cell_type": "code",
      "metadata": {
        "id": "vw3rMDwpy-Zn"
      },
      "source": [
        "df_image = pd.read_csv('https://raw.githubusercontent.com/CakeNuthep/Super_AI/master/Homework/Week4/thai-mnist-classification/mnist.train.map.csv')"
      ],
      "execution_count": null,
      "outputs": []
    },
    {
      "cell_type": "code",
      "metadata": {
        "id": "7ELLFd6ozHKb",
        "outputId": "fae47489-7229-43bf-96bf-e28d9d03ec6e",
        "colab": {
          "base_uri": "https://localhost:8080/",
          "height": 402
        }
      },
      "source": [
        "df_image"
      ],
      "execution_count": null,
      "outputs": [
        {
          "output_type": "execute_result",
          "data": {
            "text/html": [
              "<div>\n",
              "<style scoped>\n",
              "    .dataframe tbody tr th:only-of-type {\n",
              "        vertical-align: middle;\n",
              "    }\n",
              "\n",
              "    .dataframe tbody tr th {\n",
              "        vertical-align: top;\n",
              "    }\n",
              "\n",
              "    .dataframe thead th {\n",
              "        text-align: right;\n",
              "    }\n",
              "</style>\n",
              "<table border=\"1\" class=\"dataframe\">\n",
              "  <thead>\n",
              "    <tr style=\"text-align: right;\">\n",
              "      <th></th>\n",
              "      <th>id</th>\n",
              "      <th>category</th>\n",
              "    </tr>\n",
              "  </thead>\n",
              "  <tbody>\n",
              "    <tr>\n",
              "      <th>0</th>\n",
              "      <td>75606737-d17d-43eb-86e6-6735b6f45a52.png</td>\n",
              "      <td>8</td>\n",
              "    </tr>\n",
              "    <tr>\n",
              "      <th>1</th>\n",
              "      <td>800e3baf-9ab1-48c0-a9ce-46c5fac9ff69.png</td>\n",
              "      <td>1</td>\n",
              "    </tr>\n",
              "    <tr>\n",
              "      <th>2</th>\n",
              "      <td>c40b7fc4-07f1-4c78-abac-121bde38e267.png</td>\n",
              "      <td>0</td>\n",
              "    </tr>\n",
              "    <tr>\n",
              "      <th>3</th>\n",
              "      <td>1b2e1b3d-46f2-4c3f-b741-a8d5099ce710.png</td>\n",
              "      <td>4</td>\n",
              "    </tr>\n",
              "    <tr>\n",
              "      <th>4</th>\n",
              "      <td>b8fd3385-9403-48a4-9d9e-74bde635e688.png</td>\n",
              "      <td>9</td>\n",
              "    </tr>\n",
              "    <tr>\n",
              "      <th>...</th>\n",
              "      <td>...</td>\n",
              "      <td>...</td>\n",
              "    </tr>\n",
              "    <tr>\n",
              "      <th>8250</th>\n",
              "      <td>9b2af0fb-f1be-4782-a614-23fa59a366d7.png</td>\n",
              "      <td>8</td>\n",
              "    </tr>\n",
              "    <tr>\n",
              "      <th>8251</th>\n",
              "      <td>ca58239a-7a35-4c96-9b6a-451e112dc5da.png</td>\n",
              "      <td>6</td>\n",
              "    </tr>\n",
              "    <tr>\n",
              "      <th>8252</th>\n",
              "      <td>4ec2ba63-0845-4812-a3fa-1f5eda80de8e.png</td>\n",
              "      <td>8</td>\n",
              "    </tr>\n",
              "    <tr>\n",
              "      <th>8253</th>\n",
              "      <td>8479e8d8-d592-4931-926c-17a84b02ad0a.png</td>\n",
              "      <td>2</td>\n",
              "    </tr>\n",
              "    <tr>\n",
              "      <th>8254</th>\n",
              "      <td>0039e0ae-1560-4433-afd2-e12b647d33f3.png</td>\n",
              "      <td>3</td>\n",
              "    </tr>\n",
              "  </tbody>\n",
              "</table>\n",
              "<p>8255 rows × 2 columns</p>\n",
              "</div>"
            ],
            "text/plain": [
              "                                            id  category\n",
              "0     75606737-d17d-43eb-86e6-6735b6f45a52.png         8\n",
              "1     800e3baf-9ab1-48c0-a9ce-46c5fac9ff69.png         1\n",
              "2     c40b7fc4-07f1-4c78-abac-121bde38e267.png         0\n",
              "3     1b2e1b3d-46f2-4c3f-b741-a8d5099ce710.png         4\n",
              "4     b8fd3385-9403-48a4-9d9e-74bde635e688.png         9\n",
              "...                                        ...       ...\n",
              "8250  9b2af0fb-f1be-4782-a614-23fa59a366d7.png         8\n",
              "8251  ca58239a-7a35-4c96-9b6a-451e112dc5da.png         6\n",
              "8252  4ec2ba63-0845-4812-a3fa-1f5eda80de8e.png         8\n",
              "8253  8479e8d8-d592-4931-926c-17a84b02ad0a.png         2\n",
              "8254  0039e0ae-1560-4433-afd2-e12b647d33f3.png         3\n",
              "\n",
              "[8255 rows x 2 columns]"
            ]
          },
          "metadata": {
            "tags": []
          },
          "execution_count": 3
        }
      ]
    },
    {
      "cell_type": "code",
      "metadata": {
        "id": "nvoFF2sczJh7",
        "outputId": "e3da829a-f263-48d2-acab-138e5ec5f739",
        "colab": {
          "base_uri": "https://localhost:8080/",
          "height": 265
        }
      },
      "source": [
        "df_image['category'].hist()\n",
        "plt.show()"
      ],
      "execution_count": null,
      "outputs": [
        {
          "output_type": "display_data",
          "data": {
            "image/png": "[encoded data removed]",
            "text/plain": [
              "<Figure size 432x288 with 1 Axes>"
            ]
          },
          "metadata": {
            "tags": [],
            "needs_background": "light"
          }
        }
      ]
    },
    {
      "cell_type": "code",
      "metadata": {
        "id": "l-T4h5guzLvi",
        "outputId": "03b34c58-f272-4e81-efcb-cd9ad368d6bb",
        "colab": {
          "base_uri": "https://localhost:8080/",
          "height": 168
        }
      },
      "source": [
        "df_image.info()"
      ],
      "execution_count": null,
      "outputs": [
        {
          "output_type": "stream",
          "text": [
            "<class 'pandas.core.frame.DataFrame'>\n",
            "RangeIndex: 8255 entries, 0 to 8254\n",
            "Data columns (total 2 columns):\n",
            " #   Column    Non-Null Count  Dtype \n",
            "---  ------    --------------  ----- \n",
            " 0   id        8255 non-null   object\n",
            " 1   category  8255 non-null   int64 \n",
            "dtypes: int64(1), object(1)\n",
            "memory usage: 129.1+ KB\n"
          ],
          "name": "stdout"
        }
      ]
    },
    {
      "cell_type": "code",
      "metadata": {
        "id": "HwFTjLIyzOYT",
        "outputId": "98bf4b8b-b8f5-498e-b784-c44674c31e27",
        "colab": {
          "base_uri": "https://localhost:8080/",
          "height": 402
        }
      },
      "source": [
        "df_image.groupby(['category']).agg(['count'])"
      ],
      "execution_count": null,
      "outputs": [
        {
          "output_type": "execute_result",
          "data": {
            "text/html": [
              "<div>\n",
              "<style scoped>\n",
              "    .dataframe tbody tr th:only-of-type {\n",
              "        vertical-align: middle;\n",
              "    }\n",
              "\n",
              "    .dataframe tbody tr th {\n",
              "        vertical-align: top;\n",
              "    }\n",
              "\n",
              "    .dataframe thead tr th {\n",
              "        text-align: left;\n",
              "    }\n",
              "\n",
              "    .dataframe thead tr:last-of-type th {\n",
              "        text-align: right;\n",
              "    }\n",
              "</style>\n",
              "<table border=\"1\" class=\"dataframe\">\n",
              "  <thead>\n",
              "    <tr>\n",
              "      <th></th>\n",
              "      <th>id</th>\n",
              "    </tr>\n",
              "    <tr>\n",
              "      <th></th>\n",
              "      <th>count</th>\n",
              "    </tr>\n",
              "    <tr>\n",
              "      <th>category</th>\n",
              "      <th></th>\n",
              "    </tr>\n",
              "  </thead>\n",
              "  <tbody>\n",
              "    <tr>\n",
              "      <th>0</th>\n",
              "      <td>1100</td>\n",
              "    </tr>\n",
              "    <tr>\n",
              "      <th>1</th>\n",
              "      <td>1048</td>\n",
              "    </tr>\n",
              "    <tr>\n",
              "      <th>2</th>\n",
              "      <td>966</td>\n",
              "    </tr>\n",
              "    <tr>\n",
              "      <th>3</th>\n",
              "      <td>910</td>\n",
              "    </tr>\n",
              "    <tr>\n",
              "      <th>4</th>\n",
              "      <td>809</td>\n",
              "    </tr>\n",
              "    <tr>\n",
              "      <th>5</th>\n",
              "      <td>790</td>\n",
              "    </tr>\n",
              "    <tr>\n",
              "      <th>6</th>\n",
              "      <td>718</td>\n",
              "    </tr>\n",
              "    <tr>\n",
              "      <th>7</th>\n",
              "      <td>691</td>\n",
              "    </tr>\n",
              "    <tr>\n",
              "      <th>8</th>\n",
              "      <td>611</td>\n",
              "    </tr>\n",
              "    <tr>\n",
              "      <th>9</th>\n",
              "      <td>612</td>\n",
              "    </tr>\n",
              "  </tbody>\n",
              "</table>\n",
              "</div>"
            ],
            "text/plain": [
              "            id\n",
              "         count\n",
              "category      \n",
              "0         1100\n",
              "1         1048\n",
              "2          966\n",
              "3          910\n",
              "4          809\n",
              "5          790\n",
              "6          718\n",
              "7          691\n",
              "8          611\n",
              "9          612"
            ]
          },
          "metadata": {
            "tags": []
          },
          "execution_count": 6
        }
      ]
    },
    {
      "cell_type": "markdown",
      "metadata": {
        "id": "0SoOv3REzT4S"
      },
      "source": [
        "## Over sample"
      ]
    },
    {
      "cell_type": "code",
      "metadata": {
        "id": "WNJXFQhbzWcj"
      },
      "source": [
        "max_size = df_image['category'].value_counts().max()"
      ],
      "execution_count": null,
      "outputs": []
    },
    {
      "cell_type": "code",
      "metadata": {
        "id": "eTng90e9zYjC"
      },
      "source": [
        "lst = [df_image]\n",
        "for class_index, group in df_image.groupby('category'):\n",
        "    lst.append(group.sample(max_size-len(group), replace=True))\n",
        "df_upsampled = pd.concat(lst)"
      ],
      "execution_count": null,
      "outputs": []
    },
    {
      "cell_type": "code",
      "metadata": {
        "id": "ntLHCpQzzaKb",
        "outputId": "afd3f71b-26a3-4000-d1c1-4afedb65dc3f",
        "colab": {
          "base_uri": "https://localhost:8080/",
          "height": 402
        }
      },
      "source": [
        "df_upsampled.groupby(['category']).agg(['count'])"
      ],
      "execution_count": null,
      "outputs": [
        {
          "output_type": "execute_result",
          "data": {
            "text/html": [
              "<div>\n",
              "<style scoped>\n",
              "    .dataframe tbody tr th:only-of-type {\n",
              "        vertical-align: middle;\n",
              "    }\n",
              "\n",
              "    .dataframe tbody tr th {\n",
              "        vertical-align: top;\n",
              "    }\n",
              "\n",
              "    .dataframe thead tr th {\n",
              "        text-align: left;\n",
              "    }\n",
              "\n",
              "    .dataframe thead tr:last-of-type th {\n",
              "        text-align: right;\n",
              "    }\n",
              "</style>\n",
              "<table border=\"1\" class=\"dataframe\">\n",
              "  <thead>\n",
              "    <tr>\n",
              "      <th></th>\n",
              "      <th>id</th>\n",
              "    </tr>\n",
              "    <tr>\n",
              "      <th></th>\n",
              "      <th>count</th>\n",
              "    </tr>\n",
              "    <tr>\n",
              "      <th>category</th>\n",
              "      <th></th>\n",
              "    </tr>\n",
              "  </thead>\n",
              "  <tbody>\n",
              "    <tr>\n",
              "      <th>0</th>\n",
              "      <td>1100</td>\n",
              "    </tr>\n",
              "    <tr>\n",
              "      <th>1</th>\n",
              "      <td>1100</td>\n",
              "    </tr>\n",
              "    <tr>\n",
              "      <th>2</th>\n",
              "      <td>1100</td>\n",
              "    </tr>\n",
              "    <tr>\n",
              "      <th>3</th>\n",
              "      <td>1100</td>\n",
              "    </tr>\n",
              "    <tr>\n",
              "      <th>4</th>\n",
              "      <td>1100</td>\n",
              "    </tr>\n",
              "    <tr>\n",
              "      <th>5</th>\n",
              "      <td>1100</td>\n",
              "    </tr>\n",
              "    <tr>\n",
              "      <th>6</th>\n",
              "      <td>1100</td>\n",
              "    </tr>\n",
              "    <tr>\n",
              "      <th>7</th>\n",
              "      <td>1100</td>\n",
              "    </tr>\n",
              "    <tr>\n",
              "      <th>8</th>\n",
              "      <td>1100</td>\n",
              "    </tr>\n",
              "    <tr>\n",
              "      <th>9</th>\n",
              "      <td>1100</td>\n",
              "    </tr>\n",
              "  </tbody>\n",
              "</table>\n",
              "</div>"
            ],
            "text/plain": [
              "            id\n",
              "         count\n",
              "category      \n",
              "0         1100\n",
              "1         1100\n",
              "2         1100\n",
              "3         1100\n",
              "4         1100\n",
              "5         1100\n",
              "6         1100\n",
              "7         1100\n",
              "8         1100\n",
              "9         1100"
            ]
          },
          "metadata": {
            "tags": []
          },
          "execution_count": 9
        }
      ]
    },
    {
      "cell_type": "markdown",
      "metadata": {
        "id": "O3_us0iLzctK"
      },
      "source": [
        "## Train"
      ]
    },
    {
      "cell_type": "code",
      "metadata": {
        "id": "0OYyKYIIzeRF"
      },
      "source": [
        "from sklearn.model_selection import KFold\n",
        "from keras.applications.resnet50 import ResNet50\n",
        "from keras.applications.imagenet_utils import preprocess_input\n",
        "from keras.preprocessing import image\n",
        "from PIL import Image, ImageOps\n",
        "import numpy as np\n",
        "import requests\n",
        "import io\n",
        "import PIL\n",
        "import pickle\n",
        "from sklearn.preprocessing import normalize\n",
        "\n",
        "model = ResNet50(include_top=False, weights='imagenet', classes=1000)\n",
        "\n",
        "def extract_feature(imgpath):\n",
        "  if imgpath.find('http')!=-1:\n",
        "      r = requests.get(imgpath, allow_redirects=True, timeout=10)\n",
        "      image_bytes = io.BytesIO(r.content)\n",
        "      img = PIL.Image.open(image_bytes)\n",
        "  else:\n",
        "      img = image.load_img(imgpath)\n",
        "  img = ImageOps.fit(img, (224, 224), Image.ANTIALIAS)\n",
        "  x = image.img_to_array(img)[:,:,:3]\n",
        "  #average = np.average(x[:,:,3])\n",
        "  #print(x.shape)\n",
        "  x = np.expand_dims(x, axis=0)\n",
        "  x = preprocess_input(x)\n",
        "  features = model.predict(x, batch_size=1,verbose=0)\n",
        "  features = np.ndarray.flatten(features).astype('float64')\n",
        "  feat = normalize([features])[0]\n",
        "  return feat"
      ],
      "execution_count": null,
      "outputs": []
    },
    {
      "cell_type": "code",
      "metadata": {
        "id": "YoL-ElzFzjyj"
      },
      "source": [
        "df_raw = df_upsampled[:300]"
      ],
      "execution_count": null,
      "outputs": []
    },
    {
      "cell_type": "code",
      "metadata": {
        "id": "adIjH_QjzkWa",
        "outputId": "9fe6b2f3-11b9-4549-cd17-87ae4abad0e2",
        "colab": {
          "base_uri": "https://localhost:8080/",
          "height": 402
        }
      },
      "source": [
        "df_raw"
      ],
      "execution_count": null,
      "outputs": [
        {
          "output_type": "execute_result",
          "data": {
            "text/html": [
              "<div>\n",
              "<style scoped>\n",
              "    .dataframe tbody tr th:only-of-type {\n",
              "        vertical-align: middle;\n",
              "    }\n",
              "\n",
              "    .dataframe tbody tr th {\n",
              "        vertical-align: top;\n",
              "    }\n",
              "\n",
              "    .dataframe thead th {\n",
              "        text-align: right;\n",
              "    }\n",
              "</style>\n",
              "<table border=\"1\" class=\"dataframe\">\n",
              "  <thead>\n",
              "    <tr style=\"text-align: right;\">\n",
              "      <th></th>\n",
              "      <th>id</th>\n",
              "      <th>category</th>\n",
              "    </tr>\n",
              "  </thead>\n",
              "  <tbody>\n",
              "    <tr>\n",
              "      <th>0</th>\n",
              "      <td>75606737-d17d-43eb-86e6-6735b6f45a52.png</td>\n",
              "      <td>8</td>\n",
              "    </tr>\n",
              "    <tr>\n",
              "      <th>1</th>\n",
              "      <td>800e3baf-9ab1-48c0-a9ce-46c5fac9ff69.png</td>\n",
              "      <td>1</td>\n",
              "    </tr>\n",
              "    <tr>\n",
              "      <th>2</th>\n",
              "      <td>c40b7fc4-07f1-4c78-abac-121bde38e267.png</td>\n",
              "      <td>0</td>\n",
              "    </tr>\n",
              "    <tr>\n",
              "      <th>3</th>\n",
              "      <td>1b2e1b3d-46f2-4c3f-b741-a8d5099ce710.png</td>\n",
              "      <td>4</td>\n",
              "    </tr>\n",
              "    <tr>\n",
              "      <th>4</th>\n",
              "      <td>b8fd3385-9403-48a4-9d9e-74bde635e688.png</td>\n",
              "      <td>9</td>\n",
              "    </tr>\n",
              "    <tr>\n",
              "      <th>...</th>\n",
              "      <td>...</td>\n",
              "      <td>...</td>\n",
              "    </tr>\n",
              "    <tr>\n",
              "      <th>295</th>\n",
              "      <td>c5898f71-57e5-4b9d-ba5d-fc8281dceea2.png</td>\n",
              "      <td>0</td>\n",
              "    </tr>\n",
              "    <tr>\n",
              "      <th>296</th>\n",
              "      <td>1ecd8da1-8e67-40a0-bebd-95b8968fa7d8.png</td>\n",
              "      <td>0</td>\n",
              "    </tr>\n",
              "    <tr>\n",
              "      <th>297</th>\n",
              "      <td>02fc4028-12aa-4b84-bcea-5c04ce112d47.png</td>\n",
              "      <td>3</td>\n",
              "    </tr>\n",
              "    <tr>\n",
              "      <th>298</th>\n",
              "      <td>a33ba623-c77e-43be-adeb-322840e7a90e.png</td>\n",
              "      <td>2</td>\n",
              "    </tr>\n",
              "    <tr>\n",
              "      <th>299</th>\n",
              "      <td>b603365c-7861-4895-a48d-9f40f30b7372.png</td>\n",
              "      <td>0</td>\n",
              "    </tr>\n",
              "  </tbody>\n",
              "</table>\n",
              "<p>300 rows × 2 columns</p>\n",
              "</div>"
            ],
            "text/plain": [
              "                                           id  category\n",
              "0    75606737-d17d-43eb-86e6-6735b6f45a52.png         8\n",
              "1    800e3baf-9ab1-48c0-a9ce-46c5fac9ff69.png         1\n",
              "2    c40b7fc4-07f1-4c78-abac-121bde38e267.png         0\n",
              "3    1b2e1b3d-46f2-4c3f-b741-a8d5099ce710.png         4\n",
              "4    b8fd3385-9403-48a4-9d9e-74bde635e688.png         9\n",
              "..                                        ...       ...\n",
              "295  c5898f71-57e5-4b9d-ba5d-fc8281dceea2.png         0\n",
              "296  1ecd8da1-8e67-40a0-bebd-95b8968fa7d8.png         0\n",
              "297  02fc4028-12aa-4b84-bcea-5c04ce112d47.png         3\n",
              "298  a33ba623-c77e-43be-adeb-322840e7a90e.png         2\n",
              "299  b603365c-7861-4895-a48d-9f40f30b7372.png         0\n",
              "\n",
              "[300 rows x 2 columns]"
            ]
          },
          "metadata": {
            "tags": []
          },
          "execution_count": 46
        }
      ]
    },
    {
      "cell_type": "code",
      "metadata": {
        "id": "uL1k09LzOXTX",
        "outputId": "95328b7c-64f3-4143-91be-cea8dcc2efd0",
        "colab": {
          "base_uri": "https://localhost:8080/",
          "height": 34
        }
      },
      "source": [
        "extract_feature(f'''https://github.com/CakeNuthep/Super_AI/blob/master/Homework/Week4/thai-mnist-classification/train/00b37b80-125d-4d82-87e4-a22a6314cc11.png?raw=true''')"
      ],
      "execution_count": null,
      "outputs": [
        {
          "output_type": "execute_result",
          "data": {
            "text/plain": [
              "array([0., 0., 0., ..., 0., 0., 0.])"
            ]
          },
          "metadata": {
            "tags": []
          },
          "execution_count": 23
        }
      ]
    },
    {
      "cell_type": "code",
      "metadata": {
        "id": "BfuZGPl4AAjb",
        "outputId": "70439955-efda-497b-e216-3d554e613f58",
        "colab": {
          "base_uri": "https://localhost:8080/",
          "height": 622
        }
      },
      "source": [
        "feature = []\n",
        "verbose = 10\n",
        "for index, row in df_raw.iterrows():\n",
        "  f = extract_feature(f'''https://github.com/CakeNuthep/Super_AI/blob/master/Homework/Week4/thai-mnist-classification/train/{row['id']}?raw=true''')\n",
        "  feature.append(f)\n",
        "  if index % verbose == 0:\n",
        "    print(f'''index:{index} data:{row['id']}, {row[1]}''')\n",
        "df_raw['feature']=feature"
      ],
      "execution_count": null,
      "outputs": [
        {
          "output_type": "stream",
          "text": [
            "index:0 data:75606737-d17d-43eb-86e6-6735b6f45a52.png, 8\n",
            "index:10 data:9f8baef0-f96b-4faf-84c1-006edb606d09.png, 9\n",
            "index:20 data:3b115b22-c9a2-4ecb-95c4-4ab23e620480.png, 6\n",
            "index:30 data:6024e758-b319-4545-9be7-8afb3a6b6a45.png, 1\n",
            "index:40 data:36dfb6a8-57f4-465b-a13b-81cb4a0fcbf3.png, 4\n",
            "index:50 data:590dc139-fa5a-47b1-a3f4-0d08f5567267.png, 7\n",
            "index:60 data:dd5a99ca-e382-4742-a41c-48dfce22e1ec.png, 0\n",
            "index:70 data:c44f88cf-f033-4370-98fe-990a64cefa49.png, 1\n",
            "index:80 data:4a46d626-7b35-4238-a288-afaa367df575.png, 0\n",
            "index:90 data:e1f6e1b4-a495-4f6f-93df-24c0a6a212da.png, 0\n",
            "index:100 data:a8164c5d-4bdd-416d-8ba1-5260c4737796.png, 2\n",
            "index:110 data:2b00dcb8-a9c5-47a8-957f-064a25636df7.png, 0\n",
            "index:120 data:362b4003-f858-4945-a614-29af7ac8c6f4.png, 8\n",
            "index:130 data:763f7c7e-4d33-42c5-95b6-d1a03a8659c3.png, 0\n",
            "index:140 data:dede57fb-ecdf-461d-8ec4-c81f7a69ae26.png, 8\n",
            "index:150 data:26b5f692-035c-4a0c-8783-590bbf297861.png, 3\n",
            "index:160 data:9c8028ee-320c-4c00-a0c0-54c9e8df2161.png, 0\n",
            "index:170 data:735779c5-f221-4b72-8ee0-3ba2b91abd71.png, 0\n",
            "index:180 data:a8a86017-eb22-4c05-8429-8fa4e33266b2.png, 1\n",
            "index:190 data:ebc13be5-bb29-42e3-9c3e-bd665fdf6641.png, 0\n",
            "index:200 data:58b9c346-c243-4914-83fd-032e8e0585a4.png, 0\n",
            "index:210 data:de170d3c-59e3-4e82-a5f5-a09aafa4c79e.png, 7\n",
            "index:220 data:ff2e5a71-e6a0-4ddf-8f41-9cbcae3d9667.png, 0\n",
            "index:230 data:a2d92e13-5b28-42f4-b32d-a92e2d4c2701.png, 1\n",
            "index:240 data:22bb0a05-88d2-4596-9cba-50fb54b80498.png, 4\n",
            "index:250 data:d91d98ef-2e97-4ce1-adb5-838d5acc563c.png, 8\n",
            "index:260 data:caf60c6f-780a-467a-9857-6a0bd13edbba.png, 0\n",
            "index:270 data:f1fcfeae-dd6e-46d6-94b6-a36245c60eaa.png, 7\n",
            "index:280 data:4e4d4a55-f6c7-41fc-82ad-2d273c4d1317.png, 9\n",
            "index:290 data:0d45b0df-8c72-4652-b53f-9e09170045c3.png, 0\n"
          ],
          "name": "stdout"
        },
        {
          "output_type": "stream",
          "text": [
            "/usr/local/lib/python3.6/dist-packages/ipykernel_launcher.py:8: SettingWithCopyWarning: \n",
            "A value is trying to be set on a copy of a slice from a DataFrame.\n",
            "Try using .loc[row_indexer,col_indexer] = value instead\n",
            "\n",
            "See the caveats in the documentation: https://pandas.pydata.org/pandas-docs/stable/user_guide/indexing.html#returning-a-view-versus-a-copy\n",
            "  \n"
          ],
          "name": "stderr"
        }
      ]
    },
    {
      "cell_type": "code",
      "metadata": {
        "id": "VzRYraMPYEQP"
      },
      "source": [
        "with open('feature_extraction.pk', 'rb') as pickle_file:\n",
        "   df_raw = pickle.load(pickle_file)"
      ],
      "execution_count": null,
      "outputs": []
    },
    {
      "cell_type": "code",
      "metadata": {
        "id": "B1LhVYZ-PaNP",
        "outputId": "ce997f47-168d-4a58-e677-6675b0a4a5bb",
        "colab": {
          "base_uri": "https://localhost:8080/",
          "height": 402
        }
      },
      "source": [
        "df_raw"
      ],
      "execution_count": null,
      "outputs": [
        {
          "output_type": "execute_result",
          "data": {
            "text/html": [
              "<div>\n",
              "<style scoped>\n",
              "    .dataframe tbody tr th:only-of-type {\n",
              "        vertical-align: middle;\n",
              "    }\n",
              "\n",
              "    .dataframe tbody tr th {\n",
              "        vertical-align: top;\n",
              "    }\n",
              "\n",
              "    .dataframe thead th {\n",
              "        text-align: right;\n",
              "    }\n",
              "</style>\n",
              "<table border=\"1\" class=\"dataframe\">\n",
              "  <thead>\n",
              "    <tr style=\"text-align: right;\">\n",
              "      <th></th>\n",
              "      <th>id</th>\n",
              "      <th>category</th>\n",
              "      <th>feature</th>\n",
              "    </tr>\n",
              "  </thead>\n",
              "  <tbody>\n",
              "    <tr>\n",
              "      <th>0</th>\n",
              "      <td>75606737-d17d-43eb-86e6-6735b6f45a52.png</td>\n",
              "      <td>8</td>\n",
              "      <td>[0.0, 0.0, 0.0, 0.0, 0.0, 0.0, 0.0003797173668...</td>\n",
              "    </tr>\n",
              "    <tr>\n",
              "      <th>1</th>\n",
              "      <td>800e3baf-9ab1-48c0-a9ce-46c5fac9ff69.png</td>\n",
              "      <td>1</td>\n",
              "      <td>[0.0, 0.0, 0.0, 0.0, 0.0, 0.0, 0.0, 0.0, 0.0, ...</td>\n",
              "    </tr>\n",
              "    <tr>\n",
              "      <th>2</th>\n",
              "      <td>c40b7fc4-07f1-4c78-abac-121bde38e267.png</td>\n",
              "      <td>0</td>\n",
              "      <td>[0.0, 0.0, 0.0, 0.0, 0.0, 0.0, 0.0004022961074...</td>\n",
              "    </tr>\n",
              "    <tr>\n",
              "      <th>3</th>\n",
              "      <td>1b2e1b3d-46f2-4c3f-b741-a8d5099ce710.png</td>\n",
              "      <td>4</td>\n",
              "      <td>[0.0, 0.0, 0.0, 0.0, 0.0, 0.0, 0.0, 0.0, 0.0, ...</td>\n",
              "    </tr>\n",
              "    <tr>\n",
              "      <th>4</th>\n",
              "      <td>b8fd3385-9403-48a4-9d9e-74bde635e688.png</td>\n",
              "      <td>9</td>\n",
              "      <td>[0.0, 0.0, 0.0, 0.0, 0.0, 0.0, 0.0, 0.0, 0.0, ...</td>\n",
              "    </tr>\n",
              "    <tr>\n",
              "      <th>...</th>\n",
              "      <td>...</td>\n",
              "      <td>...</td>\n",
              "      <td>...</td>\n",
              "    </tr>\n",
              "    <tr>\n",
              "      <th>295</th>\n",
              "      <td>c5898f71-57e5-4b9d-ba5d-fc8281dceea2.png</td>\n",
              "      <td>0</td>\n",
              "      <td>[0.0, 0.0, 0.0, 0.0, 0.0, 0.0, 0.0003887041000...</td>\n",
              "    </tr>\n",
              "    <tr>\n",
              "      <th>296</th>\n",
              "      <td>1ecd8da1-8e67-40a0-bebd-95b8968fa7d8.png</td>\n",
              "      <td>0</td>\n",
              "      <td>[0.0, 0.0, 0.0, 0.0, 0.0, 0.0, 0.0, 0.0, 0.0, ...</td>\n",
              "    </tr>\n",
              "    <tr>\n",
              "      <th>297</th>\n",
              "      <td>02fc4028-12aa-4b84-bcea-5c04ce112d47.png</td>\n",
              "      <td>3</td>\n",
              "      <td>[0.0, 0.0, 0.0, 0.0, 0.0, 0.0, 0.0005880281741...</td>\n",
              "    </tr>\n",
              "    <tr>\n",
              "      <th>298</th>\n",
              "      <td>a33ba623-c77e-43be-adeb-322840e7a90e.png</td>\n",
              "      <td>2</td>\n",
              "      <td>[0.0, 0.0, 0.0, 0.0, 0.0, 0.0, 0.0, 0.0, 0.0, ...</td>\n",
              "    </tr>\n",
              "    <tr>\n",
              "      <th>299</th>\n",
              "      <td>b603365c-7861-4895-a48d-9f40f30b7372.png</td>\n",
              "      <td>0</td>\n",
              "      <td>[0.0, 0.0, 0.0, 0.0, 0.0, 0.0, 0.0, 0.0, 0.0, ...</td>\n",
              "    </tr>\n",
              "  </tbody>\n",
              "</table>\n",
              "<p>300 rows × 3 columns</p>\n",
              "</div>"
            ],
            "text/plain": [
              "                                           id  ...                                            feature\n",
              "0    75606737-d17d-43eb-86e6-6735b6f45a52.png  ...  [0.0, 0.0, 0.0, 0.0, 0.0, 0.0, 0.0003797173668...\n",
              "1    800e3baf-9ab1-48c0-a9ce-46c5fac9ff69.png  ...  [0.0, 0.0, 0.0, 0.0, 0.0, 0.0, 0.0, 0.0, 0.0, ...\n",
              "2    c40b7fc4-07f1-4c78-abac-121bde38e267.png  ...  [0.0, 0.0, 0.0, 0.0, 0.0, 0.0, 0.0004022961074...\n",
              "3    1b2e1b3d-46f2-4c3f-b741-a8d5099ce710.png  ...  [0.0, 0.0, 0.0, 0.0, 0.0, 0.0, 0.0, 0.0, 0.0, ...\n",
              "4    b8fd3385-9403-48a4-9d9e-74bde635e688.png  ...  [0.0, 0.0, 0.0, 0.0, 0.0, 0.0, 0.0, 0.0, 0.0, ...\n",
              "..                                        ...  ...                                                ...\n",
              "295  c5898f71-57e5-4b9d-ba5d-fc8281dceea2.png  ...  [0.0, 0.0, 0.0, 0.0, 0.0, 0.0, 0.0003887041000...\n",
              "296  1ecd8da1-8e67-40a0-bebd-95b8968fa7d8.png  ...  [0.0, 0.0, 0.0, 0.0, 0.0, 0.0, 0.0, 0.0, 0.0, ...\n",
              "297  02fc4028-12aa-4b84-bcea-5c04ce112d47.png  ...  [0.0, 0.0, 0.0, 0.0, 0.0, 0.0, 0.0005880281741...\n",
              "298  a33ba623-c77e-43be-adeb-322840e7a90e.png  ...  [0.0, 0.0, 0.0, 0.0, 0.0, 0.0, 0.0, 0.0, 0.0, ...\n",
              "299  b603365c-7861-4895-a48d-9f40f30b7372.png  ...  [0.0, 0.0, 0.0, 0.0, 0.0, 0.0, 0.0, 0.0, 0.0, ...\n",
              "\n",
              "[300 rows x 3 columns]"
            ]
          },
          "metadata": {
            "tags": []
          },
          "execution_count": 48
        }
      ]
    },
    {
      "cell_type": "code",
      "metadata": {
        "id": "DJD37MvcQ4ml"
      },
      "source": [
        "pickle.dump(df_raw,open(\"feature_extraction.pk\",'wb'))"
      ],
      "execution_count": null,
      "outputs": []
    },
    {
      "cell_type": "code",
      "metadata": {
        "id": "GVRxNdgAgQf6"
      },
      "source": [
        "df_raw = df_raw.sample(frac = 1) "
      ],
      "execution_count": null,
      "outputs": []
    },
    {
      "cell_type": "code",
      "metadata": {
        "id": "79fc93AhQ_wh"
      },
      "source": [
        "import pickle\n",
        "from sklearn.model_selection import train_test_split\n",
        "import numpy as np\n",
        "from sklearn.svm import LinearSVC\n",
        "from sklearn.calibration import CalibratedClassifierCV\n",
        "from sklearn.ensemble import RandomForestClassifier\n",
        "def trainmodel(dataset,num_folds,modfile=''):\n",
        "  trainfeat, testfeat, trainlabel, testlabel = train_test_split(dataset['feature'], dataset['category'], test_size=0.33, random_state=42)\n",
        "  # clf = LinearSVC()\n",
        "  # clf = CalibratedClassifierCV() \n",
        "  \n",
        "  clf=RandomForestClassifier(n_estimators=100,random_state=1234)\n",
        "  \n",
        "  \n",
        "  # Define the K-fold Cross Validator\n",
        "  kfold = KFold(n_splits=num_folds, shuffle=True)\n",
        "  fold_no = 1\n",
        "  for train, test in kfold.split(trainfeat, trainlabel):\n",
        "    mod = clf.fit(np.vstack(trainfeat.values[train]),np.vstack(trainlabel.values[train]))\n",
        "    \n",
        "    xxx = np.vstack(trainfeat.values[test].ravel())\n",
        "    print(xxx.shape)\n",
        "\n",
        "    res = mod.predict(np.vstack(trainfeat.values[test].ravel()))\n",
        "    \n",
        "    acc=0\n",
        "    acc = sum(res == trainlabel.values[test])/len(res)\n",
        "    print(f'fold{fold_no} acc:{acc}')\n",
        "    fold_no = fold_no + 1\n",
        "\n",
        "  res = mod.predict(np.vstack(testfeat.values.ravel()))  \n",
        "  acc = sum(res == testlabel.values)/len(res)\n",
        "  print(f'acc with test data {acc}')\n",
        "  if modfile!='':\n",
        "      pickle.dump(mod,open(modfile,'wb'))\n",
        "  conf = mod.predict_proba(np.vstack(testfeat.values))\n",
        "  return mod,acc,conf,testlabel"
      ],
      "execution_count": null,
      "outputs": []
    },
    {
      "cell_type": "code",
      "metadata": {
        "id": "tNVgqlsURDL6",
        "outputId": "d13f9874-2ad9-4c52-8631-f4b4b9eeb2d4",
        "colab": {
          "base_uri": "https://localhost:8080/",
          "height": 306
        }
      },
      "source": [
        "mod,acc,conf,testlabel = trainmodel(df_raw,5,'class_model.mod')"
      ],
      "execution_count": null,
      "outputs": [
        {
          "output_type": "stream",
          "text": [
            "/usr/local/lib/python3.6/dist-packages/ipykernel_launcher.py:19: DataConversionWarning: A column-vector y was passed when a 1d array was expected. Please change the shape of y to (n_samples,), for example using ravel().\n"
          ],
          "name": "stderr"
        },
        {
          "output_type": "stream",
          "text": [
            "(41, 100352)\n",
            "fold1 acc:0.6097560975609756\n"
          ],
          "name": "stdout"
        },
        {
          "output_type": "stream",
          "text": [
            "/usr/local/lib/python3.6/dist-packages/ipykernel_launcher.py:19: DataConversionWarning: A column-vector y was passed when a 1d array was expected. Please change the shape of y to (n_samples,), for example using ravel().\n"
          ],
          "name": "stderr"
        },
        {
          "output_type": "stream",
          "text": [
            "(40, 100352)\n",
            "fold2 acc:0.625\n"
          ],
          "name": "stdout"
        },
        {
          "output_type": "stream",
          "text": [
            "/usr/local/lib/python3.6/dist-packages/ipykernel_launcher.py:19: DataConversionWarning: A column-vector y was passed when a 1d array was expected. Please change the shape of y to (n_samples,), for example using ravel().\n"
          ],
          "name": "stderr"
        },
        {
          "output_type": "stream",
          "text": [
            "(40, 100352)\n",
            "fold3 acc:0.775\n"
          ],
          "name": "stdout"
        },
        {
          "output_type": "stream",
          "text": [
            "/usr/local/lib/python3.6/dist-packages/ipykernel_launcher.py:19: DataConversionWarning: A column-vector y was passed when a 1d array was expected. Please change the shape of y to (n_samples,), for example using ravel().\n"
          ],
          "name": "stderr"
        },
        {
          "output_type": "stream",
          "text": [
            "(40, 100352)\n",
            "fold4 acc:0.7\n"
          ],
          "name": "stdout"
        },
        {
          "output_type": "stream",
          "text": [
            "/usr/local/lib/python3.6/dist-packages/ipykernel_launcher.py:19: DataConversionWarning: A column-vector y was passed when a 1d array was expected. Please change the shape of y to (n_samples,), for example using ravel().\n"
          ],
          "name": "stderr"
        },
        {
          "output_type": "stream",
          "text": [
            "(40, 100352)\n",
            "fold5 acc:0.65\n",
            "acc with test data 0.8080808080808081\n"
          ],
          "name": "stdout"
        }
      ]
    },
    {
      "cell_type": "code",
      "metadata": {
        "id": "3u8MSpjBRdNR",
        "outputId": "15ee1860-bf37-4a93-e298-557b4c497fc3",
        "colab": {
          "base_uri": "https://localhost:8080/",
          "height": 34
        }
      },
      "source": [
        "acc"
      ],
      "execution_count": null,
      "outputs": [
        {
          "output_type": "execute_result",
          "data": {
            "text/plain": [
              "0.3939393939393939"
            ]
          },
          "metadata": {
            "tags": []
          },
          "execution_count": 31
        }
      ]
    },
    {
      "cell_type": "markdown",
      "metadata": {
        "id": "MPc4LApubtkN"
      },
      "source": [
        "# Expression ML"
      ]
    },
    {
      "cell_type": "code",
      "metadata": {
        "id": "Vm92tmrbbwCa"
      },
      "source": [
        "import pandas as pd\n",
        "import numpy as np\n",
        "import matplotlib.pyplot as plt\n",
        "import seaborn as sns\n",
        "import seaborn as sns\n",
        "import datetime as dt\n",
        "from sklearn.utils import resample, shuffle"
      ],
      "execution_count": null,
      "outputs": []
    },
    {
      "cell_type": "code",
      "metadata": {
        "id": "tzXTKZatb077"
      },
      "source": [
        "df_map = pd.read_csv('https://raw.githubusercontent.com/CakeNuthep/Super_AI/master/Homework/Week4/thai-mnist-classification/mnist.train.map.csv')"
      ],
      "execution_count": null,
      "outputs": []
    },
    {
      "cell_type": "code",
      "metadata": {
        "id": "Coj9G6-ub3QH"
      },
      "source": [
        "df_compete = pd.read_csv('https://raw.githubusercontent.com/CakeNuthep/Super_AI/master/Homework/Week4/thai-mnist-classification/train.rules.csv')"
      ],
      "execution_count": null,
      "outputs": []
    },
    {
      "cell_type": "code",
      "metadata": {
        "id": "e0Zm3oUKb7L3",
        "outputId": "bd27d25b-9691-4403-a06d-652ea7f6a45d",
        "colab": {
          "base_uri": "https://localhost:8080/",
          "height": 570
        }
      },
      "source": [
        "df_compete"
      ],
      "execution_count": null,
      "outputs": [
        {
          "output_type": "execute_result",
          "data": {
            "text/html": [
              "<div>\n",
              "<style scoped>\n",
              "    .dataframe tbody tr th:only-of-type {\n",
              "        vertical-align: middle;\n",
              "    }\n",
              "\n",
              "    .dataframe tbody tr th {\n",
              "        vertical-align: top;\n",
              "    }\n",
              "\n",
              "    .dataframe thead th {\n",
              "        text-align: right;\n",
              "    }\n",
              "</style>\n",
              "<table border=\"1\" class=\"dataframe\">\n",
              "  <thead>\n",
              "    <tr style=\"text-align: right;\">\n",
              "      <th></th>\n",
              "      <th>id</th>\n",
              "      <th>feature1</th>\n",
              "      <th>feature2</th>\n",
              "      <th>feature3</th>\n",
              "      <th>predict</th>\n",
              "    </tr>\n",
              "  </thead>\n",
              "  <tbody>\n",
              "    <tr>\n",
              "      <th>0</th>\n",
              "      <td>7c5fda39-c4a6-4d49-a0f6-751c7cd72bb4</td>\n",
              "      <td>NaN</td>\n",
              "      <td>75606737-d17d-43eb-86e6-6735b6f45a52.png</td>\n",
              "      <td>800e3baf-9ab1-48c0-a9ce-46c5fac9ff69.png</td>\n",
              "      <td>9</td>\n",
              "    </tr>\n",
              "    <tr>\n",
              "      <th>1</th>\n",
              "      <td>7e15ec1b-fe36-4a9e-a1cd-7c160e6a1b9c</td>\n",
              "      <td>NaN</td>\n",
              "      <td>75606737-d17d-43eb-86e6-6735b6f45a52.png</td>\n",
              "      <td>800e3baf-9ab1-48c0-a9ce-46c5fac9ff69.png</td>\n",
              "      <td>9</td>\n",
              "    </tr>\n",
              "    <tr>\n",
              "      <th>2</th>\n",
              "      <td>96b5d8b6-61cd-49f2-b22f-16fe25483cbc</td>\n",
              "      <td>NaN</td>\n",
              "      <td>75606737-d17d-43eb-86e6-6735b6f45a52.png</td>\n",
              "      <td>800e3baf-9ab1-48c0-a9ce-46c5fac9ff69.png</td>\n",
              "      <td>9</td>\n",
              "    </tr>\n",
              "    <tr>\n",
              "      <th>3</th>\n",
              "      <td>84ce5493-7e0f-4aee-8bb7-f799d714b5b3</td>\n",
              "      <td>NaN</td>\n",
              "      <td>c40b7fc4-07f1-4c78-abac-121bde38e267.png</td>\n",
              "      <td>1b2e1b3d-46f2-4c3f-b741-a8d5099ce710.png</td>\n",
              "      <td>4</td>\n",
              "    </tr>\n",
              "    <tr>\n",
              "      <th>4</th>\n",
              "      <td>7cb117e7-d8f3-400b-aeb3-a84fa3fb54e8</td>\n",
              "      <td>NaN</td>\n",
              "      <td>c40b7fc4-07f1-4c78-abac-121bde38e267.png</td>\n",
              "      <td>1b2e1b3d-46f2-4c3f-b741-a8d5099ce710.png</td>\n",
              "      <td>4</td>\n",
              "    </tr>\n",
              "    <tr>\n",
              "      <th>...</th>\n",
              "      <td>...</td>\n",
              "      <td>...</td>\n",
              "      <td>...</td>\n",
              "      <td>...</td>\n",
              "      <td>...</td>\n",
              "    </tr>\n",
              "    <tr>\n",
              "      <th>5550</th>\n",
              "      <td>769b31a2-cb7e-4a89-89d6-efed3199872e</td>\n",
              "      <td>0c754c5d-4166-433e-ac4d-4d1c7ef8e30a.png</td>\n",
              "      <td>bee226cb-6fbf-4470-b2de-d98e5af6110a.png</td>\n",
              "      <td>8801b5ff-821c-477e-9ce7-f65199f75646.png</td>\n",
              "      <td>0</td>\n",
              "    </tr>\n",
              "    <tr>\n",
              "      <th>5551</th>\n",
              "      <td>9f603c3a-4475-4d4b-a3ee-e8f868979749</td>\n",
              "      <td>787e9fe5-cb37-4cc5-afbb-20351616ff71.png</td>\n",
              "      <td>90ef2abe-439b-4655-a932-5a8ca5a91b71.png</td>\n",
              "      <td>c39f05cf-17aa-4b7d-afd3-29667f039216.png</td>\n",
              "      <td>51</td>\n",
              "    </tr>\n",
              "    <tr>\n",
              "      <th>5552</th>\n",
              "      <td>f25bbfff-6fd9-41f5-b2c2-0059b1a76bc6</td>\n",
              "      <td>a8c56afb-35cf-473a-bcd9-0927f8b6994b.png</td>\n",
              "      <td>7d15bcf1-5141-480c-9265-70a74aa2ed27.png</td>\n",
              "      <td>8f9eba51-8123-4186-8b11-8d2d2d9d134a.png</td>\n",
              "      <td>55</td>\n",
              "    </tr>\n",
              "    <tr>\n",
              "      <th>5553</th>\n",
              "      <td>e550dbb5-5127-4828-ac5b-153e9229992e</td>\n",
              "      <td>70ffaa6c-25a1-435a-8413-a8ad26fc8d7d.png</td>\n",
              "      <td>9b2af0fb-f1be-4782-a614-23fa59a366d7.png</td>\n",
              "      <td>ca58239a-7a35-4c96-9b6a-451e112dc5da.png</td>\n",
              "      <td>67</td>\n",
              "    </tr>\n",
              "    <tr>\n",
              "      <th>5554</th>\n",
              "      <td>e5745008-b6f0-4f54-a643-75d5a10136c6</td>\n",
              "      <td>4ec2ba63-0845-4812-a3fa-1f5eda80de8e.png</td>\n",
              "      <td>8479e8d8-d592-4931-926c-17a84b02ad0a.png</td>\n",
              "      <td>0039e0ae-1560-4433-afd2-e12b647d33f3.png</td>\n",
              "      <td>22</td>\n",
              "    </tr>\n",
              "  </tbody>\n",
              "</table>\n",
              "<p>5555 rows × 5 columns</p>\n",
              "</div>"
            ],
            "text/plain": [
              "                                        id  ... predict\n",
              "0     7c5fda39-c4a6-4d49-a0f6-751c7cd72bb4  ...       9\n",
              "1     7e15ec1b-fe36-4a9e-a1cd-7c160e6a1b9c  ...       9\n",
              "2     96b5d8b6-61cd-49f2-b22f-16fe25483cbc  ...       9\n",
              "3     84ce5493-7e0f-4aee-8bb7-f799d714b5b3  ...       4\n",
              "4     7cb117e7-d8f3-400b-aeb3-a84fa3fb54e8  ...       4\n",
              "...                                    ...  ...     ...\n",
              "5550  769b31a2-cb7e-4a89-89d6-efed3199872e  ...       0\n",
              "5551  9f603c3a-4475-4d4b-a3ee-e8f868979749  ...      51\n",
              "5552  f25bbfff-6fd9-41f5-b2c2-0059b1a76bc6  ...      55\n",
              "5553  e550dbb5-5127-4828-ac5b-153e9229992e  ...      67\n",
              "5554  e5745008-b6f0-4f54-a643-75d5a10136c6  ...      22\n",
              "\n",
              "[5555 rows x 5 columns]"
            ]
          },
          "metadata": {
            "tags": []
          },
          "execution_count": 23
        }
      ]
    },
    {
      "cell_type": "code",
      "metadata": {
        "id": "h1WPXROqb7yH"
      },
      "source": [
        "df_map_unique = df_map.drop_duplicates()"
      ],
      "execution_count": null,
      "outputs": []
    },
    {
      "cell_type": "code",
      "metadata": {
        "id": "ThrPkv_vb-un",
        "outputId": "1fca0f15-70d9-4780-b464-ae8a78c073e0",
        "colab": {
          "base_uri": "https://localhost:8080/",
          "height": 402
        }
      },
      "source": [
        "df_map_unique"
      ],
      "execution_count": null,
      "outputs": [
        {
          "output_type": "execute_result",
          "data": {
            "text/html": [
              "<div>\n",
              "<style scoped>\n",
              "    .dataframe tbody tr th:only-of-type {\n",
              "        vertical-align: middle;\n",
              "    }\n",
              "\n",
              "    .dataframe tbody tr th {\n",
              "        vertical-align: top;\n",
              "    }\n",
              "\n",
              "    .dataframe thead th {\n",
              "        text-align: right;\n",
              "    }\n",
              "</style>\n",
              "<table border=\"1\" class=\"dataframe\">\n",
              "  <thead>\n",
              "    <tr style=\"text-align: right;\">\n",
              "      <th></th>\n",
              "      <th>id</th>\n",
              "      <th>category</th>\n",
              "    </tr>\n",
              "  </thead>\n",
              "  <tbody>\n",
              "    <tr>\n",
              "      <th>0</th>\n",
              "      <td>75606737-d17d-43eb-86e6-6735b6f45a52.png</td>\n",
              "      <td>8</td>\n",
              "    </tr>\n",
              "    <tr>\n",
              "      <th>1</th>\n",
              "      <td>800e3baf-9ab1-48c0-a9ce-46c5fac9ff69.png</td>\n",
              "      <td>1</td>\n",
              "    </tr>\n",
              "    <tr>\n",
              "      <th>2</th>\n",
              "      <td>c40b7fc4-07f1-4c78-abac-121bde38e267.png</td>\n",
              "      <td>0</td>\n",
              "    </tr>\n",
              "    <tr>\n",
              "      <th>3</th>\n",
              "      <td>1b2e1b3d-46f2-4c3f-b741-a8d5099ce710.png</td>\n",
              "      <td>4</td>\n",
              "    </tr>\n",
              "    <tr>\n",
              "      <th>4</th>\n",
              "      <td>b8fd3385-9403-48a4-9d9e-74bde635e688.png</td>\n",
              "      <td>9</td>\n",
              "    </tr>\n",
              "    <tr>\n",
              "      <th>...</th>\n",
              "      <td>...</td>\n",
              "      <td>...</td>\n",
              "    </tr>\n",
              "    <tr>\n",
              "      <th>8250</th>\n",
              "      <td>9b2af0fb-f1be-4782-a614-23fa59a366d7.png</td>\n",
              "      <td>8</td>\n",
              "    </tr>\n",
              "    <tr>\n",
              "      <th>8251</th>\n",
              "      <td>ca58239a-7a35-4c96-9b6a-451e112dc5da.png</td>\n",
              "      <td>6</td>\n",
              "    </tr>\n",
              "    <tr>\n",
              "      <th>8252</th>\n",
              "      <td>4ec2ba63-0845-4812-a3fa-1f5eda80de8e.png</td>\n",
              "      <td>8</td>\n",
              "    </tr>\n",
              "    <tr>\n",
              "      <th>8253</th>\n",
              "      <td>8479e8d8-d592-4931-926c-17a84b02ad0a.png</td>\n",
              "      <td>2</td>\n",
              "    </tr>\n",
              "    <tr>\n",
              "      <th>8254</th>\n",
              "      <td>0039e0ae-1560-4433-afd2-e12b647d33f3.png</td>\n",
              "      <td>3</td>\n",
              "    </tr>\n",
              "  </tbody>\n",
              "</table>\n",
              "<p>8255 rows × 2 columns</p>\n",
              "</div>"
            ],
            "text/plain": [
              "                                            id  category\n",
              "0     75606737-d17d-43eb-86e6-6735b6f45a52.png         8\n",
              "1     800e3baf-9ab1-48c0-a9ce-46c5fac9ff69.png         1\n",
              "2     c40b7fc4-07f1-4c78-abac-121bde38e267.png         0\n",
              "3     1b2e1b3d-46f2-4c3f-b741-a8d5099ce710.png         4\n",
              "4     b8fd3385-9403-48a4-9d9e-74bde635e688.png         9\n",
              "...                                        ...       ...\n",
              "8250  9b2af0fb-f1be-4782-a614-23fa59a366d7.png         8\n",
              "8251  ca58239a-7a35-4c96-9b6a-451e112dc5da.png         6\n",
              "8252  4ec2ba63-0845-4812-a3fa-1f5eda80de8e.png         8\n",
              "8253  8479e8d8-d592-4931-926c-17a84b02ad0a.png         2\n",
              "8254  0039e0ae-1560-4433-afd2-e12b647d33f3.png         3\n",
              "\n",
              "[8255 rows x 2 columns]"
            ]
          },
          "metadata": {
            "tags": []
          },
          "execution_count": 25
        }
      ]
    },
    {
      "cell_type": "code",
      "metadata": {
        "id": "qWT8BopLcA_C",
        "outputId": "334c9002-44dc-4051-f383-1a503b132091",
        "colab": {
          "base_uri": "https://localhost:8080/",
          "height": 34
        }
      },
      "source": [
        "len(df_map['id'].unique())"
      ],
      "execution_count": null,
      "outputs": [
        {
          "output_type": "execute_result",
          "data": {
            "text/plain": [
              "8255"
            ]
          },
          "metadata": {
            "tags": []
          },
          "execution_count": 26
        }
      ]
    },
    {
      "cell_type": "code",
      "metadata": {
        "id": "IxNKr-d4cDGH",
        "outputId": "395410c9-4519-447d-d4d7-bb81a2fac990",
        "colab": {
          "base_uri": "https://localhost:8080/",
          "height": 265
        }
      },
      "source": [
        "df_compete['predict'].hist()\n",
        "plt.show()"
      ],
      "execution_count": null,
      "outputs": [
        {
          "output_type": "display_data",
          "data": {
            "image/png": "[encoded data removed]",
            "text/plain": [
              "<Figure size 432x288 with 1 Axes>"
            ]
          },
          "metadata": {
            "tags": [],
            "needs_background": "light"
          }
        }
      ]
    },
    {
      "cell_type": "code",
      "metadata": {
        "id": "rFdXc5PpcE9D",
        "outputId": "a0d01ad7-d87a-49a6-99ef-f6c8d7c037bc",
        "colab": {
          "base_uri": "https://localhost:8080/",
          "height": 461
        }
      },
      "source": [
        "df_compete.groupby(['predict']).agg(['count'])"
      ],
      "execution_count": null,
      "outputs": [
        {
          "output_type": "execute_result",
          "data": {
            "text/html": [
              "<div>\n",
              "<style scoped>\n",
              "    .dataframe tbody tr th:only-of-type {\n",
              "        vertical-align: middle;\n",
              "    }\n",
              "\n",
              "    .dataframe tbody tr th {\n",
              "        vertical-align: top;\n",
              "    }\n",
              "\n",
              "    .dataframe thead tr th {\n",
              "        text-align: left;\n",
              "    }\n",
              "\n",
              "    .dataframe thead tr:last-of-type th {\n",
              "        text-align: right;\n",
              "    }\n",
              "</style>\n",
              "<table border=\"1\" class=\"dataframe\">\n",
              "  <thead>\n",
              "    <tr>\n",
              "      <th></th>\n",
              "      <th>id</th>\n",
              "      <th>feature1</th>\n",
              "      <th>feature2</th>\n",
              "      <th>feature3</th>\n",
              "    </tr>\n",
              "    <tr>\n",
              "      <th></th>\n",
              "      <th>count</th>\n",
              "      <th>count</th>\n",
              "      <th>count</th>\n",
              "      <th>count</th>\n",
              "    </tr>\n",
              "    <tr>\n",
              "      <th>predict</th>\n",
              "      <th></th>\n",
              "      <th></th>\n",
              "      <th></th>\n",
              "      <th></th>\n",
              "    </tr>\n",
              "  </thead>\n",
              "  <tbody>\n",
              "    <tr>\n",
              "      <th>0</th>\n",
              "      <td>645</td>\n",
              "      <td>641</td>\n",
              "      <td>645</td>\n",
              "      <td>645</td>\n",
              "    </tr>\n",
              "    <tr>\n",
              "      <th>1</th>\n",
              "      <td>345</td>\n",
              "      <td>334</td>\n",
              "      <td>345</td>\n",
              "      <td>345</td>\n",
              "    </tr>\n",
              "    <tr>\n",
              "      <th>2</th>\n",
              "      <td>291</td>\n",
              "      <td>283</td>\n",
              "      <td>291</td>\n",
              "      <td>291</td>\n",
              "    </tr>\n",
              "    <tr>\n",
              "      <th>3</th>\n",
              "      <td>319</td>\n",
              "      <td>314</td>\n",
              "      <td>319</td>\n",
              "      <td>319</td>\n",
              "    </tr>\n",
              "    <tr>\n",
              "      <th>4</th>\n",
              "      <td>252</td>\n",
              "      <td>239</td>\n",
              "      <td>252</td>\n",
              "      <td>252</td>\n",
              "    </tr>\n",
              "    <tr>\n",
              "      <th>...</th>\n",
              "      <td>...</td>\n",
              "      <td>...</td>\n",
              "      <td>...</td>\n",
              "      <td>...</td>\n",
              "    </tr>\n",
              "    <tr>\n",
              "      <th>88</th>\n",
              "      <td>8</td>\n",
              "      <td>8</td>\n",
              "      <td>8</td>\n",
              "      <td>8</td>\n",
              "    </tr>\n",
              "    <tr>\n",
              "      <th>90</th>\n",
              "      <td>1</td>\n",
              "      <td>1</td>\n",
              "      <td>1</td>\n",
              "      <td>1</td>\n",
              "    </tr>\n",
              "    <tr>\n",
              "      <th>96</th>\n",
              "      <td>1</td>\n",
              "      <td>1</td>\n",
              "      <td>1</td>\n",
              "      <td>1</td>\n",
              "    </tr>\n",
              "    <tr>\n",
              "      <th>97</th>\n",
              "      <td>1</td>\n",
              "      <td>1</td>\n",
              "      <td>1</td>\n",
              "      <td>1</td>\n",
              "    </tr>\n",
              "    <tr>\n",
              "      <th>98</th>\n",
              "      <td>3</td>\n",
              "      <td>3</td>\n",
              "      <td>3</td>\n",
              "      <td>3</td>\n",
              "    </tr>\n",
              "  </tbody>\n",
              "</table>\n",
              "<p>74 rows × 4 columns</p>\n",
              "</div>"
            ],
            "text/plain": [
              "           id feature1 feature2 feature3\n",
              "        count    count    count    count\n",
              "predict                                 \n",
              "0         645      641      645      645\n",
              "1         345      334      345      345\n",
              "2         291      283      291      291\n",
              "3         319      314      319      319\n",
              "4         252      239      252      252\n",
              "...       ...      ...      ...      ...\n",
              "88          8        8        8        8\n",
              "90          1        1        1        1\n",
              "96          1        1        1        1\n",
              "97          1        1        1        1\n",
              "98          3        3        3        3\n",
              "\n",
              "[74 rows x 4 columns]"
            ]
          },
          "metadata": {
            "tags": []
          },
          "execution_count": 28
        }
      ]
    },
    {
      "cell_type": "markdown",
      "metadata": {
        "id": "YQEQeLj8cH6M"
      },
      "source": [
        "## Over Sample"
      ]
    },
    {
      "cell_type": "code",
      "metadata": {
        "id": "5xmH6ymscJ40"
      },
      "source": [
        "max_size = df_compete['predict'].value_counts().max()"
      ],
      "execution_count": null,
      "outputs": []
    },
    {
      "cell_type": "code",
      "metadata": {
        "id": "kAyQZj0LcL_a"
      },
      "source": [
        "lst = [df_compete]\n",
        "for class_index, group in df_compete.groupby('predict'):\n",
        "    lst.append(group.sample(max_size-len(group), replace=True))\n",
        "df_upsampled = pd.concat(lst)"
      ],
      "execution_count": null,
      "outputs": []
    },
    {
      "cell_type": "code",
      "metadata": {
        "id": "ihQOLucncMdK",
        "outputId": "0e219fed-720b-4808-9e5a-f8fb16067990",
        "colab": {
          "base_uri": "https://localhost:8080/",
          "height": 265
        }
      },
      "source": [
        "df_upsampled['predict'].hist()\n",
        "plt.show()"
      ],
      "execution_count": null,
      "outputs": [
        {
          "output_type": "display_data",
          "data": {
            "image/png": "[encoded data removed]",
            "text/plain": [
              "<Figure size 432x288 with 1 Axes>"
            ]
          },
          "metadata": {
            "tags": [],
            "needs_background": "light"
          }
        }
      ]
    },
    {
      "cell_type": "code",
      "metadata": {
        "id": "7vINxQPMcOaq",
        "outputId": "2e7a739e-d534-487d-b04d-b00e128fdd9c",
        "colab": {
          "base_uri": "https://localhost:8080/",
          "height": 461
        }
      },
      "source": [
        "df_upsampled.groupby(['predict']).agg(['count'])"
      ],
      "execution_count": null,
      "outputs": [
        {
          "output_type": "execute_result",
          "data": {
            "text/html": [
              "<div>\n",
              "<style scoped>\n",
              "    .dataframe tbody tr th:only-of-type {\n",
              "        vertical-align: middle;\n",
              "    }\n",
              "\n",
              "    .dataframe tbody tr th {\n",
              "        vertical-align: top;\n",
              "    }\n",
              "\n",
              "    .dataframe thead tr th {\n",
              "        text-align: left;\n",
              "    }\n",
              "\n",
              "    .dataframe thead tr:last-of-type th {\n",
              "        text-align: right;\n",
              "    }\n",
              "</style>\n",
              "<table border=\"1\" class=\"dataframe\">\n",
              "  <thead>\n",
              "    <tr>\n",
              "      <th></th>\n",
              "      <th>id</th>\n",
              "      <th>feature1</th>\n",
              "      <th>feature2</th>\n",
              "      <th>feature3</th>\n",
              "    </tr>\n",
              "    <tr>\n",
              "      <th></th>\n",
              "      <th>count</th>\n",
              "      <th>count</th>\n",
              "      <th>count</th>\n",
              "      <th>count</th>\n",
              "    </tr>\n",
              "    <tr>\n",
              "      <th>predict</th>\n",
              "      <th></th>\n",
              "      <th></th>\n",
              "      <th></th>\n",
              "      <th></th>\n",
              "    </tr>\n",
              "  </thead>\n",
              "  <tbody>\n",
              "    <tr>\n",
              "      <th>0</th>\n",
              "      <td>645</td>\n",
              "      <td>641</td>\n",
              "      <td>645</td>\n",
              "      <td>645</td>\n",
              "    </tr>\n",
              "    <tr>\n",
              "      <th>1</th>\n",
              "      <td>645</td>\n",
              "      <td>623</td>\n",
              "      <td>645</td>\n",
              "      <td>645</td>\n",
              "    </tr>\n",
              "    <tr>\n",
              "      <th>2</th>\n",
              "      <td>645</td>\n",
              "      <td>628</td>\n",
              "      <td>645</td>\n",
              "      <td>645</td>\n",
              "    </tr>\n",
              "    <tr>\n",
              "      <th>3</th>\n",
              "      <td>645</td>\n",
              "      <td>637</td>\n",
              "      <td>645</td>\n",
              "      <td>645</td>\n",
              "    </tr>\n",
              "    <tr>\n",
              "      <th>4</th>\n",
              "      <td>645</td>\n",
              "      <td>615</td>\n",
              "      <td>645</td>\n",
              "      <td>645</td>\n",
              "    </tr>\n",
              "    <tr>\n",
              "      <th>...</th>\n",
              "      <td>...</td>\n",
              "      <td>...</td>\n",
              "      <td>...</td>\n",
              "      <td>...</td>\n",
              "    </tr>\n",
              "    <tr>\n",
              "      <th>88</th>\n",
              "      <td>645</td>\n",
              "      <td>645</td>\n",
              "      <td>645</td>\n",
              "      <td>645</td>\n",
              "    </tr>\n",
              "    <tr>\n",
              "      <th>90</th>\n",
              "      <td>645</td>\n",
              "      <td>645</td>\n",
              "      <td>645</td>\n",
              "      <td>645</td>\n",
              "    </tr>\n",
              "    <tr>\n",
              "      <th>96</th>\n",
              "      <td>645</td>\n",
              "      <td>645</td>\n",
              "      <td>645</td>\n",
              "      <td>645</td>\n",
              "    </tr>\n",
              "    <tr>\n",
              "      <th>97</th>\n",
              "      <td>645</td>\n",
              "      <td>645</td>\n",
              "      <td>645</td>\n",
              "      <td>645</td>\n",
              "    </tr>\n",
              "    <tr>\n",
              "      <th>98</th>\n",
              "      <td>645</td>\n",
              "      <td>645</td>\n",
              "      <td>645</td>\n",
              "      <td>645</td>\n",
              "    </tr>\n",
              "  </tbody>\n",
              "</table>\n",
              "<p>74 rows × 4 columns</p>\n",
              "</div>"
            ],
            "text/plain": [
              "           id feature1 feature2 feature3\n",
              "        count    count    count    count\n",
              "predict                                 \n",
              "0         645      641      645      645\n",
              "1         645      623      645      645\n",
              "2         645      628      645      645\n",
              "3         645      637      645      645\n",
              "4         645      615      645      645\n",
              "...       ...      ...      ...      ...\n",
              "88        645      645      645      645\n",
              "90        645      645      645      645\n",
              "96        645      645      645      645\n",
              "97        645      645      645      645\n",
              "98        645      645      645      645\n",
              "\n",
              "[74 rows x 4 columns]"
            ]
          },
          "metadata": {
            "tags": []
          },
          "execution_count": 32
        }
      ]
    },
    {
      "cell_type": "code",
      "metadata": {
        "id": "FCML88OJcR0T",
        "outputId": "985accd2-3e50-465b-c2c1-e36e74517548",
        "colab": {
          "base_uri": "https://localhost:8080/",
          "height": 570
        }
      },
      "source": [
        "df_upsampled"
      ],
      "execution_count": null,
      "outputs": [
        {
          "output_type": "execute_result",
          "data": {
            "text/html": [
              "<div>\n",
              "<style scoped>\n",
              "    .dataframe tbody tr th:only-of-type {\n",
              "        vertical-align: middle;\n",
              "    }\n",
              "\n",
              "    .dataframe tbody tr th {\n",
              "        vertical-align: top;\n",
              "    }\n",
              "\n",
              "    .dataframe thead th {\n",
              "        text-align: right;\n",
              "    }\n",
              "</style>\n",
              "<table border=\"1\" class=\"dataframe\">\n",
              "  <thead>\n",
              "    <tr style=\"text-align: right;\">\n",
              "      <th></th>\n",
              "      <th>id</th>\n",
              "      <th>feature1</th>\n",
              "      <th>feature2</th>\n",
              "      <th>feature3</th>\n",
              "      <th>predict</th>\n",
              "    </tr>\n",
              "  </thead>\n",
              "  <tbody>\n",
              "    <tr>\n",
              "      <th>0</th>\n",
              "      <td>7c5fda39-c4a6-4d49-a0f6-751c7cd72bb4</td>\n",
              "      <td>NaN</td>\n",
              "      <td>75606737-d17d-43eb-86e6-6735b6f45a52.png</td>\n",
              "      <td>800e3baf-9ab1-48c0-a9ce-46c5fac9ff69.png</td>\n",
              "      <td>9</td>\n",
              "    </tr>\n",
              "    <tr>\n",
              "      <th>1</th>\n",
              "      <td>7e15ec1b-fe36-4a9e-a1cd-7c160e6a1b9c</td>\n",
              "      <td>NaN</td>\n",
              "      <td>75606737-d17d-43eb-86e6-6735b6f45a52.png</td>\n",
              "      <td>800e3baf-9ab1-48c0-a9ce-46c5fac9ff69.png</td>\n",
              "      <td>9</td>\n",
              "    </tr>\n",
              "    <tr>\n",
              "      <th>2</th>\n",
              "      <td>96b5d8b6-61cd-49f2-b22f-16fe25483cbc</td>\n",
              "      <td>NaN</td>\n",
              "      <td>75606737-d17d-43eb-86e6-6735b6f45a52.png</td>\n",
              "      <td>800e3baf-9ab1-48c0-a9ce-46c5fac9ff69.png</td>\n",
              "      <td>9</td>\n",
              "    </tr>\n",
              "    <tr>\n",
              "      <th>3</th>\n",
              "      <td>84ce5493-7e0f-4aee-8bb7-f799d714b5b3</td>\n",
              "      <td>NaN</td>\n",
              "      <td>c40b7fc4-07f1-4c78-abac-121bde38e267.png</td>\n",
              "      <td>1b2e1b3d-46f2-4c3f-b741-a8d5099ce710.png</td>\n",
              "      <td>4</td>\n",
              "    </tr>\n",
              "    <tr>\n",
              "      <th>4</th>\n",
              "      <td>7cb117e7-d8f3-400b-aeb3-a84fa3fb54e8</td>\n",
              "      <td>NaN</td>\n",
              "      <td>c40b7fc4-07f1-4c78-abac-121bde38e267.png</td>\n",
              "      <td>1b2e1b3d-46f2-4c3f-b741-a8d5099ce710.png</td>\n",
              "      <td>4</td>\n",
              "    </tr>\n",
              "    <tr>\n",
              "      <th>...</th>\n",
              "      <td>...</td>\n",
              "      <td>...</td>\n",
              "      <td>...</td>\n",
              "      <td>...</td>\n",
              "      <td>...</td>\n",
              "    </tr>\n",
              "    <tr>\n",
              "      <th>4914</th>\n",
              "      <td>1b3f8298-c6c2-439c-b396-10f8e36e2089</td>\n",
              "      <td>24a5e71c-bc34-4adb-8c76-160b2c990989.png</td>\n",
              "      <td>a199c672-1f2b-4c31-a2f1-e94814bd5e05.png</td>\n",
              "      <td>0b2ee805-9264-464b-b586-1daec3bb52e9.png</td>\n",
              "      <td>98</td>\n",
              "    </tr>\n",
              "    <tr>\n",
              "      <th>4914</th>\n",
              "      <td>1b3f8298-c6c2-439c-b396-10f8e36e2089</td>\n",
              "      <td>24a5e71c-bc34-4adb-8c76-160b2c990989.png</td>\n",
              "      <td>a199c672-1f2b-4c31-a2f1-e94814bd5e05.png</td>\n",
              "      <td>0b2ee805-9264-464b-b586-1daec3bb52e9.png</td>\n",
              "      <td>98</td>\n",
              "    </tr>\n",
              "    <tr>\n",
              "      <th>4914</th>\n",
              "      <td>1b3f8298-c6c2-439c-b396-10f8e36e2089</td>\n",
              "      <td>24a5e71c-bc34-4adb-8c76-160b2c990989.png</td>\n",
              "      <td>a199c672-1f2b-4c31-a2f1-e94814bd5e05.png</td>\n",
              "      <td>0b2ee805-9264-464b-b586-1daec3bb52e9.png</td>\n",
              "      <td>98</td>\n",
              "    </tr>\n",
              "    <tr>\n",
              "      <th>4914</th>\n",
              "      <td>1b3f8298-c6c2-439c-b396-10f8e36e2089</td>\n",
              "      <td>24a5e71c-bc34-4adb-8c76-160b2c990989.png</td>\n",
              "      <td>a199c672-1f2b-4c31-a2f1-e94814bd5e05.png</td>\n",
              "      <td>0b2ee805-9264-464b-b586-1daec3bb52e9.png</td>\n",
              "      <td>98</td>\n",
              "    </tr>\n",
              "    <tr>\n",
              "      <th>5501</th>\n",
              "      <td>4e765abd-8289-4b3c-aa0a-1f2b5eb209d4</td>\n",
              "      <td>a7b1404e-a688-4909-96e8-784580048e33.png</td>\n",
              "      <td>dd81b5a9-5b8a-4f6f-a7cb-458915dbcf54.png</td>\n",
              "      <td>3d3b2295-e846-44a4-acc4-668733395171.png</td>\n",
              "      <td>98</td>\n",
              "    </tr>\n",
              "  </tbody>\n",
              "</table>\n",
              "<p>47730 rows × 5 columns</p>\n",
              "</div>"
            ],
            "text/plain": [
              "                                        id  ... predict\n",
              "0     7c5fda39-c4a6-4d49-a0f6-751c7cd72bb4  ...       9\n",
              "1     7e15ec1b-fe36-4a9e-a1cd-7c160e6a1b9c  ...       9\n",
              "2     96b5d8b6-61cd-49f2-b22f-16fe25483cbc  ...       9\n",
              "3     84ce5493-7e0f-4aee-8bb7-f799d714b5b3  ...       4\n",
              "4     7cb117e7-d8f3-400b-aeb3-a84fa3fb54e8  ...       4\n",
              "...                                    ...  ...     ...\n",
              "4914  1b3f8298-c6c2-439c-b396-10f8e36e2089  ...      98\n",
              "4914  1b3f8298-c6c2-439c-b396-10f8e36e2089  ...      98\n",
              "4914  1b3f8298-c6c2-439c-b396-10f8e36e2089  ...      98\n",
              "4914  1b3f8298-c6c2-439c-b396-10f8e36e2089  ...      98\n",
              "5501  4e765abd-8289-4b3c-aa0a-1f2b5eb209d4  ...      98\n",
              "\n",
              "[47730 rows x 5 columns]"
            ]
          },
          "metadata": {
            "tags": []
          },
          "execution_count": 33
        }
      ]
    },
    {
      "cell_type": "code",
      "metadata": {
        "id": "0v-6GrmjcT45"
      },
      "source": [
        "df_upsampled = df_upsampled.rename(columns={\"id\": \"ID\"})"
      ],
      "execution_count": null,
      "outputs": []
    },
    {
      "cell_type": "code",
      "metadata": {
        "id": "zC4yqERUcWBK",
        "outputId": "c4847b8d-2eaf-4578-dade-29ee550e4fc7",
        "colab": {
          "base_uri": "https://localhost:8080/",
          "height": 118
        }
      },
      "source": [
        "df_upsampled.isna().sum()"
      ],
      "execution_count": null,
      "outputs": [
        {
          "output_type": "execute_result",
          "data": {
            "text/plain": [
              "ID             0\n",
              "feature1    1520\n",
              "feature2       0\n",
              "feature3       0\n",
              "predict        0\n",
              "dtype: int64"
            ]
          },
          "metadata": {
            "tags": []
          },
          "execution_count": 35
        }
      ]
    },
    {
      "cell_type": "code",
      "metadata": {
        "id": "K4xMUzgvcYT0"
      },
      "source": [
        "merg_data = pd.merge(df_upsampled, df_map_unique, left_on='feature1',right_on='id',how='left')\n",
        "merg_data = pd.merge(merg_data, df_map_unique, left_on='feature2',right_on='id',how='left')\n",
        "merg_data = pd.merge(merg_data, df_map_unique, left_on='feature3',right_on='id',how='left')"
      ],
      "execution_count": null,
      "outputs": []
    },
    {
      "cell_type": "code",
      "metadata": {
        "id": "WELnCBz-cZ7x",
        "outputId": "4552f7f5-4b21-4868-d271-d6693f585892",
        "colab": {
          "base_uri": "https://localhost:8080/",
          "height": 926
        }
      },
      "source": [
        "merg_data"
      ],
      "execution_count": null,
      "outputs": [
        {
          "output_type": "execute_result",
          "data": {
            "text/html": [
              "<div>\n",
              "<style scoped>\n",
              "    .dataframe tbody tr th:only-of-type {\n",
              "        vertical-align: middle;\n",
              "    }\n",
              "\n",
              "    .dataframe tbody tr th {\n",
              "        vertical-align: top;\n",
              "    }\n",
              "\n",
              "    .dataframe thead th {\n",
              "        text-align: right;\n",
              "    }\n",
              "</style>\n",
              "<table border=\"1\" class=\"dataframe\">\n",
              "  <thead>\n",
              "    <tr style=\"text-align: right;\">\n",
              "      <th></th>\n",
              "      <th>ID</th>\n",
              "      <th>feature1</th>\n",
              "      <th>feature2</th>\n",
              "      <th>feature3</th>\n",
              "      <th>predict</th>\n",
              "      <th>id_x</th>\n",
              "      <th>category_x</th>\n",
              "      <th>id_y</th>\n",
              "      <th>category_y</th>\n",
              "      <th>id</th>\n",
              "      <th>category</th>\n",
              "    </tr>\n",
              "  </thead>\n",
              "  <tbody>\n",
              "    <tr>\n",
              "      <th>0</th>\n",
              "      <td>7c5fda39-c4a6-4d49-a0f6-751c7cd72bb4</td>\n",
              "      <td>NaN</td>\n",
              "      <td>75606737-d17d-43eb-86e6-6735b6f45a52.png</td>\n",
              "      <td>800e3baf-9ab1-48c0-a9ce-46c5fac9ff69.png</td>\n",
              "      <td>9</td>\n",
              "      <td>NaN</td>\n",
              "      <td>NaN</td>\n",
              "      <td>75606737-d17d-43eb-86e6-6735b6f45a52.png</td>\n",
              "      <td>8</td>\n",
              "      <td>800e3baf-9ab1-48c0-a9ce-46c5fac9ff69.png</td>\n",
              "      <td>1</td>\n",
              "    </tr>\n",
              "    <tr>\n",
              "      <th>1</th>\n",
              "      <td>7e15ec1b-fe36-4a9e-a1cd-7c160e6a1b9c</td>\n",
              "      <td>NaN</td>\n",
              "      <td>75606737-d17d-43eb-86e6-6735b6f45a52.png</td>\n",
              "      <td>800e3baf-9ab1-48c0-a9ce-46c5fac9ff69.png</td>\n",
              "      <td>9</td>\n",
              "      <td>NaN</td>\n",
              "      <td>NaN</td>\n",
              "      <td>75606737-d17d-43eb-86e6-6735b6f45a52.png</td>\n",
              "      <td>8</td>\n",
              "      <td>800e3baf-9ab1-48c0-a9ce-46c5fac9ff69.png</td>\n",
              "      <td>1</td>\n",
              "    </tr>\n",
              "    <tr>\n",
              "      <th>2</th>\n",
              "      <td>96b5d8b6-61cd-49f2-b22f-16fe25483cbc</td>\n",
              "      <td>NaN</td>\n",
              "      <td>75606737-d17d-43eb-86e6-6735b6f45a52.png</td>\n",
              "      <td>800e3baf-9ab1-48c0-a9ce-46c5fac9ff69.png</td>\n",
              "      <td>9</td>\n",
              "      <td>NaN</td>\n",
              "      <td>NaN</td>\n",
              "      <td>75606737-d17d-43eb-86e6-6735b6f45a52.png</td>\n",
              "      <td>8</td>\n",
              "      <td>800e3baf-9ab1-48c0-a9ce-46c5fac9ff69.png</td>\n",
              "      <td>1</td>\n",
              "    </tr>\n",
              "    <tr>\n",
              "      <th>3</th>\n",
              "      <td>84ce5493-7e0f-4aee-8bb7-f799d714b5b3</td>\n",
              "      <td>NaN</td>\n",
              "      <td>c40b7fc4-07f1-4c78-abac-121bde38e267.png</td>\n",
              "      <td>1b2e1b3d-46f2-4c3f-b741-a8d5099ce710.png</td>\n",
              "      <td>4</td>\n",
              "      <td>NaN</td>\n",
              "      <td>NaN</td>\n",
              "      <td>c40b7fc4-07f1-4c78-abac-121bde38e267.png</td>\n",
              "      <td>0</td>\n",
              "      <td>1b2e1b3d-46f2-4c3f-b741-a8d5099ce710.png</td>\n",
              "      <td>4</td>\n",
              "    </tr>\n",
              "    <tr>\n",
              "      <th>4</th>\n",
              "      <td>7cb117e7-d8f3-400b-aeb3-a84fa3fb54e8</td>\n",
              "      <td>NaN</td>\n",
              "      <td>c40b7fc4-07f1-4c78-abac-121bde38e267.png</td>\n",
              "      <td>1b2e1b3d-46f2-4c3f-b741-a8d5099ce710.png</td>\n",
              "      <td>4</td>\n",
              "      <td>NaN</td>\n",
              "      <td>NaN</td>\n",
              "      <td>c40b7fc4-07f1-4c78-abac-121bde38e267.png</td>\n",
              "      <td>0</td>\n",
              "      <td>1b2e1b3d-46f2-4c3f-b741-a8d5099ce710.png</td>\n",
              "      <td>4</td>\n",
              "    </tr>\n",
              "    <tr>\n",
              "      <th>...</th>\n",
              "      <td>...</td>\n",
              "      <td>...</td>\n",
              "      <td>...</td>\n",
              "      <td>...</td>\n",
              "      <td>...</td>\n",
              "      <td>...</td>\n",
              "      <td>...</td>\n",
              "      <td>...</td>\n",
              "      <td>...</td>\n",
              "      <td>...</td>\n",
              "      <td>...</td>\n",
              "    </tr>\n",
              "    <tr>\n",
              "      <th>47725</th>\n",
              "      <td>1b3f8298-c6c2-439c-b396-10f8e36e2089</td>\n",
              "      <td>24a5e71c-bc34-4adb-8c76-160b2c990989.png</td>\n",
              "      <td>a199c672-1f2b-4c31-a2f1-e94814bd5e05.png</td>\n",
              "      <td>0b2ee805-9264-464b-b586-1daec3bb52e9.png</td>\n",
              "      <td>98</td>\n",
              "      <td>24a5e71c-bc34-4adb-8c76-160b2c990989.png</td>\n",
              "      <td>8.0</td>\n",
              "      <td>a199c672-1f2b-4c31-a2f1-e94814bd5e05.png</td>\n",
              "      <td>4</td>\n",
              "      <td>0b2ee805-9264-464b-b586-1daec3bb52e9.png</td>\n",
              "      <td>5</td>\n",
              "    </tr>\n",
              "    <tr>\n",
              "      <th>47726</th>\n",
              "      <td>1b3f8298-c6c2-439c-b396-10f8e36e2089</td>\n",
              "      <td>24a5e71c-bc34-4adb-8c76-160b2c990989.png</td>\n",
              "      <td>a199c672-1f2b-4c31-a2f1-e94814bd5e05.png</td>\n",
              "      <td>0b2ee805-9264-464b-b586-1daec3bb52e9.png</td>\n",
              "      <td>98</td>\n",
              "      <td>24a5e71c-bc34-4adb-8c76-160b2c990989.png</td>\n",
              "      <td>8.0</td>\n",
              "      <td>a199c672-1f2b-4c31-a2f1-e94814bd5e05.png</td>\n",
              "      <td>4</td>\n",
              "      <td>0b2ee805-9264-464b-b586-1daec3bb52e9.png</td>\n",
              "      <td>5</td>\n",
              "    </tr>\n",
              "    <tr>\n",
              "      <th>47727</th>\n",
              "      <td>1b3f8298-c6c2-439c-b396-10f8e36e2089</td>\n",
              "      <td>24a5e71c-bc34-4adb-8c76-160b2c990989.png</td>\n",
              "      <td>a199c672-1f2b-4c31-a2f1-e94814bd5e05.png</td>\n",
              "      <td>0b2ee805-9264-464b-b586-1daec3bb52e9.png</td>\n",
              "      <td>98</td>\n",
              "      <td>24a5e71c-bc34-4adb-8c76-160b2c990989.png</td>\n",
              "      <td>8.0</td>\n",
              "      <td>a199c672-1f2b-4c31-a2f1-e94814bd5e05.png</td>\n",
              "      <td>4</td>\n",
              "      <td>0b2ee805-9264-464b-b586-1daec3bb52e9.png</td>\n",
              "      <td>5</td>\n",
              "    </tr>\n",
              "    <tr>\n",
              "      <th>47728</th>\n",
              "      <td>1b3f8298-c6c2-439c-b396-10f8e36e2089</td>\n",
              "      <td>24a5e71c-bc34-4adb-8c76-160b2c990989.png</td>\n",
              "      <td>a199c672-1f2b-4c31-a2f1-e94814bd5e05.png</td>\n",
              "      <td>0b2ee805-9264-464b-b586-1daec3bb52e9.png</td>\n",
              "      <td>98</td>\n",
              "      <td>24a5e71c-bc34-4adb-8c76-160b2c990989.png</td>\n",
              "      <td>8.0</td>\n",
              "      <td>a199c672-1f2b-4c31-a2f1-e94814bd5e05.png</td>\n",
              "      <td>4</td>\n",
              "      <td>0b2ee805-9264-464b-b586-1daec3bb52e9.png</td>\n",
              "      <td>5</td>\n",
              "    </tr>\n",
              "    <tr>\n",
              "      <th>47729</th>\n",
              "      <td>4e765abd-8289-4b3c-aa0a-1f2b5eb209d4</td>\n",
              "      <td>a7b1404e-a688-4909-96e8-784580048e33.png</td>\n",
              "      <td>dd81b5a9-5b8a-4f6f-a7cb-458915dbcf54.png</td>\n",
              "      <td>3d3b2295-e846-44a4-acc4-668733395171.png</td>\n",
              "      <td>98</td>\n",
              "      <td>a7b1404e-a688-4909-96e8-784580048e33.png</td>\n",
              "      <td>8.0</td>\n",
              "      <td>dd81b5a9-5b8a-4f6f-a7cb-458915dbcf54.png</td>\n",
              "      <td>4</td>\n",
              "      <td>3d3b2295-e846-44a4-acc4-668733395171.png</td>\n",
              "      <td>5</td>\n",
              "    </tr>\n",
              "  </tbody>\n",
              "</table>\n",
              "<p>47730 rows × 11 columns</p>\n",
              "</div>"
            ],
            "text/plain": [
              "                                         ID  ... category\n",
              "0      7c5fda39-c4a6-4d49-a0f6-751c7cd72bb4  ...        1\n",
              "1      7e15ec1b-fe36-4a9e-a1cd-7c160e6a1b9c  ...        1\n",
              "2      96b5d8b6-61cd-49f2-b22f-16fe25483cbc  ...        1\n",
              "3      84ce5493-7e0f-4aee-8bb7-f799d714b5b3  ...        4\n",
              "4      7cb117e7-d8f3-400b-aeb3-a84fa3fb54e8  ...        4\n",
              "...                                     ...  ...      ...\n",
              "47725  1b3f8298-c6c2-439c-b396-10f8e36e2089  ...        5\n",
              "47726  1b3f8298-c6c2-439c-b396-10f8e36e2089  ...        5\n",
              "47727  1b3f8298-c6c2-439c-b396-10f8e36e2089  ...        5\n",
              "47728  1b3f8298-c6c2-439c-b396-10f8e36e2089  ...        5\n",
              "47729  4e765abd-8289-4b3c-aa0a-1f2b5eb209d4  ...        5\n",
              "\n",
              "[47730 rows x 11 columns]"
            ]
          },
          "metadata": {
            "tags": []
          },
          "execution_count": 37
        }
      ]
    },
    {
      "cell_type": "code",
      "metadata": {
        "id": "CzpTI_-Xcbw5"
      },
      "source": [
        "df_drop = merg_data.drop(['feature1','feature2','feature3','id_x','id_y','id'],axis=1)"
      ],
      "execution_count": null,
      "outputs": []
    },
    {
      "cell_type": "code",
      "metadata": {
        "id": "pNnov2HGcdEx",
        "outputId": "c611646d-1c6f-4a19-972c-ca97c8740e9e",
        "colab": {
          "base_uri": "https://localhost:8080/",
          "height": 402
        }
      },
      "source": [
        "df_drop"
      ],
      "execution_count": null,
      "outputs": [
        {
          "output_type": "execute_result",
          "data": {
            "text/html": [
              "<div>\n",
              "<style scoped>\n",
              "    .dataframe tbody tr th:only-of-type {\n",
              "        vertical-align: middle;\n",
              "    }\n",
              "\n",
              "    .dataframe tbody tr th {\n",
              "        vertical-align: top;\n",
              "    }\n",
              "\n",
              "    .dataframe thead th {\n",
              "        text-align: right;\n",
              "    }\n",
              "</style>\n",
              "<table border=\"1\" class=\"dataframe\">\n",
              "  <thead>\n",
              "    <tr style=\"text-align: right;\">\n",
              "      <th></th>\n",
              "      <th>ID</th>\n",
              "      <th>predict</th>\n",
              "      <th>category_x</th>\n",
              "      <th>category_y</th>\n",
              "      <th>category</th>\n",
              "    </tr>\n",
              "  </thead>\n",
              "  <tbody>\n",
              "    <tr>\n",
              "      <th>0</th>\n",
              "      <td>7c5fda39-c4a6-4d49-a0f6-751c7cd72bb4</td>\n",
              "      <td>9</td>\n",
              "      <td>NaN</td>\n",
              "      <td>8</td>\n",
              "      <td>1</td>\n",
              "    </tr>\n",
              "    <tr>\n",
              "      <th>1</th>\n",
              "      <td>7e15ec1b-fe36-4a9e-a1cd-7c160e6a1b9c</td>\n",
              "      <td>9</td>\n",
              "      <td>NaN</td>\n",
              "      <td>8</td>\n",
              "      <td>1</td>\n",
              "    </tr>\n",
              "    <tr>\n",
              "      <th>2</th>\n",
              "      <td>96b5d8b6-61cd-49f2-b22f-16fe25483cbc</td>\n",
              "      <td>9</td>\n",
              "      <td>NaN</td>\n",
              "      <td>8</td>\n",
              "      <td>1</td>\n",
              "    </tr>\n",
              "    <tr>\n",
              "      <th>3</th>\n",
              "      <td>84ce5493-7e0f-4aee-8bb7-f799d714b5b3</td>\n",
              "      <td>4</td>\n",
              "      <td>NaN</td>\n",
              "      <td>0</td>\n",
              "      <td>4</td>\n",
              "    </tr>\n",
              "    <tr>\n",
              "      <th>4</th>\n",
              "      <td>7cb117e7-d8f3-400b-aeb3-a84fa3fb54e8</td>\n",
              "      <td>4</td>\n",
              "      <td>NaN</td>\n",
              "      <td>0</td>\n",
              "      <td>4</td>\n",
              "    </tr>\n",
              "    <tr>\n",
              "      <th>...</th>\n",
              "      <td>...</td>\n",
              "      <td>...</td>\n",
              "      <td>...</td>\n",
              "      <td>...</td>\n",
              "      <td>...</td>\n",
              "    </tr>\n",
              "    <tr>\n",
              "      <th>47725</th>\n",
              "      <td>1b3f8298-c6c2-439c-b396-10f8e36e2089</td>\n",
              "      <td>98</td>\n",
              "      <td>8.0</td>\n",
              "      <td>4</td>\n",
              "      <td>5</td>\n",
              "    </tr>\n",
              "    <tr>\n",
              "      <th>47726</th>\n",
              "      <td>1b3f8298-c6c2-439c-b396-10f8e36e2089</td>\n",
              "      <td>98</td>\n",
              "      <td>8.0</td>\n",
              "      <td>4</td>\n",
              "      <td>5</td>\n",
              "    </tr>\n",
              "    <tr>\n",
              "      <th>47727</th>\n",
              "      <td>1b3f8298-c6c2-439c-b396-10f8e36e2089</td>\n",
              "      <td>98</td>\n",
              "      <td>8.0</td>\n",
              "      <td>4</td>\n",
              "      <td>5</td>\n",
              "    </tr>\n",
              "    <tr>\n",
              "      <th>47728</th>\n",
              "      <td>1b3f8298-c6c2-439c-b396-10f8e36e2089</td>\n",
              "      <td>98</td>\n",
              "      <td>8.0</td>\n",
              "      <td>4</td>\n",
              "      <td>5</td>\n",
              "    </tr>\n",
              "    <tr>\n",
              "      <th>47729</th>\n",
              "      <td>4e765abd-8289-4b3c-aa0a-1f2b5eb209d4</td>\n",
              "      <td>98</td>\n",
              "      <td>8.0</td>\n",
              "      <td>4</td>\n",
              "      <td>5</td>\n",
              "    </tr>\n",
              "  </tbody>\n",
              "</table>\n",
              "<p>47730 rows × 5 columns</p>\n",
              "</div>"
            ],
            "text/plain": [
              "                                         ID  predict  ...  category_y  category\n",
              "0      7c5fda39-c4a6-4d49-a0f6-751c7cd72bb4        9  ...           8         1\n",
              "1      7e15ec1b-fe36-4a9e-a1cd-7c160e6a1b9c        9  ...           8         1\n",
              "2      96b5d8b6-61cd-49f2-b22f-16fe25483cbc        9  ...           8         1\n",
              "3      84ce5493-7e0f-4aee-8bb7-f799d714b5b3        4  ...           0         4\n",
              "4      7cb117e7-d8f3-400b-aeb3-a84fa3fb54e8        4  ...           0         4\n",
              "...                                     ...      ...  ...         ...       ...\n",
              "47725  1b3f8298-c6c2-439c-b396-10f8e36e2089       98  ...           4         5\n",
              "47726  1b3f8298-c6c2-439c-b396-10f8e36e2089       98  ...           4         5\n",
              "47727  1b3f8298-c6c2-439c-b396-10f8e36e2089       98  ...           4         5\n",
              "47728  1b3f8298-c6c2-439c-b396-10f8e36e2089       98  ...           4         5\n",
              "47729  4e765abd-8289-4b3c-aa0a-1f2b5eb209d4       98  ...           4         5\n",
              "\n",
              "[47730 rows x 5 columns]"
            ]
          },
          "metadata": {
            "tags": []
          },
          "execution_count": 39
        }
      ]
    },
    {
      "cell_type": "code",
      "metadata": {
        "id": "3WKsi6YBcepZ"
      },
      "source": [
        "df_drop = df_drop.rename(columns={\"category_x\": \"feature1\",\"category_y\":\"feature2\",\"category\":\"feature3\"})"
      ],
      "execution_count": null,
      "outputs": []
    },
    {
      "cell_type": "code",
      "metadata": {
        "id": "QQa4tIs-cf_z",
        "outputId": "926c517b-f2cb-463d-a806-41aa5181c696",
        "colab": {
          "base_uri": "https://localhost:8080/",
          "height": 252
        }
      },
      "source": [
        "df_drop.head"
      ],
      "execution_count": null,
      "outputs": [
        {
          "output_type": "execute_result",
          "data": {
            "text/plain": [
              "<bound method NDFrame.head of                                          ID  predict  ...  feature2  feature3\n",
              "0      7c5fda39-c4a6-4d49-a0f6-751c7cd72bb4        9  ...         8         1\n",
              "1      7e15ec1b-fe36-4a9e-a1cd-7c160e6a1b9c        9  ...         8         1\n",
              "2      96b5d8b6-61cd-49f2-b22f-16fe25483cbc        9  ...         8         1\n",
              "3      84ce5493-7e0f-4aee-8bb7-f799d714b5b3        4  ...         0         4\n",
              "4      7cb117e7-d8f3-400b-aeb3-a84fa3fb54e8        4  ...         0         4\n",
              "...                                     ...      ...  ...       ...       ...\n",
              "47725  1b3f8298-c6c2-439c-b396-10f8e36e2089       98  ...         4         5\n",
              "47726  1b3f8298-c6c2-439c-b396-10f8e36e2089       98  ...         4         5\n",
              "47727  1b3f8298-c6c2-439c-b396-10f8e36e2089       98  ...         4         5\n",
              "47728  1b3f8298-c6c2-439c-b396-10f8e36e2089       98  ...         4         5\n",
              "47729  4e765abd-8289-4b3c-aa0a-1f2b5eb209d4       98  ...         4         5\n",
              "\n",
              "[47730 rows x 5 columns]>"
            ]
          },
          "metadata": {
            "tags": []
          },
          "execution_count": 41
        }
      ]
    },
    {
      "cell_type": "code",
      "metadata": {
        "id": "mVphe--Wchz6",
        "outputId": "6050a10b-a3cf-4553-c68f-384b1547dff9",
        "colab": {
          "base_uri": "https://localhost:8080/",
          "height": 118
        }
      },
      "source": [
        "df_drop.isna().sum()"
      ],
      "execution_count": null,
      "outputs": [
        {
          "output_type": "execute_result",
          "data": {
            "text/plain": [
              "ID             0\n",
              "predict        0\n",
              "feature1    1520\n",
              "feature2       0\n",
              "feature3       0\n",
              "dtype: int64"
            ]
          },
          "metadata": {
            "tags": []
          },
          "execution_count": 42
        }
      ]
    },
    {
      "cell_type": "code",
      "metadata": {
        "id": "Ucscz40icjfr"
      },
      "source": [
        "df_drop.fillna(-1,inplace=True)"
      ],
      "execution_count": null,
      "outputs": []
    },
    {
      "cell_type": "code",
      "metadata": {
        "id": "9TAf9Zuick4s",
        "outputId": "454a6fdf-e094-4d84-b084-d86b741e9a11",
        "colab": {
          "base_uri": "https://localhost:8080/",
          "height": 118
        }
      },
      "source": [
        "df_drop.isna().sum()"
      ],
      "execution_count": null,
      "outputs": [
        {
          "output_type": "execute_result",
          "data": {
            "text/plain": [
              "ID          0\n",
              "predict     0\n",
              "feature1    0\n",
              "feature2    0\n",
              "feature3    0\n",
              "dtype: int64"
            ]
          },
          "metadata": {
            "tags": []
          },
          "execution_count": 44
        }
      ]
    },
    {
      "cell_type": "code",
      "metadata": {
        "id": "DXJTdyd7cms4",
        "outputId": "4dd94589-80a3-4055-f045-3f9ba5cd6130",
        "colab": {
          "base_uri": "https://localhost:8080/",
          "height": 402
        }
      },
      "source": [
        "df_drop"
      ],
      "execution_count": null,
      "outputs": [
        {
          "output_type": "execute_result",
          "data": {
            "text/html": [
              "<div>\n",
              "<style scoped>\n",
              "    .dataframe tbody tr th:only-of-type {\n",
              "        vertical-align: middle;\n",
              "    }\n",
              "\n",
              "    .dataframe tbody tr th {\n",
              "        vertical-align: top;\n",
              "    }\n",
              "\n",
              "    .dataframe thead th {\n",
              "        text-align: right;\n",
              "    }\n",
              "</style>\n",
              "<table border=\"1\" class=\"dataframe\">\n",
              "  <thead>\n",
              "    <tr style=\"text-align: right;\">\n",
              "      <th></th>\n",
              "      <th>ID</th>\n",
              "      <th>predict</th>\n",
              "      <th>feature1</th>\n",
              "      <th>feature2</th>\n",
              "      <th>feature3</th>\n",
              "    </tr>\n",
              "  </thead>\n",
              "  <tbody>\n",
              "    <tr>\n",
              "      <th>0</th>\n",
              "      <td>7c5fda39-c4a6-4d49-a0f6-751c7cd72bb4</td>\n",
              "      <td>9</td>\n",
              "      <td>-1.0</td>\n",
              "      <td>8</td>\n",
              "      <td>1</td>\n",
              "    </tr>\n",
              "    <tr>\n",
              "      <th>1</th>\n",
              "      <td>7e15ec1b-fe36-4a9e-a1cd-7c160e6a1b9c</td>\n",
              "      <td>9</td>\n",
              "      <td>-1.0</td>\n",
              "      <td>8</td>\n",
              "      <td>1</td>\n",
              "    </tr>\n",
              "    <tr>\n",
              "      <th>2</th>\n",
              "      <td>96b5d8b6-61cd-49f2-b22f-16fe25483cbc</td>\n",
              "      <td>9</td>\n",
              "      <td>-1.0</td>\n",
              "      <td>8</td>\n",
              "      <td>1</td>\n",
              "    </tr>\n",
              "    <tr>\n",
              "      <th>3</th>\n",
              "      <td>84ce5493-7e0f-4aee-8bb7-f799d714b5b3</td>\n",
              "      <td>4</td>\n",
              "      <td>-1.0</td>\n",
              "      <td>0</td>\n",
              "      <td>4</td>\n",
              "    </tr>\n",
              "    <tr>\n",
              "      <th>4</th>\n",
              "      <td>7cb117e7-d8f3-400b-aeb3-a84fa3fb54e8</td>\n",
              "      <td>4</td>\n",
              "      <td>-1.0</td>\n",
              "      <td>0</td>\n",
              "      <td>4</td>\n",
              "    </tr>\n",
              "    <tr>\n",
              "      <th>...</th>\n",
              "      <td>...</td>\n",
              "      <td>...</td>\n",
              "      <td>...</td>\n",
              "      <td>...</td>\n",
              "      <td>...</td>\n",
              "    </tr>\n",
              "    <tr>\n",
              "      <th>47725</th>\n",
              "      <td>1b3f8298-c6c2-439c-b396-10f8e36e2089</td>\n",
              "      <td>98</td>\n",
              "      <td>8.0</td>\n",
              "      <td>4</td>\n",
              "      <td>5</td>\n",
              "    </tr>\n",
              "    <tr>\n",
              "      <th>47726</th>\n",
              "      <td>1b3f8298-c6c2-439c-b396-10f8e36e2089</td>\n",
              "      <td>98</td>\n",
              "      <td>8.0</td>\n",
              "      <td>4</td>\n",
              "      <td>5</td>\n",
              "    </tr>\n",
              "    <tr>\n",
              "      <th>47727</th>\n",
              "      <td>1b3f8298-c6c2-439c-b396-10f8e36e2089</td>\n",
              "      <td>98</td>\n",
              "      <td>8.0</td>\n",
              "      <td>4</td>\n",
              "      <td>5</td>\n",
              "    </tr>\n",
              "    <tr>\n",
              "      <th>47728</th>\n",
              "      <td>1b3f8298-c6c2-439c-b396-10f8e36e2089</td>\n",
              "      <td>98</td>\n",
              "      <td>8.0</td>\n",
              "      <td>4</td>\n",
              "      <td>5</td>\n",
              "    </tr>\n",
              "    <tr>\n",
              "      <th>47729</th>\n",
              "      <td>4e765abd-8289-4b3c-aa0a-1f2b5eb209d4</td>\n",
              "      <td>98</td>\n",
              "      <td>8.0</td>\n",
              "      <td>4</td>\n",
              "      <td>5</td>\n",
              "    </tr>\n",
              "  </tbody>\n",
              "</table>\n",
              "<p>47730 rows × 5 columns</p>\n",
              "</div>"
            ],
            "text/plain": [
              "                                         ID  predict  ...  feature2  feature3\n",
              "0      7c5fda39-c4a6-4d49-a0f6-751c7cd72bb4        9  ...         8         1\n",
              "1      7e15ec1b-fe36-4a9e-a1cd-7c160e6a1b9c        9  ...         8         1\n",
              "2      96b5d8b6-61cd-49f2-b22f-16fe25483cbc        9  ...         8         1\n",
              "3      84ce5493-7e0f-4aee-8bb7-f799d714b5b3        4  ...         0         4\n",
              "4      7cb117e7-d8f3-400b-aeb3-a84fa3fb54e8        4  ...         0         4\n",
              "...                                     ...      ...  ...       ...       ...\n",
              "47725  1b3f8298-c6c2-439c-b396-10f8e36e2089       98  ...         4         5\n",
              "47726  1b3f8298-c6c2-439c-b396-10f8e36e2089       98  ...         4         5\n",
              "47727  1b3f8298-c6c2-439c-b396-10f8e36e2089       98  ...         4         5\n",
              "47728  1b3f8298-c6c2-439c-b396-10f8e36e2089       98  ...         4         5\n",
              "47729  4e765abd-8289-4b3c-aa0a-1f2b5eb209d4       98  ...         4         5\n",
              "\n",
              "[47730 rows x 5 columns]"
            ]
          },
          "metadata": {
            "tags": []
          },
          "execution_count": 45
        }
      ]
    },
    {
      "cell_type": "code",
      "metadata": {
        "id": "iohzVADXcoGZ",
        "outputId": "6ef51afb-2d97-4abd-8bae-cba5692dd6e5",
        "colab": {
          "base_uri": "https://localhost:8080/",
          "height": 218
        }
      },
      "source": [
        "df_drop.info()"
      ],
      "execution_count": null,
      "outputs": [
        {
          "output_type": "stream",
          "text": [
            "<class 'pandas.core.frame.DataFrame'>\n",
            "Int64Index: 47730 entries, 0 to 47729\n",
            "Data columns (total 5 columns):\n",
            " #   Column    Non-Null Count  Dtype  \n",
            "---  ------    --------------  -----  \n",
            " 0   ID        47730 non-null  object \n",
            " 1   predict   47730 non-null  int64  \n",
            " 2   feature1  47730 non-null  float64\n",
            " 3   feature2  47730 non-null  int64  \n",
            " 4   feature3  47730 non-null  int64  \n",
            "dtypes: float64(1), int64(3), object(1)\n",
            "memory usage: 2.2+ MB\n"
          ],
          "name": "stdout"
        }
      ]
    },
    {
      "cell_type": "code",
      "metadata": {
        "id": "GvRvbTBtcqCx",
        "outputId": "21e0b763-3046-436c-b110-814b7a6f51f6",
        "colab": {
          "base_uri": "https://localhost:8080/",
          "height": 1000
        }
      },
      "source": [
        "sns.pairplot(df_drop,hue='predict',vars=['predict','feature1','feature2','feature3'])"
      ],
      "execution_count": null,
      "outputs": [
        {
          "output_type": "stream",
          "text": [
            "/usr/local/lib/python3.6/dist-packages/seaborn/distributions.py:305: UserWarning: Dataset has 0 variance; skipping density estimate.\n",
            "  warnings.warn(msg, UserWarning)\n",
            "/usr/local/lib/python3.6/dist-packages/seaborn/distributions.py:305: UserWarning: Dataset has 0 variance; skipping density estimate.\n",
            "  warnings.warn(msg, UserWarning)\n",
            "/usr/local/lib/python3.6/dist-packages/seaborn/distributions.py:305: UserWarning: Dataset has 0 variance; skipping density estimate.\n",
            "  warnings.warn(msg, UserWarning)\n",
            "/usr/local/lib/python3.6/dist-packages/seaborn/distributions.py:305: UserWarning: Dataset has 0 variance; skipping density estimate.\n",
            "  warnings.warn(msg, UserWarning)\n",
            "/usr/local/lib/python3.6/dist-packages/seaborn/distributions.py:305: UserWarning: Dataset has 0 variance; skipping density estimate.\n",
            "  warnings.warn(msg, UserWarning)\n",
            "/usr/local/lib/python3.6/dist-packages/seaborn/distributions.py:305: UserWarning: Dataset has 0 variance; skipping density estimate.\n",
            "  warnings.warn(msg, UserWarning)\n",
            "/usr/local/lib/python3.6/dist-packages/seaborn/distributions.py:305: UserWarning: Dataset has 0 variance; skipping density estimate.\n",
            "  warnings.warn(msg, UserWarning)\n",
            "/usr/local/lib/python3.6/dist-packages/seaborn/distributions.py:305: UserWarning: Dataset has 0 variance; skipping density estimate.\n",
            "  warnings.warn(msg, UserWarning)\n",
            "/usr/local/lib/python3.6/dist-packages/seaborn/distributions.py:305: UserWarning: Dataset has 0 variance; skipping density estimate.\n",
            "  warnings.warn(msg, UserWarning)\n",
            "/usr/local/lib/python3.6/dist-packages/seaborn/distributions.py:305: UserWarning: Dataset has 0 variance; skipping density estimate.\n",
            "  warnings.warn(msg, UserWarning)\n",
            "/usr/local/lib/python3.6/dist-packages/seaborn/distributions.py:305: UserWarning: Dataset has 0 variance; skipping density estimate.\n",
            "  warnings.warn(msg, UserWarning)\n",
            "/usr/local/lib/python3.6/dist-packages/seaborn/distributions.py:305: UserWarning: Dataset has 0 variance; skipping density estimate.\n",
            "  warnings.warn(msg, UserWarning)\n",
            "/usr/local/lib/python3.6/dist-packages/seaborn/distributions.py:305: UserWarning: Dataset has 0 variance; skipping density estimate.\n",
            "  warnings.warn(msg, UserWarning)\n",
            "/usr/local/lib/python3.6/dist-packages/seaborn/distributions.py:305: UserWarning: Dataset has 0 variance; skipping density estimate.\n",
            "  warnings.warn(msg, UserWarning)\n",
            "/usr/local/lib/python3.6/dist-packages/seaborn/distributions.py:305: UserWarning: Dataset has 0 variance; skipping density estimate.\n",
            "  warnings.warn(msg, UserWarning)\n",
            "/usr/local/lib/python3.6/dist-packages/seaborn/distributions.py:305: UserWarning: Dataset has 0 variance; skipping density estimate.\n",
            "  warnings.warn(msg, UserWarning)\n",
            "/usr/local/lib/python3.6/dist-packages/seaborn/distributions.py:305: UserWarning: Dataset has 0 variance; skipping density estimate.\n",
            "  warnings.warn(msg, UserWarning)\n",
            "/usr/local/lib/python3.6/dist-packages/seaborn/distributions.py:305: UserWarning: Dataset has 0 variance; skipping density estimate.\n",
            "  warnings.warn(msg, UserWarning)\n",
            "/usr/local/lib/python3.6/dist-packages/seaborn/distributions.py:305: UserWarning: Dataset has 0 variance; skipping density estimate.\n",
            "  warnings.warn(msg, UserWarning)\n",
            "/usr/local/lib/python3.6/dist-packages/seaborn/distributions.py:305: UserWarning: Dataset has 0 variance; skipping density estimate.\n",
            "  warnings.warn(msg, UserWarning)\n",
            "/usr/local/lib/python3.6/dist-packages/seaborn/distributions.py:305: UserWarning: Dataset has 0 variance; skipping density estimate.\n",
            "  warnings.warn(msg, UserWarning)\n",
            "/usr/local/lib/python3.6/dist-packages/seaborn/distributions.py:305: UserWarning: Dataset has 0 variance; skipping density estimate.\n",
            "  warnings.warn(msg, UserWarning)\n",
            "/usr/local/lib/python3.6/dist-packages/seaborn/distributions.py:305: UserWarning: Dataset has 0 variance; skipping density estimate.\n",
            "  warnings.warn(msg, UserWarning)\n",
            "/usr/local/lib/python3.6/dist-packages/seaborn/distributions.py:305: UserWarning: Dataset has 0 variance; skipping density estimate.\n",
            "  warnings.warn(msg, UserWarning)\n",
            "/usr/local/lib/python3.6/dist-packages/seaborn/distributions.py:305: UserWarning: Dataset has 0 variance; skipping density estimate.\n",
            "  warnings.warn(msg, UserWarning)\n",
            "/usr/local/lib/python3.6/dist-packages/seaborn/distributions.py:305: UserWarning: Dataset has 0 variance; skipping density estimate.\n",
            "  warnings.warn(msg, UserWarning)\n",
            "/usr/local/lib/python3.6/dist-packages/seaborn/distributions.py:305: UserWarning: Dataset has 0 variance; skipping density estimate.\n",
            "  warnings.warn(msg, UserWarning)\n",
            "/usr/local/lib/python3.6/dist-packages/seaborn/distributions.py:305: UserWarning: Dataset has 0 variance; skipping density estimate.\n",
            "  warnings.warn(msg, UserWarning)\n",
            "/usr/local/lib/python3.6/dist-packages/seaborn/distributions.py:305: UserWarning: Dataset has 0 variance; skipping density estimate.\n",
            "  warnings.warn(msg, UserWarning)\n",
            "/usr/local/lib/python3.6/dist-packages/seaborn/distributions.py:305: UserWarning: Dataset has 0 variance; skipping density estimate.\n",
            "  warnings.warn(msg, UserWarning)\n",
            "/usr/local/lib/python3.6/dist-packages/seaborn/distributions.py:305: UserWarning: Dataset has 0 variance; skipping density estimate.\n",
            "  warnings.warn(msg, UserWarning)\n",
            "/usr/local/lib/python3.6/dist-packages/seaborn/distributions.py:305: UserWarning: Dataset has 0 variance; skipping density estimate.\n",
            "  warnings.warn(msg, UserWarning)\n",
            "/usr/local/lib/python3.6/dist-packages/seaborn/distributions.py:305: UserWarning: Dataset has 0 variance; skipping density estimate.\n",
            "  warnings.warn(msg, UserWarning)\n",
            "/usr/local/lib/python3.6/dist-packages/seaborn/distributions.py:305: UserWarning: Dataset has 0 variance; skipping density estimate.\n",
            "  warnings.warn(msg, UserWarning)\n",
            "/usr/local/lib/python3.6/dist-packages/seaborn/distributions.py:305: UserWarning: Dataset has 0 variance; skipping density estimate.\n",
            "  warnings.warn(msg, UserWarning)\n",
            "/usr/local/lib/python3.6/dist-packages/seaborn/distributions.py:305: UserWarning: Dataset has 0 variance; skipping density estimate.\n",
            "  warnings.warn(msg, UserWarning)\n",
            "/usr/local/lib/python3.6/dist-packages/seaborn/distributions.py:305: UserWarning: Dataset has 0 variance; skipping density estimate.\n",
            "  warnings.warn(msg, UserWarning)\n",
            "/usr/local/lib/python3.6/dist-packages/seaborn/distributions.py:305: UserWarning: Dataset has 0 variance; skipping density estimate.\n",
            "  warnings.warn(msg, UserWarning)\n",
            "/usr/local/lib/python3.6/dist-packages/seaborn/distributions.py:305: UserWarning: Dataset has 0 variance; skipping density estimate.\n",
            "  warnings.warn(msg, UserWarning)\n",
            "/usr/local/lib/python3.6/dist-packages/seaborn/distributions.py:305: UserWarning: Dataset has 0 variance; skipping density estimate.\n",
            "  warnings.warn(msg, UserWarning)\n",
            "/usr/local/lib/python3.6/dist-packages/seaborn/distributions.py:305: UserWarning: Dataset has 0 variance; skipping density estimate.\n",
            "  warnings.warn(msg, UserWarning)\n",
            "/usr/local/lib/python3.6/dist-packages/seaborn/distributions.py:305: UserWarning: Dataset has 0 variance; skipping density estimate.\n",
            "  warnings.warn(msg, UserWarning)\n",
            "/usr/local/lib/python3.6/dist-packages/seaborn/distributions.py:305: UserWarning: Dataset has 0 variance; skipping density estimate.\n",
            "  warnings.warn(msg, UserWarning)\n",
            "/usr/local/lib/python3.6/dist-packages/seaborn/distributions.py:305: UserWarning: Dataset has 0 variance; skipping density estimate.\n",
            "  warnings.warn(msg, UserWarning)\n",
            "/usr/local/lib/python3.6/dist-packages/seaborn/distributions.py:305: UserWarning: Dataset has 0 variance; skipping density estimate.\n",
            "  warnings.warn(msg, UserWarning)\n",
            "/usr/local/lib/python3.6/dist-packages/seaborn/distributions.py:305: UserWarning: Dataset has 0 variance; skipping density estimate.\n",
            "  warnings.warn(msg, UserWarning)\n",
            "/usr/local/lib/python3.6/dist-packages/seaborn/distributions.py:305: UserWarning: Dataset has 0 variance; skipping density estimate.\n",
            "  warnings.warn(msg, UserWarning)\n",
            "/usr/local/lib/python3.6/dist-packages/seaborn/distributions.py:305: UserWarning: Dataset has 0 variance; skipping density estimate.\n",
            "  warnings.warn(msg, UserWarning)\n",
            "/usr/local/lib/python3.6/dist-packages/seaborn/distributions.py:305: UserWarning: Dataset has 0 variance; skipping density estimate.\n",
            "  warnings.warn(msg, UserWarning)\n",
            "/usr/local/lib/python3.6/dist-packages/seaborn/distributions.py:305: UserWarning: Dataset has 0 variance; skipping density estimate.\n",
            "  warnings.warn(msg, UserWarning)\n",
            "/usr/local/lib/python3.6/dist-packages/seaborn/distributions.py:305: UserWarning: Dataset has 0 variance; skipping density estimate.\n",
            "  warnings.warn(msg, UserWarning)\n",
            "/usr/local/lib/python3.6/dist-packages/seaborn/distributions.py:305: UserWarning: Dataset has 0 variance; skipping density estimate.\n",
            "  warnings.warn(msg, UserWarning)\n",
            "/usr/local/lib/python3.6/dist-packages/seaborn/distributions.py:305: UserWarning: Dataset has 0 variance; skipping density estimate.\n",
            "  warnings.warn(msg, UserWarning)\n",
            "/usr/local/lib/python3.6/dist-packages/seaborn/distributions.py:305: UserWarning: Dataset has 0 variance; skipping density estimate.\n",
            "  warnings.warn(msg, UserWarning)\n",
            "/usr/local/lib/python3.6/dist-packages/seaborn/distributions.py:305: UserWarning: Dataset has 0 variance; skipping density estimate.\n",
            "  warnings.warn(msg, UserWarning)\n",
            "/usr/local/lib/python3.6/dist-packages/seaborn/distributions.py:305: UserWarning: Dataset has 0 variance; skipping density estimate.\n",
            "  warnings.warn(msg, UserWarning)\n",
            "/usr/local/lib/python3.6/dist-packages/seaborn/distributions.py:305: UserWarning: Dataset has 0 variance; skipping density estimate.\n",
            "  warnings.warn(msg, UserWarning)\n",
            "/usr/local/lib/python3.6/dist-packages/seaborn/distributions.py:305: UserWarning: Dataset has 0 variance; skipping density estimate.\n",
            "  warnings.warn(msg, UserWarning)\n",
            "/usr/local/lib/python3.6/dist-packages/seaborn/distributions.py:305: UserWarning: Dataset has 0 variance; skipping density estimate.\n",
            "  warnings.warn(msg, UserWarning)\n",
            "/usr/local/lib/python3.6/dist-packages/seaborn/distributions.py:305: UserWarning: Dataset has 0 variance; skipping density estimate.\n",
            "  warnings.warn(msg, UserWarning)\n",
            "/usr/local/lib/python3.6/dist-packages/seaborn/distributions.py:305: UserWarning: Dataset has 0 variance; skipping density estimate.\n",
            "  warnings.warn(msg, UserWarning)\n",
            "/usr/local/lib/python3.6/dist-packages/seaborn/distributions.py:305: UserWarning: Dataset has 0 variance; skipping density estimate.\n",
            "  warnings.warn(msg, UserWarning)\n",
            "/usr/local/lib/python3.6/dist-packages/seaborn/distributions.py:305: UserWarning: Dataset has 0 variance; skipping density estimate.\n",
            "  warnings.warn(msg, UserWarning)\n",
            "/usr/local/lib/python3.6/dist-packages/seaborn/distributions.py:305: UserWarning: Dataset has 0 variance; skipping density estimate.\n",
            "  warnings.warn(msg, UserWarning)\n",
            "/usr/local/lib/python3.6/dist-packages/seaborn/distributions.py:305: UserWarning: Dataset has 0 variance; skipping density estimate.\n",
            "  warnings.warn(msg, UserWarning)\n",
            "/usr/local/lib/python3.6/dist-packages/seaborn/distributions.py:305: UserWarning: Dataset has 0 variance; skipping density estimate.\n",
            "  warnings.warn(msg, UserWarning)\n",
            "/usr/local/lib/python3.6/dist-packages/seaborn/distributions.py:305: UserWarning: Dataset has 0 variance; skipping density estimate.\n",
            "  warnings.warn(msg, UserWarning)\n",
            "/usr/local/lib/python3.6/dist-packages/seaborn/distributions.py:305: UserWarning: Dataset has 0 variance; skipping density estimate.\n",
            "  warnings.warn(msg, UserWarning)\n",
            "/usr/local/lib/python3.6/dist-packages/seaborn/distributions.py:305: UserWarning: Dataset has 0 variance; skipping density estimate.\n",
            "  warnings.warn(msg, UserWarning)\n",
            "/usr/local/lib/python3.6/dist-packages/seaborn/distributions.py:305: UserWarning: Dataset has 0 variance; skipping density estimate.\n",
            "  warnings.warn(msg, UserWarning)\n",
            "/usr/local/lib/python3.6/dist-packages/seaborn/distributions.py:305: UserWarning: Dataset has 0 variance; skipping density estimate.\n",
            "  warnings.warn(msg, UserWarning)\n",
            "/usr/local/lib/python3.6/dist-packages/seaborn/distributions.py:305: UserWarning: Dataset has 0 variance; skipping density estimate.\n",
            "  warnings.warn(msg, UserWarning)\n",
            "/usr/local/lib/python3.6/dist-packages/seaborn/distributions.py:305: UserWarning: Dataset has 0 variance; skipping density estimate.\n",
            "  warnings.warn(msg, UserWarning)\n",
            "/usr/local/lib/python3.6/dist-packages/seaborn/distributions.py:305: UserWarning: Dataset has 0 variance; skipping density estimate.\n",
            "  warnings.warn(msg, UserWarning)\n",
            "/usr/local/lib/python3.6/dist-packages/seaborn/distributions.py:305: UserWarning: Dataset has 0 variance; skipping density estimate.\n",
            "  warnings.warn(msg, UserWarning)\n",
            "/usr/local/lib/python3.6/dist-packages/seaborn/distributions.py:305: UserWarning: Dataset has 0 variance; skipping density estimate.\n",
            "  warnings.warn(msg, UserWarning)\n",
            "/usr/local/lib/python3.6/dist-packages/seaborn/distributions.py:305: UserWarning: Dataset has 0 variance; skipping density estimate.\n",
            "  warnings.warn(msg, UserWarning)\n",
            "/usr/local/lib/python3.6/dist-packages/seaborn/distributions.py:305: UserWarning: Dataset has 0 variance; skipping density estimate.\n",
            "  warnings.warn(msg, UserWarning)\n",
            "/usr/local/lib/python3.6/dist-packages/seaborn/distributions.py:305: UserWarning: Dataset has 0 variance; skipping density estimate.\n",
            "  warnings.warn(msg, UserWarning)\n",
            "/usr/local/lib/python3.6/dist-packages/seaborn/distributions.py:305: UserWarning: Dataset has 0 variance; skipping density estimate.\n",
            "  warnings.warn(msg, UserWarning)\n",
            "/usr/local/lib/python3.6/dist-packages/seaborn/distributions.py:305: UserWarning: Dataset has 0 variance; skipping density estimate.\n",
            "  warnings.warn(msg, UserWarning)\n",
            "/usr/local/lib/python3.6/dist-packages/seaborn/distributions.py:305: UserWarning: Dataset has 0 variance; skipping density estimate.\n",
            "  warnings.warn(msg, UserWarning)\n",
            "/usr/local/lib/python3.6/dist-packages/seaborn/distributions.py:305: UserWarning: Dataset has 0 variance; skipping density estimate.\n",
            "  warnings.warn(msg, UserWarning)\n",
            "/usr/local/lib/python3.6/dist-packages/seaborn/distributions.py:305: UserWarning: Dataset has 0 variance; skipping density estimate.\n",
            "  warnings.warn(msg, UserWarning)\n",
            "/usr/local/lib/python3.6/dist-packages/seaborn/distributions.py:305: UserWarning: Dataset has 0 variance; skipping density estimate.\n",
            "  warnings.warn(msg, UserWarning)\n",
            "/usr/local/lib/python3.6/dist-packages/seaborn/distributions.py:305: UserWarning: Dataset has 0 variance; skipping density estimate.\n",
            "  warnings.warn(msg, UserWarning)\n",
            "/usr/local/lib/python3.6/dist-packages/seaborn/distributions.py:305: UserWarning: Dataset has 0 variance; skipping density estimate.\n",
            "  warnings.warn(msg, UserWarning)\n",
            "/usr/local/lib/python3.6/dist-packages/seaborn/distributions.py:305: UserWarning: Dataset has 0 variance; skipping density estimate.\n",
            "  warnings.warn(msg, UserWarning)\n",
            "/usr/local/lib/python3.6/dist-packages/seaborn/distributions.py:305: UserWarning: Dataset has 0 variance; skipping density estimate.\n",
            "  warnings.warn(msg, UserWarning)\n",
            "/usr/local/lib/python3.6/dist-packages/seaborn/distributions.py:305: UserWarning: Dataset has 0 variance; skipping density estimate.\n",
            "  warnings.warn(msg, UserWarning)\n",
            "/usr/local/lib/python3.6/dist-packages/seaborn/distributions.py:305: UserWarning: Dataset has 0 variance; skipping density estimate.\n",
            "  warnings.warn(msg, UserWarning)\n",
            "/usr/local/lib/python3.6/dist-packages/seaborn/distributions.py:305: UserWarning: Dataset has 0 variance; skipping density estimate.\n",
            "  warnings.warn(msg, UserWarning)\n",
            "/usr/local/lib/python3.6/dist-packages/seaborn/distributions.py:305: UserWarning: Dataset has 0 variance; skipping density estimate.\n",
            "  warnings.warn(msg, UserWarning)\n",
            "/usr/local/lib/python3.6/dist-packages/seaborn/distributions.py:305: UserWarning: Dataset has 0 variance; skipping density estimate.\n",
            "  warnings.warn(msg, UserWarning)\n",
            "/usr/local/lib/python3.6/dist-packages/seaborn/distributions.py:305: UserWarning: Dataset has 0 variance; skipping density estimate.\n",
            "  warnings.warn(msg, UserWarning)\n",
            "/usr/local/lib/python3.6/dist-packages/seaborn/distributions.py:305: UserWarning: Dataset has 0 variance; skipping density estimate.\n",
            "  warnings.warn(msg, UserWarning)\n",
            "/usr/local/lib/python3.6/dist-packages/seaborn/distributions.py:305: UserWarning: Dataset has 0 variance; skipping density estimate.\n",
            "  warnings.warn(msg, UserWarning)\n",
            "/usr/local/lib/python3.6/dist-packages/seaborn/distributions.py:305: UserWarning: Dataset has 0 variance; skipping density estimate.\n",
            "  warnings.warn(msg, UserWarning)\n",
            "/usr/local/lib/python3.6/dist-packages/seaborn/distributions.py:305: UserWarning: Dataset has 0 variance; skipping density estimate.\n",
            "  warnings.warn(msg, UserWarning)\n",
            "/usr/local/lib/python3.6/dist-packages/seaborn/distributions.py:305: UserWarning: Dataset has 0 variance; skipping density estimate.\n",
            "  warnings.warn(msg, UserWarning)\n",
            "/usr/local/lib/python3.6/dist-packages/seaborn/distributions.py:305: UserWarning: Dataset has 0 variance; skipping density estimate.\n",
            "  warnings.warn(msg, UserWarning)\n",
            "/usr/local/lib/python3.6/dist-packages/seaborn/distributions.py:305: UserWarning: Dataset has 0 variance; skipping density estimate.\n",
            "  warnings.warn(msg, UserWarning)\n",
            "/usr/local/lib/python3.6/dist-packages/seaborn/distributions.py:305: UserWarning: Dataset has 0 variance; skipping density estimate.\n",
            "  warnings.warn(msg, UserWarning)\n",
            "/usr/local/lib/python3.6/dist-packages/seaborn/distributions.py:305: UserWarning: Dataset has 0 variance; skipping density estimate.\n",
            "  warnings.warn(msg, UserWarning)\n",
            "/usr/local/lib/python3.6/dist-packages/seaborn/distributions.py:305: UserWarning: Dataset has 0 variance; skipping density estimate.\n",
            "  warnings.warn(msg, UserWarning)\n",
            "/usr/local/lib/python3.6/dist-packages/seaborn/distributions.py:305: UserWarning: Dataset has 0 variance; skipping density estimate.\n",
            "  warnings.warn(msg, UserWarning)\n",
            "/usr/local/lib/python3.6/dist-packages/seaborn/distributions.py:305: UserWarning: Dataset has 0 variance; skipping density estimate.\n",
            "  warnings.warn(msg, UserWarning)\n",
            "/usr/local/lib/python3.6/dist-packages/seaborn/distributions.py:305: UserWarning: Dataset has 0 variance; skipping density estimate.\n",
            "  warnings.warn(msg, UserWarning)\n",
            "/usr/local/lib/python3.6/dist-packages/seaborn/distributions.py:305: UserWarning: Dataset has 0 variance; skipping density estimate.\n",
            "  warnings.warn(msg, UserWarning)\n",
            "/usr/local/lib/python3.6/dist-packages/seaborn/distributions.py:305: UserWarning: Dataset has 0 variance; skipping density estimate.\n",
            "  warnings.warn(msg, UserWarning)\n"
          ],
          "name": "stderr"
        },
        {
          "output_type": "execute_result",
          "data": {
            "text/plain": [
              "<seaborn.axisgrid.PairGrid at 0x7fd3e85ead30>"
            ]
          },
          "metadata": {
            "tags": []
          },
          "execution_count": 47
        },
        {
          "output_type": "display_data",
          "data": {
            "image/png": "[encoded data removed]",
            "text/plain": [
              "<Figure size 768.625x720 with 20 Axes>"
            ]
          },
          "metadata": {
            "tags": [],
            "needs_background": "light"
          }
        }
      ]
    },
    {
      "cell_type": "markdown",
      "metadata": {
        "id": "arJ8qZuScsgp"
      },
      "source": [
        "## Train"
      ]
    },
    {
      "cell_type": "code",
      "metadata": {
        "id": "Z7mPkaUZct15"
      },
      "source": [
        "df_raw = df_drop[:]\n",
        "df_raw = df_raw.sample(frac = 1) "
      ],
      "execution_count": null,
      "outputs": []
    },
    {
      "cell_type": "code",
      "metadata": {
        "id": "Z18TyuuScvi7",
        "outputId": "042cd7cd-9f77-4fed-9151-c6bd6dc5e24b",
        "colab": {
          "base_uri": "https://localhost:8080/",
          "height": 402
        }
      },
      "source": [
        "df_raw[['feature1',\t'feature2'\t,'feature3']]"
      ],
      "execution_count": null,
      "outputs": [
        {
          "output_type": "execute_result",
          "data": {
            "text/html": [
              "<div>\n",
              "<style scoped>\n",
              "    .dataframe tbody tr th:only-of-type {\n",
              "        vertical-align: middle;\n",
              "    }\n",
              "\n",
              "    .dataframe tbody tr th {\n",
              "        vertical-align: top;\n",
              "    }\n",
              "\n",
              "    .dataframe thead th {\n",
              "        text-align: right;\n",
              "    }\n",
              "</style>\n",
              "<table border=\"1\" class=\"dataframe\">\n",
              "  <thead>\n",
              "    <tr style=\"text-align: right;\">\n",
              "      <th></th>\n",
              "      <th>feature1</th>\n",
              "      <th>feature2</th>\n",
              "      <th>feature3</th>\n",
              "    </tr>\n",
              "  </thead>\n",
              "  <tbody>\n",
              "    <tr>\n",
              "      <th>21365</th>\n",
              "      <td>3.0</td>\n",
              "      <td>9</td>\n",
              "      <td>0</td>\n",
              "    </tr>\n",
              "    <tr>\n",
              "      <th>33472</th>\n",
              "      <td>4.0</td>\n",
              "      <td>8</td>\n",
              "      <td>1</td>\n",
              "    </tr>\n",
              "    <tr>\n",
              "      <th>18720</th>\n",
              "      <td>3.0</td>\n",
              "      <td>8</td>\n",
              "      <td>0</td>\n",
              "    </tr>\n",
              "    <tr>\n",
              "      <th>35507</th>\n",
              "      <td>2.0</td>\n",
              "      <td>8</td>\n",
              "      <td>2</td>\n",
              "    </tr>\n",
              "    <tr>\n",
              "      <th>27304</th>\n",
              "      <td>4.0</td>\n",
              "      <td>4</td>\n",
              "      <td>8</td>\n",
              "    </tr>\n",
              "    <tr>\n",
              "      <th>...</th>\n",
              "      <td>...</td>\n",
              "      <td>...</td>\n",
              "      <td>...</td>\n",
              "    </tr>\n",
              "    <tr>\n",
              "      <th>19938</th>\n",
              "      <td>0.0</td>\n",
              "      <td>4</td>\n",
              "      <td>8</td>\n",
              "    </tr>\n",
              "    <tr>\n",
              "      <th>40942</th>\n",
              "      <td>8.0</td>\n",
              "      <td>4</td>\n",
              "      <td>2</td>\n",
              "    </tr>\n",
              "    <tr>\n",
              "      <th>34854</th>\n",
              "      <td>4.0</td>\n",
              "      <td>9</td>\n",
              "      <td>0</td>\n",
              "    </tr>\n",
              "    <tr>\n",
              "      <th>18286</th>\n",
              "      <td>3.0</td>\n",
              "      <td>8</td>\n",
              "      <td>0</td>\n",
              "    </tr>\n",
              "    <tr>\n",
              "      <th>37907</th>\n",
              "      <td>7.0</td>\n",
              "      <td>7</td>\n",
              "      <td>6</td>\n",
              "    </tr>\n",
              "  </tbody>\n",
              "</table>\n",
              "<p>47730 rows × 3 columns</p>\n",
              "</div>"
            ],
            "text/plain": [
              "       feature1  feature2  feature3\n",
              "21365       3.0         9         0\n",
              "33472       4.0         8         1\n",
              "18720       3.0         8         0\n",
              "35507       2.0         8         2\n",
              "27304       4.0         4         8\n",
              "...         ...       ...       ...\n",
              "19938       0.0         4         8\n",
              "40942       8.0         4         2\n",
              "34854       4.0         9         0\n",
              "18286       3.0         8         0\n",
              "37907       7.0         7         6\n",
              "\n",
              "[47730 rows x 3 columns]"
            ]
          },
          "metadata": {
            "tags": []
          },
          "execution_count": 49
        }
      ]
    },
    {
      "cell_type": "code",
      "metadata": {
        "id": "m5PH48_jcyuh"
      },
      "source": [
        "from sklearn.model_selection import KFold\n",
        "import pickle\n",
        "from sklearn.model_selection import train_test_split\n",
        "import numpy as np\n",
        "from sklearn.svm import LinearSVC\n",
        "from sklearn.calibration import CalibratedClassifierCV\n",
        "from sklearn.ensemble import RandomForestClassifier\n",
        "def trainmodel(dataset,num_folds,modfile=''):\n",
        "  trainfeat, testfeat, trainlabel, testlabel = train_test_split(dataset[['feature1',\t'feature2'\t,'feature3']], dataset['predict'], test_size=0.2, random_state=42)\n",
        "  #return trainfeat,testfeat,trainlabel,testlabel\n",
        "  clf=RandomForestClassifier(n_estimators=100,random_state=1234)\n",
        "  \n",
        "  \n",
        "  # Define the K-fold Cross Validator\n",
        "  kfold = KFold(n_splits=num_folds, shuffle=True)\n",
        "  fold_no = 1\n",
        "  for train, test in kfold.split(trainfeat, trainlabel):\n",
        "    mod = clf.fit(np.array(trainfeat.values[train]),np.array(trainlabel.values[train]))\n",
        "    res = mod.predict(np.array(trainfeat.values[test]))\n",
        "    \n",
        "    acc=0\n",
        "    acc = sum(res == trainlabel.values[test])/len(res)\n",
        "    print(f'fold{fold_no} acc:{acc}')\n",
        "    fold_no = fold_no + 1\n",
        "\n",
        "  res = mod.predict(np.array(testfeat.values))  \n",
        "  acc = sum(res == testlabel.values)/len(res)\n",
        "  print(f'acc with test data {acc}')\n",
        "  if modfile!='':\n",
        "      pickle.dump(mod,open(modfile,'wb'))\n",
        "  conf = mod.predict_proba(np.array(testfeat.values))\n",
        "  return mod,acc,conf,testlabel"
      ],
      "execution_count": null,
      "outputs": []
    },
    {
      "cell_type": "code",
      "metadata": {
        "id": "wL-Dvg6Uc0yi",
        "outputId": "95afcf39-b041-4c44-860b-ea88ab242653",
        "colab": {
          "base_uri": "https://localhost:8080/",
          "height": 118
        }
      },
      "source": [
        "mod,acc,conf,testlabel = trainmodel(df_raw,5,'class_model99.mod')"
      ],
      "execution_count": null,
      "outputs": [
        {
          "output_type": "stream",
          "text": [
            "fold1 acc:0.9994762341233469\n",
            "fold2 acc:0.9993452926541836\n",
            "fold3 acc:0.9984287023700406\n",
            "fold4 acc:0.9980358779625508\n",
            "fold5 acc:0.999214248297538\n",
            "acc with test data 0.9989524408129059\n"
          ],
          "name": "stdout"
        }
      ]
    },
    {
      "cell_type": "markdown",
      "metadata": {
        "id": "YVm1_OQnc7P8"
      },
      "source": [
        "# Combine ML"
      ]
    },
    {
      "cell_type": "code",
      "metadata": {
        "id": "r05I6gCJc_y0"
      },
      "source": [
        "with open('class_model.mod', 'rb') as pickle_file:\n",
        "    model_image = pickle.load(pickle_file)\n",
        "\n",
        "with open('class_model99.mod', 'rb') as pickle_file:\n",
        "    model_expression = pickle.load(pickle_file)"
      ],
      "execution_count": null,
      "outputs": []
    },
    {
      "cell_type": "code",
      "metadata": {
        "id": "SGFkeWhKiEh6"
      },
      "source": [
        "df_expression = pd.read_csv('https://raw.githubusercontent.com/CakeNuthep/Super_AI/master/Homework/Week4/thai-mnist-classification/train.rules.csv')"
      ],
      "execution_count": null,
      "outputs": []
    },
    {
      "cell_type": "code",
      "metadata": {
        "id": "mj5yuD2yiRRs",
        "outputId": "8e7de771-de18-4747-ceab-cbf243265f83",
        "colab": {
          "base_uri": "https://localhost:8080/",
          "height": 570
        }
      },
      "source": [
        "df_expression"
      ],
      "execution_count": null,
      "outputs": [
        {
          "output_type": "execute_result",
          "data": {
            "text/html": [
              "<div>\n",
              "<style scoped>\n",
              "    .dataframe tbody tr th:only-of-type {\n",
              "        vertical-align: middle;\n",
              "    }\n",
              "\n",
              "    .dataframe tbody tr th {\n",
              "        vertical-align: top;\n",
              "    }\n",
              "\n",
              "    .dataframe thead th {\n",
              "        text-align: right;\n",
              "    }\n",
              "</style>\n",
              "<table border=\"1\" class=\"dataframe\">\n",
              "  <thead>\n",
              "    <tr style=\"text-align: right;\">\n",
              "      <th></th>\n",
              "      <th>id</th>\n",
              "      <th>feature1</th>\n",
              "      <th>feature2</th>\n",
              "      <th>feature3</th>\n",
              "      <th>predict</th>\n",
              "    </tr>\n",
              "  </thead>\n",
              "  <tbody>\n",
              "    <tr>\n",
              "      <th>0</th>\n",
              "      <td>7c5fda39-c4a6-4d49-a0f6-751c7cd72bb4</td>\n",
              "      <td>NaN</td>\n",
              "      <td>75606737-d17d-43eb-86e6-6735b6f45a52.png</td>\n",
              "      <td>800e3baf-9ab1-48c0-a9ce-46c5fac9ff69.png</td>\n",
              "      <td>9</td>\n",
              "    </tr>\n",
              "    <tr>\n",
              "      <th>1</th>\n",
              "      <td>7e15ec1b-fe36-4a9e-a1cd-7c160e6a1b9c</td>\n",
              "      <td>NaN</td>\n",
              "      <td>75606737-d17d-43eb-86e6-6735b6f45a52.png</td>\n",
              "      <td>800e3baf-9ab1-48c0-a9ce-46c5fac9ff69.png</td>\n",
              "      <td>9</td>\n",
              "    </tr>\n",
              "    <tr>\n",
              "      <th>2</th>\n",
              "      <td>96b5d8b6-61cd-49f2-b22f-16fe25483cbc</td>\n",
              "      <td>NaN</td>\n",
              "      <td>75606737-d17d-43eb-86e6-6735b6f45a52.png</td>\n",
              "      <td>800e3baf-9ab1-48c0-a9ce-46c5fac9ff69.png</td>\n",
              "      <td>9</td>\n",
              "    </tr>\n",
              "    <tr>\n",
              "      <th>3</th>\n",
              "      <td>84ce5493-7e0f-4aee-8bb7-f799d714b5b3</td>\n",
              "      <td>NaN</td>\n",
              "      <td>c40b7fc4-07f1-4c78-abac-121bde38e267.png</td>\n",
              "      <td>1b2e1b3d-46f2-4c3f-b741-a8d5099ce710.png</td>\n",
              "      <td>4</td>\n",
              "    </tr>\n",
              "    <tr>\n",
              "      <th>4</th>\n",
              "      <td>7cb117e7-d8f3-400b-aeb3-a84fa3fb54e8</td>\n",
              "      <td>NaN</td>\n",
              "      <td>c40b7fc4-07f1-4c78-abac-121bde38e267.png</td>\n",
              "      <td>1b2e1b3d-46f2-4c3f-b741-a8d5099ce710.png</td>\n",
              "      <td>4</td>\n",
              "    </tr>\n",
              "    <tr>\n",
              "      <th>...</th>\n",
              "      <td>...</td>\n",
              "      <td>...</td>\n",
              "      <td>...</td>\n",
              "      <td>...</td>\n",
              "      <td>...</td>\n",
              "    </tr>\n",
              "    <tr>\n",
              "      <th>5550</th>\n",
              "      <td>769b31a2-cb7e-4a89-89d6-efed3199872e</td>\n",
              "      <td>0c754c5d-4166-433e-ac4d-4d1c7ef8e30a.png</td>\n",
              "      <td>bee226cb-6fbf-4470-b2de-d98e5af6110a.png</td>\n",
              "      <td>8801b5ff-821c-477e-9ce7-f65199f75646.png</td>\n",
              "      <td>0</td>\n",
              "    </tr>\n",
              "    <tr>\n",
              "      <th>5551</th>\n",
              "      <td>9f603c3a-4475-4d4b-a3ee-e8f868979749</td>\n",
              "      <td>787e9fe5-cb37-4cc5-afbb-20351616ff71.png</td>\n",
              "      <td>90ef2abe-439b-4655-a932-5a8ca5a91b71.png</td>\n",
              "      <td>c39f05cf-17aa-4b7d-afd3-29667f039216.png</td>\n",
              "      <td>51</td>\n",
              "    </tr>\n",
              "    <tr>\n",
              "      <th>5552</th>\n",
              "      <td>f25bbfff-6fd9-41f5-b2c2-0059b1a76bc6</td>\n",
              "      <td>a8c56afb-35cf-473a-bcd9-0927f8b6994b.png</td>\n",
              "      <td>7d15bcf1-5141-480c-9265-70a74aa2ed27.png</td>\n",
              "      <td>8f9eba51-8123-4186-8b11-8d2d2d9d134a.png</td>\n",
              "      <td>55</td>\n",
              "    </tr>\n",
              "    <tr>\n",
              "      <th>5553</th>\n",
              "      <td>e550dbb5-5127-4828-ac5b-153e9229992e</td>\n",
              "      <td>70ffaa6c-25a1-435a-8413-a8ad26fc8d7d.png</td>\n",
              "      <td>9b2af0fb-f1be-4782-a614-23fa59a366d7.png</td>\n",
              "      <td>ca58239a-7a35-4c96-9b6a-451e112dc5da.png</td>\n",
              "      <td>67</td>\n",
              "    </tr>\n",
              "    <tr>\n",
              "      <th>5554</th>\n",
              "      <td>e5745008-b6f0-4f54-a643-75d5a10136c6</td>\n",
              "      <td>4ec2ba63-0845-4812-a3fa-1f5eda80de8e.png</td>\n",
              "      <td>8479e8d8-d592-4931-926c-17a84b02ad0a.png</td>\n",
              "      <td>0039e0ae-1560-4433-afd2-e12b647d33f3.png</td>\n",
              "      <td>22</td>\n",
              "    </tr>\n",
              "  </tbody>\n",
              "</table>\n",
              "<p>5555 rows × 5 columns</p>\n",
              "</div>"
            ],
            "text/plain": [
              "                                        id  ... predict\n",
              "0     7c5fda39-c4a6-4d49-a0f6-751c7cd72bb4  ...       9\n",
              "1     7e15ec1b-fe36-4a9e-a1cd-7c160e6a1b9c  ...       9\n",
              "2     96b5d8b6-61cd-49f2-b22f-16fe25483cbc  ...       9\n",
              "3     84ce5493-7e0f-4aee-8bb7-f799d714b5b3  ...       4\n",
              "4     7cb117e7-d8f3-400b-aeb3-a84fa3fb54e8  ...       4\n",
              "...                                    ...  ...     ...\n",
              "5550  769b31a2-cb7e-4a89-89d6-efed3199872e  ...       0\n",
              "5551  9f603c3a-4475-4d4b-a3ee-e8f868979749  ...      51\n",
              "5552  f25bbfff-6fd9-41f5-b2c2-0059b1a76bc6  ...      55\n",
              "5553  e550dbb5-5127-4828-ac5b-153e9229992e  ...      67\n",
              "5554  e5745008-b6f0-4f54-a643-75d5a10136c6  ...      22\n",
              "\n",
              "[5555 rows x 5 columns]"
            ]
          },
          "metadata": {
            "tags": []
          },
          "execution_count": 187
        }
      ]
    },
    {
      "cell_type": "code",
      "metadata": {
        "id": "EzF4tG6miZaX"
      },
      "source": [
        "df_expression.fillna(-1,inplace=True)"
      ],
      "execution_count": null,
      "outputs": []
    },
    {
      "cell_type": "code",
      "metadata": {
        "id": "DZYZdgvenRFj",
        "outputId": "594f9cb6-ad38-419e-da1e-a76f00a6f539",
        "colab": {
          "base_uri": "https://localhost:8080/",
          "height": 570
        }
      },
      "source": [
        "df_expression"
      ],
      "execution_count": null,
      "outputs": [
        {
          "output_type": "execute_result",
          "data": {
            "text/html": [
              "<div>\n",
              "<style scoped>\n",
              "    .dataframe tbody tr th:only-of-type {\n",
              "        vertical-align: middle;\n",
              "    }\n",
              "\n",
              "    .dataframe tbody tr th {\n",
              "        vertical-align: top;\n",
              "    }\n",
              "\n",
              "    .dataframe thead th {\n",
              "        text-align: right;\n",
              "    }\n",
              "</style>\n",
              "<table border=\"1\" class=\"dataframe\">\n",
              "  <thead>\n",
              "    <tr style=\"text-align: right;\">\n",
              "      <th></th>\n",
              "      <th>id</th>\n",
              "      <th>feature1</th>\n",
              "      <th>feature2</th>\n",
              "      <th>feature3</th>\n",
              "      <th>predict</th>\n",
              "    </tr>\n",
              "  </thead>\n",
              "  <tbody>\n",
              "    <tr>\n",
              "      <th>0</th>\n",
              "      <td>7c5fda39-c4a6-4d49-a0f6-751c7cd72bb4</td>\n",
              "      <td>-1</td>\n",
              "      <td>75606737-d17d-43eb-86e6-6735b6f45a52.png</td>\n",
              "      <td>800e3baf-9ab1-48c0-a9ce-46c5fac9ff69.png</td>\n",
              "      <td>9</td>\n",
              "    </tr>\n",
              "    <tr>\n",
              "      <th>1</th>\n",
              "      <td>7e15ec1b-fe36-4a9e-a1cd-7c160e6a1b9c</td>\n",
              "      <td>-1</td>\n",
              "      <td>75606737-d17d-43eb-86e6-6735b6f45a52.png</td>\n",
              "      <td>800e3baf-9ab1-48c0-a9ce-46c5fac9ff69.png</td>\n",
              "      <td>9</td>\n",
              "    </tr>\n",
              "    <tr>\n",
              "      <th>2</th>\n",
              "      <td>96b5d8b6-61cd-49f2-b22f-16fe25483cbc</td>\n",
              "      <td>-1</td>\n",
              "      <td>75606737-d17d-43eb-86e6-6735b6f45a52.png</td>\n",
              "      <td>800e3baf-9ab1-48c0-a9ce-46c5fac9ff69.png</td>\n",
              "      <td>9</td>\n",
              "    </tr>\n",
              "    <tr>\n",
              "      <th>3</th>\n",
              "      <td>84ce5493-7e0f-4aee-8bb7-f799d714b5b3</td>\n",
              "      <td>-1</td>\n",
              "      <td>c40b7fc4-07f1-4c78-abac-121bde38e267.png</td>\n",
              "      <td>1b2e1b3d-46f2-4c3f-b741-a8d5099ce710.png</td>\n",
              "      <td>4</td>\n",
              "    </tr>\n",
              "    <tr>\n",
              "      <th>4</th>\n",
              "      <td>7cb117e7-d8f3-400b-aeb3-a84fa3fb54e8</td>\n",
              "      <td>-1</td>\n",
              "      <td>c40b7fc4-07f1-4c78-abac-121bde38e267.png</td>\n",
              "      <td>1b2e1b3d-46f2-4c3f-b741-a8d5099ce710.png</td>\n",
              "      <td>4</td>\n",
              "    </tr>\n",
              "    <tr>\n",
              "      <th>...</th>\n",
              "      <td>...</td>\n",
              "      <td>...</td>\n",
              "      <td>...</td>\n",
              "      <td>...</td>\n",
              "      <td>...</td>\n",
              "    </tr>\n",
              "    <tr>\n",
              "      <th>5550</th>\n",
              "      <td>769b31a2-cb7e-4a89-89d6-efed3199872e</td>\n",
              "      <td>0c754c5d-4166-433e-ac4d-4d1c7ef8e30a.png</td>\n",
              "      <td>bee226cb-6fbf-4470-b2de-d98e5af6110a.png</td>\n",
              "      <td>8801b5ff-821c-477e-9ce7-f65199f75646.png</td>\n",
              "      <td>0</td>\n",
              "    </tr>\n",
              "    <tr>\n",
              "      <th>5551</th>\n",
              "      <td>9f603c3a-4475-4d4b-a3ee-e8f868979749</td>\n",
              "      <td>787e9fe5-cb37-4cc5-afbb-20351616ff71.png</td>\n",
              "      <td>90ef2abe-439b-4655-a932-5a8ca5a91b71.png</td>\n",
              "      <td>c39f05cf-17aa-4b7d-afd3-29667f039216.png</td>\n",
              "      <td>51</td>\n",
              "    </tr>\n",
              "    <tr>\n",
              "      <th>5552</th>\n",
              "      <td>f25bbfff-6fd9-41f5-b2c2-0059b1a76bc6</td>\n",
              "      <td>a8c56afb-35cf-473a-bcd9-0927f8b6994b.png</td>\n",
              "      <td>7d15bcf1-5141-480c-9265-70a74aa2ed27.png</td>\n",
              "      <td>8f9eba51-8123-4186-8b11-8d2d2d9d134a.png</td>\n",
              "      <td>55</td>\n",
              "    </tr>\n",
              "    <tr>\n",
              "      <th>5553</th>\n",
              "      <td>e550dbb5-5127-4828-ac5b-153e9229992e</td>\n",
              "      <td>70ffaa6c-25a1-435a-8413-a8ad26fc8d7d.png</td>\n",
              "      <td>9b2af0fb-f1be-4782-a614-23fa59a366d7.png</td>\n",
              "      <td>ca58239a-7a35-4c96-9b6a-451e112dc5da.png</td>\n",
              "      <td>67</td>\n",
              "    </tr>\n",
              "    <tr>\n",
              "      <th>5554</th>\n",
              "      <td>e5745008-b6f0-4f54-a643-75d5a10136c6</td>\n",
              "      <td>4ec2ba63-0845-4812-a3fa-1f5eda80de8e.png</td>\n",
              "      <td>8479e8d8-d592-4931-926c-17a84b02ad0a.png</td>\n",
              "      <td>0039e0ae-1560-4433-afd2-e12b647d33f3.png</td>\n",
              "      <td>22</td>\n",
              "    </tr>\n",
              "  </tbody>\n",
              "</table>\n",
              "<p>5555 rows × 5 columns</p>\n",
              "</div>"
            ],
            "text/plain": [
              "                                        id  ... predict\n",
              "0     7c5fda39-c4a6-4d49-a0f6-751c7cd72bb4  ...       9\n",
              "1     7e15ec1b-fe36-4a9e-a1cd-7c160e6a1b9c  ...       9\n",
              "2     96b5d8b6-61cd-49f2-b22f-16fe25483cbc  ...       9\n",
              "3     84ce5493-7e0f-4aee-8bb7-f799d714b5b3  ...       4\n",
              "4     7cb117e7-d8f3-400b-aeb3-a84fa3fb54e8  ...       4\n",
              "...                                    ...  ...     ...\n",
              "5550  769b31a2-cb7e-4a89-89d6-efed3199872e  ...       0\n",
              "5551  9f603c3a-4475-4d4b-a3ee-e8f868979749  ...      51\n",
              "5552  f25bbfff-6fd9-41f5-b2c2-0059b1a76bc6  ...      55\n",
              "5553  e550dbb5-5127-4828-ac5b-153e9229992e  ...      67\n",
              "5554  e5745008-b6f0-4f54-a643-75d5a10136c6  ...      22\n",
              "\n",
              "[5555 rows x 5 columns]"
            ]
          },
          "metadata": {
            "tags": []
          },
          "execution_count": 189
        }
      ]
    },
    {
      "cell_type": "code",
      "metadata": {
        "id": "rmPI0bDFvw_U"
      },
      "source": [
        "df_raw = df_expression[:100]"
      ],
      "execution_count": null,
      "outputs": []
    },
    {
      "cell_type": "code",
      "metadata": {
        "id": "KYkOagMLjh2j",
        "outputId": "32dd48e8-044e-4ed7-ffa9-8d489cc0e1d7",
        "colab": {
          "base_uri": "https://localhost:8080/",
          "height": 202
        }
      },
      "source": [
        "list_number = []\n",
        "list_feature1 = []\n",
        "list_feature2 = []\n",
        "list_feature3 = []\n",
        "verbose = 10\n",
        "for index, row in df_raw.iterrows():\n",
        "  f1 = -1\n",
        "  f2 = -1\n",
        "  f3 = -1\n",
        "  if not(row['feature1'] == -1):\n",
        "    f1 = extract_feature(f'''https://github.com/CakeNuthep/Super_AI/blob/master/Homework/Week4/thai-mnist-classification/train/{row['feature1']}?raw=true''')\n",
        "  list_feature1.append(f1)\n",
        "\n",
        "  if not(row['feature2'] == -1):\n",
        "    f2 = extract_feature(f'''https://github.com/CakeNuthep/Super_AI/blob/master/Homework/Week4/thai-mnist-classification/train/{row['feature2']}?raw=true''')\n",
        "  list_feature2.append(f2)\n",
        "\n",
        "  if not(row['feature3'] == -1):\n",
        "    f3 = extract_feature(f'''https://github.com/CakeNuthep/Super_AI/blob/master/Homework/Week4/thai-mnist-classification/train/{row['feature3']}?raw=true''')\n",
        "  list_feature3.append(f3)\n",
        "\n",
        "  if index % verbose == 0:\n",
        "    print(f'''index:{index} data:{row['id']}, {row[1]}''')\n",
        "print(list_number)"
      ],
      "execution_count": null,
      "outputs": [
        {
          "output_type": "stream",
          "text": [
            "index:0 data:7c5fda39-c4a6-4d49-a0f6-751c7cd72bb4, -1\n",
            "index:10 data:b4d7ffd2-f5cd-4676-92ef-e7e277099401, -1\n",
            "index:20 data:212d10f0-96f0-4be3-a5a6-da9edd485109, -1\n",
            "index:30 data:b7617c46-2966-4fd6-807d-fd3fde26d51e, -1\n",
            "index:40 data:61e9cae8-cd93-4f12-8435-89111357b859, -1\n",
            "index:50 data:dfcc4a8a-aae6-48db-9a51-c93939335985, -1\n",
            "index:60 data:12334762-3cc9-40af-89cf-c1f148f5528f, -1\n",
            "index:70 data:41e3b3a3-33b6-48b3-9003-f0ad5f8da4ad, 945fb6be-2376-4216-b8bb-186a3a187b57.png\n",
            "index:80 data:1133ecf3-3d4a-4481-85d8-7c07b24149cc, -1\n",
            "index:90 data:2e365391-8043-4646-aac5-9ce2d5d59372, -1\n",
            "[]\n"
          ],
          "name": "stdout"
        }
      ]
    },
    {
      "cell_type": "code",
      "metadata": {
        "id": "Jkq5u8bAwycr",
        "outputId": "34099e16-dd89-4fba-8ff4-5ce6bc7323d9",
        "colab": {
          "base_uri": "https://localhost:8080/",
          "height": 319
        }
      },
      "source": [
        "df_raw['extract_feature1']=list_feature1\n",
        "df_raw['extract_feature2']=list_feature2\n",
        "df_raw['extract_feature3']=list_feature3"
      ],
      "execution_count": null,
      "outputs": [
        {
          "output_type": "stream",
          "text": [
            "/usr/local/lib/python3.6/dist-packages/ipykernel_launcher.py:1: SettingWithCopyWarning: \n",
            "A value is trying to be set on a copy of a slice from a DataFrame.\n",
            "Try using .loc[row_indexer,col_indexer] = value instead\n",
            "\n",
            "See the caveats in the documentation: https://pandas.pydata.org/pandas-docs/stable/user_guide/indexing.html#returning-a-view-versus-a-copy\n",
            "  \"\"\"Entry point for launching an IPython kernel.\n",
            "/usr/local/lib/python3.6/dist-packages/ipykernel_launcher.py:2: SettingWithCopyWarning: \n",
            "A value is trying to be set on a copy of a slice from a DataFrame.\n",
            "Try using .loc[row_indexer,col_indexer] = value instead\n",
            "\n",
            "See the caveats in the documentation: https://pandas.pydata.org/pandas-docs/stable/user_guide/indexing.html#returning-a-view-versus-a-copy\n",
            "  \n",
            "/usr/local/lib/python3.6/dist-packages/ipykernel_launcher.py:3: SettingWithCopyWarning: \n",
            "A value is trying to be set on a copy of a slice from a DataFrame.\n",
            "Try using .loc[row_indexer,col_indexer] = value instead\n",
            "\n",
            "See the caveats in the documentation: https://pandas.pydata.org/pandas-docs/stable/user_guide/indexing.html#returning-a-view-versus-a-copy\n",
            "  This is separate from the ipykernel package so we can avoid doing imports until\n"
          ],
          "name": "stderr"
        }
      ]
    },
    {
      "cell_type": "code",
      "metadata": {
        "id": "FSKx8pJIxyqj",
        "outputId": "fb8683f2-72c1-4566-9ef0-e7daccbdb2f3",
        "colab": {
          "base_uri": "https://localhost:8080/",
          "height": 926
        }
      },
      "source": [
        "df_raw"
      ],
      "execution_count": null,
      "outputs": [
        {
          "output_type": "execute_result",
          "data": {
            "text/html": [
              "<div>\n",
              "<style scoped>\n",
              "    .dataframe tbody tr th:only-of-type {\n",
              "        vertical-align: middle;\n",
              "    }\n",
              "\n",
              "    .dataframe tbody tr th {\n",
              "        vertical-align: top;\n",
              "    }\n",
              "\n",
              "    .dataframe thead th {\n",
              "        text-align: right;\n",
              "    }\n",
              "</style>\n",
              "<table border=\"1\" class=\"dataframe\">\n",
              "  <thead>\n",
              "    <tr style=\"text-align: right;\">\n",
              "      <th></th>\n",
              "      <th>id</th>\n",
              "      <th>feature1</th>\n",
              "      <th>feature2</th>\n",
              "      <th>feature3</th>\n",
              "      <th>predict</th>\n",
              "      <th>extract_feature1</th>\n",
              "      <th>extract_feature2</th>\n",
              "      <th>extract_feature3</th>\n",
              "    </tr>\n",
              "  </thead>\n",
              "  <tbody>\n",
              "    <tr>\n",
              "      <th>0</th>\n",
              "      <td>7c5fda39-c4a6-4d49-a0f6-751c7cd72bb4</td>\n",
              "      <td>-1</td>\n",
              "      <td>75606737-d17d-43eb-86e6-6735b6f45a52.png</td>\n",
              "      <td>800e3baf-9ab1-48c0-a9ce-46c5fac9ff69.png</td>\n",
              "      <td>9</td>\n",
              "      <td>-1</td>\n",
              "      <td>[0.0, 0.0, 0.0, 0.0, 0.0, 0.027077599427040463...</td>\n",
              "      <td>[0.0002118274860775661, 0.0, 0.0, 0.0, 0.0, 0....</td>\n",
              "    </tr>\n",
              "    <tr>\n",
              "      <th>1</th>\n",
              "      <td>7e15ec1b-fe36-4a9e-a1cd-7c160e6a1b9c</td>\n",
              "      <td>-1</td>\n",
              "      <td>75606737-d17d-43eb-86e6-6735b6f45a52.png</td>\n",
              "      <td>800e3baf-9ab1-48c0-a9ce-46c5fac9ff69.png</td>\n",
              "      <td>9</td>\n",
              "      <td>-1</td>\n",
              "      <td>[0.0, 0.0, 0.0, 0.0, 0.0, 0.027077599427040463...</td>\n",
              "      <td>[0.0002118274860775661, 0.0, 0.0, 0.0, 0.0, 0....</td>\n",
              "    </tr>\n",
              "    <tr>\n",
              "      <th>2</th>\n",
              "      <td>96b5d8b6-61cd-49f2-b22f-16fe25483cbc</td>\n",
              "      <td>-1</td>\n",
              "      <td>75606737-d17d-43eb-86e6-6735b6f45a52.png</td>\n",
              "      <td>800e3baf-9ab1-48c0-a9ce-46c5fac9ff69.png</td>\n",
              "      <td>9</td>\n",
              "      <td>-1</td>\n",
              "      <td>[0.0, 0.0, 0.0, 0.0, 0.0, 0.027077599427040463...</td>\n",
              "      <td>[0.0002118274860775661, 0.0, 0.0, 0.0, 0.0, 0....</td>\n",
              "    </tr>\n",
              "    <tr>\n",
              "      <th>3</th>\n",
              "      <td>84ce5493-7e0f-4aee-8bb7-f799d714b5b3</td>\n",
              "      <td>-1</td>\n",
              "      <td>c40b7fc4-07f1-4c78-abac-121bde38e267.png</td>\n",
              "      <td>1b2e1b3d-46f2-4c3f-b741-a8d5099ce710.png</td>\n",
              "      <td>4</td>\n",
              "      <td>-1</td>\n",
              "      <td>[0.0, 0.0, 0.0, 0.0, 0.0, 0.0, 0.0, 0.0, 0.0, ...</td>\n",
              "      <td>[0.0, 0.0, 0.0, 0.0, 0.0, 0.0, 0.0, 0.0, 0.0, ...</td>\n",
              "    </tr>\n",
              "    <tr>\n",
              "      <th>4</th>\n",
              "      <td>7cb117e7-d8f3-400b-aeb3-a84fa3fb54e8</td>\n",
              "      <td>-1</td>\n",
              "      <td>c40b7fc4-07f1-4c78-abac-121bde38e267.png</td>\n",
              "      <td>1b2e1b3d-46f2-4c3f-b741-a8d5099ce710.png</td>\n",
              "      <td>4</td>\n",
              "      <td>-1</td>\n",
              "      <td>[0.0, 0.0, 0.0, 0.0, 0.0, 0.0, 0.0, 0.0, 0.0, ...</td>\n",
              "      <td>[0.0, 0.0, 0.0, 0.0, 0.0, 0.0, 0.0, 0.0, 0.0, ...</td>\n",
              "    </tr>\n",
              "    <tr>\n",
              "      <th>...</th>\n",
              "      <td>...</td>\n",
              "      <td>...</td>\n",
              "      <td>...</td>\n",
              "      <td>...</td>\n",
              "      <td>...</td>\n",
              "      <td>...</td>\n",
              "      <td>...</td>\n",
              "      <td>...</td>\n",
              "    </tr>\n",
              "    <tr>\n",
              "      <th>95</th>\n",
              "      <td>2a4a511c-9474-4686-ae5d-e010bfef579c</td>\n",
              "      <td>3e696f15-7ac9-40a2-9dd5-bf3d1a976a5c.png</td>\n",
              "      <td>a8164c5d-4bdd-416d-8ba1-5260c4737796.png</td>\n",
              "      <td>0aff6fc4-e8ad-4e0e-a7d7-70845918e396.png</td>\n",
              "      <td>8</td>\n",
              "      <td>[0.0024927747460115595, 0.0, 0.0, 0.0, 0.0, 0....</td>\n",
              "      <td>[0.0, 0.0, 0.0, 0.0, 0.0, 0.0, 0.0, 0.0, 0.0, ...</td>\n",
              "      <td>[0.0, 0.0, 0.0, 0.0, 0.0, 0.0, 0.0, 0.0, 0.0, ...</td>\n",
              "    </tr>\n",
              "    <tr>\n",
              "      <th>96</th>\n",
              "      <td>99f5cb47-f1e5-4a52-a216-24e0c91f3f5f</td>\n",
              "      <td>eda98be8-b684-485a-a820-053d0d6d287c.png</td>\n",
              "      <td>f4b3ddb4-2a2c-4b7a-ba85-5a7892c636a8.png</td>\n",
              "      <td>e010425c-a255-482c-bce2-792078286036.png</td>\n",
              "      <td>12</td>\n",
              "      <td>[0.0, 0.0, 0.0, 0.0, 0.0, 0.007040827244950632...</td>\n",
              "      <td>[0.0, 0.0, 0.0, 0.0, 0.0, 0.004771758297595033...</td>\n",
              "      <td>[0.0, 0.0, 0.0, 0.0, 0.0, 0.0, 0.0, 0.0, 0.0, ...</td>\n",
              "    </tr>\n",
              "    <tr>\n",
              "      <th>97</th>\n",
              "      <td>8d8f7da4-fd67-4570-b359-5449a75ad5e2</td>\n",
              "      <td>-1</td>\n",
              "      <td>b24087ab-d6fc-4ac3-be34-61c6d0bd4aec.png</td>\n",
              "      <td>d05b36d8-200f-46ff-9ed9-a52bed6b2bfa.png</td>\n",
              "      <td>8</td>\n",
              "      <td>-1</td>\n",
              "      <td>[0.0, 0.0, 0.0, 0.0, 0.0, 0.006661650901533529...</td>\n",
              "      <td>[0.0, 0.0, 0.0, 0.0, 0.0, 0.0, 0.0, 0.0, 0.0, ...</td>\n",
              "    </tr>\n",
              "    <tr>\n",
              "      <th>98</th>\n",
              "      <td>898b82f9-57dd-4012-a7a1-2c260c005aeb</td>\n",
              "      <td>-1</td>\n",
              "      <td>2bb8cec2-65e5-4c5c-ab0b-d2cb6c68e62e.png</td>\n",
              "      <td>8b7d2763-c1c6-4891-99f0-d67b8801aa3b.png</td>\n",
              "      <td>10</td>\n",
              "      <td>-1</td>\n",
              "      <td>[0.0, 0.006126226101279531, 0.0, 0.0, 0.0, 0.0...</td>\n",
              "      <td>[0.0, 0.0, 0.0, 0.0, 0.0, 0.0, 0.0, 0.0, 0.0, ...</td>\n",
              "    </tr>\n",
              "    <tr>\n",
              "      <th>99</th>\n",
              "      <td>9ee5726d-d1a5-4453-bc26-0be8dc06a52a</td>\n",
              "      <td>eadb07f5-53d1-4852-84a5-6bf9516d4fa6.png</td>\n",
              "      <td>620a637d-1360-4eb6-99ff-81d827496a94.png</td>\n",
              "      <td>91698b6b-0d7d-4ac6-9ea3-524b8f04653e.png</td>\n",
              "      <td>24</td>\n",
              "      <td>[0.0, 0.0, 0.0, 0.0, 0.0, 0.008656691717882168...</td>\n",
              "      <td>[0.0, 0.0, 0.0, 0.0, 0.0, 0.0, 0.0, 0.0, 0.0, ...</td>\n",
              "      <td>[0.0, 0.0, 0.0, 0.0, 0.0, 0.0, 0.0841389694252...</td>\n",
              "    </tr>\n",
              "  </tbody>\n",
              "</table>\n",
              "<p>100 rows × 8 columns</p>\n",
              "</div>"
            ],
            "text/plain": [
              "                                      id  ...                                   extract_feature3\n",
              "0   7c5fda39-c4a6-4d49-a0f6-751c7cd72bb4  ...  [0.0002118274860775661, 0.0, 0.0, 0.0, 0.0, 0....\n",
              "1   7e15ec1b-fe36-4a9e-a1cd-7c160e6a1b9c  ...  [0.0002118274860775661, 0.0, 0.0, 0.0, 0.0, 0....\n",
              "2   96b5d8b6-61cd-49f2-b22f-16fe25483cbc  ...  [0.0002118274860775661, 0.0, 0.0, 0.0, 0.0, 0....\n",
              "3   84ce5493-7e0f-4aee-8bb7-f799d714b5b3  ...  [0.0, 0.0, 0.0, 0.0, 0.0, 0.0, 0.0, 0.0, 0.0, ...\n",
              "4   7cb117e7-d8f3-400b-aeb3-a84fa3fb54e8  ...  [0.0, 0.0, 0.0, 0.0, 0.0, 0.0, 0.0, 0.0, 0.0, ...\n",
              "..                                   ...  ...                                                ...\n",
              "95  2a4a511c-9474-4686-ae5d-e010bfef579c  ...  [0.0, 0.0, 0.0, 0.0, 0.0, 0.0, 0.0, 0.0, 0.0, ...\n",
              "96  99f5cb47-f1e5-4a52-a216-24e0c91f3f5f  ...  [0.0, 0.0, 0.0, 0.0, 0.0, 0.0, 0.0, 0.0, 0.0, ...\n",
              "97  8d8f7da4-fd67-4570-b359-5449a75ad5e2  ...  [0.0, 0.0, 0.0, 0.0, 0.0, 0.0, 0.0, 0.0, 0.0, ...\n",
              "98  898b82f9-57dd-4012-a7a1-2c260c005aeb  ...  [0.0, 0.0, 0.0, 0.0, 0.0, 0.0, 0.0, 0.0, 0.0, ...\n",
              "99  9ee5726d-d1a5-4453-bc26-0be8dc06a52a  ...  [0.0, 0.0, 0.0, 0.0, 0.0, 0.0, 0.0841389694252...\n",
              "\n",
              "[100 rows x 8 columns]"
            ]
          },
          "metadata": {
            "tags": []
          },
          "execution_count": 193
        }
      ]
    },
    {
      "cell_type": "code",
      "metadata": {
        "id": "2UEmlXh7275J",
        "outputId": "5bef90bb-bf38-44b5-ec8e-f94d51c1b8de",
        "colab": {
          "base_uri": "https://localhost:8080/",
          "height": 218
        }
      },
      "source": [
        "df_raw['feature1'] != -1"
      ],
      "execution_count": null,
      "outputs": [
        {
          "output_type": "execute_result",
          "data": {
            "text/plain": [
              "0     False\n",
              "1     False\n",
              "2     False\n",
              "3     False\n",
              "4     False\n",
              "      ...  \n",
              "95     True\n",
              "96     True\n",
              "97    False\n",
              "98    False\n",
              "99     True\n",
              "Name: feature1, Length: 100, dtype: bool"
            ]
          },
          "metadata": {
            "tags": []
          },
          "execution_count": 194
        }
      ]
    },
    {
      "cell_type": "code",
      "metadata": {
        "id": "eGs3rMyx3pSc",
        "outputId": "4431b8db-42a7-4bf0-b5fd-12c22e9034e2",
        "colab": {
          "base_uri": "https://localhost:8080/",
          "height": 134
        }
      },
      "source": [
        "df_filter = df_raw[df_raw['feature1'] != -1]\n",
        "X = np.vstack(df_filter['extract_feature1'])\n",
        "print(X.shape)\n",
        "pre = model_image.predict(X)\n",
        "df_filter['feature1_label'] = pre\n",
        "df_feature_label = pd.concat([df_raw,df_filter['feature1_label']],axis=1)"
      ],
      "execution_count": null,
      "outputs": [
        {
          "output_type": "stream",
          "text": [
            "(10, 2048)\n"
          ],
          "name": "stdout"
        },
        {
          "output_type": "stream",
          "text": [
            "/usr/local/lib/python3.6/dist-packages/ipykernel_launcher.py:5: SettingWithCopyWarning: \n",
            "A value is trying to be set on a copy of a slice from a DataFrame.\n",
            "Try using .loc[row_indexer,col_indexer] = value instead\n",
            "\n",
            "See the caveats in the documentation: https://pandas.pydata.org/pandas-docs/stable/user_guide/indexing.html#returning-a-view-versus-a-copy\n",
            "  \"\"\"\n"
          ],
          "name": "stderr"
        }
      ]
    },
    {
      "cell_type": "code",
      "metadata": {
        "id": "IjAwQ2B95TYZ",
        "outputId": "4283fd58-7091-4ad4-cbc4-d07d5bcf94b4",
        "colab": {
          "base_uri": "https://localhost:8080/",
          "height": 34
        }
      },
      "source": [
        "df_filter = df_raw[df_raw['feature2'] != -1]\n",
        "X = np.vstack(df_filter['extract_feature2'])\n",
        "print(X.shape)\n",
        "pre = model_image.predict(X)\n",
        "df_filter['feature2_label'] = pre\n",
        "df_feature_label = pd.concat([df_feature_label,df_filter['feature2_label']],axis=1)"
      ],
      "execution_count": null,
      "outputs": [
        {
          "output_type": "stream",
          "text": [
            "(100, 2048)\n"
          ],
          "name": "stdout"
        }
      ]
    },
    {
      "cell_type": "code",
      "metadata": {
        "id": "6xxkDEsR6TKr",
        "outputId": "09f623c8-d485-44ca-bc68-d2476bbcb924",
        "colab": {
          "base_uri": "https://localhost:8080/",
          "height": 34
        }
      },
      "source": [
        "df_filter = df_raw[df_raw['feature3'] != -1]\n",
        "X = np.vstack(df_filter['extract_feature3'])\n",
        "print(X.shape)\n",
        "pre = model_image.predict(X)\n",
        "df_filter['feature3_label'] = pre\n",
        "df_feature_label = pd.concat([df_feature_label,df_filter['feature3_label']],axis=1)"
      ],
      "execution_count": null,
      "outputs": [
        {
          "output_type": "stream",
          "text": [
            "(100, 2048)\n"
          ],
          "name": "stdout"
        }
      ]
    },
    {
      "cell_type": "code",
      "metadata": {
        "id": "NK0VzqDs6fZv",
        "outputId": "2cd27e66-9b4f-4d84-f821-1ee8a6d1db65",
        "colab": {
          "base_uri": "https://localhost:8080/",
          "height": 926
        }
      },
      "source": [
        "df_feature_label"
      ],
      "execution_count": null,
      "outputs": [
        {
          "output_type": "execute_result",
          "data": {
            "text/html": [
              "<div>\n",
              "<style scoped>\n",
              "    .dataframe tbody tr th:only-of-type {\n",
              "        vertical-align: middle;\n",
              "    }\n",
              "\n",
              "    .dataframe tbody tr th {\n",
              "        vertical-align: top;\n",
              "    }\n",
              "\n",
              "    .dataframe thead th {\n",
              "        text-align: right;\n",
              "    }\n",
              "</style>\n",
              "<table border=\"1\" class=\"dataframe\">\n",
              "  <thead>\n",
              "    <tr style=\"text-align: right;\">\n",
              "      <th></th>\n",
              "      <th>id</th>\n",
              "      <th>feature1</th>\n",
              "      <th>feature2</th>\n",
              "      <th>feature3</th>\n",
              "      <th>predict</th>\n",
              "      <th>extract_feature1</th>\n",
              "      <th>extract_feature2</th>\n",
              "      <th>extract_feature3</th>\n",
              "      <th>feature1_label</th>\n",
              "      <th>feature2_label</th>\n",
              "      <th>feature3_label</th>\n",
              "    </tr>\n",
              "  </thead>\n",
              "  <tbody>\n",
              "    <tr>\n",
              "      <th>0</th>\n",
              "      <td>7c5fda39-c4a6-4d49-a0f6-751c7cd72bb4</td>\n",
              "      <td>-1</td>\n",
              "      <td>75606737-d17d-43eb-86e6-6735b6f45a52.png</td>\n",
              "      <td>800e3baf-9ab1-48c0-a9ce-46c5fac9ff69.png</td>\n",
              "      <td>9</td>\n",
              "      <td>-1</td>\n",
              "      <td>[0.0, 0.0, 0.0, 0.0, 0.0, 0.027077599427040463...</td>\n",
              "      <td>[0.0002118274860775661, 0.0, 0.0, 0.0, 0.0, 0....</td>\n",
              "      <td>NaN</td>\n",
              "      <td>8</td>\n",
              "      <td>1</td>\n",
              "    </tr>\n",
              "    <tr>\n",
              "      <th>1</th>\n",
              "      <td>7e15ec1b-fe36-4a9e-a1cd-7c160e6a1b9c</td>\n",
              "      <td>-1</td>\n",
              "      <td>75606737-d17d-43eb-86e6-6735b6f45a52.png</td>\n",
              "      <td>800e3baf-9ab1-48c0-a9ce-46c5fac9ff69.png</td>\n",
              "      <td>9</td>\n",
              "      <td>-1</td>\n",
              "      <td>[0.0, 0.0, 0.0, 0.0, 0.0, 0.027077599427040463...</td>\n",
              "      <td>[0.0002118274860775661, 0.0, 0.0, 0.0, 0.0, 0....</td>\n",
              "      <td>NaN</td>\n",
              "      <td>8</td>\n",
              "      <td>1</td>\n",
              "    </tr>\n",
              "    <tr>\n",
              "      <th>2</th>\n",
              "      <td>96b5d8b6-61cd-49f2-b22f-16fe25483cbc</td>\n",
              "      <td>-1</td>\n",
              "      <td>75606737-d17d-43eb-86e6-6735b6f45a52.png</td>\n",
              "      <td>800e3baf-9ab1-48c0-a9ce-46c5fac9ff69.png</td>\n",
              "      <td>9</td>\n",
              "      <td>-1</td>\n",
              "      <td>[0.0, 0.0, 0.0, 0.0, 0.0, 0.027077599427040463...</td>\n",
              "      <td>[0.0002118274860775661, 0.0, 0.0, 0.0, 0.0, 0....</td>\n",
              "      <td>NaN</td>\n",
              "      <td>8</td>\n",
              "      <td>1</td>\n",
              "    </tr>\n",
              "    <tr>\n",
              "      <th>3</th>\n",
              "      <td>84ce5493-7e0f-4aee-8bb7-f799d714b5b3</td>\n",
              "      <td>-1</td>\n",
              "      <td>c40b7fc4-07f1-4c78-abac-121bde38e267.png</td>\n",
              "      <td>1b2e1b3d-46f2-4c3f-b741-a8d5099ce710.png</td>\n",
              "      <td>4</td>\n",
              "      <td>-1</td>\n",
              "      <td>[0.0, 0.0, 0.0, 0.0, 0.0, 0.0, 0.0, 0.0, 0.0, ...</td>\n",
              "      <td>[0.0, 0.0, 0.0, 0.0, 0.0, 0.0, 0.0, 0.0, 0.0, ...</td>\n",
              "      <td>NaN</td>\n",
              "      <td>0</td>\n",
              "      <td>4</td>\n",
              "    </tr>\n",
              "    <tr>\n",
              "      <th>4</th>\n",
              "      <td>7cb117e7-d8f3-400b-aeb3-a84fa3fb54e8</td>\n",
              "      <td>-1</td>\n",
              "      <td>c40b7fc4-07f1-4c78-abac-121bde38e267.png</td>\n",
              "      <td>1b2e1b3d-46f2-4c3f-b741-a8d5099ce710.png</td>\n",
              "      <td>4</td>\n",
              "      <td>-1</td>\n",
              "      <td>[0.0, 0.0, 0.0, 0.0, 0.0, 0.0, 0.0, 0.0, 0.0, ...</td>\n",
              "      <td>[0.0, 0.0, 0.0, 0.0, 0.0, 0.0, 0.0, 0.0, 0.0, ...</td>\n",
              "      <td>NaN</td>\n",
              "      <td>0</td>\n",
              "      <td>4</td>\n",
              "    </tr>\n",
              "    <tr>\n",
              "      <th>...</th>\n",
              "      <td>...</td>\n",
              "      <td>...</td>\n",
              "      <td>...</td>\n",
              "      <td>...</td>\n",
              "      <td>...</td>\n",
              "      <td>...</td>\n",
              "      <td>...</td>\n",
              "      <td>...</td>\n",
              "      <td>...</td>\n",
              "      <td>...</td>\n",
              "      <td>...</td>\n",
              "    </tr>\n",
              "    <tr>\n",
              "      <th>95</th>\n",
              "      <td>2a4a511c-9474-4686-ae5d-e010bfef579c</td>\n",
              "      <td>3e696f15-7ac9-40a2-9dd5-bf3d1a976a5c.png</td>\n",
              "      <td>a8164c5d-4bdd-416d-8ba1-5260c4737796.png</td>\n",
              "      <td>0aff6fc4-e8ad-4e0e-a7d7-70845918e396.png</td>\n",
              "      <td>8</td>\n",
              "      <td>[0.0024927747460115595, 0.0, 0.0, 0.0, 0.0, 0....</td>\n",
              "      <td>[0.0, 0.0, 0.0, 0.0, 0.0, 0.0, 0.0, 0.0, 0.0, ...</td>\n",
              "      <td>[0.0, 0.0, 0.0, 0.0, 0.0, 0.0, 0.0, 0.0, 0.0, ...</td>\n",
              "      <td>0.0</td>\n",
              "      <td>2</td>\n",
              "      <td>1</td>\n",
              "    </tr>\n",
              "    <tr>\n",
              "      <th>96</th>\n",
              "      <td>99f5cb47-f1e5-4a52-a216-24e0c91f3f5f</td>\n",
              "      <td>eda98be8-b684-485a-a820-053d0d6d287c.png</td>\n",
              "      <td>f4b3ddb4-2a2c-4b7a-ba85-5a7892c636a8.png</td>\n",
              "      <td>e010425c-a255-482c-bce2-792078286036.png</td>\n",
              "      <td>12</td>\n",
              "      <td>[0.0, 0.0, 0.0, 0.0, 0.0, 0.007040827244950632...</td>\n",
              "      <td>[0.0, 0.0, 0.0, 0.0, 0.0, 0.004771758297595033...</td>\n",
              "      <td>[0.0, 0.0, 0.0, 0.0, 0.0, 0.0, 0.0, 0.0, 0.0, ...</td>\n",
              "      <td>0.0</td>\n",
              "      <td>2</td>\n",
              "      <td>6</td>\n",
              "    </tr>\n",
              "    <tr>\n",
              "      <th>97</th>\n",
              "      <td>8d8f7da4-fd67-4570-b359-5449a75ad5e2</td>\n",
              "      <td>-1</td>\n",
              "      <td>b24087ab-d6fc-4ac3-be34-61c6d0bd4aec.png</td>\n",
              "      <td>d05b36d8-200f-46ff-9ed9-a52bed6b2bfa.png</td>\n",
              "      <td>8</td>\n",
              "      <td>-1</td>\n",
              "      <td>[0.0, 0.0, 0.0, 0.0, 0.0, 0.006661650901533529...</td>\n",
              "      <td>[0.0, 0.0, 0.0, 0.0, 0.0, 0.0, 0.0, 0.0, 0.0, ...</td>\n",
              "      <td>NaN</td>\n",
              "      <td>8</td>\n",
              "      <td>0</td>\n",
              "    </tr>\n",
              "    <tr>\n",
              "      <th>98</th>\n",
              "      <td>898b82f9-57dd-4012-a7a1-2c260c005aeb</td>\n",
              "      <td>-1</td>\n",
              "      <td>2bb8cec2-65e5-4c5c-ab0b-d2cb6c68e62e.png</td>\n",
              "      <td>8b7d2763-c1c6-4891-99f0-d67b8801aa3b.png</td>\n",
              "      <td>10</td>\n",
              "      <td>-1</td>\n",
              "      <td>[0.0, 0.006126226101279531, 0.0, 0.0, 0.0, 0.0...</td>\n",
              "      <td>[0.0, 0.0, 0.0, 0.0, 0.0, 0.0, 0.0, 0.0, 0.0, ...</td>\n",
              "      <td>NaN</td>\n",
              "      <td>4</td>\n",
              "      <td>6</td>\n",
              "    </tr>\n",
              "    <tr>\n",
              "      <th>99</th>\n",
              "      <td>9ee5726d-d1a5-4453-bc26-0be8dc06a52a</td>\n",
              "      <td>eadb07f5-53d1-4852-84a5-6bf9516d4fa6.png</td>\n",
              "      <td>620a637d-1360-4eb6-99ff-81d827496a94.png</td>\n",
              "      <td>91698b6b-0d7d-4ac6-9ea3-524b8f04653e.png</td>\n",
              "      <td>24</td>\n",
              "      <td>[0.0, 0.0, 0.0, 0.0, 0.0, 0.008656691717882168...</td>\n",
              "      <td>[0.0, 0.0, 0.0, 0.0, 0.0, 0.0, 0.0, 0.0, 0.0, ...</td>\n",
              "      <td>[0.0, 0.0, 0.0, 0.0, 0.0, 0.0, 0.0841389694252...</td>\n",
              "      <td>0.0</td>\n",
              "      <td>7</td>\n",
              "      <td>6</td>\n",
              "    </tr>\n",
              "  </tbody>\n",
              "</table>\n",
              "<p>100 rows × 11 columns</p>\n",
              "</div>"
            ],
            "text/plain": [
              "                                      id  ... feature3_label\n",
              "0   7c5fda39-c4a6-4d49-a0f6-751c7cd72bb4  ...              1\n",
              "1   7e15ec1b-fe36-4a9e-a1cd-7c160e6a1b9c  ...              1\n",
              "2   96b5d8b6-61cd-49f2-b22f-16fe25483cbc  ...              1\n",
              "3   84ce5493-7e0f-4aee-8bb7-f799d714b5b3  ...              4\n",
              "4   7cb117e7-d8f3-400b-aeb3-a84fa3fb54e8  ...              4\n",
              "..                                   ...  ...            ...\n",
              "95  2a4a511c-9474-4686-ae5d-e010bfef579c  ...              1\n",
              "96  99f5cb47-f1e5-4a52-a216-24e0c91f3f5f  ...              6\n",
              "97  8d8f7da4-fd67-4570-b359-5449a75ad5e2  ...              0\n",
              "98  898b82f9-57dd-4012-a7a1-2c260c005aeb  ...              6\n",
              "99  9ee5726d-d1a5-4453-bc26-0be8dc06a52a  ...              6\n",
              "\n",
              "[100 rows x 11 columns]"
            ]
          },
          "metadata": {
            "tags": []
          },
          "execution_count": 199
        }
      ]
    },
    {
      "cell_type": "code",
      "metadata": {
        "id": "e7pfcpxL62Jv"
      },
      "source": [
        "df_feature_label.fillna(-1,inplace=True)"
      ],
      "execution_count": null,
      "outputs": []
    },
    {
      "cell_type": "code",
      "metadata": {
        "id": "F5vMzzWt71vO"
      },
      "source": [
        "X = np.array(df_feature_label[['feature1_label','feature2_label','feature3_label']])"
      ],
      "execution_count": null,
      "outputs": []
    },
    {
      "cell_type": "code",
      "metadata": {
        "id": "YH4xp2fJ60b3"
      },
      "source": [
        "ml_predict = model_expression.predict(X)"
      ],
      "execution_count": null,
      "outputs": []
    },
    {
      "cell_type": "code",
      "metadata": {
        "id": "FsdxUR9W74vd",
        "outputId": "ceb09cac-da69-4a00-9918-b6be7354c0dd",
        "colab": {
          "base_uri": "https://localhost:8080/",
          "height": 218
        }
      },
      "source": [
        "df_feature_label['predict'] == ml_predict"
      ],
      "execution_count": null,
      "outputs": [
        {
          "output_type": "execute_result",
          "data": {
            "text/plain": [
              "0      True\n",
              "1      True\n",
              "2      True\n",
              "3      True\n",
              "4      True\n",
              "      ...  \n",
              "95    False\n",
              "96     True\n",
              "97     True\n",
              "98     True\n",
              "99    False\n",
              "Name: predict, Length: 100, dtype: bool"
            ]
          },
          "metadata": {
            "tags": []
          },
          "execution_count": 213
        }
      ]
    },
    {
      "cell_type": "code",
      "metadata": {
        "id": "WqMTZh-b8t5J"
      },
      "source": [
        "acc = sum(df_feature_label['predict'] == ml_predict)/len(ml_predict)"
      ],
      "execution_count": null,
      "outputs": []
    },
    {
      "cell_type": "code",
      "metadata": {
        "id": "wQ9S4-oF81Al",
        "outputId": "78bf730e-dbc0-4bab-8f87-f1da470693bd",
        "colab": {
          "base_uri": "https://localhost:8080/",
          "height": 34
        }
      },
      "source": [
        "acc"
      ],
      "execution_count": null,
      "outputs": [
        {
          "output_type": "execute_result",
          "data": {
            "text/plain": [
              "0.72"
            ]
          },
          "metadata": {
            "tags": []
          },
          "execution_count": 215
        }
      ]
    },
    {
      "cell_type": "markdown",
      "metadata": {
        "id": "KN4Gv_aolJay"
      },
      "source": [
        "# Submit"
      ]
    },
    {
      "cell_type": "code",
      "metadata": {
        "id": "-ClZNN2ClRDI"
      },
      "source": [
        "with open('class_model.mod', 'rb') as pickle_file:\n",
        "    model_image = pickle.load(pickle_file)\n",
        "\n",
        "with open('class_model99.mod', 'rb') as pickle_file:\n",
        "    model_expression = pickle.load(pickle_file)"
      ],
      "execution_count": null,
      "outputs": []
    },
    {
      "cell_type": "code",
      "metadata": {
        "id": "X07tBTjGlRDW"
      },
      "source": [
        "df_expression = pd.read_csv('https://raw.githubusercontent.com/CakeNuthep/Super_AI/master/Homework/Week4/thai-mnist-classification/test.rules.csv')"
      ],
      "execution_count": null,
      "outputs": []
    },
    {
      "cell_type": "code",
      "metadata": {
        "id": "Dcx3kqGZlRDb",
        "outputId": "8e7de771-de18-4747-ceab-cbf243265f83",
        "colab": {
          "base_uri": "https://localhost:8080/",
          "height": 570
        }
      },
      "source": [
        "df_expression"
      ],
      "execution_count": null,
      "outputs": [
        {
          "output_type": "execute_result",
          "data": {
            "text/html": [
              "<div>\n",
              "<style scoped>\n",
              "    .dataframe tbody tr th:only-of-type {\n",
              "        vertical-align: middle;\n",
              "    }\n",
              "\n",
              "    .dataframe tbody tr th {\n",
              "        vertical-align: top;\n",
              "    }\n",
              "\n",
              "    .dataframe thead th {\n",
              "        text-align: right;\n",
              "    }\n",
              "</style>\n",
              "<table border=\"1\" class=\"dataframe\">\n",
              "  <thead>\n",
              "    <tr style=\"text-align: right;\">\n",
              "      <th></th>\n",
              "      <th>id</th>\n",
              "      <th>feature1</th>\n",
              "      <th>feature2</th>\n",
              "      <th>feature3</th>\n",
              "      <th>predict</th>\n",
              "    </tr>\n",
              "  </thead>\n",
              "  <tbody>\n",
              "    <tr>\n",
              "      <th>0</th>\n",
              "      <td>7c5fda39-c4a6-4d49-a0f6-751c7cd72bb4</td>\n",
              "      <td>NaN</td>\n",
              "      <td>75606737-d17d-43eb-86e6-6735b6f45a52.png</td>\n",
              "      <td>800e3baf-9ab1-48c0-a9ce-46c5fac9ff69.png</td>\n",
              "      <td>9</td>\n",
              "    </tr>\n",
              "    <tr>\n",
              "      <th>1</th>\n",
              "      <td>7e15ec1b-fe36-4a9e-a1cd-7c160e6a1b9c</td>\n",
              "      <td>NaN</td>\n",
              "      <td>75606737-d17d-43eb-86e6-6735b6f45a52.png</td>\n",
              "      <td>800e3baf-9ab1-48c0-a9ce-46c5fac9ff69.png</td>\n",
              "      <td>9</td>\n",
              "    </tr>\n",
              "    <tr>\n",
              "      <th>2</th>\n",
              "      <td>96b5d8b6-61cd-49f2-b22f-16fe25483cbc</td>\n",
              "      <td>NaN</td>\n",
              "      <td>75606737-d17d-43eb-86e6-6735b6f45a52.png</td>\n",
              "      <td>800e3baf-9ab1-48c0-a9ce-46c5fac9ff69.png</td>\n",
              "      <td>9</td>\n",
              "    </tr>\n",
              "    <tr>\n",
              "      <th>3</th>\n",
              "      <td>84ce5493-7e0f-4aee-8bb7-f799d714b5b3</td>\n",
              "      <td>NaN</td>\n",
              "      <td>c40b7fc4-07f1-4c78-abac-121bde38e267.png</td>\n",
              "      <td>1b2e1b3d-46f2-4c3f-b741-a8d5099ce710.png</td>\n",
              "      <td>4</td>\n",
              "    </tr>\n",
              "    <tr>\n",
              "      <th>4</th>\n",
              "      <td>7cb117e7-d8f3-400b-aeb3-a84fa3fb54e8</td>\n",
              "      <td>NaN</td>\n",
              "      <td>c40b7fc4-07f1-4c78-abac-121bde38e267.png</td>\n",
              "      <td>1b2e1b3d-46f2-4c3f-b741-a8d5099ce710.png</td>\n",
              "      <td>4</td>\n",
              "    </tr>\n",
              "    <tr>\n",
              "      <th>...</th>\n",
              "      <td>...</td>\n",
              "      <td>...</td>\n",
              "      <td>...</td>\n",
              "      <td>...</td>\n",
              "      <td>...</td>\n",
              "    </tr>\n",
              "    <tr>\n",
              "      <th>5550</th>\n",
              "      <td>769b31a2-cb7e-4a89-89d6-efed3199872e</td>\n",
              "      <td>0c754c5d-4166-433e-ac4d-4d1c7ef8e30a.png</td>\n",
              "      <td>bee226cb-6fbf-4470-b2de-d98e5af6110a.png</td>\n",
              "      <td>8801b5ff-821c-477e-9ce7-f65199f75646.png</td>\n",
              "      <td>0</td>\n",
              "    </tr>\n",
              "    <tr>\n",
              "      <th>5551</th>\n",
              "      <td>9f603c3a-4475-4d4b-a3ee-e8f868979749</td>\n",
              "      <td>787e9fe5-cb37-4cc5-afbb-20351616ff71.png</td>\n",
              "      <td>90ef2abe-439b-4655-a932-5a8ca5a91b71.png</td>\n",
              "      <td>c39f05cf-17aa-4b7d-afd3-29667f039216.png</td>\n",
              "      <td>51</td>\n",
              "    </tr>\n",
              "    <tr>\n",
              "      <th>5552</th>\n",
              "      <td>f25bbfff-6fd9-41f5-b2c2-0059b1a76bc6</td>\n",
              "      <td>a8c56afb-35cf-473a-bcd9-0927f8b6994b.png</td>\n",
              "      <td>7d15bcf1-5141-480c-9265-70a74aa2ed27.png</td>\n",
              "      <td>8f9eba51-8123-4186-8b11-8d2d2d9d134a.png</td>\n",
              "      <td>55</td>\n",
              "    </tr>\n",
              "    <tr>\n",
              "      <th>5553</th>\n",
              "      <td>e550dbb5-5127-4828-ac5b-153e9229992e</td>\n",
              "      <td>70ffaa6c-25a1-435a-8413-a8ad26fc8d7d.png</td>\n",
              "      <td>9b2af0fb-f1be-4782-a614-23fa59a366d7.png</td>\n",
              "      <td>ca58239a-7a35-4c96-9b6a-451e112dc5da.png</td>\n",
              "      <td>67</td>\n",
              "    </tr>\n",
              "    <tr>\n",
              "      <th>5554</th>\n",
              "      <td>e5745008-b6f0-4f54-a643-75d5a10136c6</td>\n",
              "      <td>4ec2ba63-0845-4812-a3fa-1f5eda80de8e.png</td>\n",
              "      <td>8479e8d8-d592-4931-926c-17a84b02ad0a.png</td>\n",
              "      <td>0039e0ae-1560-4433-afd2-e12b647d33f3.png</td>\n",
              "      <td>22</td>\n",
              "    </tr>\n",
              "  </tbody>\n",
              "</table>\n",
              "<p>5555 rows × 5 columns</p>\n",
              "</div>"
            ],
            "text/plain": [
              "                                        id  ... predict\n",
              "0     7c5fda39-c4a6-4d49-a0f6-751c7cd72bb4  ...       9\n",
              "1     7e15ec1b-fe36-4a9e-a1cd-7c160e6a1b9c  ...       9\n",
              "2     96b5d8b6-61cd-49f2-b22f-16fe25483cbc  ...       9\n",
              "3     84ce5493-7e0f-4aee-8bb7-f799d714b5b3  ...       4\n",
              "4     7cb117e7-d8f3-400b-aeb3-a84fa3fb54e8  ...       4\n",
              "...                                    ...  ...     ...\n",
              "5550  769b31a2-cb7e-4a89-89d6-efed3199872e  ...       0\n",
              "5551  9f603c3a-4475-4d4b-a3ee-e8f868979749  ...      51\n",
              "5552  f25bbfff-6fd9-41f5-b2c2-0059b1a76bc6  ...      55\n",
              "5553  e550dbb5-5127-4828-ac5b-153e9229992e  ...      67\n",
              "5554  e5745008-b6f0-4f54-a643-75d5a10136c6  ...      22\n",
              "\n",
              "[5555 rows x 5 columns]"
            ]
          },
          "metadata": {
            "tags": []
          },
          "execution_count": 187
        }
      ]
    },
    {
      "cell_type": "code",
      "metadata": {
        "id": "-wCcjX81lRDh"
      },
      "source": [
        "df_expression.fillna(-1,inplace=True)"
      ],
      "execution_count": null,
      "outputs": []
    },
    {
      "cell_type": "code",
      "metadata": {
        "id": "wa6AoYORlRDl",
        "outputId": "594f9cb6-ad38-419e-da1e-a76f00a6f539",
        "colab": {
          "base_uri": "https://localhost:8080/",
          "height": 570
        }
      },
      "source": [
        "df_expression"
      ],
      "execution_count": null,
      "outputs": [
        {
          "output_type": "execute_result",
          "data": {
            "text/html": [
              "<div>\n",
              "<style scoped>\n",
              "    .dataframe tbody tr th:only-of-type {\n",
              "        vertical-align: middle;\n",
              "    }\n",
              "\n",
              "    .dataframe tbody tr th {\n",
              "        vertical-align: top;\n",
              "    }\n",
              "\n",
              "    .dataframe thead th {\n",
              "        text-align: right;\n",
              "    }\n",
              "</style>\n",
              "<table border=\"1\" class=\"dataframe\">\n",
              "  <thead>\n",
              "    <tr style=\"text-align: right;\">\n",
              "      <th></th>\n",
              "      <th>id</th>\n",
              "      <th>feature1</th>\n",
              "      <th>feature2</th>\n",
              "      <th>feature3</th>\n",
              "      <th>predict</th>\n",
              "    </tr>\n",
              "  </thead>\n",
              "  <tbody>\n",
              "    <tr>\n",
              "      <th>0</th>\n",
              "      <td>7c5fda39-c4a6-4d49-a0f6-751c7cd72bb4</td>\n",
              "      <td>-1</td>\n",
              "      <td>75606737-d17d-43eb-86e6-6735b6f45a52.png</td>\n",
              "      <td>800e3baf-9ab1-48c0-a9ce-46c5fac9ff69.png</td>\n",
              "      <td>9</td>\n",
              "    </tr>\n",
              "    <tr>\n",
              "      <th>1</th>\n",
              "      <td>7e15ec1b-fe36-4a9e-a1cd-7c160e6a1b9c</td>\n",
              "      <td>-1</td>\n",
              "      <td>75606737-d17d-43eb-86e6-6735b6f45a52.png</td>\n",
              "      <td>800e3baf-9ab1-48c0-a9ce-46c5fac9ff69.png</td>\n",
              "      <td>9</td>\n",
              "    </tr>\n",
              "    <tr>\n",
              "      <th>2</th>\n",
              "      <td>96b5d8b6-61cd-49f2-b22f-16fe25483cbc</td>\n",
              "      <td>-1</td>\n",
              "      <td>75606737-d17d-43eb-86e6-6735b6f45a52.png</td>\n",
              "      <td>800e3baf-9ab1-48c0-a9ce-46c5fac9ff69.png</td>\n",
              "      <td>9</td>\n",
              "    </tr>\n",
              "    <tr>\n",
              "      <th>3</th>\n",
              "      <td>84ce5493-7e0f-4aee-8bb7-f799d714b5b3</td>\n",
              "      <td>-1</td>\n",
              "      <td>c40b7fc4-07f1-4c78-abac-121bde38e267.png</td>\n",
              "      <td>1b2e1b3d-46f2-4c3f-b741-a8d5099ce710.png</td>\n",
              "      <td>4</td>\n",
              "    </tr>\n",
              "    <tr>\n",
              "      <th>4</th>\n",
              "      <td>7cb117e7-d8f3-400b-aeb3-a84fa3fb54e8</td>\n",
              "      <td>-1</td>\n",
              "      <td>c40b7fc4-07f1-4c78-abac-121bde38e267.png</td>\n",
              "      <td>1b2e1b3d-46f2-4c3f-b741-a8d5099ce710.png</td>\n",
              "      <td>4</td>\n",
              "    </tr>\n",
              "    <tr>\n",
              "      <th>...</th>\n",
              "      <td>...</td>\n",
              "      <td>...</td>\n",
              "      <td>...</td>\n",
              "      <td>...</td>\n",
              "      <td>...</td>\n",
              "    </tr>\n",
              "    <tr>\n",
              "      <th>5550</th>\n",
              "      <td>769b31a2-cb7e-4a89-89d6-efed3199872e</td>\n",
              "      <td>0c754c5d-4166-433e-ac4d-4d1c7ef8e30a.png</td>\n",
              "      <td>bee226cb-6fbf-4470-b2de-d98e5af6110a.png</td>\n",
              "      <td>8801b5ff-821c-477e-9ce7-f65199f75646.png</td>\n",
              "      <td>0</td>\n",
              "    </tr>\n",
              "    <tr>\n",
              "      <th>5551</th>\n",
              "      <td>9f603c3a-4475-4d4b-a3ee-e8f868979749</td>\n",
              "      <td>787e9fe5-cb37-4cc5-afbb-20351616ff71.png</td>\n",
              "      <td>90ef2abe-439b-4655-a932-5a8ca5a91b71.png</td>\n",
              "      <td>c39f05cf-17aa-4b7d-afd3-29667f039216.png</td>\n",
              "      <td>51</td>\n",
              "    </tr>\n",
              "    <tr>\n",
              "      <th>5552</th>\n",
              "      <td>f25bbfff-6fd9-41f5-b2c2-0059b1a76bc6</td>\n",
              "      <td>a8c56afb-35cf-473a-bcd9-0927f8b6994b.png</td>\n",
              "      <td>7d15bcf1-5141-480c-9265-70a74aa2ed27.png</td>\n",
              "      <td>8f9eba51-8123-4186-8b11-8d2d2d9d134a.png</td>\n",
              "      <td>55</td>\n",
              "    </tr>\n",
              "    <tr>\n",
              "      <th>5553</th>\n",
              "      <td>e550dbb5-5127-4828-ac5b-153e9229992e</td>\n",
              "      <td>70ffaa6c-25a1-435a-8413-a8ad26fc8d7d.png</td>\n",
              "      <td>9b2af0fb-f1be-4782-a614-23fa59a366d7.png</td>\n",
              "      <td>ca58239a-7a35-4c96-9b6a-451e112dc5da.png</td>\n",
              "      <td>67</td>\n",
              "    </tr>\n",
              "    <tr>\n",
              "      <th>5554</th>\n",
              "      <td>e5745008-b6f0-4f54-a643-75d5a10136c6</td>\n",
              "      <td>4ec2ba63-0845-4812-a3fa-1f5eda80de8e.png</td>\n",
              "      <td>8479e8d8-d592-4931-926c-17a84b02ad0a.png</td>\n",
              "      <td>0039e0ae-1560-4433-afd2-e12b647d33f3.png</td>\n",
              "      <td>22</td>\n",
              "    </tr>\n",
              "  </tbody>\n",
              "</table>\n",
              "<p>5555 rows × 5 columns</p>\n",
              "</div>"
            ],
            "text/plain": [
              "                                        id  ... predict\n",
              "0     7c5fda39-c4a6-4d49-a0f6-751c7cd72bb4  ...       9\n",
              "1     7e15ec1b-fe36-4a9e-a1cd-7c160e6a1b9c  ...       9\n",
              "2     96b5d8b6-61cd-49f2-b22f-16fe25483cbc  ...       9\n",
              "3     84ce5493-7e0f-4aee-8bb7-f799d714b5b3  ...       4\n",
              "4     7cb117e7-d8f3-400b-aeb3-a84fa3fb54e8  ...       4\n",
              "...                                    ...  ...     ...\n",
              "5550  769b31a2-cb7e-4a89-89d6-efed3199872e  ...       0\n",
              "5551  9f603c3a-4475-4d4b-a3ee-e8f868979749  ...      51\n",
              "5552  f25bbfff-6fd9-41f5-b2c2-0059b1a76bc6  ...      55\n",
              "5553  e550dbb5-5127-4828-ac5b-153e9229992e  ...      67\n",
              "5554  e5745008-b6f0-4f54-a643-75d5a10136c6  ...      22\n",
              "\n",
              "[5555 rows x 5 columns]"
            ]
          },
          "metadata": {
            "tags": []
          },
          "execution_count": 189
        }
      ]
    },
    {
      "cell_type": "code",
      "metadata": {
        "id": "DhhmiRnUlRDp"
      },
      "source": [
        "df_raw = df_expression[:100]"
      ],
      "execution_count": null,
      "outputs": []
    },
    {
      "cell_type": "code",
      "metadata": {
        "id": "rs2WfTv9lRDt",
        "outputId": "32dd48e8-044e-4ed7-ffa9-8d489cc0e1d7",
        "colab": {
          "base_uri": "https://localhost:8080/",
          "height": 202
        }
      },
      "source": [
        "list_number = []\n",
        "list_feature1 = []\n",
        "list_feature2 = []\n",
        "list_feature3 = []\n",
        "verbose = 10\n",
        "for index, row in df_raw.iterrows():\n",
        "  f1 = -1\n",
        "  f2 = -1\n",
        "  f3 = -1\n",
        "  if not(row['feature1'] == -1):\n",
        "    f1 = extract_feature(f'''https://github.com/CakeNuthep/Super_AI/blob/master/Homework/Week4/thai-mnist-classification/test/{row['feature1']}?raw=true''')\n",
        "  list_feature1.append(f1)\n",
        "\n",
        "  if not(row['feature2'] == -1):\n",
        "    f2 = extract_feature(f'''https://github.com/CakeNuthep/Super_AI/blob/master/Homework/Week4/thai-mnist-classification/test/{row['feature2']}?raw=true''')\n",
        "  list_feature2.append(f2)\n",
        "\n",
        "  if not(row['feature3'] == -1):\n",
        "    f3 = extract_feature(f'''https://github.com/CakeNuthep/Super_AI/blob/master/Homework/Week4/thai-mnist-classification/test/{row['feature3']}?raw=true''')\n",
        "  list_feature3.append(f3)\n",
        "\n",
        "  if index % verbose == 0:\n",
        "    print(f'''index:{index} data:{row['id']}, {row[1]}''')\n",
        "print(list_number)"
      ],
      "execution_count": null,
      "outputs": [
        {
          "output_type": "stream",
          "text": [
            "index:0 data:7c5fda39-c4a6-4d49-a0f6-751c7cd72bb4, -1\n",
            "index:10 data:b4d7ffd2-f5cd-4676-92ef-e7e277099401, -1\n",
            "index:20 data:212d10f0-96f0-4be3-a5a6-da9edd485109, -1\n",
            "index:30 data:b7617c46-2966-4fd6-807d-fd3fde26d51e, -1\n",
            "index:40 data:61e9cae8-cd93-4f12-8435-89111357b859, -1\n",
            "index:50 data:dfcc4a8a-aae6-48db-9a51-c93939335985, -1\n",
            "index:60 data:12334762-3cc9-40af-89cf-c1f148f5528f, -1\n",
            "index:70 data:41e3b3a3-33b6-48b3-9003-f0ad5f8da4ad, 945fb6be-2376-4216-b8bb-186a3a187b57.png\n",
            "index:80 data:1133ecf3-3d4a-4481-85d8-7c07b24149cc, -1\n",
            "index:90 data:2e365391-8043-4646-aac5-9ce2d5d59372, -1\n",
            "[]\n"
          ],
          "name": "stdout"
        }
      ]
    },
    {
      "cell_type": "code",
      "metadata": {
        "id": "BVK-FLzVlRDx",
        "outputId": "34099e16-dd89-4fba-8ff4-5ce6bc7323d9",
        "colab": {
          "base_uri": "https://localhost:8080/",
          "height": 319
        }
      },
      "source": [
        "df_raw['extract_feature1']=list_feature1\n",
        "df_raw['extract_feature2']=list_feature2\n",
        "df_raw['extract_feature3']=list_feature3"
      ],
      "execution_count": null,
      "outputs": [
        {
          "output_type": "stream",
          "text": [
            "/usr/local/lib/python3.6/dist-packages/ipykernel_launcher.py:1: SettingWithCopyWarning: \n",
            "A value is trying to be set on a copy of a slice from a DataFrame.\n",
            "Try using .loc[row_indexer,col_indexer] = value instead\n",
            "\n",
            "See the caveats in the documentation: https://pandas.pydata.org/pandas-docs/stable/user_guide/indexing.html#returning-a-view-versus-a-copy\n",
            "  \"\"\"Entry point for launching an IPython kernel.\n",
            "/usr/local/lib/python3.6/dist-packages/ipykernel_launcher.py:2: SettingWithCopyWarning: \n",
            "A value is trying to be set on a copy of a slice from a DataFrame.\n",
            "Try using .loc[row_indexer,col_indexer] = value instead\n",
            "\n",
            "See the caveats in the documentation: https://pandas.pydata.org/pandas-docs/stable/user_guide/indexing.html#returning-a-view-versus-a-copy\n",
            "  \n",
            "/usr/local/lib/python3.6/dist-packages/ipykernel_launcher.py:3: SettingWithCopyWarning: \n",
            "A value is trying to be set on a copy of a slice from a DataFrame.\n",
            "Try using .loc[row_indexer,col_indexer] = value instead\n",
            "\n",
            "See the caveats in the documentation: https://pandas.pydata.org/pandas-docs/stable/user_guide/indexing.html#returning-a-view-versus-a-copy\n",
            "  This is separate from the ipykernel package so we can avoid doing imports until\n"
          ],
          "name": "stderr"
        }
      ]
    },
    {
      "cell_type": "code",
      "metadata": {
        "id": "R5eC1MNElRD1",
        "outputId": "fb8683f2-72c1-4566-9ef0-e7daccbdb2f3",
        "colab": {
          "base_uri": "https://localhost:8080/",
          "height": 926
        }
      },
      "source": [
        "df_raw"
      ],
      "execution_count": null,
      "outputs": [
        {
          "output_type": "execute_result",
          "data": {
            "text/html": [
              "<div>\n",
              "<style scoped>\n",
              "    .dataframe tbody tr th:only-of-type {\n",
              "        vertical-align: middle;\n",
              "    }\n",
              "\n",
              "    .dataframe tbody tr th {\n",
              "        vertical-align: top;\n",
              "    }\n",
              "\n",
              "    .dataframe thead th {\n",
              "        text-align: right;\n",
              "    }\n",
              "</style>\n",
              "<table border=\"1\" class=\"dataframe\">\n",
              "  <thead>\n",
              "    <tr style=\"text-align: right;\">\n",
              "      <th></th>\n",
              "      <th>id</th>\n",
              "      <th>feature1</th>\n",
              "      <th>feature2</th>\n",
              "      <th>feature3</th>\n",
              "      <th>predict</th>\n",
              "      <th>extract_feature1</th>\n",
              "      <th>extract_feature2</th>\n",
              "      <th>extract_feature3</th>\n",
              "    </tr>\n",
              "  </thead>\n",
              "  <tbody>\n",
              "    <tr>\n",
              "      <th>0</th>\n",
              "      <td>7c5fda39-c4a6-4d49-a0f6-751c7cd72bb4</td>\n",
              "      <td>-1</td>\n",
              "      <td>75606737-d17d-43eb-86e6-6735b6f45a52.png</td>\n",
              "      <td>800e3baf-9ab1-48c0-a9ce-46c5fac9ff69.png</td>\n",
              "      <td>9</td>\n",
              "      <td>-1</td>\n",
              "      <td>[0.0, 0.0, 0.0, 0.0, 0.0, 0.027077599427040463...</td>\n",
              "      <td>[0.0002118274860775661, 0.0, 0.0, 0.0, 0.0, 0....</td>\n",
              "    </tr>\n",
              "    <tr>\n",
              "      <th>1</th>\n",
              "      <td>7e15ec1b-fe36-4a9e-a1cd-7c160e6a1b9c</td>\n",
              "      <td>-1</td>\n",
              "      <td>75606737-d17d-43eb-86e6-6735b6f45a52.png</td>\n",
              "      <td>800e3baf-9ab1-48c0-a9ce-46c5fac9ff69.png</td>\n",
              "      <td>9</td>\n",
              "      <td>-1</td>\n",
              "      <td>[0.0, 0.0, 0.0, 0.0, 0.0, 0.027077599427040463...</td>\n",
              "      <td>[0.0002118274860775661, 0.0, 0.0, 0.0, 0.0, 0....</td>\n",
              "    </tr>\n",
              "    <tr>\n",
              "      <th>2</th>\n",
              "      <td>96b5d8b6-61cd-49f2-b22f-16fe25483cbc</td>\n",
              "      <td>-1</td>\n",
              "      <td>75606737-d17d-43eb-86e6-6735b6f45a52.png</td>\n",
              "      <td>800e3baf-9ab1-48c0-a9ce-46c5fac9ff69.png</td>\n",
              "      <td>9</td>\n",
              "      <td>-1</td>\n",
              "      <td>[0.0, 0.0, 0.0, 0.0, 0.0, 0.027077599427040463...</td>\n",
              "      <td>[0.0002118274860775661, 0.0, 0.0, 0.0, 0.0, 0....</td>\n",
              "    </tr>\n",
              "    <tr>\n",
              "      <th>3</th>\n",
              "      <td>84ce5493-7e0f-4aee-8bb7-f799d714b5b3</td>\n",
              "      <td>-1</td>\n",
              "      <td>c40b7fc4-07f1-4c78-abac-121bde38e267.png</td>\n",
              "      <td>1b2e1b3d-46f2-4c3f-b741-a8d5099ce710.png</td>\n",
              "      <td>4</td>\n",
              "      <td>-1</td>\n",
              "      <td>[0.0, 0.0, 0.0, 0.0, 0.0, 0.0, 0.0, 0.0, 0.0, ...</td>\n",
              "      <td>[0.0, 0.0, 0.0, 0.0, 0.0, 0.0, 0.0, 0.0, 0.0, ...</td>\n",
              "    </tr>\n",
              "    <tr>\n",
              "      <th>4</th>\n",
              "      <td>7cb117e7-d8f3-400b-aeb3-a84fa3fb54e8</td>\n",
              "      <td>-1</td>\n",
              "      <td>c40b7fc4-07f1-4c78-abac-121bde38e267.png</td>\n",
              "      <td>1b2e1b3d-46f2-4c3f-b741-a8d5099ce710.png</td>\n",
              "      <td>4</td>\n",
              "      <td>-1</td>\n",
              "      <td>[0.0, 0.0, 0.0, 0.0, 0.0, 0.0, 0.0, 0.0, 0.0, ...</td>\n",
              "      <td>[0.0, 0.0, 0.0, 0.0, 0.0, 0.0, 0.0, 0.0, 0.0, ...</td>\n",
              "    </tr>\n",
              "    <tr>\n",
              "      <th>...</th>\n",
              "      <td>...</td>\n",
              "      <td>...</td>\n",
              "      <td>...</td>\n",
              "      <td>...</td>\n",
              "      <td>...</td>\n",
              "      <td>...</td>\n",
              "      <td>...</td>\n",
              "      <td>...</td>\n",
              "    </tr>\n",
              "    <tr>\n",
              "      <th>95</th>\n",
              "      <td>2a4a511c-9474-4686-ae5d-e010bfef579c</td>\n",
              "      <td>3e696f15-7ac9-40a2-9dd5-bf3d1a976a5c.png</td>\n",
              "      <td>a8164c5d-4bdd-416d-8ba1-5260c4737796.png</td>\n",
              "      <td>0aff6fc4-e8ad-4e0e-a7d7-70845918e396.png</td>\n",
              "      <td>8</td>\n",
              "      <td>[0.0024927747460115595, 0.0, 0.0, 0.0, 0.0, 0....</td>\n",
              "      <td>[0.0, 0.0, 0.0, 0.0, 0.0, 0.0, 0.0, 0.0, 0.0, ...</td>\n",
              "      <td>[0.0, 0.0, 0.0, 0.0, 0.0, 0.0, 0.0, 0.0, 0.0, ...</td>\n",
              "    </tr>\n",
              "    <tr>\n",
              "      <th>96</th>\n",
              "      <td>99f5cb47-f1e5-4a52-a216-24e0c91f3f5f</td>\n",
              "      <td>eda98be8-b684-485a-a820-053d0d6d287c.png</td>\n",
              "      <td>f4b3ddb4-2a2c-4b7a-ba85-5a7892c636a8.png</td>\n",
              "      <td>e010425c-a255-482c-bce2-792078286036.png</td>\n",
              "      <td>12</td>\n",
              "      <td>[0.0, 0.0, 0.0, 0.0, 0.0, 0.007040827244950632...</td>\n",
              "      <td>[0.0, 0.0, 0.0, 0.0, 0.0, 0.004771758297595033...</td>\n",
              "      <td>[0.0, 0.0, 0.0, 0.0, 0.0, 0.0, 0.0, 0.0, 0.0, ...</td>\n",
              "    </tr>\n",
              "    <tr>\n",
              "      <th>97</th>\n",
              "      <td>8d8f7da4-fd67-4570-b359-5449a75ad5e2</td>\n",
              "      <td>-1</td>\n",
              "      <td>b24087ab-d6fc-4ac3-be34-61c6d0bd4aec.png</td>\n",
              "      <td>d05b36d8-200f-46ff-9ed9-a52bed6b2bfa.png</td>\n",
              "      <td>8</td>\n",
              "      <td>-1</td>\n",
              "      <td>[0.0, 0.0, 0.0, 0.0, 0.0, 0.006661650901533529...</td>\n",
              "      <td>[0.0, 0.0, 0.0, 0.0, 0.0, 0.0, 0.0, 0.0, 0.0, ...</td>\n",
              "    </tr>\n",
              "    <tr>\n",
              "      <th>98</th>\n",
              "      <td>898b82f9-57dd-4012-a7a1-2c260c005aeb</td>\n",
              "      <td>-1</td>\n",
              "      <td>2bb8cec2-65e5-4c5c-ab0b-d2cb6c68e62e.png</td>\n",
              "      <td>8b7d2763-c1c6-4891-99f0-d67b8801aa3b.png</td>\n",
              "      <td>10</td>\n",
              "      <td>-1</td>\n",
              "      <td>[0.0, 0.006126226101279531, 0.0, 0.0, 0.0, 0.0...</td>\n",
              "      <td>[0.0, 0.0, 0.0, 0.0, 0.0, 0.0, 0.0, 0.0, 0.0, ...</td>\n",
              "    </tr>\n",
              "    <tr>\n",
              "      <th>99</th>\n",
              "      <td>9ee5726d-d1a5-4453-bc26-0be8dc06a52a</td>\n",
              "      <td>eadb07f5-53d1-4852-84a5-6bf9516d4fa6.png</td>\n",
              "      <td>620a637d-1360-4eb6-99ff-81d827496a94.png</td>\n",
              "      <td>91698b6b-0d7d-4ac6-9ea3-524b8f04653e.png</td>\n",
              "      <td>24</td>\n",
              "      <td>[0.0, 0.0, 0.0, 0.0, 0.0, 0.008656691717882168...</td>\n",
              "      <td>[0.0, 0.0, 0.0, 0.0, 0.0, 0.0, 0.0, 0.0, 0.0, ...</td>\n",
              "      <td>[0.0, 0.0, 0.0, 0.0, 0.0, 0.0, 0.0841389694252...</td>\n",
              "    </tr>\n",
              "  </tbody>\n",
              "</table>\n",
              "<p>100 rows × 8 columns</p>\n",
              "</div>"
            ],
            "text/plain": [
              "                                      id  ...                                   extract_feature3\n",
              "0   7c5fda39-c4a6-4d49-a0f6-751c7cd72bb4  ...  [0.0002118274860775661, 0.0, 0.0, 0.0, 0.0, 0....\n",
              "1   7e15ec1b-fe36-4a9e-a1cd-7c160e6a1b9c  ...  [0.0002118274860775661, 0.0, 0.0, 0.0, 0.0, 0....\n",
              "2   96b5d8b6-61cd-49f2-b22f-16fe25483cbc  ...  [0.0002118274860775661, 0.0, 0.0, 0.0, 0.0, 0....\n",
              "3   84ce5493-7e0f-4aee-8bb7-f799d714b5b3  ...  [0.0, 0.0, 0.0, 0.0, 0.0, 0.0, 0.0, 0.0, 0.0, ...\n",
              "4   7cb117e7-d8f3-400b-aeb3-a84fa3fb54e8  ...  [0.0, 0.0, 0.0, 0.0, 0.0, 0.0, 0.0, 0.0, 0.0, ...\n",
              "..                                   ...  ...                                                ...\n",
              "95  2a4a511c-9474-4686-ae5d-e010bfef579c  ...  [0.0, 0.0, 0.0, 0.0, 0.0, 0.0, 0.0, 0.0, 0.0, ...\n",
              "96  99f5cb47-f1e5-4a52-a216-24e0c91f3f5f  ...  [0.0, 0.0, 0.0, 0.0, 0.0, 0.0, 0.0, 0.0, 0.0, ...\n",
              "97  8d8f7da4-fd67-4570-b359-5449a75ad5e2  ...  [0.0, 0.0, 0.0, 0.0, 0.0, 0.0, 0.0, 0.0, 0.0, ...\n",
              "98  898b82f9-57dd-4012-a7a1-2c260c005aeb  ...  [0.0, 0.0, 0.0, 0.0, 0.0, 0.0, 0.0, 0.0, 0.0, ...\n",
              "99  9ee5726d-d1a5-4453-bc26-0be8dc06a52a  ...  [0.0, 0.0, 0.0, 0.0, 0.0, 0.0, 0.0841389694252...\n",
              "\n",
              "[100 rows x 8 columns]"
            ]
          },
          "metadata": {
            "tags": []
          },
          "execution_count": 193
        }
      ]
    },
    {
      "cell_type": "code",
      "metadata": {
        "id": "TrBMZu4ElRD4",
        "outputId": "5bef90bb-bf38-44b5-ec8e-f94d51c1b8de",
        "colab": {
          "base_uri": "https://localhost:8080/",
          "height": 218
        }
      },
      "source": [
        "df_raw['feature1'] != -1"
      ],
      "execution_count": null,
      "outputs": [
        {
          "output_type": "execute_result",
          "data": {
            "text/plain": [
              "0     False\n",
              "1     False\n",
              "2     False\n",
              "3     False\n",
              "4     False\n",
              "      ...  \n",
              "95     True\n",
              "96     True\n",
              "97    False\n",
              "98    False\n",
              "99     True\n",
              "Name: feature1, Length: 100, dtype: bool"
            ]
          },
          "metadata": {
            "tags": []
          },
          "execution_count": 194
        }
      ]
    },
    {
      "cell_type": "code",
      "metadata": {
        "id": "VQEJGvKGlRD6",
        "outputId": "4431b8db-42a7-4bf0-b5fd-12c22e9034e2",
        "colab": {
          "base_uri": "https://localhost:8080/",
          "height": 134
        }
      },
      "source": [
        "df_filter = df_raw[df_raw['feature1'] != -1]\n",
        "X = np.vstack(df_filter['extract_feature1'])\n",
        "print(X.shape)\n",
        "pre = model_image.predict(X)\n",
        "df_filter['feature1_label'] = pre\n",
        "df_feature_label = pd.concat([df_raw,df_filter['feature1_label']],axis=1)"
      ],
      "execution_count": null,
      "outputs": [
        {
          "output_type": "stream",
          "text": [
            "(10, 2048)\n"
          ],
          "name": "stdout"
        },
        {
          "output_type": "stream",
          "text": [
            "/usr/local/lib/python3.6/dist-packages/ipykernel_launcher.py:5: SettingWithCopyWarning: \n",
            "A value is trying to be set on a copy of a slice from a DataFrame.\n",
            "Try using .loc[row_indexer,col_indexer] = value instead\n",
            "\n",
            "See the caveats in the documentation: https://pandas.pydata.org/pandas-docs/stable/user_guide/indexing.html#returning-a-view-versus-a-copy\n",
            "  \"\"\"\n"
          ],
          "name": "stderr"
        }
      ]
    },
    {
      "cell_type": "code",
      "metadata": {
        "id": "vfLt5pJ2lRD9",
        "outputId": "4283fd58-7091-4ad4-cbc4-d07d5bcf94b4",
        "colab": {
          "base_uri": "https://localhost:8080/",
          "height": 34
        }
      },
      "source": [
        "df_filter = df_raw[df_raw['feature2'] != -1]\n",
        "X = np.vstack(df_filter['extract_feature2'])\n",
        "print(X.shape)\n",
        "pre = model_image.predict(X)\n",
        "df_filter['feature2_label'] = pre\n",
        "df_feature_label = pd.concat([df_feature_label,df_filter['feature2_label']],axis=1)"
      ],
      "execution_count": null,
      "outputs": [
        {
          "output_type": "stream",
          "text": [
            "(100, 2048)\n"
          ],
          "name": "stdout"
        }
      ]
    },
    {
      "cell_type": "code",
      "metadata": {
        "id": "SKKWLJn2lRD_",
        "outputId": "09f623c8-d485-44ca-bc68-d2476bbcb924",
        "colab": {
          "base_uri": "https://localhost:8080/",
          "height": 34
        }
      },
      "source": [
        "df_filter = df_raw[df_raw['feature3'] != -1]\n",
        "X = np.vstack(df_filter['extract_feature3'])\n",
        "print(X.shape)\n",
        "pre = model_image.predict(X)\n",
        "df_filter['feature3_label'] = pre\n",
        "df_feature_label = pd.concat([df_feature_label,df_filter['feature3_label']],axis=1)"
      ],
      "execution_count": null,
      "outputs": [
        {
          "output_type": "stream",
          "text": [
            "(100, 2048)\n"
          ],
          "name": "stdout"
        }
      ]
    },
    {
      "cell_type": "code",
      "metadata": {
        "id": "G6-cJhZYlREB",
        "outputId": "2cd27e66-9b4f-4d84-f821-1ee8a6d1db65",
        "colab": {
          "base_uri": "https://localhost:8080/",
          "height": 926
        }
      },
      "source": [
        "df_feature_label"
      ],
      "execution_count": null,
      "outputs": [
        {
          "output_type": "execute_result",
          "data": {
            "text/html": [
              "<div>\n",
              "<style scoped>\n",
              "    .dataframe tbody tr th:only-of-type {\n",
              "        vertical-align: middle;\n",
              "    }\n",
              "\n",
              "    .dataframe tbody tr th {\n",
              "        vertical-align: top;\n",
              "    }\n",
              "\n",
              "    .dataframe thead th {\n",
              "        text-align: right;\n",
              "    }\n",
              "</style>\n",
              "<table border=\"1\" class=\"dataframe\">\n",
              "  <thead>\n",
              "    <tr style=\"text-align: right;\">\n",
              "      <th></th>\n",
              "      <th>id</th>\n",
              "      <th>feature1</th>\n",
              "      <th>feature2</th>\n",
              "      <th>feature3</th>\n",
              "      <th>predict</th>\n",
              "      <th>extract_feature1</th>\n",
              "      <th>extract_feature2</th>\n",
              "      <th>extract_feature3</th>\n",
              "      <th>feature1_label</th>\n",
              "      <th>feature2_label</th>\n",
              "      <th>feature3_label</th>\n",
              "    </tr>\n",
              "  </thead>\n",
              "  <tbody>\n",
              "    <tr>\n",
              "      <th>0</th>\n",
              "      <td>7c5fda39-c4a6-4d49-a0f6-751c7cd72bb4</td>\n",
              "      <td>-1</td>\n",
              "      <td>75606737-d17d-43eb-86e6-6735b6f45a52.png</td>\n",
              "      <td>800e3baf-9ab1-48c0-a9ce-46c5fac9ff69.png</td>\n",
              "      <td>9</td>\n",
              "      <td>-1</td>\n",
              "      <td>[0.0, 0.0, 0.0, 0.0, 0.0, 0.027077599427040463...</td>\n",
              "      <td>[0.0002118274860775661, 0.0, 0.0, 0.0, 0.0, 0....</td>\n",
              "      <td>NaN</td>\n",
              "      <td>8</td>\n",
              "      <td>1</td>\n",
              "    </tr>\n",
              "    <tr>\n",
              "      <th>1</th>\n",
              "      <td>7e15ec1b-fe36-4a9e-a1cd-7c160e6a1b9c</td>\n",
              "      <td>-1</td>\n",
              "      <td>75606737-d17d-43eb-86e6-6735b6f45a52.png</td>\n",
              "      <td>800e3baf-9ab1-48c0-a9ce-46c5fac9ff69.png</td>\n",
              "      <td>9</td>\n",
              "      <td>-1</td>\n",
              "      <td>[0.0, 0.0, 0.0, 0.0, 0.0, 0.027077599427040463...</td>\n",
              "      <td>[0.0002118274860775661, 0.0, 0.0, 0.0, 0.0, 0....</td>\n",
              "      <td>NaN</td>\n",
              "      <td>8</td>\n",
              "      <td>1</td>\n",
              "    </tr>\n",
              "    <tr>\n",
              "      <th>2</th>\n",
              "      <td>96b5d8b6-61cd-49f2-b22f-16fe25483cbc</td>\n",
              "      <td>-1</td>\n",
              "      <td>75606737-d17d-43eb-86e6-6735b6f45a52.png</td>\n",
              "      <td>800e3baf-9ab1-48c0-a9ce-46c5fac9ff69.png</td>\n",
              "      <td>9</td>\n",
              "      <td>-1</td>\n",
              "      <td>[0.0, 0.0, 0.0, 0.0, 0.0, 0.027077599427040463...</td>\n",
              "      <td>[0.0002118274860775661, 0.0, 0.0, 0.0, 0.0, 0....</td>\n",
              "      <td>NaN</td>\n",
              "      <td>8</td>\n",
              "      <td>1</td>\n",
              "    </tr>\n",
              "    <tr>\n",
              "      <th>3</th>\n",
              "      <td>84ce5493-7e0f-4aee-8bb7-f799d714b5b3</td>\n",
              "      <td>-1</td>\n",
              "      <td>c40b7fc4-07f1-4c78-abac-121bde38e267.png</td>\n",
              "      <td>1b2e1b3d-46f2-4c3f-b741-a8d5099ce710.png</td>\n",
              "      <td>4</td>\n",
              "      <td>-1</td>\n",
              "      <td>[0.0, 0.0, 0.0, 0.0, 0.0, 0.0, 0.0, 0.0, 0.0, ...</td>\n",
              "      <td>[0.0, 0.0, 0.0, 0.0, 0.0, 0.0, 0.0, 0.0, 0.0, ...</td>\n",
              "      <td>NaN</td>\n",
              "      <td>0</td>\n",
              "      <td>4</td>\n",
              "    </tr>\n",
              "    <tr>\n",
              "      <th>4</th>\n",
              "      <td>7cb117e7-d8f3-400b-aeb3-a84fa3fb54e8</td>\n",
              "      <td>-1</td>\n",
              "      <td>c40b7fc4-07f1-4c78-abac-121bde38e267.png</td>\n",
              "      <td>1b2e1b3d-46f2-4c3f-b741-a8d5099ce710.png</td>\n",
              "      <td>4</td>\n",
              "      <td>-1</td>\n",
              "      <td>[0.0, 0.0, 0.0, 0.0, 0.0, 0.0, 0.0, 0.0, 0.0, ...</td>\n",
              "      <td>[0.0, 0.0, 0.0, 0.0, 0.0, 0.0, 0.0, 0.0, 0.0, ...</td>\n",
              "      <td>NaN</td>\n",
              "      <td>0</td>\n",
              "      <td>4</td>\n",
              "    </tr>\n",
              "    <tr>\n",
              "      <th>...</th>\n",
              "      <td>...</td>\n",
              "      <td>...</td>\n",
              "      <td>...</td>\n",
              "      <td>...</td>\n",
              "      <td>...</td>\n",
              "      <td>...</td>\n",
              "      <td>...</td>\n",
              "      <td>...</td>\n",
              "      <td>...</td>\n",
              "      <td>...</td>\n",
              "      <td>...</td>\n",
              "    </tr>\n",
              "    <tr>\n",
              "      <th>95</th>\n",
              "      <td>2a4a511c-9474-4686-ae5d-e010bfef579c</td>\n",
              "      <td>3e696f15-7ac9-40a2-9dd5-bf3d1a976a5c.png</td>\n",
              "      <td>a8164c5d-4bdd-416d-8ba1-5260c4737796.png</td>\n",
              "      <td>0aff6fc4-e8ad-4e0e-a7d7-70845918e396.png</td>\n",
              "      <td>8</td>\n",
              "      <td>[0.0024927747460115595, 0.0, 0.0, 0.0, 0.0, 0....</td>\n",
              "      <td>[0.0, 0.0, 0.0, 0.0, 0.0, 0.0, 0.0, 0.0, 0.0, ...</td>\n",
              "      <td>[0.0, 0.0, 0.0, 0.0, 0.0, 0.0, 0.0, 0.0, 0.0, ...</td>\n",
              "      <td>0.0</td>\n",
              "      <td>2</td>\n",
              "      <td>1</td>\n",
              "    </tr>\n",
              "    <tr>\n",
              "      <th>96</th>\n",
              "      <td>99f5cb47-f1e5-4a52-a216-24e0c91f3f5f</td>\n",
              "      <td>eda98be8-b684-485a-a820-053d0d6d287c.png</td>\n",
              "      <td>f4b3ddb4-2a2c-4b7a-ba85-5a7892c636a8.png</td>\n",
              "      <td>e010425c-a255-482c-bce2-792078286036.png</td>\n",
              "      <td>12</td>\n",
              "      <td>[0.0, 0.0, 0.0, 0.0, 0.0, 0.007040827244950632...</td>\n",
              "      <td>[0.0, 0.0, 0.0, 0.0, 0.0, 0.004771758297595033...</td>\n",
              "      <td>[0.0, 0.0, 0.0, 0.0, 0.0, 0.0, 0.0, 0.0, 0.0, ...</td>\n",
              "      <td>0.0</td>\n",
              "      <td>2</td>\n",
              "      <td>6</td>\n",
              "    </tr>\n",
              "    <tr>\n",
              "      <th>97</th>\n",
              "      <td>8d8f7da4-fd67-4570-b359-5449a75ad5e2</td>\n",
              "      <td>-1</td>\n",
              "      <td>b24087ab-d6fc-4ac3-be34-61c6d0bd4aec.png</td>\n",
              "      <td>d05b36d8-200f-46ff-9ed9-a52bed6b2bfa.png</td>\n",
              "      <td>8</td>\n",
              "      <td>-1</td>\n",
              "      <td>[0.0, 0.0, 0.0, 0.0, 0.0, 0.006661650901533529...</td>\n",
              "      <td>[0.0, 0.0, 0.0, 0.0, 0.0, 0.0, 0.0, 0.0, 0.0, ...</td>\n",
              "      <td>NaN</td>\n",
              "      <td>8</td>\n",
              "      <td>0</td>\n",
              "    </tr>\n",
              "    <tr>\n",
              "      <th>98</th>\n",
              "      <td>898b82f9-57dd-4012-a7a1-2c260c005aeb</td>\n",
              "      <td>-1</td>\n",
              "      <td>2bb8cec2-65e5-4c5c-ab0b-d2cb6c68e62e.png</td>\n",
              "      <td>8b7d2763-c1c6-4891-99f0-d67b8801aa3b.png</td>\n",
              "      <td>10</td>\n",
              "      <td>-1</td>\n",
              "      <td>[0.0, 0.006126226101279531, 0.0, 0.0, 0.0, 0.0...</td>\n",
              "      <td>[0.0, 0.0, 0.0, 0.0, 0.0, 0.0, 0.0, 0.0, 0.0, ...</td>\n",
              "      <td>NaN</td>\n",
              "      <td>4</td>\n",
              "      <td>6</td>\n",
              "    </tr>\n",
              "    <tr>\n",
              "      <th>99</th>\n",
              "      <td>9ee5726d-d1a5-4453-bc26-0be8dc06a52a</td>\n",
              "      <td>eadb07f5-53d1-4852-84a5-6bf9516d4fa6.png</td>\n",
              "      <td>620a637d-1360-4eb6-99ff-81d827496a94.png</td>\n",
              "      <td>91698b6b-0d7d-4ac6-9ea3-524b8f04653e.png</td>\n",
              "      <td>24</td>\n",
              "      <td>[0.0, 0.0, 0.0, 0.0, 0.0, 0.008656691717882168...</td>\n",
              "      <td>[0.0, 0.0, 0.0, 0.0, 0.0, 0.0, 0.0, 0.0, 0.0, ...</td>\n",
              "      <td>[0.0, 0.0, 0.0, 0.0, 0.0, 0.0, 0.0841389694252...</td>\n",
              "      <td>0.0</td>\n",
              "      <td>7</td>\n",
              "      <td>6</td>\n",
              "    </tr>\n",
              "  </tbody>\n",
              "</table>\n",
              "<p>100 rows × 11 columns</p>\n",
              "</div>"
            ],
            "text/plain": [
              "                                      id  ... feature3_label\n",
              "0   7c5fda39-c4a6-4d49-a0f6-751c7cd72bb4  ...              1\n",
              "1   7e15ec1b-fe36-4a9e-a1cd-7c160e6a1b9c  ...              1\n",
              "2   96b5d8b6-61cd-49f2-b22f-16fe25483cbc  ...              1\n",
              "3   84ce5493-7e0f-4aee-8bb7-f799d714b5b3  ...              4\n",
              "4   7cb117e7-d8f3-400b-aeb3-a84fa3fb54e8  ...              4\n",
              "..                                   ...  ...            ...\n",
              "95  2a4a511c-9474-4686-ae5d-e010bfef579c  ...              1\n",
              "96  99f5cb47-f1e5-4a52-a216-24e0c91f3f5f  ...              6\n",
              "97  8d8f7da4-fd67-4570-b359-5449a75ad5e2  ...              0\n",
              "98  898b82f9-57dd-4012-a7a1-2c260c005aeb  ...              6\n",
              "99  9ee5726d-d1a5-4453-bc26-0be8dc06a52a  ...              6\n",
              "\n",
              "[100 rows x 11 columns]"
            ]
          },
          "metadata": {
            "tags": []
          },
          "execution_count": 199
        }
      ]
    },
    {
      "cell_type": "code",
      "metadata": {
        "id": "eab8NHJGlRED"
      },
      "source": [
        "df_feature_label.fillna(-1,inplace=True)"
      ],
      "execution_count": null,
      "outputs": []
    },
    {
      "cell_type": "code",
      "metadata": {
        "id": "48Hafrx-lREG"
      },
      "source": [
        "X = np.array(df_feature_label[['feature1_label','feature2_label','feature3_label']])"
      ],
      "execution_count": null,
      "outputs": []
    },
    {
      "cell_type": "code",
      "metadata": {
        "id": "Uem3u1BAlREI"
      },
      "source": [
        "ml_predict = model_expression.predict(X)"
      ],
      "execution_count": null,
      "outputs": []
    },
    {
      "cell_type": "code",
      "metadata": {
        "id": "46pWuO_5lREL",
        "outputId": "ceb09cac-da69-4a00-9918-b6be7354c0dd",
        "colab": {
          "base_uri": "https://localhost:8080/",
          "height": 218
        }
      },
      "source": [
        "df_feature_label['predict'] == ml_predict"
      ],
      "execution_count": null,
      "outputs": [
        {
          "output_type": "execute_result",
          "data": {
            "text/plain": [
              "0      True\n",
              "1      True\n",
              "2      True\n",
              "3      True\n",
              "4      True\n",
              "      ...  \n",
              "95    False\n",
              "96     True\n",
              "97     True\n",
              "98     True\n",
              "99    False\n",
              "Name: predict, Length: 100, dtype: bool"
            ]
          },
          "metadata": {
            "tags": []
          },
          "execution_count": 213
        }
      ]
    },
    {
      "cell_type": "code",
      "metadata": {
        "id": "AATfy078lREN"
      },
      "source": [
        "acc = sum(df_feature_label['predict'] == ml_predict)/len(ml_predict)"
      ],
      "execution_count": null,
      "outputs": []
    },
    {
      "cell_type": "code",
      "metadata": {
        "id": "VgJGPCjOlREO",
        "outputId": "78bf730e-dbc0-4bab-8f87-f1da470693bd",
        "colab": {
          "base_uri": "https://localhost:8080/",
          "height": 34
        }
      },
      "source": [
        "acc"
      ],
      "execution_count": null,
      "outputs": [
        {
          "output_type": "execute_result",
          "data": {
            "text/plain": [
              "0.72"
            ]
          },
          "metadata": {
            "tags": []
          },
          "execution_count": 215
        }
      ]
    }
  ]
}