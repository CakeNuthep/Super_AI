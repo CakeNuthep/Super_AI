{
  "nbformat": 4,
  "nbformat_minor": 0,
  "metadata": {
    "colab": {
      "name": "Untitled11.ipynb",
      "provenance": [],
      "authorship_tag": "ABX9TyNorRIGWOikt5ldUibAHS1q",
      "include_colab_link": true
    },
    "kernelspec": {
      "name": "python3",
      "display_name": "Python 3"
    }
  },
  "cells": [
    {
      "cell_type": "markdown",
      "metadata": {
        "id": "view-in-github",
        "colab_type": "text"
      },
      "source": [
        "<a href=\"https://colab.research.google.com/github/CakeNuthep/Super_AI/blob/master/Homework/Week4/Class99.ipynb\" target=\"_parent\"><img src=\"https://colab.research.google.com/assets/colab-badge.svg\" alt=\"Open In Colab\"/></a>"
      ]
    },
    {
      "cell_type": "code",
      "metadata": {
        "id": "47YzoQo_wlVw"
      },
      "source": [
        "import pandas as pd\n",
        "import numpy as np\n",
        "import matplotlib.pyplot as plt\n",
        "import seaborn as sns\n",
        "import seaborn as sns\n",
        "import datetime as dt\n",
        "from sklearn.utils import resample, shuffle"
      ],
      "execution_count": 3,
      "outputs": []
    },
    {
      "cell_type": "code",
      "metadata": {
        "id": "4KuPboXvxBK2"
      },
      "source": [
        "df_map = pd.read_csv('https://raw.githubusercontent.com/CakeNuthep/Super_AI/master/Homework/Week4/thai-mnist-classification/mnist.train.map.csv')"
      ],
      "execution_count": 4,
      "outputs": []
    },
    {
      "cell_type": "code",
      "metadata": {
        "id": "Gm6QYfFPwUF_"
      },
      "source": [
        "df_compete = pd.read_csv('https://raw.githubusercontent.com/CakeNuthep/Super_AI/master/Homework/Week4/thai-mnist-classification/train.rules.csv')"
      ],
      "execution_count": 5,
      "outputs": []
    },
    {
      "cell_type": "code",
      "metadata": {
        "id": "FXuaa5eGwzD3",
        "outputId": "6cb02b24-9b48-4918-e77c-5268e6c2002c",
        "colab": {
          "base_uri": "https://localhost:8080/",
          "height": 419
        }
      },
      "source": [
        "df_compete"
      ],
      "execution_count": 6,
      "outputs": [
        {
          "output_type": "execute_result",
          "data": {
            "text/html": [
              "<div>\n",
              "<style scoped>\n",
              "    .dataframe tbody tr th:only-of-type {\n",
              "        vertical-align: middle;\n",
              "    }\n",
              "\n",
              "    .dataframe tbody tr th {\n",
              "        vertical-align: top;\n",
              "    }\n",
              "\n",
              "    .dataframe thead th {\n",
              "        text-align: right;\n",
              "    }\n",
              "</style>\n",
              "<table border=\"1\" class=\"dataframe\">\n",
              "  <thead>\n",
              "    <tr style=\"text-align: right;\">\n",
              "      <th></th>\n",
              "      <th>id</th>\n",
              "      <th>feature1</th>\n",
              "      <th>feature2</th>\n",
              "      <th>feature3</th>\n",
              "      <th>predict</th>\n",
              "    </tr>\n",
              "  </thead>\n",
              "  <tbody>\n",
              "    <tr>\n",
              "      <th>0</th>\n",
              "      <td>7c5fda39-c4a6-4d49-a0f6-751c7cd72bb4</td>\n",
              "      <td>NaN</td>\n",
              "      <td>75606737-d17d-43eb-86e6-6735b6f45a52.png</td>\n",
              "      <td>800e3baf-9ab1-48c0-a9ce-46c5fac9ff69.png</td>\n",
              "      <td>9</td>\n",
              "    </tr>\n",
              "    <tr>\n",
              "      <th>1</th>\n",
              "      <td>7e15ec1b-fe36-4a9e-a1cd-7c160e6a1b9c</td>\n",
              "      <td>NaN</td>\n",
              "      <td>75606737-d17d-43eb-86e6-6735b6f45a52.png</td>\n",
              "      <td>800e3baf-9ab1-48c0-a9ce-46c5fac9ff69.png</td>\n",
              "      <td>9</td>\n",
              "    </tr>\n",
              "    <tr>\n",
              "      <th>2</th>\n",
              "      <td>96b5d8b6-61cd-49f2-b22f-16fe25483cbc</td>\n",
              "      <td>NaN</td>\n",
              "      <td>75606737-d17d-43eb-86e6-6735b6f45a52.png</td>\n",
              "      <td>800e3baf-9ab1-48c0-a9ce-46c5fac9ff69.png</td>\n",
              "      <td>9</td>\n",
              "    </tr>\n",
              "    <tr>\n",
              "      <th>3</th>\n",
              "      <td>84ce5493-7e0f-4aee-8bb7-f799d714b5b3</td>\n",
              "      <td>NaN</td>\n",
              "      <td>c40b7fc4-07f1-4c78-abac-121bde38e267.png</td>\n",
              "      <td>1b2e1b3d-46f2-4c3f-b741-a8d5099ce710.png</td>\n",
              "      <td>4</td>\n",
              "    </tr>\n",
              "    <tr>\n",
              "      <th>4</th>\n",
              "      <td>7cb117e7-d8f3-400b-aeb3-a84fa3fb54e8</td>\n",
              "      <td>NaN</td>\n",
              "      <td>c40b7fc4-07f1-4c78-abac-121bde38e267.png</td>\n",
              "      <td>1b2e1b3d-46f2-4c3f-b741-a8d5099ce710.png</td>\n",
              "      <td>4</td>\n",
              "    </tr>\n",
              "    <tr>\n",
              "      <th>...</th>\n",
              "      <td>...</td>\n",
              "      <td>...</td>\n",
              "      <td>...</td>\n",
              "      <td>...</td>\n",
              "      <td>...</td>\n",
              "    </tr>\n",
              "    <tr>\n",
              "      <th>5550</th>\n",
              "      <td>769b31a2-cb7e-4a89-89d6-efed3199872e</td>\n",
              "      <td>0c754c5d-4166-433e-ac4d-4d1c7ef8e30a.png</td>\n",
              "      <td>bee226cb-6fbf-4470-b2de-d98e5af6110a.png</td>\n",
              "      <td>8801b5ff-821c-477e-9ce7-f65199f75646.png</td>\n",
              "      <td>0</td>\n",
              "    </tr>\n",
              "    <tr>\n",
              "      <th>5551</th>\n",
              "      <td>9f603c3a-4475-4d4b-a3ee-e8f868979749</td>\n",
              "      <td>787e9fe5-cb37-4cc5-afbb-20351616ff71.png</td>\n",
              "      <td>90ef2abe-439b-4655-a932-5a8ca5a91b71.png</td>\n",
              "      <td>c39f05cf-17aa-4b7d-afd3-29667f039216.png</td>\n",
              "      <td>51</td>\n",
              "    </tr>\n",
              "    <tr>\n",
              "      <th>5552</th>\n",
              "      <td>f25bbfff-6fd9-41f5-b2c2-0059b1a76bc6</td>\n",
              "      <td>a8c56afb-35cf-473a-bcd9-0927f8b6994b.png</td>\n",
              "      <td>7d15bcf1-5141-480c-9265-70a74aa2ed27.png</td>\n",
              "      <td>8f9eba51-8123-4186-8b11-8d2d2d9d134a.png</td>\n",
              "      <td>55</td>\n",
              "    </tr>\n",
              "    <tr>\n",
              "      <th>5553</th>\n",
              "      <td>e550dbb5-5127-4828-ac5b-153e9229992e</td>\n",
              "      <td>70ffaa6c-25a1-435a-8413-a8ad26fc8d7d.png</td>\n",
              "      <td>9b2af0fb-f1be-4782-a614-23fa59a366d7.png</td>\n",
              "      <td>ca58239a-7a35-4c96-9b6a-451e112dc5da.png</td>\n",
              "      <td>67</td>\n",
              "    </tr>\n",
              "    <tr>\n",
              "      <th>5554</th>\n",
              "      <td>e5745008-b6f0-4f54-a643-75d5a10136c6</td>\n",
              "      <td>4ec2ba63-0845-4812-a3fa-1f5eda80de8e.png</td>\n",
              "      <td>8479e8d8-d592-4931-926c-17a84b02ad0a.png</td>\n",
              "      <td>0039e0ae-1560-4433-afd2-e12b647d33f3.png</td>\n",
              "      <td>22</td>\n",
              "    </tr>\n",
              "  </tbody>\n",
              "</table>\n",
              "<p>5555 rows × 5 columns</p>\n",
              "</div>"
            ],
            "text/plain": [
              "                                        id  ... predict\n",
              "0     7c5fda39-c4a6-4d49-a0f6-751c7cd72bb4  ...       9\n",
              "1     7e15ec1b-fe36-4a9e-a1cd-7c160e6a1b9c  ...       9\n",
              "2     96b5d8b6-61cd-49f2-b22f-16fe25483cbc  ...       9\n",
              "3     84ce5493-7e0f-4aee-8bb7-f799d714b5b3  ...       4\n",
              "4     7cb117e7-d8f3-400b-aeb3-a84fa3fb54e8  ...       4\n",
              "...                                    ...  ...     ...\n",
              "5550  769b31a2-cb7e-4a89-89d6-efed3199872e  ...       0\n",
              "5551  9f603c3a-4475-4d4b-a3ee-e8f868979749  ...      51\n",
              "5552  f25bbfff-6fd9-41f5-b2c2-0059b1a76bc6  ...      55\n",
              "5553  e550dbb5-5127-4828-ac5b-153e9229992e  ...      67\n",
              "5554  e5745008-b6f0-4f54-a643-75d5a10136c6  ...      22\n",
              "\n",
              "[5555 rows x 5 columns]"
            ]
          },
          "metadata": {
            "tags": []
          },
          "execution_count": 6
        }
      ]
    },
    {
      "cell_type": "code",
      "metadata": {
        "id": "orWk8cilxdsn"
      },
      "source": [
        "df_map_unique = df_map.drop_duplicates()\n"
      ],
      "execution_count": 7,
      "outputs": []
    },
    {
      "cell_type": "code",
      "metadata": {
        "id": "QJpEPqYgxsVm",
        "outputId": "ba5c1a44-a646-4178-b7c9-d51c2a5c8444",
        "colab": {
          "base_uri": "https://localhost:8080/",
          "height": 419
        }
      },
      "source": [
        "df_map_unique"
      ],
      "execution_count": 8,
      "outputs": [
        {
          "output_type": "execute_result",
          "data": {
            "text/html": [
              "<div>\n",
              "<style scoped>\n",
              "    .dataframe tbody tr th:only-of-type {\n",
              "        vertical-align: middle;\n",
              "    }\n",
              "\n",
              "    .dataframe tbody tr th {\n",
              "        vertical-align: top;\n",
              "    }\n",
              "\n",
              "    .dataframe thead th {\n",
              "        text-align: right;\n",
              "    }\n",
              "</style>\n",
              "<table border=\"1\" class=\"dataframe\">\n",
              "  <thead>\n",
              "    <tr style=\"text-align: right;\">\n",
              "      <th></th>\n",
              "      <th>id</th>\n",
              "      <th>category</th>\n",
              "    </tr>\n",
              "  </thead>\n",
              "  <tbody>\n",
              "    <tr>\n",
              "      <th>0</th>\n",
              "      <td>75606737-d17d-43eb-86e6-6735b6f45a52.png</td>\n",
              "      <td>8</td>\n",
              "    </tr>\n",
              "    <tr>\n",
              "      <th>1</th>\n",
              "      <td>800e3baf-9ab1-48c0-a9ce-46c5fac9ff69.png</td>\n",
              "      <td>1</td>\n",
              "    </tr>\n",
              "    <tr>\n",
              "      <th>2</th>\n",
              "      <td>c40b7fc4-07f1-4c78-abac-121bde38e267.png</td>\n",
              "      <td>0</td>\n",
              "    </tr>\n",
              "    <tr>\n",
              "      <th>3</th>\n",
              "      <td>1b2e1b3d-46f2-4c3f-b741-a8d5099ce710.png</td>\n",
              "      <td>4</td>\n",
              "    </tr>\n",
              "    <tr>\n",
              "      <th>4</th>\n",
              "      <td>b8fd3385-9403-48a4-9d9e-74bde635e688.png</td>\n",
              "      <td>9</td>\n",
              "    </tr>\n",
              "    <tr>\n",
              "      <th>...</th>\n",
              "      <td>...</td>\n",
              "      <td>...</td>\n",
              "    </tr>\n",
              "    <tr>\n",
              "      <th>8250</th>\n",
              "      <td>9b2af0fb-f1be-4782-a614-23fa59a366d7.png</td>\n",
              "      <td>8</td>\n",
              "    </tr>\n",
              "    <tr>\n",
              "      <th>8251</th>\n",
              "      <td>ca58239a-7a35-4c96-9b6a-451e112dc5da.png</td>\n",
              "      <td>6</td>\n",
              "    </tr>\n",
              "    <tr>\n",
              "      <th>8252</th>\n",
              "      <td>4ec2ba63-0845-4812-a3fa-1f5eda80de8e.png</td>\n",
              "      <td>8</td>\n",
              "    </tr>\n",
              "    <tr>\n",
              "      <th>8253</th>\n",
              "      <td>8479e8d8-d592-4931-926c-17a84b02ad0a.png</td>\n",
              "      <td>2</td>\n",
              "    </tr>\n",
              "    <tr>\n",
              "      <th>8254</th>\n",
              "      <td>0039e0ae-1560-4433-afd2-e12b647d33f3.png</td>\n",
              "      <td>3</td>\n",
              "    </tr>\n",
              "  </tbody>\n",
              "</table>\n",
              "<p>8255 rows × 2 columns</p>\n",
              "</div>"
            ],
            "text/plain": [
              "                                            id  category\n",
              "0     75606737-d17d-43eb-86e6-6735b6f45a52.png         8\n",
              "1     800e3baf-9ab1-48c0-a9ce-46c5fac9ff69.png         1\n",
              "2     c40b7fc4-07f1-4c78-abac-121bde38e267.png         0\n",
              "3     1b2e1b3d-46f2-4c3f-b741-a8d5099ce710.png         4\n",
              "4     b8fd3385-9403-48a4-9d9e-74bde635e688.png         9\n",
              "...                                        ...       ...\n",
              "8250  9b2af0fb-f1be-4782-a614-23fa59a366d7.png         8\n",
              "8251  ca58239a-7a35-4c96-9b6a-451e112dc5da.png         6\n",
              "8252  4ec2ba63-0845-4812-a3fa-1f5eda80de8e.png         8\n",
              "8253  8479e8d8-d592-4931-926c-17a84b02ad0a.png         2\n",
              "8254  0039e0ae-1560-4433-afd2-e12b647d33f3.png         3\n",
              "\n",
              "[8255 rows x 2 columns]"
            ]
          },
          "metadata": {
            "tags": []
          },
          "execution_count": 8
        }
      ]
    },
    {
      "cell_type": "code",
      "metadata": {
        "id": "fZW3GXRyxLoF",
        "outputId": "5e8f73a4-9f16-4850-ba91-118f08933aca",
        "colab": {
          "base_uri": "https://localhost:8080/",
          "height": 34
        }
      },
      "source": [
        "len(df_map['id'].unique())"
      ],
      "execution_count": 9,
      "outputs": [
        {
          "output_type": "execute_result",
          "data": {
            "text/plain": [
              "8255"
            ]
          },
          "metadata": {
            "tags": []
          },
          "execution_count": 9
        }
      ]
    },
    {
      "cell_type": "code",
      "metadata": {
        "id": "pvFRJ6sKzCmb",
        "outputId": "db9f95ab-ae2f-4dff-df2e-d68901a2560e",
        "colab": {
          "base_uri": "https://localhost:8080/",
          "height": 265
        }
      },
      "source": [
        "df_compete['predict'].hist()\n",
        "plt.show()"
      ],
      "execution_count": 10,
      "outputs": [
        {
          "output_type": "display_data",
          "data": {
            "image/png": "[encoded data removed]",
            "text/plain": [
              "<Figure size 432x288 with 1 Axes>"
            ]
          },
          "metadata": {
            "tags": [],
            "needs_background": "light"
          }
        }
      ]
    },
    {
      "cell_type": "code",
      "metadata": {
        "id": "U3V8Xx_Q04fy",
        "outputId": "429b3fbb-4566-404c-e92e-fad0c537af31",
        "colab": {
          "base_uri": "https://localhost:8080/",
          "height": 481
        }
      },
      "source": [
        "df_compete.groupby(['predict']).agg(['count'])"
      ],
      "execution_count": 11,
      "outputs": [
        {
          "output_type": "execute_result",
          "data": {
            "text/html": [
              "<div>\n",
              "<style scoped>\n",
              "    .dataframe tbody tr th:only-of-type {\n",
              "        vertical-align: middle;\n",
              "    }\n",
              "\n",
              "    .dataframe tbody tr th {\n",
              "        vertical-align: top;\n",
              "    }\n",
              "\n",
              "    .dataframe thead tr th {\n",
              "        text-align: left;\n",
              "    }\n",
              "\n",
              "    .dataframe thead tr:last-of-type th {\n",
              "        text-align: right;\n",
              "    }\n",
              "</style>\n",
              "<table border=\"1\" class=\"dataframe\">\n",
              "  <thead>\n",
              "    <tr>\n",
              "      <th></th>\n",
              "      <th>id</th>\n",
              "      <th>feature1</th>\n",
              "      <th>feature2</th>\n",
              "      <th>feature3</th>\n",
              "    </tr>\n",
              "    <tr>\n",
              "      <th></th>\n",
              "      <th>count</th>\n",
              "      <th>count</th>\n",
              "      <th>count</th>\n",
              "      <th>count</th>\n",
              "    </tr>\n",
              "    <tr>\n",
              "      <th>predict</th>\n",
              "      <th></th>\n",
              "      <th></th>\n",
              "      <th></th>\n",
              "      <th></th>\n",
              "    </tr>\n",
              "  </thead>\n",
              "  <tbody>\n",
              "    <tr>\n",
              "      <th>0</th>\n",
              "      <td>645</td>\n",
              "      <td>641</td>\n",
              "      <td>645</td>\n",
              "      <td>645</td>\n",
              "    </tr>\n",
              "    <tr>\n",
              "      <th>1</th>\n",
              "      <td>345</td>\n",
              "      <td>334</td>\n",
              "      <td>345</td>\n",
              "      <td>345</td>\n",
              "    </tr>\n",
              "    <tr>\n",
              "      <th>2</th>\n",
              "      <td>291</td>\n",
              "      <td>283</td>\n",
              "      <td>291</td>\n",
              "      <td>291</td>\n",
              "    </tr>\n",
              "    <tr>\n",
              "      <th>3</th>\n",
              "      <td>319</td>\n",
              "      <td>314</td>\n",
              "      <td>319</td>\n",
              "      <td>319</td>\n",
              "    </tr>\n",
              "    <tr>\n",
              "      <th>4</th>\n",
              "      <td>252</td>\n",
              "      <td>239</td>\n",
              "      <td>252</td>\n",
              "      <td>252</td>\n",
              "    </tr>\n",
              "    <tr>\n",
              "      <th>...</th>\n",
              "      <td>...</td>\n",
              "      <td>...</td>\n",
              "      <td>...</td>\n",
              "      <td>...</td>\n",
              "    </tr>\n",
              "    <tr>\n",
              "      <th>88</th>\n",
              "      <td>8</td>\n",
              "      <td>8</td>\n",
              "      <td>8</td>\n",
              "      <td>8</td>\n",
              "    </tr>\n",
              "    <tr>\n",
              "      <th>90</th>\n",
              "      <td>1</td>\n",
              "      <td>1</td>\n",
              "      <td>1</td>\n",
              "      <td>1</td>\n",
              "    </tr>\n",
              "    <tr>\n",
              "      <th>96</th>\n",
              "      <td>1</td>\n",
              "      <td>1</td>\n",
              "      <td>1</td>\n",
              "      <td>1</td>\n",
              "    </tr>\n",
              "    <tr>\n",
              "      <th>97</th>\n",
              "      <td>1</td>\n",
              "      <td>1</td>\n",
              "      <td>1</td>\n",
              "      <td>1</td>\n",
              "    </tr>\n",
              "    <tr>\n",
              "      <th>98</th>\n",
              "      <td>3</td>\n",
              "      <td>3</td>\n",
              "      <td>3</td>\n",
              "      <td>3</td>\n",
              "    </tr>\n",
              "  </tbody>\n",
              "</table>\n",
              "<p>74 rows × 4 columns</p>\n",
              "</div>"
            ],
            "text/plain": [
              "           id feature1 feature2 feature3\n",
              "        count    count    count    count\n",
              "predict                                 \n",
              "0         645      641      645      645\n",
              "1         345      334      345      345\n",
              "2         291      283      291      291\n",
              "3         319      314      319      319\n",
              "4         252      239      252      252\n",
              "...       ...      ...      ...      ...\n",
              "88          8        8        8        8\n",
              "90          1        1        1        1\n",
              "96          1        1        1        1\n",
              "97          1        1        1        1\n",
              "98          3        3        3        3\n",
              "\n",
              "[74 rows x 4 columns]"
            ]
          },
          "metadata": {
            "tags": []
          },
          "execution_count": 11
        }
      ]
    },
    {
      "cell_type": "markdown",
      "metadata": {
        "id": "7csJKDZLzkGf"
      },
      "source": [
        "# Over Sample"
      ]
    },
    {
      "cell_type": "code",
      "metadata": {
        "id": "qWWL7WZFzmp0"
      },
      "source": [
        "max_size = df_compete['predict'].value_counts().max()"
      ],
      "execution_count": 12,
      "outputs": []
    },
    {
      "cell_type": "code",
      "metadata": {
        "id": "s-j37DZmzwpu"
      },
      "source": [
        "lst = [df_compete]\n",
        "for class_index, group in df_compete.groupby('predict'):\n",
        "    lst.append(group.sample(max_size-len(group), replace=True))\n",
        "df_upsampled = pd.concat(lst)"
      ],
      "execution_count": 13,
      "outputs": []
    },
    {
      "cell_type": "code",
      "metadata": {
        "id": "DZfcnZpHz4Tj",
        "outputId": "5df064b0-c9c4-4030-bd1d-1e1c1ae8c51f",
        "colab": {
          "base_uri": "https://localhost:8080/",
          "height": 265
        }
      },
      "source": [
        "df_upsampled['predict'].hist()\n",
        "plt.show()"
      ],
      "execution_count": 14,
      "outputs": [
        {
          "output_type": "display_data",
          "data": {
            "image/png": "[encoded data removed]",
            "text/plain": [
              "<Figure size 432x288 with 1 Axes>"
            ]
          },
          "metadata": {
            "tags": [],
            "needs_background": "light"
          }
        }
      ]
    },
    {
      "cell_type": "code",
      "metadata": {
        "id": "mhpEnlZ9z__z",
        "outputId": "0482438a-da81-41dd-d6e4-200d86ce8053",
        "colab": {
          "base_uri": "https://localhost:8080/",
          "height": 481
        }
      },
      "source": [
        "df_upsampled.groupby(['predict']).agg(['count'])"
      ],
      "execution_count": 15,
      "outputs": [
        {
          "output_type": "execute_result",
          "data": {
            "text/html": [
              "<div>\n",
              "<style scoped>\n",
              "    .dataframe tbody tr th:only-of-type {\n",
              "        vertical-align: middle;\n",
              "    }\n",
              "\n",
              "    .dataframe tbody tr th {\n",
              "        vertical-align: top;\n",
              "    }\n",
              "\n",
              "    .dataframe thead tr th {\n",
              "        text-align: left;\n",
              "    }\n",
              "\n",
              "    .dataframe thead tr:last-of-type th {\n",
              "        text-align: right;\n",
              "    }\n",
              "</style>\n",
              "<table border=\"1\" class=\"dataframe\">\n",
              "  <thead>\n",
              "    <tr>\n",
              "      <th></th>\n",
              "      <th>id</th>\n",
              "      <th>feature1</th>\n",
              "      <th>feature2</th>\n",
              "      <th>feature3</th>\n",
              "    </tr>\n",
              "    <tr>\n",
              "      <th></th>\n",
              "      <th>count</th>\n",
              "      <th>count</th>\n",
              "      <th>count</th>\n",
              "      <th>count</th>\n",
              "    </tr>\n",
              "    <tr>\n",
              "      <th>predict</th>\n",
              "      <th></th>\n",
              "      <th></th>\n",
              "      <th></th>\n",
              "      <th></th>\n",
              "    </tr>\n",
              "  </thead>\n",
              "  <tbody>\n",
              "    <tr>\n",
              "      <th>0</th>\n",
              "      <td>645</td>\n",
              "      <td>641</td>\n",
              "      <td>645</td>\n",
              "      <td>645</td>\n",
              "    </tr>\n",
              "    <tr>\n",
              "      <th>1</th>\n",
              "      <td>645</td>\n",
              "      <td>620</td>\n",
              "      <td>645</td>\n",
              "      <td>645</td>\n",
              "    </tr>\n",
              "    <tr>\n",
              "      <th>2</th>\n",
              "      <td>645</td>\n",
              "      <td>628</td>\n",
              "      <td>645</td>\n",
              "      <td>645</td>\n",
              "    </tr>\n",
              "    <tr>\n",
              "      <th>3</th>\n",
              "      <td>645</td>\n",
              "      <td>638</td>\n",
              "      <td>645</td>\n",
              "      <td>645</td>\n",
              "    </tr>\n",
              "    <tr>\n",
              "      <th>4</th>\n",
              "      <td>645</td>\n",
              "      <td>617</td>\n",
              "      <td>645</td>\n",
              "      <td>645</td>\n",
              "    </tr>\n",
              "    <tr>\n",
              "      <th>...</th>\n",
              "      <td>...</td>\n",
              "      <td>...</td>\n",
              "      <td>...</td>\n",
              "      <td>...</td>\n",
              "    </tr>\n",
              "    <tr>\n",
              "      <th>88</th>\n",
              "      <td>645</td>\n",
              "      <td>645</td>\n",
              "      <td>645</td>\n",
              "      <td>645</td>\n",
              "    </tr>\n",
              "    <tr>\n",
              "      <th>90</th>\n",
              "      <td>645</td>\n",
              "      <td>645</td>\n",
              "      <td>645</td>\n",
              "      <td>645</td>\n",
              "    </tr>\n",
              "    <tr>\n",
              "      <th>96</th>\n",
              "      <td>645</td>\n",
              "      <td>645</td>\n",
              "      <td>645</td>\n",
              "      <td>645</td>\n",
              "    </tr>\n",
              "    <tr>\n",
              "      <th>97</th>\n",
              "      <td>645</td>\n",
              "      <td>645</td>\n",
              "      <td>645</td>\n",
              "      <td>645</td>\n",
              "    </tr>\n",
              "    <tr>\n",
              "      <th>98</th>\n",
              "      <td>645</td>\n",
              "      <td>645</td>\n",
              "      <td>645</td>\n",
              "      <td>645</td>\n",
              "    </tr>\n",
              "  </tbody>\n",
              "</table>\n",
              "<p>74 rows × 4 columns</p>\n",
              "</div>"
            ],
            "text/plain": [
              "           id feature1 feature2 feature3\n",
              "        count    count    count    count\n",
              "predict                                 \n",
              "0         645      641      645      645\n",
              "1         645      620      645      645\n",
              "2         645      628      645      645\n",
              "3         645      638      645      645\n",
              "4         645      617      645      645\n",
              "...       ...      ...      ...      ...\n",
              "88        645      645      645      645\n",
              "90        645      645      645      645\n",
              "96        645      645      645      645\n",
              "97        645      645      645      645\n",
              "98        645      645      645      645\n",
              "\n",
              "[74 rows x 4 columns]"
            ]
          },
          "metadata": {
            "tags": []
          },
          "execution_count": 15
        }
      ]
    },
    {
      "cell_type": "code",
      "metadata": {
        "id": "bCQMtRw4UJ0R",
        "outputId": "a6191bda-f505-49fb-908c-d1b13e7feea9",
        "colab": {
          "base_uri": "https://localhost:8080/",
          "height": 419
        }
      },
      "source": [
        "df_upsampled"
      ],
      "execution_count": 16,
      "outputs": [
        {
          "output_type": "execute_result",
          "data": {
            "text/html": [
              "<div>\n",
              "<style scoped>\n",
              "    .dataframe tbody tr th:only-of-type {\n",
              "        vertical-align: middle;\n",
              "    }\n",
              "\n",
              "    .dataframe tbody tr th {\n",
              "        vertical-align: top;\n",
              "    }\n",
              "\n",
              "    .dataframe thead th {\n",
              "        text-align: right;\n",
              "    }\n",
              "</style>\n",
              "<table border=\"1\" class=\"dataframe\">\n",
              "  <thead>\n",
              "    <tr style=\"text-align: right;\">\n",
              "      <th></th>\n",
              "      <th>id</th>\n",
              "      <th>feature1</th>\n",
              "      <th>feature2</th>\n",
              "      <th>feature3</th>\n",
              "      <th>predict</th>\n",
              "    </tr>\n",
              "  </thead>\n",
              "  <tbody>\n",
              "    <tr>\n",
              "      <th>0</th>\n",
              "      <td>7c5fda39-c4a6-4d49-a0f6-751c7cd72bb4</td>\n",
              "      <td>NaN</td>\n",
              "      <td>75606737-d17d-43eb-86e6-6735b6f45a52.png</td>\n",
              "      <td>800e3baf-9ab1-48c0-a9ce-46c5fac9ff69.png</td>\n",
              "      <td>9</td>\n",
              "    </tr>\n",
              "    <tr>\n",
              "      <th>1</th>\n",
              "      <td>7e15ec1b-fe36-4a9e-a1cd-7c160e6a1b9c</td>\n",
              "      <td>NaN</td>\n",
              "      <td>75606737-d17d-43eb-86e6-6735b6f45a52.png</td>\n",
              "      <td>800e3baf-9ab1-48c0-a9ce-46c5fac9ff69.png</td>\n",
              "      <td>9</td>\n",
              "    </tr>\n",
              "    <tr>\n",
              "      <th>2</th>\n",
              "      <td>96b5d8b6-61cd-49f2-b22f-16fe25483cbc</td>\n",
              "      <td>NaN</td>\n",
              "      <td>75606737-d17d-43eb-86e6-6735b6f45a52.png</td>\n",
              "      <td>800e3baf-9ab1-48c0-a9ce-46c5fac9ff69.png</td>\n",
              "      <td>9</td>\n",
              "    </tr>\n",
              "    <tr>\n",
              "      <th>3</th>\n",
              "      <td>84ce5493-7e0f-4aee-8bb7-f799d714b5b3</td>\n",
              "      <td>NaN</td>\n",
              "      <td>c40b7fc4-07f1-4c78-abac-121bde38e267.png</td>\n",
              "      <td>1b2e1b3d-46f2-4c3f-b741-a8d5099ce710.png</td>\n",
              "      <td>4</td>\n",
              "    </tr>\n",
              "    <tr>\n",
              "      <th>4</th>\n",
              "      <td>7cb117e7-d8f3-400b-aeb3-a84fa3fb54e8</td>\n",
              "      <td>NaN</td>\n",
              "      <td>c40b7fc4-07f1-4c78-abac-121bde38e267.png</td>\n",
              "      <td>1b2e1b3d-46f2-4c3f-b741-a8d5099ce710.png</td>\n",
              "      <td>4</td>\n",
              "    </tr>\n",
              "    <tr>\n",
              "      <th>...</th>\n",
              "      <td>...</td>\n",
              "      <td>...</td>\n",
              "      <td>...</td>\n",
              "      <td>...</td>\n",
              "      <td>...</td>\n",
              "    </tr>\n",
              "    <tr>\n",
              "      <th>5501</th>\n",
              "      <td>4e765abd-8289-4b3c-aa0a-1f2b5eb209d4</td>\n",
              "      <td>a7b1404e-a688-4909-96e8-784580048e33.png</td>\n",
              "      <td>dd81b5a9-5b8a-4f6f-a7cb-458915dbcf54.png</td>\n",
              "      <td>3d3b2295-e846-44a4-acc4-668733395171.png</td>\n",
              "      <td>98</td>\n",
              "    </tr>\n",
              "    <tr>\n",
              "      <th>4736</th>\n",
              "      <td>a561496a-90af-41ba-a064-299d57cb763a</td>\n",
              "      <td>45f1d10e-55c9-4a30-bc6b-ee9a58e2ad7d.png</td>\n",
              "      <td>aebed50b-afe5-48d6-bfc5-10610bb365e5.png</td>\n",
              "      <td>58aa30b0-9381-4754-bbbd-2c848918fb52.png</td>\n",
              "      <td>98</td>\n",
              "    </tr>\n",
              "    <tr>\n",
              "      <th>5501</th>\n",
              "      <td>4e765abd-8289-4b3c-aa0a-1f2b5eb209d4</td>\n",
              "      <td>a7b1404e-a688-4909-96e8-784580048e33.png</td>\n",
              "      <td>dd81b5a9-5b8a-4f6f-a7cb-458915dbcf54.png</td>\n",
              "      <td>3d3b2295-e846-44a4-acc4-668733395171.png</td>\n",
              "      <td>98</td>\n",
              "    </tr>\n",
              "    <tr>\n",
              "      <th>4736</th>\n",
              "      <td>a561496a-90af-41ba-a064-299d57cb763a</td>\n",
              "      <td>45f1d10e-55c9-4a30-bc6b-ee9a58e2ad7d.png</td>\n",
              "      <td>aebed50b-afe5-48d6-bfc5-10610bb365e5.png</td>\n",
              "      <td>58aa30b0-9381-4754-bbbd-2c848918fb52.png</td>\n",
              "      <td>98</td>\n",
              "    </tr>\n",
              "    <tr>\n",
              "      <th>4914</th>\n",
              "      <td>1b3f8298-c6c2-439c-b396-10f8e36e2089</td>\n",
              "      <td>24a5e71c-bc34-4adb-8c76-160b2c990989.png</td>\n",
              "      <td>a199c672-1f2b-4c31-a2f1-e94814bd5e05.png</td>\n",
              "      <td>0b2ee805-9264-464b-b586-1daec3bb52e9.png</td>\n",
              "      <td>98</td>\n",
              "    </tr>\n",
              "  </tbody>\n",
              "</table>\n",
              "<p>47730 rows × 5 columns</p>\n",
              "</div>"
            ],
            "text/plain": [
              "                                        id  ... predict\n",
              "0     7c5fda39-c4a6-4d49-a0f6-751c7cd72bb4  ...       9\n",
              "1     7e15ec1b-fe36-4a9e-a1cd-7c160e6a1b9c  ...       9\n",
              "2     96b5d8b6-61cd-49f2-b22f-16fe25483cbc  ...       9\n",
              "3     84ce5493-7e0f-4aee-8bb7-f799d714b5b3  ...       4\n",
              "4     7cb117e7-d8f3-400b-aeb3-a84fa3fb54e8  ...       4\n",
              "...                                    ...  ...     ...\n",
              "5501  4e765abd-8289-4b3c-aa0a-1f2b5eb209d4  ...      98\n",
              "4736  a561496a-90af-41ba-a064-299d57cb763a  ...      98\n",
              "5501  4e765abd-8289-4b3c-aa0a-1f2b5eb209d4  ...      98\n",
              "4736  a561496a-90af-41ba-a064-299d57cb763a  ...      98\n",
              "4914  1b3f8298-c6c2-439c-b396-10f8e36e2089  ...      98\n",
              "\n",
              "[47730 rows x 5 columns]"
            ]
          },
          "metadata": {
            "tags": []
          },
          "execution_count": 16
        }
      ]
    },
    {
      "cell_type": "code",
      "metadata": {
        "id": "oW2dp62uVNHu"
      },
      "source": [
        "df_upsampled = df_upsampled.rename(columns={\"id\": \"ID\"})"
      ],
      "execution_count": 17,
      "outputs": []
    },
    {
      "cell_type": "code",
      "metadata": {
        "id": "GCg-lXzW1IsT",
        "outputId": "c4a6789b-cffc-4240-a872-02413f3d8f5f",
        "colab": {
          "base_uri": "https://localhost:8080/",
          "height": 119
        }
      },
      "source": [
        "df_upsampled.isna().sum()"
      ],
      "execution_count": 18,
      "outputs": [
        {
          "output_type": "execute_result",
          "data": {
            "text/plain": [
              "ID             0\n",
              "feature1    1466\n",
              "feature2       0\n",
              "feature3       0\n",
              "predict        0\n",
              "dtype: int64"
            ]
          },
          "metadata": {
            "tags": []
          },
          "execution_count": 18
        }
      ]
    },
    {
      "cell_type": "code",
      "metadata": {
        "id": "kFst3AM62CEB"
      },
      "source": [
        "merg_data = pd.merge(df_upsampled, df_map_unique, left_on='feature1',right_on='id',how='left')\n",
        "merg_data = pd.merge(merg_data, df_map_unique, left_on='feature2',right_on='id',how='left')\n",
        "merg_data = pd.merge(merg_data, df_map_unique, left_on='feature3',right_on='id',how='left')"
      ],
      "execution_count": 19,
      "outputs": []
    },
    {
      "cell_type": "code",
      "metadata": {
        "id": "5AXlNkmD2-H5",
        "outputId": "7f74f52e-50be-4b4d-ea80-b42978271417",
        "colab": {
          "base_uri": "https://localhost:8080/",
          "height": 589
        }
      },
      "source": [
        "merg_data"
      ],
      "execution_count": 20,
      "outputs": [
        {
          "output_type": "execute_result",
          "data": {
            "text/html": [
              "<div>\n",
              "<style scoped>\n",
              "    .dataframe tbody tr th:only-of-type {\n",
              "        vertical-align: middle;\n",
              "    }\n",
              "\n",
              "    .dataframe tbody tr th {\n",
              "        vertical-align: top;\n",
              "    }\n",
              "\n",
              "    .dataframe thead th {\n",
              "        text-align: right;\n",
              "    }\n",
              "</style>\n",
              "<table border=\"1\" class=\"dataframe\">\n",
              "  <thead>\n",
              "    <tr style=\"text-align: right;\">\n",
              "      <th></th>\n",
              "      <th>ID</th>\n",
              "      <th>feature1</th>\n",
              "      <th>feature2</th>\n",
              "      <th>feature3</th>\n",
              "      <th>predict</th>\n",
              "      <th>id_x</th>\n",
              "      <th>category_x</th>\n",
              "      <th>id_y</th>\n",
              "      <th>category_y</th>\n",
              "      <th>id</th>\n",
              "      <th>category</th>\n",
              "    </tr>\n",
              "  </thead>\n",
              "  <tbody>\n",
              "    <tr>\n",
              "      <th>0</th>\n",
              "      <td>7c5fda39-c4a6-4d49-a0f6-751c7cd72bb4</td>\n",
              "      <td>NaN</td>\n",
              "      <td>75606737-d17d-43eb-86e6-6735b6f45a52.png</td>\n",
              "      <td>800e3baf-9ab1-48c0-a9ce-46c5fac9ff69.png</td>\n",
              "      <td>9</td>\n",
              "      <td>NaN</td>\n",
              "      <td>NaN</td>\n",
              "      <td>75606737-d17d-43eb-86e6-6735b6f45a52.png</td>\n",
              "      <td>8</td>\n",
              "      <td>800e3baf-9ab1-48c0-a9ce-46c5fac9ff69.png</td>\n",
              "      <td>1</td>\n",
              "    </tr>\n",
              "    <tr>\n",
              "      <th>1</th>\n",
              "      <td>7e15ec1b-fe36-4a9e-a1cd-7c160e6a1b9c</td>\n",
              "      <td>NaN</td>\n",
              "      <td>75606737-d17d-43eb-86e6-6735b6f45a52.png</td>\n",
              "      <td>800e3baf-9ab1-48c0-a9ce-46c5fac9ff69.png</td>\n",
              "      <td>9</td>\n",
              "      <td>NaN</td>\n",
              "      <td>NaN</td>\n",
              "      <td>75606737-d17d-43eb-86e6-6735b6f45a52.png</td>\n",
              "      <td>8</td>\n",
              "      <td>800e3baf-9ab1-48c0-a9ce-46c5fac9ff69.png</td>\n",
              "      <td>1</td>\n",
              "    </tr>\n",
              "    <tr>\n",
              "      <th>2</th>\n",
              "      <td>96b5d8b6-61cd-49f2-b22f-16fe25483cbc</td>\n",
              "      <td>NaN</td>\n",
              "      <td>75606737-d17d-43eb-86e6-6735b6f45a52.png</td>\n",
              "      <td>800e3baf-9ab1-48c0-a9ce-46c5fac9ff69.png</td>\n",
              "      <td>9</td>\n",
              "      <td>NaN</td>\n",
              "      <td>NaN</td>\n",
              "      <td>75606737-d17d-43eb-86e6-6735b6f45a52.png</td>\n",
              "      <td>8</td>\n",
              "      <td>800e3baf-9ab1-48c0-a9ce-46c5fac9ff69.png</td>\n",
              "      <td>1</td>\n",
              "    </tr>\n",
              "    <tr>\n",
              "      <th>3</th>\n",
              "      <td>84ce5493-7e0f-4aee-8bb7-f799d714b5b3</td>\n",
              "      <td>NaN</td>\n",
              "      <td>c40b7fc4-07f1-4c78-abac-121bde38e267.png</td>\n",
              "      <td>1b2e1b3d-46f2-4c3f-b741-a8d5099ce710.png</td>\n",
              "      <td>4</td>\n",
              "      <td>NaN</td>\n",
              "      <td>NaN</td>\n",
              "      <td>c40b7fc4-07f1-4c78-abac-121bde38e267.png</td>\n",
              "      <td>0</td>\n",
              "      <td>1b2e1b3d-46f2-4c3f-b741-a8d5099ce710.png</td>\n",
              "      <td>4</td>\n",
              "    </tr>\n",
              "    <tr>\n",
              "      <th>4</th>\n",
              "      <td>7cb117e7-d8f3-400b-aeb3-a84fa3fb54e8</td>\n",
              "      <td>NaN</td>\n",
              "      <td>c40b7fc4-07f1-4c78-abac-121bde38e267.png</td>\n",
              "      <td>1b2e1b3d-46f2-4c3f-b741-a8d5099ce710.png</td>\n",
              "      <td>4</td>\n",
              "      <td>NaN</td>\n",
              "      <td>NaN</td>\n",
              "      <td>c40b7fc4-07f1-4c78-abac-121bde38e267.png</td>\n",
              "      <td>0</td>\n",
              "      <td>1b2e1b3d-46f2-4c3f-b741-a8d5099ce710.png</td>\n",
              "      <td>4</td>\n",
              "    </tr>\n",
              "    <tr>\n",
              "      <th>...</th>\n",
              "      <td>...</td>\n",
              "      <td>...</td>\n",
              "      <td>...</td>\n",
              "      <td>...</td>\n",
              "      <td>...</td>\n",
              "      <td>...</td>\n",
              "      <td>...</td>\n",
              "      <td>...</td>\n",
              "      <td>...</td>\n",
              "      <td>...</td>\n",
              "      <td>...</td>\n",
              "    </tr>\n",
              "    <tr>\n",
              "      <th>47725</th>\n",
              "      <td>4e765abd-8289-4b3c-aa0a-1f2b5eb209d4</td>\n",
              "      <td>a7b1404e-a688-4909-96e8-784580048e33.png</td>\n",
              "      <td>dd81b5a9-5b8a-4f6f-a7cb-458915dbcf54.png</td>\n",
              "      <td>3d3b2295-e846-44a4-acc4-668733395171.png</td>\n",
              "      <td>98</td>\n",
              "      <td>a7b1404e-a688-4909-96e8-784580048e33.png</td>\n",
              "      <td>8.0</td>\n",
              "      <td>dd81b5a9-5b8a-4f6f-a7cb-458915dbcf54.png</td>\n",
              "      <td>4</td>\n",
              "      <td>3d3b2295-e846-44a4-acc4-668733395171.png</td>\n",
              "      <td>5</td>\n",
              "    </tr>\n",
              "    <tr>\n",
              "      <th>47726</th>\n",
              "      <td>a561496a-90af-41ba-a064-299d57cb763a</td>\n",
              "      <td>45f1d10e-55c9-4a30-bc6b-ee9a58e2ad7d.png</td>\n",
              "      <td>aebed50b-afe5-48d6-bfc5-10610bb365e5.png</td>\n",
              "      <td>58aa30b0-9381-4754-bbbd-2c848918fb52.png</td>\n",
              "      <td>98</td>\n",
              "      <td>45f1d10e-55c9-4a30-bc6b-ee9a58e2ad7d.png</td>\n",
              "      <td>8.0</td>\n",
              "      <td>aebed50b-afe5-48d6-bfc5-10610bb365e5.png</td>\n",
              "      <td>4</td>\n",
              "      <td>58aa30b0-9381-4754-bbbd-2c848918fb52.png</td>\n",
              "      <td>5</td>\n",
              "    </tr>\n",
              "    <tr>\n",
              "      <th>47727</th>\n",
              "      <td>4e765abd-8289-4b3c-aa0a-1f2b5eb209d4</td>\n",
              "      <td>a7b1404e-a688-4909-96e8-784580048e33.png</td>\n",
              "      <td>dd81b5a9-5b8a-4f6f-a7cb-458915dbcf54.png</td>\n",
              "      <td>3d3b2295-e846-44a4-acc4-668733395171.png</td>\n",
              "      <td>98</td>\n",
              "      <td>a7b1404e-a688-4909-96e8-784580048e33.png</td>\n",
              "      <td>8.0</td>\n",
              "      <td>dd81b5a9-5b8a-4f6f-a7cb-458915dbcf54.png</td>\n",
              "      <td>4</td>\n",
              "      <td>3d3b2295-e846-44a4-acc4-668733395171.png</td>\n",
              "      <td>5</td>\n",
              "    </tr>\n",
              "    <tr>\n",
              "      <th>47728</th>\n",
              "      <td>a561496a-90af-41ba-a064-299d57cb763a</td>\n",
              "      <td>45f1d10e-55c9-4a30-bc6b-ee9a58e2ad7d.png</td>\n",
              "      <td>aebed50b-afe5-48d6-bfc5-10610bb365e5.png</td>\n",
              "      <td>58aa30b0-9381-4754-bbbd-2c848918fb52.png</td>\n",
              "      <td>98</td>\n",
              "      <td>45f1d10e-55c9-4a30-bc6b-ee9a58e2ad7d.png</td>\n",
              "      <td>8.0</td>\n",
              "      <td>aebed50b-afe5-48d6-bfc5-10610bb365e5.png</td>\n",
              "      <td>4</td>\n",
              "      <td>58aa30b0-9381-4754-bbbd-2c848918fb52.png</td>\n",
              "      <td>5</td>\n",
              "    </tr>\n",
              "    <tr>\n",
              "      <th>47729</th>\n",
              "      <td>1b3f8298-c6c2-439c-b396-10f8e36e2089</td>\n",
              "      <td>24a5e71c-bc34-4adb-8c76-160b2c990989.png</td>\n",
              "      <td>a199c672-1f2b-4c31-a2f1-e94814bd5e05.png</td>\n",
              "      <td>0b2ee805-9264-464b-b586-1daec3bb52e9.png</td>\n",
              "      <td>98</td>\n",
              "      <td>24a5e71c-bc34-4adb-8c76-160b2c990989.png</td>\n",
              "      <td>8.0</td>\n",
              "      <td>a199c672-1f2b-4c31-a2f1-e94814bd5e05.png</td>\n",
              "      <td>4</td>\n",
              "      <td>0b2ee805-9264-464b-b586-1daec3bb52e9.png</td>\n",
              "      <td>5</td>\n",
              "    </tr>\n",
              "  </tbody>\n",
              "</table>\n",
              "<p>47730 rows × 11 columns</p>\n",
              "</div>"
            ],
            "text/plain": [
              "                                         ID  ... category\n",
              "0      7c5fda39-c4a6-4d49-a0f6-751c7cd72bb4  ...        1\n",
              "1      7e15ec1b-fe36-4a9e-a1cd-7c160e6a1b9c  ...        1\n",
              "2      96b5d8b6-61cd-49f2-b22f-16fe25483cbc  ...        1\n",
              "3      84ce5493-7e0f-4aee-8bb7-f799d714b5b3  ...        4\n",
              "4      7cb117e7-d8f3-400b-aeb3-a84fa3fb54e8  ...        4\n",
              "...                                     ...  ...      ...\n",
              "47725  4e765abd-8289-4b3c-aa0a-1f2b5eb209d4  ...        5\n",
              "47726  a561496a-90af-41ba-a064-299d57cb763a  ...        5\n",
              "47727  4e765abd-8289-4b3c-aa0a-1f2b5eb209d4  ...        5\n",
              "47728  a561496a-90af-41ba-a064-299d57cb763a  ...        5\n",
              "47729  1b3f8298-c6c2-439c-b396-10f8e36e2089  ...        5\n",
              "\n",
              "[47730 rows x 11 columns]"
            ]
          },
          "metadata": {
            "tags": []
          },
          "execution_count": 20
        }
      ]
    },
    {
      "cell_type": "code",
      "metadata": {
        "id": "W7gYP48ySGqE"
      },
      "source": [
        "df_drop = merg_data.drop(['feature1','feature2','feature3','id_x','id_y','id'],axis=1)"
      ],
      "execution_count": 21,
      "outputs": []
    },
    {
      "cell_type": "code",
      "metadata": {
        "id": "0iQQmYZYQfnV",
        "outputId": "45679d92-8e1d-4271-b0f3-8310f414c029",
        "colab": {
          "base_uri": "https://localhost:8080/",
          "height": 419
        }
      },
      "source": [
        "df_drop"
      ],
      "execution_count": 22,
      "outputs": [
        {
          "output_type": "execute_result",
          "data": {
            "text/html": [
              "<div>\n",
              "<style scoped>\n",
              "    .dataframe tbody tr th:only-of-type {\n",
              "        vertical-align: middle;\n",
              "    }\n",
              "\n",
              "    .dataframe tbody tr th {\n",
              "        vertical-align: top;\n",
              "    }\n",
              "\n",
              "    .dataframe thead th {\n",
              "        text-align: right;\n",
              "    }\n",
              "</style>\n",
              "<table border=\"1\" class=\"dataframe\">\n",
              "  <thead>\n",
              "    <tr style=\"text-align: right;\">\n",
              "      <th></th>\n",
              "      <th>ID</th>\n",
              "      <th>predict</th>\n",
              "      <th>category_x</th>\n",
              "      <th>category_y</th>\n",
              "      <th>category</th>\n",
              "    </tr>\n",
              "  </thead>\n",
              "  <tbody>\n",
              "    <tr>\n",
              "      <th>0</th>\n",
              "      <td>7c5fda39-c4a6-4d49-a0f6-751c7cd72bb4</td>\n",
              "      <td>9</td>\n",
              "      <td>NaN</td>\n",
              "      <td>8</td>\n",
              "      <td>1</td>\n",
              "    </tr>\n",
              "    <tr>\n",
              "      <th>1</th>\n",
              "      <td>7e15ec1b-fe36-4a9e-a1cd-7c160e6a1b9c</td>\n",
              "      <td>9</td>\n",
              "      <td>NaN</td>\n",
              "      <td>8</td>\n",
              "      <td>1</td>\n",
              "    </tr>\n",
              "    <tr>\n",
              "      <th>2</th>\n",
              "      <td>96b5d8b6-61cd-49f2-b22f-16fe25483cbc</td>\n",
              "      <td>9</td>\n",
              "      <td>NaN</td>\n",
              "      <td>8</td>\n",
              "      <td>1</td>\n",
              "    </tr>\n",
              "    <tr>\n",
              "      <th>3</th>\n",
              "      <td>84ce5493-7e0f-4aee-8bb7-f799d714b5b3</td>\n",
              "      <td>4</td>\n",
              "      <td>NaN</td>\n",
              "      <td>0</td>\n",
              "      <td>4</td>\n",
              "    </tr>\n",
              "    <tr>\n",
              "      <th>4</th>\n",
              "      <td>7cb117e7-d8f3-400b-aeb3-a84fa3fb54e8</td>\n",
              "      <td>4</td>\n",
              "      <td>NaN</td>\n",
              "      <td>0</td>\n",
              "      <td>4</td>\n",
              "    </tr>\n",
              "    <tr>\n",
              "      <th>...</th>\n",
              "      <td>...</td>\n",
              "      <td>...</td>\n",
              "      <td>...</td>\n",
              "      <td>...</td>\n",
              "      <td>...</td>\n",
              "    </tr>\n",
              "    <tr>\n",
              "      <th>47725</th>\n",
              "      <td>4e765abd-8289-4b3c-aa0a-1f2b5eb209d4</td>\n",
              "      <td>98</td>\n",
              "      <td>8.0</td>\n",
              "      <td>4</td>\n",
              "      <td>5</td>\n",
              "    </tr>\n",
              "    <tr>\n",
              "      <th>47726</th>\n",
              "      <td>a561496a-90af-41ba-a064-299d57cb763a</td>\n",
              "      <td>98</td>\n",
              "      <td>8.0</td>\n",
              "      <td>4</td>\n",
              "      <td>5</td>\n",
              "    </tr>\n",
              "    <tr>\n",
              "      <th>47727</th>\n",
              "      <td>4e765abd-8289-4b3c-aa0a-1f2b5eb209d4</td>\n",
              "      <td>98</td>\n",
              "      <td>8.0</td>\n",
              "      <td>4</td>\n",
              "      <td>5</td>\n",
              "    </tr>\n",
              "    <tr>\n",
              "      <th>47728</th>\n",
              "      <td>a561496a-90af-41ba-a064-299d57cb763a</td>\n",
              "      <td>98</td>\n",
              "      <td>8.0</td>\n",
              "      <td>4</td>\n",
              "      <td>5</td>\n",
              "    </tr>\n",
              "    <tr>\n",
              "      <th>47729</th>\n",
              "      <td>1b3f8298-c6c2-439c-b396-10f8e36e2089</td>\n",
              "      <td>98</td>\n",
              "      <td>8.0</td>\n",
              "      <td>4</td>\n",
              "      <td>5</td>\n",
              "    </tr>\n",
              "  </tbody>\n",
              "</table>\n",
              "<p>47730 rows × 5 columns</p>\n",
              "</div>"
            ],
            "text/plain": [
              "                                         ID  predict  ...  category_y  category\n",
              "0      7c5fda39-c4a6-4d49-a0f6-751c7cd72bb4        9  ...           8         1\n",
              "1      7e15ec1b-fe36-4a9e-a1cd-7c160e6a1b9c        9  ...           8         1\n",
              "2      96b5d8b6-61cd-49f2-b22f-16fe25483cbc        9  ...           8         1\n",
              "3      84ce5493-7e0f-4aee-8bb7-f799d714b5b3        4  ...           0         4\n",
              "4      7cb117e7-d8f3-400b-aeb3-a84fa3fb54e8        4  ...           0         4\n",
              "...                                     ...      ...  ...         ...       ...\n",
              "47725  4e765abd-8289-4b3c-aa0a-1f2b5eb209d4       98  ...           4         5\n",
              "47726  a561496a-90af-41ba-a064-299d57cb763a       98  ...           4         5\n",
              "47727  4e765abd-8289-4b3c-aa0a-1f2b5eb209d4       98  ...           4         5\n",
              "47728  a561496a-90af-41ba-a064-299d57cb763a       98  ...           4         5\n",
              "47729  1b3f8298-c6c2-439c-b396-10f8e36e2089       98  ...           4         5\n",
              "\n",
              "[47730 rows x 5 columns]"
            ]
          },
          "metadata": {
            "tags": []
          },
          "execution_count": 22
        }
      ]
    },
    {
      "cell_type": "code",
      "metadata": {
        "id": "uE_5F8ReWUd3"
      },
      "source": [
        "df_drop = df_drop.rename(columns={\"category_x\": \"feature1\",\"category_y\":\"feature2\",\"category\":\"feature3\"})"
      ],
      "execution_count": 23,
      "outputs": []
    },
    {
      "cell_type": "code",
      "metadata": {
        "id": "xHRQhvh9Qpo7",
        "outputId": "8965947f-0698-460c-ab82-8c2b72db6681",
        "colab": {
          "base_uri": "https://localhost:8080/",
          "height": 255
        }
      },
      "source": [
        "df_drop.head"
      ],
      "execution_count": 24,
      "outputs": [
        {
          "output_type": "execute_result",
          "data": {
            "text/plain": [
              "<bound method NDFrame.head of                                          ID  predict  ...  feature2  feature3\n",
              "0      7c5fda39-c4a6-4d49-a0f6-751c7cd72bb4        9  ...         8         1\n",
              "1      7e15ec1b-fe36-4a9e-a1cd-7c160e6a1b9c        9  ...         8         1\n",
              "2      96b5d8b6-61cd-49f2-b22f-16fe25483cbc        9  ...         8         1\n",
              "3      84ce5493-7e0f-4aee-8bb7-f799d714b5b3        4  ...         0         4\n",
              "4      7cb117e7-d8f3-400b-aeb3-a84fa3fb54e8        4  ...         0         4\n",
              "...                                     ...      ...  ...       ...       ...\n",
              "47725  4e765abd-8289-4b3c-aa0a-1f2b5eb209d4       98  ...         4         5\n",
              "47726  a561496a-90af-41ba-a064-299d57cb763a       98  ...         4         5\n",
              "47727  4e765abd-8289-4b3c-aa0a-1f2b5eb209d4       98  ...         4         5\n",
              "47728  a561496a-90af-41ba-a064-299d57cb763a       98  ...         4         5\n",
              "47729  1b3f8298-c6c2-439c-b396-10f8e36e2089       98  ...         4         5\n",
              "\n",
              "[47730 rows x 5 columns]>"
            ]
          },
          "metadata": {
            "tags": []
          },
          "execution_count": 24
        }
      ]
    },
    {
      "cell_type": "code",
      "metadata": {
        "id": "EONizO5p1hrq",
        "outputId": "a04e213e-aa4f-4089-a614-27b91accb669",
        "colab": {
          "base_uri": "https://localhost:8080/",
          "height": 119
        }
      },
      "source": [
        "df_drop.isna().sum()"
      ],
      "execution_count": 25,
      "outputs": [
        {
          "output_type": "execute_result",
          "data": {
            "text/plain": [
              "ID             0\n",
              "predict        0\n",
              "feature1    1466\n",
              "feature2       0\n",
              "feature3       0\n",
              "dtype: int64"
            ]
          },
          "metadata": {
            "tags": []
          },
          "execution_count": 25
        }
      ]
    },
    {
      "cell_type": "code",
      "metadata": {
        "id": "JNB9VgpwXPFO"
      },
      "source": [
        "df_drop.fillna(-1,inplace=True)"
      ],
      "execution_count": 26,
      "outputs": []
    },
    {
      "cell_type": "code",
      "metadata": {
        "id": "K20SEusrXfi1",
        "outputId": "d9c0908b-596d-47ca-e102-58cb9005b4d9",
        "colab": {
          "base_uri": "https://localhost:8080/",
          "height": 119
        }
      },
      "source": [
        "df_drop.isna().sum()"
      ],
      "execution_count": 27,
      "outputs": [
        {
          "output_type": "execute_result",
          "data": {
            "text/plain": [
              "ID          0\n",
              "predict     0\n",
              "feature1    0\n",
              "feature2    0\n",
              "feature3    0\n",
              "dtype: int64"
            ]
          },
          "metadata": {
            "tags": []
          },
          "execution_count": 27
        }
      ]
    },
    {
      "cell_type": "code",
      "metadata": {
        "id": "RIGvdSfGXhBe",
        "outputId": "5d2605fc-fc66-4326-c1c8-6912d1d2e1cf",
        "colab": {
          "base_uri": "https://localhost:8080/",
          "height": 419
        }
      },
      "source": [
        "df_drop"
      ],
      "execution_count": 28,
      "outputs": [
        {
          "output_type": "execute_result",
          "data": {
            "text/html": [
              "<div>\n",
              "<style scoped>\n",
              "    .dataframe tbody tr th:only-of-type {\n",
              "        vertical-align: middle;\n",
              "    }\n",
              "\n",
              "    .dataframe tbody tr th {\n",
              "        vertical-align: top;\n",
              "    }\n",
              "\n",
              "    .dataframe thead th {\n",
              "        text-align: right;\n",
              "    }\n",
              "</style>\n",
              "<table border=\"1\" class=\"dataframe\">\n",
              "  <thead>\n",
              "    <tr style=\"text-align: right;\">\n",
              "      <th></th>\n",
              "      <th>ID</th>\n",
              "      <th>predict</th>\n",
              "      <th>feature1</th>\n",
              "      <th>feature2</th>\n",
              "      <th>feature3</th>\n",
              "    </tr>\n",
              "  </thead>\n",
              "  <tbody>\n",
              "    <tr>\n",
              "      <th>0</th>\n",
              "      <td>7c5fda39-c4a6-4d49-a0f6-751c7cd72bb4</td>\n",
              "      <td>9</td>\n",
              "      <td>-1.0</td>\n",
              "      <td>8</td>\n",
              "      <td>1</td>\n",
              "    </tr>\n",
              "    <tr>\n",
              "      <th>1</th>\n",
              "      <td>7e15ec1b-fe36-4a9e-a1cd-7c160e6a1b9c</td>\n",
              "      <td>9</td>\n",
              "      <td>-1.0</td>\n",
              "      <td>8</td>\n",
              "      <td>1</td>\n",
              "    </tr>\n",
              "    <tr>\n",
              "      <th>2</th>\n",
              "      <td>96b5d8b6-61cd-49f2-b22f-16fe25483cbc</td>\n",
              "      <td>9</td>\n",
              "      <td>-1.0</td>\n",
              "      <td>8</td>\n",
              "      <td>1</td>\n",
              "    </tr>\n",
              "    <tr>\n",
              "      <th>3</th>\n",
              "      <td>84ce5493-7e0f-4aee-8bb7-f799d714b5b3</td>\n",
              "      <td>4</td>\n",
              "      <td>-1.0</td>\n",
              "      <td>0</td>\n",
              "      <td>4</td>\n",
              "    </tr>\n",
              "    <tr>\n",
              "      <th>4</th>\n",
              "      <td>7cb117e7-d8f3-400b-aeb3-a84fa3fb54e8</td>\n",
              "      <td>4</td>\n",
              "      <td>-1.0</td>\n",
              "      <td>0</td>\n",
              "      <td>4</td>\n",
              "    </tr>\n",
              "    <tr>\n",
              "      <th>...</th>\n",
              "      <td>...</td>\n",
              "      <td>...</td>\n",
              "      <td>...</td>\n",
              "      <td>...</td>\n",
              "      <td>...</td>\n",
              "    </tr>\n",
              "    <tr>\n",
              "      <th>47725</th>\n",
              "      <td>4e765abd-8289-4b3c-aa0a-1f2b5eb209d4</td>\n",
              "      <td>98</td>\n",
              "      <td>8.0</td>\n",
              "      <td>4</td>\n",
              "      <td>5</td>\n",
              "    </tr>\n",
              "    <tr>\n",
              "      <th>47726</th>\n",
              "      <td>a561496a-90af-41ba-a064-299d57cb763a</td>\n",
              "      <td>98</td>\n",
              "      <td>8.0</td>\n",
              "      <td>4</td>\n",
              "      <td>5</td>\n",
              "    </tr>\n",
              "    <tr>\n",
              "      <th>47727</th>\n",
              "      <td>4e765abd-8289-4b3c-aa0a-1f2b5eb209d4</td>\n",
              "      <td>98</td>\n",
              "      <td>8.0</td>\n",
              "      <td>4</td>\n",
              "      <td>5</td>\n",
              "    </tr>\n",
              "    <tr>\n",
              "      <th>47728</th>\n",
              "      <td>a561496a-90af-41ba-a064-299d57cb763a</td>\n",
              "      <td>98</td>\n",
              "      <td>8.0</td>\n",
              "      <td>4</td>\n",
              "      <td>5</td>\n",
              "    </tr>\n",
              "    <tr>\n",
              "      <th>47729</th>\n",
              "      <td>1b3f8298-c6c2-439c-b396-10f8e36e2089</td>\n",
              "      <td>98</td>\n",
              "      <td>8.0</td>\n",
              "      <td>4</td>\n",
              "      <td>5</td>\n",
              "    </tr>\n",
              "  </tbody>\n",
              "</table>\n",
              "<p>47730 rows × 5 columns</p>\n",
              "</div>"
            ],
            "text/plain": [
              "                                         ID  predict  ...  feature2  feature3\n",
              "0      7c5fda39-c4a6-4d49-a0f6-751c7cd72bb4        9  ...         8         1\n",
              "1      7e15ec1b-fe36-4a9e-a1cd-7c160e6a1b9c        9  ...         8         1\n",
              "2      96b5d8b6-61cd-49f2-b22f-16fe25483cbc        9  ...         8         1\n",
              "3      84ce5493-7e0f-4aee-8bb7-f799d714b5b3        4  ...         0         4\n",
              "4      7cb117e7-d8f3-400b-aeb3-a84fa3fb54e8        4  ...         0         4\n",
              "...                                     ...      ...  ...       ...       ...\n",
              "47725  4e765abd-8289-4b3c-aa0a-1f2b5eb209d4       98  ...         4         5\n",
              "47726  a561496a-90af-41ba-a064-299d57cb763a       98  ...         4         5\n",
              "47727  4e765abd-8289-4b3c-aa0a-1f2b5eb209d4       98  ...         4         5\n",
              "47728  a561496a-90af-41ba-a064-299d57cb763a       98  ...         4         5\n",
              "47729  1b3f8298-c6c2-439c-b396-10f8e36e2089       98  ...         4         5\n",
              "\n",
              "[47730 rows x 5 columns]"
            ]
          },
          "metadata": {
            "tags": []
          },
          "execution_count": 28
        }
      ]
    },
    {
      "cell_type": "code",
      "metadata": {
        "id": "4J9fq-x2jzt0",
        "outputId": "4d47d3fc-c2aa-4e4c-b3f6-d1210e91270e",
        "colab": {
          "base_uri": "https://localhost:8080/",
          "height": 221
        }
      },
      "source": [
        "df_drop.info()"
      ],
      "execution_count": 39,
      "outputs": [
        {
          "output_type": "stream",
          "text": [
            "<class 'pandas.core.frame.DataFrame'>\n",
            "Int64Index: 47730 entries, 0 to 47729\n",
            "Data columns (total 5 columns):\n",
            " #   Column    Non-Null Count  Dtype  \n",
            "---  ------    --------------  -----  \n",
            " 0   ID        47730 non-null  object \n",
            " 1   predict   47730 non-null  int64  \n",
            " 2   feature1  47730 non-null  float64\n",
            " 3   feature2  47730 non-null  int64  \n",
            " 4   feature3  47730 non-null  int64  \n",
            "dtypes: float64(1), int64(3), object(1)\n",
            "memory usage: 2.2+ MB\n"
          ],
          "name": "stdout"
        }
      ]
    },
    {
      "cell_type": "code",
      "metadata": {
        "id": "cNPzcB_Ychaa",
        "outputId": "76aa129c-d117-4f92-f482-766c0664a0c2",
        "colab": {
          "base_uri": "https://localhost:8080/",
          "height": 1000
        }
      },
      "source": [
        "sns.pairplot(df_drop,hue='predict',vars=['predict','feature1','feature2','feature3'])"
      ],
      "execution_count": 33,
      "outputs": [
        {
          "output_type": "stream",
          "text": [
            "/usr/local/lib/python3.6/dist-packages/seaborn/distributions.py:305: UserWarning: Dataset has 0 variance; skipping density estimate.\n",
            "  warnings.warn(msg, UserWarning)\n",
            "/usr/local/lib/python3.6/dist-packages/seaborn/distributions.py:305: UserWarning: Dataset has 0 variance; skipping density estimate.\n",
            "  warnings.warn(msg, UserWarning)\n",
            "/usr/local/lib/python3.6/dist-packages/seaborn/distributions.py:305: UserWarning: Dataset has 0 variance; skipping density estimate.\n",
            "  warnings.warn(msg, UserWarning)\n",
            "/usr/local/lib/python3.6/dist-packages/seaborn/distributions.py:305: UserWarning: Dataset has 0 variance; skipping density estimate.\n",
            "  warnings.warn(msg, UserWarning)\n",
            "/usr/local/lib/python3.6/dist-packages/seaborn/distributions.py:305: UserWarning: Dataset has 0 variance; skipping density estimate.\n",
            "  warnings.warn(msg, UserWarning)\n",
            "/usr/local/lib/python3.6/dist-packages/seaborn/distributions.py:305: UserWarning: Dataset has 0 variance; skipping density estimate.\n",
            "  warnings.warn(msg, UserWarning)\n",
            "/usr/local/lib/python3.6/dist-packages/seaborn/distributions.py:305: UserWarning: Dataset has 0 variance; skipping density estimate.\n",
            "  warnings.warn(msg, UserWarning)\n",
            "/usr/local/lib/python3.6/dist-packages/seaborn/distributions.py:305: UserWarning: Dataset has 0 variance; skipping density estimate.\n",
            "  warnings.warn(msg, UserWarning)\n",
            "/usr/local/lib/python3.6/dist-packages/seaborn/distributions.py:305: UserWarning: Dataset has 0 variance; skipping density estimate.\n",
            "  warnings.warn(msg, UserWarning)\n",
            "/usr/local/lib/python3.6/dist-packages/seaborn/distributions.py:305: UserWarning: Dataset has 0 variance; skipping density estimate.\n",
            "  warnings.warn(msg, UserWarning)\n",
            "/usr/local/lib/python3.6/dist-packages/seaborn/distributions.py:305: UserWarning: Dataset has 0 variance; skipping density estimate.\n",
            "  warnings.warn(msg, UserWarning)\n",
            "/usr/local/lib/python3.6/dist-packages/seaborn/distributions.py:305: UserWarning: Dataset has 0 variance; skipping density estimate.\n",
            "  warnings.warn(msg, UserWarning)\n",
            "/usr/local/lib/python3.6/dist-packages/seaborn/distributions.py:305: UserWarning: Dataset has 0 variance; skipping density estimate.\n",
            "  warnings.warn(msg, UserWarning)\n",
            "/usr/local/lib/python3.6/dist-packages/seaborn/distributions.py:305: UserWarning: Dataset has 0 variance; skipping density estimate.\n",
            "  warnings.warn(msg, UserWarning)\n",
            "/usr/local/lib/python3.6/dist-packages/seaborn/distributions.py:305: UserWarning: Dataset has 0 variance; skipping density estimate.\n",
            "  warnings.warn(msg, UserWarning)\n",
            "/usr/local/lib/python3.6/dist-packages/seaborn/distributions.py:305: UserWarning: Dataset has 0 variance; skipping density estimate.\n",
            "  warnings.warn(msg, UserWarning)\n",
            "/usr/local/lib/python3.6/dist-packages/seaborn/distributions.py:305: UserWarning: Dataset has 0 variance; skipping density estimate.\n",
            "  warnings.warn(msg, UserWarning)\n",
            "/usr/local/lib/python3.6/dist-packages/seaborn/distributions.py:305: UserWarning: Dataset has 0 variance; skipping density estimate.\n",
            "  warnings.warn(msg, UserWarning)\n",
            "/usr/local/lib/python3.6/dist-packages/seaborn/distributions.py:305: UserWarning: Dataset has 0 variance; skipping density estimate.\n",
            "  warnings.warn(msg, UserWarning)\n",
            "/usr/local/lib/python3.6/dist-packages/seaborn/distributions.py:305: UserWarning: Dataset has 0 variance; skipping density estimate.\n",
            "  warnings.warn(msg, UserWarning)\n",
            "/usr/local/lib/python3.6/dist-packages/seaborn/distributions.py:305: UserWarning: Dataset has 0 variance; skipping density estimate.\n",
            "  warnings.warn(msg, UserWarning)\n",
            "/usr/local/lib/python3.6/dist-packages/seaborn/distributions.py:305: UserWarning: Dataset has 0 variance; skipping density estimate.\n",
            "  warnings.warn(msg, UserWarning)\n",
            "/usr/local/lib/python3.6/dist-packages/seaborn/distributions.py:305: UserWarning: Dataset has 0 variance; skipping density estimate.\n",
            "  warnings.warn(msg, UserWarning)\n",
            "/usr/local/lib/python3.6/dist-packages/seaborn/distributions.py:305: UserWarning: Dataset has 0 variance; skipping density estimate.\n",
            "  warnings.warn(msg, UserWarning)\n",
            "/usr/local/lib/python3.6/dist-packages/seaborn/distributions.py:305: UserWarning: Dataset has 0 variance; skipping density estimate.\n",
            "  warnings.warn(msg, UserWarning)\n",
            "/usr/local/lib/python3.6/dist-packages/seaborn/distributions.py:305: UserWarning: Dataset has 0 variance; skipping density estimate.\n",
            "  warnings.warn(msg, UserWarning)\n",
            "/usr/local/lib/python3.6/dist-packages/seaborn/distributions.py:305: UserWarning: Dataset has 0 variance; skipping density estimate.\n",
            "  warnings.warn(msg, UserWarning)\n",
            "/usr/local/lib/python3.6/dist-packages/seaborn/distributions.py:305: UserWarning: Dataset has 0 variance; skipping density estimate.\n",
            "  warnings.warn(msg, UserWarning)\n",
            "/usr/local/lib/python3.6/dist-packages/seaborn/distributions.py:305: UserWarning: Dataset has 0 variance; skipping density estimate.\n",
            "  warnings.warn(msg, UserWarning)\n",
            "/usr/local/lib/python3.6/dist-packages/seaborn/distributions.py:305: UserWarning: Dataset has 0 variance; skipping density estimate.\n",
            "  warnings.warn(msg, UserWarning)\n",
            "/usr/local/lib/python3.6/dist-packages/seaborn/distributions.py:305: UserWarning: Dataset has 0 variance; skipping density estimate.\n",
            "  warnings.warn(msg, UserWarning)\n",
            "/usr/local/lib/python3.6/dist-packages/seaborn/distributions.py:305: UserWarning: Dataset has 0 variance; skipping density estimate.\n",
            "  warnings.warn(msg, UserWarning)\n",
            "/usr/local/lib/python3.6/dist-packages/seaborn/distributions.py:305: UserWarning: Dataset has 0 variance; skipping density estimate.\n",
            "  warnings.warn(msg, UserWarning)\n",
            "/usr/local/lib/python3.6/dist-packages/seaborn/distributions.py:305: UserWarning: Dataset has 0 variance; skipping density estimate.\n",
            "  warnings.warn(msg, UserWarning)\n",
            "/usr/local/lib/python3.6/dist-packages/seaborn/distributions.py:305: UserWarning: Dataset has 0 variance; skipping density estimate.\n",
            "  warnings.warn(msg, UserWarning)\n",
            "/usr/local/lib/python3.6/dist-packages/seaborn/distributions.py:305: UserWarning: Dataset has 0 variance; skipping density estimate.\n",
            "  warnings.warn(msg, UserWarning)\n",
            "/usr/local/lib/python3.6/dist-packages/seaborn/distributions.py:305: UserWarning: Dataset has 0 variance; skipping density estimate.\n",
            "  warnings.warn(msg, UserWarning)\n",
            "/usr/local/lib/python3.6/dist-packages/seaborn/distributions.py:305: UserWarning: Dataset has 0 variance; skipping density estimate.\n",
            "  warnings.warn(msg, UserWarning)\n",
            "/usr/local/lib/python3.6/dist-packages/seaborn/distributions.py:305: UserWarning: Dataset has 0 variance; skipping density estimate.\n",
            "  warnings.warn(msg, UserWarning)\n",
            "/usr/local/lib/python3.6/dist-packages/seaborn/distributions.py:305: UserWarning: Dataset has 0 variance; skipping density estimate.\n",
            "  warnings.warn(msg, UserWarning)\n",
            "/usr/local/lib/python3.6/dist-packages/seaborn/distributions.py:305: UserWarning: Dataset has 0 variance; skipping density estimate.\n",
            "  warnings.warn(msg, UserWarning)\n",
            "/usr/local/lib/python3.6/dist-packages/seaborn/distributions.py:305: UserWarning: Dataset has 0 variance; skipping density estimate.\n",
            "  warnings.warn(msg, UserWarning)\n",
            "/usr/local/lib/python3.6/dist-packages/seaborn/distributions.py:305: UserWarning: Dataset has 0 variance; skipping density estimate.\n",
            "  warnings.warn(msg, UserWarning)\n",
            "/usr/local/lib/python3.6/dist-packages/seaborn/distributions.py:305: UserWarning: Dataset has 0 variance; skipping density estimate.\n",
            "  warnings.warn(msg, UserWarning)\n",
            "/usr/local/lib/python3.6/dist-packages/seaborn/distributions.py:305: UserWarning: Dataset has 0 variance; skipping density estimate.\n",
            "  warnings.warn(msg, UserWarning)\n",
            "/usr/local/lib/python3.6/dist-packages/seaborn/distributions.py:305: UserWarning: Dataset has 0 variance; skipping density estimate.\n",
            "  warnings.warn(msg, UserWarning)\n",
            "/usr/local/lib/python3.6/dist-packages/seaborn/distributions.py:305: UserWarning: Dataset has 0 variance; skipping density estimate.\n",
            "  warnings.warn(msg, UserWarning)\n",
            "/usr/local/lib/python3.6/dist-packages/seaborn/distributions.py:305: UserWarning: Dataset has 0 variance; skipping density estimate.\n",
            "  warnings.warn(msg, UserWarning)\n",
            "/usr/local/lib/python3.6/dist-packages/seaborn/distributions.py:305: UserWarning: Dataset has 0 variance; skipping density estimate.\n",
            "  warnings.warn(msg, UserWarning)\n",
            "/usr/local/lib/python3.6/dist-packages/seaborn/distributions.py:305: UserWarning: Dataset has 0 variance; skipping density estimate.\n",
            "  warnings.warn(msg, UserWarning)\n",
            "/usr/local/lib/python3.6/dist-packages/seaborn/distributions.py:305: UserWarning: Dataset has 0 variance; skipping density estimate.\n",
            "  warnings.warn(msg, UserWarning)\n",
            "/usr/local/lib/python3.6/dist-packages/seaborn/distributions.py:305: UserWarning: Dataset has 0 variance; skipping density estimate.\n",
            "  warnings.warn(msg, UserWarning)\n",
            "/usr/local/lib/python3.6/dist-packages/seaborn/distributions.py:305: UserWarning: Dataset has 0 variance; skipping density estimate.\n",
            "  warnings.warn(msg, UserWarning)\n",
            "/usr/local/lib/python3.6/dist-packages/seaborn/distributions.py:305: UserWarning: Dataset has 0 variance; skipping density estimate.\n",
            "  warnings.warn(msg, UserWarning)\n",
            "/usr/local/lib/python3.6/dist-packages/seaborn/distributions.py:305: UserWarning: Dataset has 0 variance; skipping density estimate.\n",
            "  warnings.warn(msg, UserWarning)\n",
            "/usr/local/lib/python3.6/dist-packages/seaborn/distributions.py:305: UserWarning: Dataset has 0 variance; skipping density estimate.\n",
            "  warnings.warn(msg, UserWarning)\n",
            "/usr/local/lib/python3.6/dist-packages/seaborn/distributions.py:305: UserWarning: Dataset has 0 variance; skipping density estimate.\n",
            "  warnings.warn(msg, UserWarning)\n",
            "/usr/local/lib/python3.6/dist-packages/seaborn/distributions.py:305: UserWarning: Dataset has 0 variance; skipping density estimate.\n",
            "  warnings.warn(msg, UserWarning)\n",
            "/usr/local/lib/python3.6/dist-packages/seaborn/distributions.py:305: UserWarning: Dataset has 0 variance; skipping density estimate.\n",
            "  warnings.warn(msg, UserWarning)\n",
            "/usr/local/lib/python3.6/dist-packages/seaborn/distributions.py:305: UserWarning: Dataset has 0 variance; skipping density estimate.\n",
            "  warnings.warn(msg, UserWarning)\n",
            "/usr/local/lib/python3.6/dist-packages/seaborn/distributions.py:305: UserWarning: Dataset has 0 variance; skipping density estimate.\n",
            "  warnings.warn(msg, UserWarning)\n",
            "/usr/local/lib/python3.6/dist-packages/seaborn/distributions.py:305: UserWarning: Dataset has 0 variance; skipping density estimate.\n",
            "  warnings.warn(msg, UserWarning)\n",
            "/usr/local/lib/python3.6/dist-packages/seaborn/distributions.py:305: UserWarning: Dataset has 0 variance; skipping density estimate.\n",
            "  warnings.warn(msg, UserWarning)\n",
            "/usr/local/lib/python3.6/dist-packages/seaborn/distributions.py:305: UserWarning: Dataset has 0 variance; skipping density estimate.\n",
            "  warnings.warn(msg, UserWarning)\n",
            "/usr/local/lib/python3.6/dist-packages/seaborn/distributions.py:305: UserWarning: Dataset has 0 variance; skipping density estimate.\n",
            "  warnings.warn(msg, UserWarning)\n",
            "/usr/local/lib/python3.6/dist-packages/seaborn/distributions.py:305: UserWarning: Dataset has 0 variance; skipping density estimate.\n",
            "  warnings.warn(msg, UserWarning)\n",
            "/usr/local/lib/python3.6/dist-packages/seaborn/distributions.py:305: UserWarning: Dataset has 0 variance; skipping density estimate.\n",
            "  warnings.warn(msg, UserWarning)\n",
            "/usr/local/lib/python3.6/dist-packages/seaborn/distributions.py:305: UserWarning: Dataset has 0 variance; skipping density estimate.\n",
            "  warnings.warn(msg, UserWarning)\n",
            "/usr/local/lib/python3.6/dist-packages/seaborn/distributions.py:305: UserWarning: Dataset has 0 variance; skipping density estimate.\n",
            "  warnings.warn(msg, UserWarning)\n",
            "/usr/local/lib/python3.6/dist-packages/seaborn/distributions.py:305: UserWarning: Dataset has 0 variance; skipping density estimate.\n",
            "  warnings.warn(msg, UserWarning)\n",
            "/usr/local/lib/python3.6/dist-packages/seaborn/distributions.py:305: UserWarning: Dataset has 0 variance; skipping density estimate.\n",
            "  warnings.warn(msg, UserWarning)\n",
            "/usr/local/lib/python3.6/dist-packages/seaborn/distributions.py:305: UserWarning: Dataset has 0 variance; skipping density estimate.\n",
            "  warnings.warn(msg, UserWarning)\n",
            "/usr/local/lib/python3.6/dist-packages/seaborn/distributions.py:305: UserWarning: Dataset has 0 variance; skipping density estimate.\n",
            "  warnings.warn(msg, UserWarning)\n",
            "/usr/local/lib/python3.6/dist-packages/seaborn/distributions.py:305: UserWarning: Dataset has 0 variance; skipping density estimate.\n",
            "  warnings.warn(msg, UserWarning)\n",
            "/usr/local/lib/python3.6/dist-packages/seaborn/distributions.py:305: UserWarning: Dataset has 0 variance; skipping density estimate.\n",
            "  warnings.warn(msg, UserWarning)\n",
            "/usr/local/lib/python3.6/dist-packages/seaborn/distributions.py:305: UserWarning: Dataset has 0 variance; skipping density estimate.\n",
            "  warnings.warn(msg, UserWarning)\n",
            "/usr/local/lib/python3.6/dist-packages/seaborn/distributions.py:305: UserWarning: Dataset has 0 variance; skipping density estimate.\n",
            "  warnings.warn(msg, UserWarning)\n",
            "/usr/local/lib/python3.6/dist-packages/seaborn/distributions.py:305: UserWarning: Dataset has 0 variance; skipping density estimate.\n",
            "  warnings.warn(msg, UserWarning)\n",
            "/usr/local/lib/python3.6/dist-packages/seaborn/distributions.py:305: UserWarning: Dataset has 0 variance; skipping density estimate.\n",
            "  warnings.warn(msg, UserWarning)\n",
            "/usr/local/lib/python3.6/dist-packages/seaborn/distributions.py:305: UserWarning: Dataset has 0 variance; skipping density estimate.\n",
            "  warnings.warn(msg, UserWarning)\n",
            "/usr/local/lib/python3.6/dist-packages/seaborn/distributions.py:305: UserWarning: Dataset has 0 variance; skipping density estimate.\n",
            "  warnings.warn(msg, UserWarning)\n",
            "/usr/local/lib/python3.6/dist-packages/seaborn/distributions.py:305: UserWarning: Dataset has 0 variance; skipping density estimate.\n",
            "  warnings.warn(msg, UserWarning)\n",
            "/usr/local/lib/python3.6/dist-packages/seaborn/distributions.py:305: UserWarning: Dataset has 0 variance; skipping density estimate.\n",
            "  warnings.warn(msg, UserWarning)\n",
            "/usr/local/lib/python3.6/dist-packages/seaborn/distributions.py:305: UserWarning: Dataset has 0 variance; skipping density estimate.\n",
            "  warnings.warn(msg, UserWarning)\n",
            "/usr/local/lib/python3.6/dist-packages/seaborn/distributions.py:305: UserWarning: Dataset has 0 variance; skipping density estimate.\n",
            "  warnings.warn(msg, UserWarning)\n",
            "/usr/local/lib/python3.6/dist-packages/seaborn/distributions.py:305: UserWarning: Dataset has 0 variance; skipping density estimate.\n",
            "  warnings.warn(msg, UserWarning)\n",
            "/usr/local/lib/python3.6/dist-packages/seaborn/distributions.py:305: UserWarning: Dataset has 0 variance; skipping density estimate.\n",
            "  warnings.warn(msg, UserWarning)\n",
            "/usr/local/lib/python3.6/dist-packages/seaborn/distributions.py:305: UserWarning: Dataset has 0 variance; skipping density estimate.\n",
            "  warnings.warn(msg, UserWarning)\n",
            "/usr/local/lib/python3.6/dist-packages/seaborn/distributions.py:305: UserWarning: Dataset has 0 variance; skipping density estimate.\n",
            "  warnings.warn(msg, UserWarning)\n",
            "/usr/local/lib/python3.6/dist-packages/seaborn/distributions.py:305: UserWarning: Dataset has 0 variance; skipping density estimate.\n",
            "  warnings.warn(msg, UserWarning)\n",
            "/usr/local/lib/python3.6/dist-packages/seaborn/distributions.py:305: UserWarning: Dataset has 0 variance; skipping density estimate.\n",
            "  warnings.warn(msg, UserWarning)\n",
            "/usr/local/lib/python3.6/dist-packages/seaborn/distributions.py:305: UserWarning: Dataset has 0 variance; skipping density estimate.\n",
            "  warnings.warn(msg, UserWarning)\n",
            "/usr/local/lib/python3.6/dist-packages/seaborn/distributions.py:305: UserWarning: Dataset has 0 variance; skipping density estimate.\n",
            "  warnings.warn(msg, UserWarning)\n",
            "/usr/local/lib/python3.6/dist-packages/seaborn/distributions.py:305: UserWarning: Dataset has 0 variance; skipping density estimate.\n",
            "  warnings.warn(msg, UserWarning)\n",
            "/usr/local/lib/python3.6/dist-packages/seaborn/distributions.py:305: UserWarning: Dataset has 0 variance; skipping density estimate.\n",
            "  warnings.warn(msg, UserWarning)\n",
            "/usr/local/lib/python3.6/dist-packages/seaborn/distributions.py:305: UserWarning: Dataset has 0 variance; skipping density estimate.\n",
            "  warnings.warn(msg, UserWarning)\n",
            "/usr/local/lib/python3.6/dist-packages/seaborn/distributions.py:305: UserWarning: Dataset has 0 variance; skipping density estimate.\n",
            "  warnings.warn(msg, UserWarning)\n",
            "/usr/local/lib/python3.6/dist-packages/seaborn/distributions.py:305: UserWarning: Dataset has 0 variance; skipping density estimate.\n",
            "  warnings.warn(msg, UserWarning)\n",
            "/usr/local/lib/python3.6/dist-packages/seaborn/distributions.py:305: UserWarning: Dataset has 0 variance; skipping density estimate.\n",
            "  warnings.warn(msg, UserWarning)\n",
            "/usr/local/lib/python3.6/dist-packages/seaborn/distributions.py:305: UserWarning: Dataset has 0 variance; skipping density estimate.\n",
            "  warnings.warn(msg, UserWarning)\n",
            "/usr/local/lib/python3.6/dist-packages/seaborn/distributions.py:305: UserWarning: Dataset has 0 variance; skipping density estimate.\n",
            "  warnings.warn(msg, UserWarning)\n",
            "/usr/local/lib/python3.6/dist-packages/seaborn/distributions.py:305: UserWarning: Dataset has 0 variance; skipping density estimate.\n",
            "  warnings.warn(msg, UserWarning)\n",
            "/usr/local/lib/python3.6/dist-packages/seaborn/distributions.py:305: UserWarning: Dataset has 0 variance; skipping density estimate.\n",
            "  warnings.warn(msg, UserWarning)\n",
            "/usr/local/lib/python3.6/dist-packages/seaborn/distributions.py:305: UserWarning: Dataset has 0 variance; skipping density estimate.\n",
            "  warnings.warn(msg, UserWarning)\n",
            "/usr/local/lib/python3.6/dist-packages/seaborn/distributions.py:305: UserWarning: Dataset has 0 variance; skipping density estimate.\n",
            "  warnings.warn(msg, UserWarning)\n",
            "/usr/local/lib/python3.6/dist-packages/seaborn/distributions.py:305: UserWarning: Dataset has 0 variance; skipping density estimate.\n",
            "  warnings.warn(msg, UserWarning)\n",
            "/usr/local/lib/python3.6/dist-packages/seaborn/distributions.py:305: UserWarning: Dataset has 0 variance; skipping density estimate.\n",
            "  warnings.warn(msg, UserWarning)\n",
            "/usr/local/lib/python3.6/dist-packages/seaborn/distributions.py:305: UserWarning: Dataset has 0 variance; skipping density estimate.\n",
            "  warnings.warn(msg, UserWarning)\n",
            "/usr/local/lib/python3.6/dist-packages/seaborn/distributions.py:305: UserWarning: Dataset has 0 variance; skipping density estimate.\n",
            "  warnings.warn(msg, UserWarning)\n",
            "/usr/local/lib/python3.6/dist-packages/seaborn/distributions.py:305: UserWarning: Dataset has 0 variance; skipping density estimate.\n",
            "  warnings.warn(msg, UserWarning)\n"
          ],
          "name": "stderr"
        },
        {
          "output_type": "execute_result",
          "data": {
            "text/plain": [
              "<seaborn.axisgrid.PairGrid at 0x7fd4909ebd68>"
            ]
          },
          "metadata": {
            "tags": []
          },
          "execution_count": 33
        },
        {
          "output_type": "display_data",
          "data": {
            "image/png": "[encoded data removed]",
            "text/plain": [
              "<Figure size 768.625x720 with 20 Axes>"
            ]
          },
          "metadata": {
            "tags": [],
            "needs_background": "light"
          }
        }
      ]
    },
    {
      "cell_type": "markdown",
      "metadata": {
        "id": "x-U598glYe3M"
      },
      "source": [
        "# Train"
      ]
    },
    {
      "cell_type": "code",
      "metadata": {
        "id": "xVjG4fAkX7GF"
      },
      "source": [
        "df_raw = df_drop[:]\n",
        "df_raw = df_raw.sample(frac = 1) "
      ],
      "execution_count": 58,
      "outputs": []
    },
    {
      "cell_type": "code",
      "metadata": {
        "id": "RxRGBdyuX9aH",
        "outputId": "d8555fff-7460-4403-d2a2-9d1c5cc5fd02",
        "colab": {
          "base_uri": "https://localhost:8080/",
          "height": 419
        }
      },
      "source": [
        "df_raw[['feature1',\t'feature2'\t,'feature3']]"
      ],
      "execution_count": 59,
      "outputs": [
        {
          "output_type": "execute_result",
          "data": {
            "text/html": [
              "<div>\n",
              "<style scoped>\n",
              "    .dataframe tbody tr th:only-of-type {\n",
              "        vertical-align: middle;\n",
              "    }\n",
              "\n",
              "    .dataframe tbody tr th {\n",
              "        vertical-align: top;\n",
              "    }\n",
              "\n",
              "    .dataframe thead th {\n",
              "        text-align: right;\n",
              "    }\n",
              "</style>\n",
              "<table border=\"1\" class=\"dataframe\">\n",
              "  <thead>\n",
              "    <tr style=\"text-align: right;\">\n",
              "      <th></th>\n",
              "      <th>feature1</th>\n",
              "      <th>feature2</th>\n",
              "      <th>feature3</th>\n",
              "    </tr>\n",
              "  </thead>\n",
              "  <tbody>\n",
              "    <tr>\n",
              "      <th>23161</th>\n",
              "      <td>0.0</td>\n",
              "      <td>8</td>\n",
              "      <td>5</td>\n",
              "    </tr>\n",
              "    <tr>\n",
              "      <th>16861</th>\n",
              "      <td>3.0</td>\n",
              "      <td>8</td>\n",
              "      <td>2</td>\n",
              "    </tr>\n",
              "    <tr>\n",
              "      <th>41671</th>\n",
              "      <td>8.0</td>\n",
              "      <td>9</td>\n",
              "      <td>5</td>\n",
              "    </tr>\n",
              "    <tr>\n",
              "      <th>17017</th>\n",
              "      <td>2.0</td>\n",
              "      <td>5</td>\n",
              "      <td>0</td>\n",
              "    </tr>\n",
              "    <tr>\n",
              "      <th>25773</th>\n",
              "      <td>7.0</td>\n",
              "      <td>5</td>\n",
              "      <td>8</td>\n",
              "    </tr>\n",
              "    <tr>\n",
              "      <th>...</th>\n",
              "      <td>...</td>\n",
              "      <td>...</td>\n",
              "      <td>...</td>\n",
              "    </tr>\n",
              "    <tr>\n",
              "      <th>44227</th>\n",
              "      <td>8.0</td>\n",
              "      <td>3</td>\n",
              "      <td>7</td>\n",
              "    </tr>\n",
              "    <tr>\n",
              "      <th>26005</th>\n",
              "      <td>4.0</td>\n",
              "      <td>1</td>\n",
              "      <td>7</td>\n",
              "    </tr>\n",
              "    <tr>\n",
              "      <th>3223</th>\n",
              "      <td>4.0</td>\n",
              "      <td>8</td>\n",
              "      <td>9</td>\n",
              "    </tr>\n",
              "    <tr>\n",
              "      <th>16305</th>\n",
              "      <td>0.0</td>\n",
              "      <td>6</td>\n",
              "      <td>4</td>\n",
              "    </tr>\n",
              "    <tr>\n",
              "      <th>3544</th>\n",
              "      <td>5.0</td>\n",
              "      <td>6</td>\n",
              "      <td>3</td>\n",
              "    </tr>\n",
              "  </tbody>\n",
              "</table>\n",
              "<p>47730 rows × 3 columns</p>\n",
              "</div>"
            ],
            "text/plain": [
              "       feature1  feature2  feature3\n",
              "23161       0.0         8         5\n",
              "16861       3.0         8         2\n",
              "41671       8.0         9         5\n",
              "17017       2.0         5         0\n",
              "25773       7.0         5         8\n",
              "...         ...       ...       ...\n",
              "44227       8.0         3         7\n",
              "26005       4.0         1         7\n",
              "3223        4.0         8         9\n",
              "16305       0.0         6         4\n",
              "3544        5.0         6         3\n",
              "\n",
              "[47730 rows x 3 columns]"
            ]
          },
          "metadata": {
            "tags": []
          },
          "execution_count": 59
        }
      ]
    },
    {
      "cell_type": "code",
      "metadata": {
        "id": "j88jZu_HXzp8"
      },
      "source": [
        "from sklearn.model_selection import KFold\n",
        "import pickle\n",
        "from sklearn.model_selection import train_test_split\n",
        "import numpy as np\n",
        "from sklearn.svm import LinearSVC\n",
        "from sklearn.calibration import CalibratedClassifierCV\n",
        "def trainmodel(dataset,num_folds,modfile=''):\n",
        "  trainfeat, testfeat, trainlabel, testlabel = train_test_split(dataset[['feature1',\t'feature2'\t,'feature3']], dataset['predict'], test_size=0.2, random_state=42)\n",
        "  #return trainfeat,testfeat,trainlabel,testlabel\n",
        "  clf = LinearSVC()\n",
        "  clf = CalibratedClassifierCV() \n",
        "  \n",
        "  \n",
        "  # Define the K-fold Cross Validator\n",
        "  kfold = KFold(n_splits=num_folds, shuffle=True)\n",
        "  fold_no = 1\n",
        "  for train, test in kfold.split(trainfeat, trainlabel):\n",
        "    print(trainfeat.values[train])\n",
        "    print(trainlabel.values[train])\n",
        "    mod = clf.fit(np.array(trainfeat.values[train]),np.array(trainlabel.values[train]))\n",
        "    print('1')\n",
        "    res = mod.predict(np.array(trainfeat.values[test]))\n",
        "    \n",
        "    acc=0\n",
        "    acc = sum(res == trainlabel.values[test])/len(res)\n",
        "    print(f'fold{fold_no} acc:{acc}')\n",
        "    fold_no = fold_no + 1\n",
        "\n",
        "  res = mod.predict(np.array(testfeat.values))  \n",
        "  acc = sum(res == testlabel.values)/len(res)\n",
        "  print(f'acc with test data {acc}')\n",
        "  if modfile!='':\n",
        "      pickle.dump(mod,open(modfile,'wb'))\n",
        "  conf = mod.predict_proba(np.array(testfeat.values))\n",
        "  return mod,acc,conf,testlabel"
      ],
      "execution_count": 60,
      "outputs": []
    },
    {
      "cell_type": "code",
      "metadata": {
        "id": "JUaiV6_MYSlv",
        "outputId": "99fcf981-8ebc-497b-fdf7-9419b1a21832",
        "colab": {
          "base_uri": "https://localhost:8080/",
          "height": 1000
        }
      },
      "source": [
        "mod,acc,conf,testlabel = trainmodel(df_raw,3,'class_model99.mod')"
      ],
      "execution_count": 61,
      "outputs": [
        {
          "output_type": "stream",
          "text": [
            "[[1. 8. 9.]\n",
            " [4. 8. 1.]\n",
            " [0. 8. 1.]\n",
            " ...\n",
            " [2. 3. 5.]\n",
            " [8. 4. 0.]\n",
            " [5. 1. 0.]]\n",
            "[ 1 57  8 ... 16 68  0]\n"
          ],
          "name": "stdout"
        },
        {
          "output_type": "stream",
          "text": [
            "/usr/local/lib/python3.6/dist-packages/sklearn/svm/_base.py:947: ConvergenceWarning: Liblinear failed to converge, increase the number of iterations.\n",
            "  \"the number of iterations.\", ConvergenceWarning)\n",
            "/usr/local/lib/python3.6/dist-packages/sklearn/svm/_base.py:947: ConvergenceWarning: Liblinear failed to converge, increase the number of iterations.\n",
            "  \"the number of iterations.\", ConvergenceWarning)\n",
            "/usr/local/lib/python3.6/dist-packages/sklearn/svm/_base.py:947: ConvergenceWarning: Liblinear failed to converge, increase the number of iterations.\n",
            "  \"the number of iterations.\", ConvergenceWarning)\n",
            "/usr/local/lib/python3.6/dist-packages/sklearn/svm/_base.py:947: ConvergenceWarning: Liblinear failed to converge, increase the number of iterations.\n",
            "  \"the number of iterations.\", ConvergenceWarning)\n",
            "/usr/local/lib/python3.6/dist-packages/sklearn/svm/_base.py:947: ConvergenceWarning: Liblinear failed to converge, increase the number of iterations.\n",
            "  \"the number of iterations.\", ConvergenceWarning)\n"
          ],
          "name": "stderr"
        },
        {
          "output_type": "stream",
          "text": [
            "1\n",
            "fold1 acc:0.2711345065996229\n",
            "[[0. 8. 1.]\n",
            " [3. 4. 7.]\n",
            " [0. 7. 4.]\n",
            " ...\n",
            " [8. 4. 5.]\n",
            " [5. 1. 0.]\n",
            " [4. 7. 2.]]\n",
            "[ 8 22 28 ... 98  0 55]\n"
          ],
          "name": "stdout"
        },
        {
          "output_type": "stream",
          "text": [
            "/usr/local/lib/python3.6/dist-packages/sklearn/svm/_base.py:947: ConvergenceWarning: Liblinear failed to converge, increase the number of iterations.\n",
            "  \"the number of iterations.\", ConvergenceWarning)\n",
            "/usr/local/lib/python3.6/dist-packages/sklearn/svm/_base.py:947: ConvergenceWarning: Liblinear failed to converge, increase the number of iterations.\n",
            "  \"the number of iterations.\", ConvergenceWarning)\n",
            "/usr/local/lib/python3.6/dist-packages/sklearn/svm/_base.py:947: ConvergenceWarning: Liblinear failed to converge, increase the number of iterations.\n",
            "  \"the number of iterations.\", ConvergenceWarning)\n",
            "/usr/local/lib/python3.6/dist-packages/sklearn/svm/_base.py:947: ConvergenceWarning: Liblinear failed to converge, increase the number of iterations.\n",
            "  \"the number of iterations.\", ConvergenceWarning)\n",
            "/usr/local/lib/python3.6/dist-packages/sklearn/svm/_base.py:947: ConvergenceWarning: Liblinear failed to converge, increase the number of iterations.\n",
            "  \"the number of iterations.\", ConvergenceWarning)\n"
          ],
          "name": "stderr"
        },
        {
          "output_type": "stream",
          "text": [
            "1\n",
            "fold2 acc:0.2572281583909491\n",
            "[[1. 8. 9.]\n",
            " [4. 8. 1.]\n",
            " [3. 4. 7.]\n",
            " ...\n",
            " [2. 3. 5.]\n",
            " [8. 4. 0.]\n",
            " [4. 7. 2.]]\n",
            "[ 1 57 22 ... 16 68 55]\n"
          ],
          "name": "stdout"
        },
        {
          "output_type": "stream",
          "text": [
            "/usr/local/lib/python3.6/dist-packages/sklearn/svm/_base.py:947: ConvergenceWarning: Liblinear failed to converge, increase the number of iterations.\n",
            "  \"the number of iterations.\", ConvergenceWarning)\n",
            "/usr/local/lib/python3.6/dist-packages/sklearn/svm/_base.py:947: ConvergenceWarning: Liblinear failed to converge, increase the number of iterations.\n",
            "  \"the number of iterations.\", ConvergenceWarning)\n",
            "/usr/local/lib/python3.6/dist-packages/sklearn/svm/_base.py:947: ConvergenceWarning: Liblinear failed to converge, increase the number of iterations.\n",
            "  \"the number of iterations.\", ConvergenceWarning)\n",
            "/usr/local/lib/python3.6/dist-packages/sklearn/svm/_base.py:947: ConvergenceWarning: Liblinear failed to converge, increase the number of iterations.\n",
            "  \"the number of iterations.\", ConvergenceWarning)\n",
            "/usr/local/lib/python3.6/dist-packages/sklearn/svm/_base.py:947: ConvergenceWarning: Liblinear failed to converge, increase the number of iterations.\n",
            "  \"the number of iterations.\", ConvergenceWarning)\n"
          ],
          "name": "stderr"
        },
        {
          "output_type": "stream",
          "text": [
            "1\n",
            "fold3 acc:0.24316467630421118\n",
            "acc with test data 0.24051958935679865\n"
          ],
          "name": "stdout"
        }
      ]
    }
  ]
}