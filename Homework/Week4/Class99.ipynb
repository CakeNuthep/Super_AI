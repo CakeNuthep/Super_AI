{
  "nbformat": 4,
  "nbformat_minor": 0,
  "metadata": {
    "colab": {
      "name": "Untitled11.ipynb",
      "provenance": [],
      "authorship_tag": "ABX9TyM7dyIOJ9Ld3AqJ9HKaUl2M",
      "include_colab_link": true
    },
    "kernelspec": {
      "name": "python3",
      "display_name": "Python 3"
    }
  },
  "cells": [
    {
      "cell_type": "markdown",
      "metadata": {
        "id": "view-in-github",
        "colab_type": "text"
      },
      "source": [
        "<a href=\"https://colab.research.google.com/github/CakeNuthep/Super_AI/blob/master/Homework/Week4/Class99.ipynb\" target=\"_parent\"><img src=\"https://colab.research.google.com/assets/colab-badge.svg\" alt=\"Open In Colab\"/></a>"
      ]
    },
    {
      "cell_type": "code",
      "metadata": {
        "id": "47YzoQo_wlVw"
      },
      "source": [
        "import pandas as pd\n",
        "import numpy as np\n",
        "import matplotlib.pyplot as plt\n",
        "import seaborn as sns\n",
        "import datetime as dt\n",
        "from sklearn.utils import resample, shuffle"
      ],
      "execution_count": 1,
      "outputs": []
    },
    {
      "cell_type": "code",
      "metadata": {
        "id": "4KuPboXvxBK2"
      },
      "source": [
        "df_map = pd.read_csv('https://raw.githubusercontent.com/CakeNuthep/Super_AI/master/Homework/Week4/thai-mnist-classification/mnist.train.map.csv')"
      ],
      "execution_count": 6,
      "outputs": []
    },
    {
      "cell_type": "code",
      "metadata": {
        "id": "Gm6QYfFPwUF_"
      },
      "source": [
        "df_compete = pd.read_csv('https://raw.githubusercontent.com/CakeNuthep/Super_AI/master/Homework/Week4/thai-mnist-classification/train.rules.csv')"
      ],
      "execution_count": 7,
      "outputs": []
    },
    {
      "cell_type": "code",
      "metadata": {
        "id": "FXuaa5eGwzD3",
        "outputId": "9af89da3-cb9a-4889-8a4e-fc39c251f659",
        "colab": {
          "base_uri": "https://localhost:8080/",
          "height": 419
        }
      },
      "source": [
        "df_compete"
      ],
      "execution_count": 8,
      "outputs": [
        {
          "output_type": "execute_result",
          "data": {
            "text/html": [
              "<div>\n",
              "<style scoped>\n",
              "    .dataframe tbody tr th:only-of-type {\n",
              "        vertical-align: middle;\n",
              "    }\n",
              "\n",
              "    .dataframe tbody tr th {\n",
              "        vertical-align: top;\n",
              "    }\n",
              "\n",
              "    .dataframe thead th {\n",
              "        text-align: right;\n",
              "    }\n",
              "</style>\n",
              "<table border=\"1\" class=\"dataframe\">\n",
              "  <thead>\n",
              "    <tr style=\"text-align: right;\">\n",
              "      <th></th>\n",
              "      <th>id</th>\n",
              "      <th>feature1</th>\n",
              "      <th>feature2</th>\n",
              "      <th>feature3</th>\n",
              "      <th>predict</th>\n",
              "    </tr>\n",
              "  </thead>\n",
              "  <tbody>\n",
              "    <tr>\n",
              "      <th>0</th>\n",
              "      <td>7c5fda39-c4a6-4d49-a0f6-751c7cd72bb4</td>\n",
              "      <td>NaN</td>\n",
              "      <td>75606737-d17d-43eb-86e6-6735b6f45a52.png</td>\n",
              "      <td>800e3baf-9ab1-48c0-a9ce-46c5fac9ff69.png</td>\n",
              "      <td>9</td>\n",
              "    </tr>\n",
              "    <tr>\n",
              "      <th>1</th>\n",
              "      <td>7e15ec1b-fe36-4a9e-a1cd-7c160e6a1b9c</td>\n",
              "      <td>NaN</td>\n",
              "      <td>75606737-d17d-43eb-86e6-6735b6f45a52.png</td>\n",
              "      <td>800e3baf-9ab1-48c0-a9ce-46c5fac9ff69.png</td>\n",
              "      <td>9</td>\n",
              "    </tr>\n",
              "    <tr>\n",
              "      <th>2</th>\n",
              "      <td>96b5d8b6-61cd-49f2-b22f-16fe25483cbc</td>\n",
              "      <td>NaN</td>\n",
              "      <td>75606737-d17d-43eb-86e6-6735b6f45a52.png</td>\n",
              "      <td>800e3baf-9ab1-48c0-a9ce-46c5fac9ff69.png</td>\n",
              "      <td>9</td>\n",
              "    </tr>\n",
              "    <tr>\n",
              "      <th>3</th>\n",
              "      <td>84ce5493-7e0f-4aee-8bb7-f799d714b5b3</td>\n",
              "      <td>NaN</td>\n",
              "      <td>c40b7fc4-07f1-4c78-abac-121bde38e267.png</td>\n",
              "      <td>1b2e1b3d-46f2-4c3f-b741-a8d5099ce710.png</td>\n",
              "      <td>4</td>\n",
              "    </tr>\n",
              "    <tr>\n",
              "      <th>4</th>\n",
              "      <td>7cb117e7-d8f3-400b-aeb3-a84fa3fb54e8</td>\n",
              "      <td>NaN</td>\n",
              "      <td>c40b7fc4-07f1-4c78-abac-121bde38e267.png</td>\n",
              "      <td>1b2e1b3d-46f2-4c3f-b741-a8d5099ce710.png</td>\n",
              "      <td>4</td>\n",
              "    </tr>\n",
              "    <tr>\n",
              "      <th>...</th>\n",
              "      <td>...</td>\n",
              "      <td>...</td>\n",
              "      <td>...</td>\n",
              "      <td>...</td>\n",
              "      <td>...</td>\n",
              "    </tr>\n",
              "    <tr>\n",
              "      <th>5550</th>\n",
              "      <td>769b31a2-cb7e-4a89-89d6-efed3199872e</td>\n",
              "      <td>0c754c5d-4166-433e-ac4d-4d1c7ef8e30a.png</td>\n",
              "      <td>bee226cb-6fbf-4470-b2de-d98e5af6110a.png</td>\n",
              "      <td>8801b5ff-821c-477e-9ce7-f65199f75646.png</td>\n",
              "      <td>0</td>\n",
              "    </tr>\n",
              "    <tr>\n",
              "      <th>5551</th>\n",
              "      <td>9f603c3a-4475-4d4b-a3ee-e8f868979749</td>\n",
              "      <td>787e9fe5-cb37-4cc5-afbb-20351616ff71.png</td>\n",
              "      <td>90ef2abe-439b-4655-a932-5a8ca5a91b71.png</td>\n",
              "      <td>c39f05cf-17aa-4b7d-afd3-29667f039216.png</td>\n",
              "      <td>51</td>\n",
              "    </tr>\n",
              "    <tr>\n",
              "      <th>5552</th>\n",
              "      <td>f25bbfff-6fd9-41f5-b2c2-0059b1a76bc6</td>\n",
              "      <td>a8c56afb-35cf-473a-bcd9-0927f8b6994b.png</td>\n",
              "      <td>7d15bcf1-5141-480c-9265-70a74aa2ed27.png</td>\n",
              "      <td>8f9eba51-8123-4186-8b11-8d2d2d9d134a.png</td>\n",
              "      <td>55</td>\n",
              "    </tr>\n",
              "    <tr>\n",
              "      <th>5553</th>\n",
              "      <td>e550dbb5-5127-4828-ac5b-153e9229992e</td>\n",
              "      <td>70ffaa6c-25a1-435a-8413-a8ad26fc8d7d.png</td>\n",
              "      <td>9b2af0fb-f1be-4782-a614-23fa59a366d7.png</td>\n",
              "      <td>ca58239a-7a35-4c96-9b6a-451e112dc5da.png</td>\n",
              "      <td>67</td>\n",
              "    </tr>\n",
              "    <tr>\n",
              "      <th>5554</th>\n",
              "      <td>e5745008-b6f0-4f54-a643-75d5a10136c6</td>\n",
              "      <td>4ec2ba63-0845-4812-a3fa-1f5eda80de8e.png</td>\n",
              "      <td>8479e8d8-d592-4931-926c-17a84b02ad0a.png</td>\n",
              "      <td>0039e0ae-1560-4433-afd2-e12b647d33f3.png</td>\n",
              "      <td>22</td>\n",
              "    </tr>\n",
              "  </tbody>\n",
              "</table>\n",
              "<p>5555 rows × 5 columns</p>\n",
              "</div>"
            ],
            "text/plain": [
              "                                        id  ... predict\n",
              "0     7c5fda39-c4a6-4d49-a0f6-751c7cd72bb4  ...       9\n",
              "1     7e15ec1b-fe36-4a9e-a1cd-7c160e6a1b9c  ...       9\n",
              "2     96b5d8b6-61cd-49f2-b22f-16fe25483cbc  ...       9\n",
              "3     84ce5493-7e0f-4aee-8bb7-f799d714b5b3  ...       4\n",
              "4     7cb117e7-d8f3-400b-aeb3-a84fa3fb54e8  ...       4\n",
              "...                                    ...  ...     ...\n",
              "5550  769b31a2-cb7e-4a89-89d6-efed3199872e  ...       0\n",
              "5551  9f603c3a-4475-4d4b-a3ee-e8f868979749  ...      51\n",
              "5552  f25bbfff-6fd9-41f5-b2c2-0059b1a76bc6  ...      55\n",
              "5553  e550dbb5-5127-4828-ac5b-153e9229992e  ...      67\n",
              "5554  e5745008-b6f0-4f54-a643-75d5a10136c6  ...      22\n",
              "\n",
              "[5555 rows x 5 columns]"
            ]
          },
          "metadata": {
            "tags": []
          },
          "execution_count": 8
        }
      ]
    },
    {
      "cell_type": "code",
      "metadata": {
        "id": "orWk8cilxdsn"
      },
      "source": [
        "df_map_unique = df_map.drop_duplicates()\n"
      ],
      "execution_count": 16,
      "outputs": []
    },
    {
      "cell_type": "code",
      "metadata": {
        "id": "QJpEPqYgxsVm",
        "outputId": "5d98f972-95f7-4a4d-e2ba-9e8a3c318279",
        "colab": {
          "base_uri": "https://localhost:8080/",
          "height": 419
        }
      },
      "source": [
        "df_map_unique"
      ],
      "execution_count": 17,
      "outputs": [
        {
          "output_type": "execute_result",
          "data": {
            "text/html": [
              "<div>\n",
              "<style scoped>\n",
              "    .dataframe tbody tr th:only-of-type {\n",
              "        vertical-align: middle;\n",
              "    }\n",
              "\n",
              "    .dataframe tbody tr th {\n",
              "        vertical-align: top;\n",
              "    }\n",
              "\n",
              "    .dataframe thead th {\n",
              "        text-align: right;\n",
              "    }\n",
              "</style>\n",
              "<table border=\"1\" class=\"dataframe\">\n",
              "  <thead>\n",
              "    <tr style=\"text-align: right;\">\n",
              "      <th></th>\n",
              "      <th>id</th>\n",
              "      <th>category</th>\n",
              "    </tr>\n",
              "  </thead>\n",
              "  <tbody>\n",
              "    <tr>\n",
              "      <th>0</th>\n",
              "      <td>75606737-d17d-43eb-86e6-6735b6f45a52.png</td>\n",
              "      <td>8</td>\n",
              "    </tr>\n",
              "    <tr>\n",
              "      <th>1</th>\n",
              "      <td>800e3baf-9ab1-48c0-a9ce-46c5fac9ff69.png</td>\n",
              "      <td>1</td>\n",
              "    </tr>\n",
              "    <tr>\n",
              "      <th>2</th>\n",
              "      <td>c40b7fc4-07f1-4c78-abac-121bde38e267.png</td>\n",
              "      <td>0</td>\n",
              "    </tr>\n",
              "    <tr>\n",
              "      <th>3</th>\n",
              "      <td>1b2e1b3d-46f2-4c3f-b741-a8d5099ce710.png</td>\n",
              "      <td>4</td>\n",
              "    </tr>\n",
              "    <tr>\n",
              "      <th>4</th>\n",
              "      <td>b8fd3385-9403-48a4-9d9e-74bde635e688.png</td>\n",
              "      <td>9</td>\n",
              "    </tr>\n",
              "    <tr>\n",
              "      <th>...</th>\n",
              "      <td>...</td>\n",
              "      <td>...</td>\n",
              "    </tr>\n",
              "    <tr>\n",
              "      <th>8250</th>\n",
              "      <td>9b2af0fb-f1be-4782-a614-23fa59a366d7.png</td>\n",
              "      <td>8</td>\n",
              "    </tr>\n",
              "    <tr>\n",
              "      <th>8251</th>\n",
              "      <td>ca58239a-7a35-4c96-9b6a-451e112dc5da.png</td>\n",
              "      <td>6</td>\n",
              "    </tr>\n",
              "    <tr>\n",
              "      <th>8252</th>\n",
              "      <td>4ec2ba63-0845-4812-a3fa-1f5eda80de8e.png</td>\n",
              "      <td>8</td>\n",
              "    </tr>\n",
              "    <tr>\n",
              "      <th>8253</th>\n",
              "      <td>8479e8d8-d592-4931-926c-17a84b02ad0a.png</td>\n",
              "      <td>2</td>\n",
              "    </tr>\n",
              "    <tr>\n",
              "      <th>8254</th>\n",
              "      <td>0039e0ae-1560-4433-afd2-e12b647d33f3.png</td>\n",
              "      <td>3</td>\n",
              "    </tr>\n",
              "  </tbody>\n",
              "</table>\n",
              "<p>8255 rows × 2 columns</p>\n",
              "</div>"
            ],
            "text/plain": [
              "                                            id  category\n",
              "0     75606737-d17d-43eb-86e6-6735b6f45a52.png         8\n",
              "1     800e3baf-9ab1-48c0-a9ce-46c5fac9ff69.png         1\n",
              "2     c40b7fc4-07f1-4c78-abac-121bde38e267.png         0\n",
              "3     1b2e1b3d-46f2-4c3f-b741-a8d5099ce710.png         4\n",
              "4     b8fd3385-9403-48a4-9d9e-74bde635e688.png         9\n",
              "...                                        ...       ...\n",
              "8250  9b2af0fb-f1be-4782-a614-23fa59a366d7.png         8\n",
              "8251  ca58239a-7a35-4c96-9b6a-451e112dc5da.png         6\n",
              "8252  4ec2ba63-0845-4812-a3fa-1f5eda80de8e.png         8\n",
              "8253  8479e8d8-d592-4931-926c-17a84b02ad0a.png         2\n",
              "8254  0039e0ae-1560-4433-afd2-e12b647d33f3.png         3\n",
              "\n",
              "[8255 rows x 2 columns]"
            ]
          },
          "metadata": {
            "tags": []
          },
          "execution_count": 17
        }
      ]
    },
    {
      "cell_type": "code",
      "metadata": {
        "id": "fZW3GXRyxLoF",
        "outputId": "d970173c-8fd8-4f3a-862a-312350f1ba9c",
        "colab": {
          "base_uri": "https://localhost:8080/",
          "height": 34
        }
      },
      "source": [
        "len(df_map['id'].unique())"
      ],
      "execution_count": 10,
      "outputs": [
        {
          "output_type": "execute_result",
          "data": {
            "text/plain": [
              "8255"
            ]
          },
          "metadata": {
            "tags": []
          },
          "execution_count": 10
        }
      ]
    },
    {
      "cell_type": "code",
      "metadata": {
        "id": "pvFRJ6sKzCmb",
        "outputId": "ae29211d-964d-4040-d7c7-25b9a4088498",
        "colab": {
          "base_uri": "https://localhost:8080/",
          "height": 265
        }
      },
      "source": [
        "df_compete['predict'].hist()\n",
        "plt.show()"
      ],
      "execution_count": 18,
      "outputs": [
        {
          "output_type": "display_data",
          "data": {
            "image/png": "[encoded data removed]",
            "text/plain": [
              "<Figure size 432x288 with 1 Axes>"
            ]
          },
          "metadata": {
            "tags": [],
            "needs_background": "light"
          }
        }
      ]
    },
    {
      "cell_type": "code",
      "metadata": {
        "id": "U3V8Xx_Q04fy",
        "outputId": "3c846b08-0b4b-4b7e-ea2c-dbb3d805e393",
        "colab": {
          "base_uri": "https://localhost:8080/",
          "height": 481
        }
      },
      "source": [
        "df_compete.groupby(['predict']).agg(['count'])"
      ],
      "execution_count": 33,
      "outputs": [
        {
          "output_type": "execute_result",
          "data": {
            "text/html": [
              "<div>\n",
              "<style scoped>\n",
              "    .dataframe tbody tr th:only-of-type {\n",
              "        vertical-align: middle;\n",
              "    }\n",
              "\n",
              "    .dataframe tbody tr th {\n",
              "        vertical-align: top;\n",
              "    }\n",
              "\n",
              "    .dataframe thead tr th {\n",
              "        text-align: left;\n",
              "    }\n",
              "\n",
              "    .dataframe thead tr:last-of-type th {\n",
              "        text-align: right;\n",
              "    }\n",
              "</style>\n",
              "<table border=\"1\" class=\"dataframe\">\n",
              "  <thead>\n",
              "    <tr>\n",
              "      <th></th>\n",
              "      <th>id</th>\n",
              "      <th>feature1</th>\n",
              "      <th>feature2</th>\n",
              "      <th>feature3</th>\n",
              "    </tr>\n",
              "    <tr>\n",
              "      <th></th>\n",
              "      <th>count</th>\n",
              "      <th>count</th>\n",
              "      <th>count</th>\n",
              "      <th>count</th>\n",
              "    </tr>\n",
              "    <tr>\n",
              "      <th>predict</th>\n",
              "      <th></th>\n",
              "      <th></th>\n",
              "      <th></th>\n",
              "      <th></th>\n",
              "    </tr>\n",
              "  </thead>\n",
              "  <tbody>\n",
              "    <tr>\n",
              "      <th>0</th>\n",
              "      <td>645</td>\n",
              "      <td>641</td>\n",
              "      <td>645</td>\n",
              "      <td>645</td>\n",
              "    </tr>\n",
              "    <tr>\n",
              "      <th>1</th>\n",
              "      <td>345</td>\n",
              "      <td>334</td>\n",
              "      <td>345</td>\n",
              "      <td>345</td>\n",
              "    </tr>\n",
              "    <tr>\n",
              "      <th>2</th>\n",
              "      <td>291</td>\n",
              "      <td>283</td>\n",
              "      <td>291</td>\n",
              "      <td>291</td>\n",
              "    </tr>\n",
              "    <tr>\n",
              "      <th>3</th>\n",
              "      <td>319</td>\n",
              "      <td>314</td>\n",
              "      <td>319</td>\n",
              "      <td>319</td>\n",
              "    </tr>\n",
              "    <tr>\n",
              "      <th>4</th>\n",
              "      <td>252</td>\n",
              "      <td>239</td>\n",
              "      <td>252</td>\n",
              "      <td>252</td>\n",
              "    </tr>\n",
              "    <tr>\n",
              "      <th>...</th>\n",
              "      <td>...</td>\n",
              "      <td>...</td>\n",
              "      <td>...</td>\n",
              "      <td>...</td>\n",
              "    </tr>\n",
              "    <tr>\n",
              "      <th>88</th>\n",
              "      <td>8</td>\n",
              "      <td>8</td>\n",
              "      <td>8</td>\n",
              "      <td>8</td>\n",
              "    </tr>\n",
              "    <tr>\n",
              "      <th>90</th>\n",
              "      <td>1</td>\n",
              "      <td>1</td>\n",
              "      <td>1</td>\n",
              "      <td>1</td>\n",
              "    </tr>\n",
              "    <tr>\n",
              "      <th>96</th>\n",
              "      <td>1</td>\n",
              "      <td>1</td>\n",
              "      <td>1</td>\n",
              "      <td>1</td>\n",
              "    </tr>\n",
              "    <tr>\n",
              "      <th>97</th>\n",
              "      <td>1</td>\n",
              "      <td>1</td>\n",
              "      <td>1</td>\n",
              "      <td>1</td>\n",
              "    </tr>\n",
              "    <tr>\n",
              "      <th>98</th>\n",
              "      <td>3</td>\n",
              "      <td>3</td>\n",
              "      <td>3</td>\n",
              "      <td>3</td>\n",
              "    </tr>\n",
              "  </tbody>\n",
              "</table>\n",
              "<p>74 rows × 4 columns</p>\n",
              "</div>"
            ],
            "text/plain": [
              "           id feature1 feature2 feature3\n",
              "        count    count    count    count\n",
              "predict                                 \n",
              "0         645      641      645      645\n",
              "1         345      334      345      345\n",
              "2         291      283      291      291\n",
              "3         319      314      319      319\n",
              "4         252      239      252      252\n",
              "...       ...      ...      ...      ...\n",
              "88          8        8        8        8\n",
              "90          1        1        1        1\n",
              "96          1        1        1        1\n",
              "97          1        1        1        1\n",
              "98          3        3        3        3\n",
              "\n",
              "[74 rows x 4 columns]"
            ]
          },
          "metadata": {
            "tags": []
          },
          "execution_count": 33
        }
      ]
    },
    {
      "cell_type": "markdown",
      "metadata": {
        "id": "7csJKDZLzkGf"
      },
      "source": [
        "# Over Sample"
      ]
    },
    {
      "cell_type": "code",
      "metadata": {
        "id": "qWWL7WZFzmp0"
      },
      "source": [
        "max_size = df_compete['predict'].value_counts().max()"
      ],
      "execution_count": 20,
      "outputs": []
    },
    {
      "cell_type": "code",
      "metadata": {
        "id": "s-j37DZmzwpu"
      },
      "source": [
        "lst = [df_compete]\n",
        "for class_index, group in df_compete.groupby('predict'):\n",
        "    lst.append(group.sample(max_size-len(group), replace=True))\n",
        "df_upsampled = pd.concat(lst)"
      ],
      "execution_count": 23,
      "outputs": []
    },
    {
      "cell_type": "code",
      "metadata": {
        "id": "DZfcnZpHz4Tj",
        "outputId": "1ea562a7-d6ef-41d1-d172-bd0c135421cd",
        "colab": {
          "base_uri": "https://localhost:8080/",
          "height": 265
        }
      },
      "source": [
        "df_upsampled['predict'].hist()\n",
        "plt.show()"
      ],
      "execution_count": 25,
      "outputs": [
        {
          "output_type": "display_data",
          "data": {
            "image/png": "[encoded data removed]",
            "text/plain": [
              "<Figure size 432x288 with 1 Axes>"
            ]
          },
          "metadata": {
            "tags": [],
            "needs_background": "light"
          }
        }
      ]
    },
    {
      "cell_type": "code",
      "metadata": {
        "id": "mhpEnlZ9z__z",
        "outputId": "754b71b0-ace1-4c91-bc3c-ea09fd319df3",
        "colab": {
          "base_uri": "https://localhost:8080/",
          "height": 481
        }
      },
      "source": [
        "df_upsampled.groupby(['predict']).agg(['count'])"
      ],
      "execution_count": 31,
      "outputs": [
        {
          "output_type": "execute_result",
          "data": {
            "text/html": [
              "<div>\n",
              "<style scoped>\n",
              "    .dataframe tbody tr th:only-of-type {\n",
              "        vertical-align: middle;\n",
              "    }\n",
              "\n",
              "    .dataframe tbody tr th {\n",
              "        vertical-align: top;\n",
              "    }\n",
              "\n",
              "    .dataframe thead tr th {\n",
              "        text-align: left;\n",
              "    }\n",
              "\n",
              "    .dataframe thead tr:last-of-type th {\n",
              "        text-align: right;\n",
              "    }\n",
              "</style>\n",
              "<table border=\"1\" class=\"dataframe\">\n",
              "  <thead>\n",
              "    <tr>\n",
              "      <th></th>\n",
              "      <th>id</th>\n",
              "      <th>feature1</th>\n",
              "      <th>feature2</th>\n",
              "      <th>feature3</th>\n",
              "    </tr>\n",
              "    <tr>\n",
              "      <th></th>\n",
              "      <th>count</th>\n",
              "      <th>count</th>\n",
              "      <th>count</th>\n",
              "      <th>count</th>\n",
              "    </tr>\n",
              "    <tr>\n",
              "      <th>predict</th>\n",
              "      <th></th>\n",
              "      <th></th>\n",
              "      <th></th>\n",
              "      <th></th>\n",
              "    </tr>\n",
              "  </thead>\n",
              "  <tbody>\n",
              "    <tr>\n",
              "      <th>0</th>\n",
              "      <td>645</td>\n",
              "      <td>641</td>\n",
              "      <td>645</td>\n",
              "      <td>645</td>\n",
              "    </tr>\n",
              "    <tr>\n",
              "      <th>1</th>\n",
              "      <td>645</td>\n",
              "      <td>624</td>\n",
              "      <td>645</td>\n",
              "      <td>645</td>\n",
              "    </tr>\n",
              "    <tr>\n",
              "      <th>2</th>\n",
              "      <td>645</td>\n",
              "      <td>631</td>\n",
              "      <td>645</td>\n",
              "      <td>645</td>\n",
              "    </tr>\n",
              "    <tr>\n",
              "      <th>3</th>\n",
              "      <td>645</td>\n",
              "      <td>637</td>\n",
              "      <td>645</td>\n",
              "      <td>645</td>\n",
              "    </tr>\n",
              "    <tr>\n",
              "      <th>4</th>\n",
              "      <td>645</td>\n",
              "      <td>613</td>\n",
              "      <td>645</td>\n",
              "      <td>645</td>\n",
              "    </tr>\n",
              "    <tr>\n",
              "      <th>...</th>\n",
              "      <td>...</td>\n",
              "      <td>...</td>\n",
              "      <td>...</td>\n",
              "      <td>...</td>\n",
              "    </tr>\n",
              "    <tr>\n",
              "      <th>88</th>\n",
              "      <td>645</td>\n",
              "      <td>645</td>\n",
              "      <td>645</td>\n",
              "      <td>645</td>\n",
              "    </tr>\n",
              "    <tr>\n",
              "      <th>90</th>\n",
              "      <td>645</td>\n",
              "      <td>645</td>\n",
              "      <td>645</td>\n",
              "      <td>645</td>\n",
              "    </tr>\n",
              "    <tr>\n",
              "      <th>96</th>\n",
              "      <td>645</td>\n",
              "      <td>645</td>\n",
              "      <td>645</td>\n",
              "      <td>645</td>\n",
              "    </tr>\n",
              "    <tr>\n",
              "      <th>97</th>\n",
              "      <td>645</td>\n",
              "      <td>645</td>\n",
              "      <td>645</td>\n",
              "      <td>645</td>\n",
              "    </tr>\n",
              "    <tr>\n",
              "      <th>98</th>\n",
              "      <td>645</td>\n",
              "      <td>645</td>\n",
              "      <td>645</td>\n",
              "      <td>645</td>\n",
              "    </tr>\n",
              "  </tbody>\n",
              "</table>\n",
              "<p>74 rows × 4 columns</p>\n",
              "</div>"
            ],
            "text/plain": [
              "           id feature1 feature2 feature3\n",
              "        count    count    count    count\n",
              "predict                                 \n",
              "0         645      641      645      645\n",
              "1         645      624      645      645\n",
              "2         645      631      645      645\n",
              "3         645      637      645      645\n",
              "4         645      613      645      645\n",
              "...       ...      ...      ...      ...\n",
              "88        645      645      645      645\n",
              "90        645      645      645      645\n",
              "96        645      645      645      645\n",
              "97        645      645      645      645\n",
              "98        645      645      645      645\n",
              "\n",
              "[74 rows x 4 columns]"
            ]
          },
          "metadata": {
            "tags": []
          },
          "execution_count": 31
        }
      ]
    },
    {
      "cell_type": "code",
      "metadata": {
        "id": "GCg-lXzW1IsT",
        "outputId": "38d4840f-a947-4b9e-dd74-735f68855063",
        "colab": {
          "base_uri": "https://localhost:8080/",
          "height": 119
        }
      },
      "source": [
        "df_upsampled.isna().sum()"
      ],
      "execution_count": 34,
      "outputs": [
        {
          "output_type": "execute_result",
          "data": {
            "text/plain": [
              "id             0\n",
              "feature1    1487\n",
              "feature2       0\n",
              "feature3       0\n",
              "predict        0\n",
              "dtype: int64"
            ]
          },
          "metadata": {
            "tags": []
          },
          "execution_count": 34
        }
      ]
    },
    {
      "cell_type": "code",
      "metadata": {
        "id": "kFst3AM62CEB"
      },
      "source": [
        "merg_data = pd.merge(df_upsampled, df_map_unique, left_on='feature1',right_on='id',how='left')\n",
        "merg_data = pd.merge(merg_data, df_map_unique, left_on='feature2',right_on='id',how='left')\n",
        "merg_data = pd.merge(merg_data, df_map_unique, left_on='feature3',right_on='id',how='left')"
      ],
      "execution_count": 43,
      "outputs": []
    },
    {
      "cell_type": "code",
      "metadata": {
        "id": "5AXlNkmD2-H5",
        "outputId": "006c64d4-b3f6-43f8-cbc3-661f73ed4b8d",
        "colab": {
          "base_uri": "https://localhost:8080/",
          "height": 589
        }
      },
      "source": [
        "merg_data"
      ],
      "execution_count": 51,
      "outputs": [
        {
          "output_type": "execute_result",
          "data": {
            "text/html": [
              "<div>\n",
              "<style scoped>\n",
              "    .dataframe tbody tr th:only-of-type {\n",
              "        vertical-align: middle;\n",
              "    }\n",
              "\n",
              "    .dataframe tbody tr th {\n",
              "        vertical-align: top;\n",
              "    }\n",
              "\n",
              "    .dataframe thead th {\n",
              "        text-align: right;\n",
              "    }\n",
              "</style>\n",
              "<table border=\"1\" class=\"dataframe\">\n",
              "  <thead>\n",
              "    <tr style=\"text-align: right;\">\n",
              "      <th></th>\n",
              "      <th>id_x</th>\n",
              "      <th>feature1</th>\n",
              "      <th>feature2</th>\n",
              "      <th>feature3</th>\n",
              "      <th>predict</th>\n",
              "      <th>id_y</th>\n",
              "      <th>category_x</th>\n",
              "      <th>id_x</th>\n",
              "      <th>category_y</th>\n",
              "      <th>id_y</th>\n",
              "      <th>category</th>\n",
              "    </tr>\n",
              "  </thead>\n",
              "  <tbody>\n",
              "    <tr>\n",
              "      <th>0</th>\n",
              "      <td>7c5fda39-c4a6-4d49-a0f6-751c7cd72bb4</td>\n",
              "      <td>NaN</td>\n",
              "      <td>75606737-d17d-43eb-86e6-6735b6f45a52.png</td>\n",
              "      <td>800e3baf-9ab1-48c0-a9ce-46c5fac9ff69.png</td>\n",
              "      <td>9</td>\n",
              "      <td>NaN</td>\n",
              "      <td>NaN</td>\n",
              "      <td>75606737-d17d-43eb-86e6-6735b6f45a52.png</td>\n",
              "      <td>8</td>\n",
              "      <td>800e3baf-9ab1-48c0-a9ce-46c5fac9ff69.png</td>\n",
              "      <td>1</td>\n",
              "    </tr>\n",
              "    <tr>\n",
              "      <th>1</th>\n",
              "      <td>7e15ec1b-fe36-4a9e-a1cd-7c160e6a1b9c</td>\n",
              "      <td>NaN</td>\n",
              "      <td>75606737-d17d-43eb-86e6-6735b6f45a52.png</td>\n",
              "      <td>800e3baf-9ab1-48c0-a9ce-46c5fac9ff69.png</td>\n",
              "      <td>9</td>\n",
              "      <td>NaN</td>\n",
              "      <td>NaN</td>\n",
              "      <td>75606737-d17d-43eb-86e6-6735b6f45a52.png</td>\n",
              "      <td>8</td>\n",
              "      <td>800e3baf-9ab1-48c0-a9ce-46c5fac9ff69.png</td>\n",
              "      <td>1</td>\n",
              "    </tr>\n",
              "    <tr>\n",
              "      <th>2</th>\n",
              "      <td>96b5d8b6-61cd-49f2-b22f-16fe25483cbc</td>\n",
              "      <td>NaN</td>\n",
              "      <td>75606737-d17d-43eb-86e6-6735b6f45a52.png</td>\n",
              "      <td>800e3baf-9ab1-48c0-a9ce-46c5fac9ff69.png</td>\n",
              "      <td>9</td>\n",
              "      <td>NaN</td>\n",
              "      <td>NaN</td>\n",
              "      <td>75606737-d17d-43eb-86e6-6735b6f45a52.png</td>\n",
              "      <td>8</td>\n",
              "      <td>800e3baf-9ab1-48c0-a9ce-46c5fac9ff69.png</td>\n",
              "      <td>1</td>\n",
              "    </tr>\n",
              "    <tr>\n",
              "      <th>3</th>\n",
              "      <td>84ce5493-7e0f-4aee-8bb7-f799d714b5b3</td>\n",
              "      <td>NaN</td>\n",
              "      <td>c40b7fc4-07f1-4c78-abac-121bde38e267.png</td>\n",
              "      <td>1b2e1b3d-46f2-4c3f-b741-a8d5099ce710.png</td>\n",
              "      <td>4</td>\n",
              "      <td>NaN</td>\n",
              "      <td>NaN</td>\n",
              "      <td>c40b7fc4-07f1-4c78-abac-121bde38e267.png</td>\n",
              "      <td>0</td>\n",
              "      <td>1b2e1b3d-46f2-4c3f-b741-a8d5099ce710.png</td>\n",
              "      <td>4</td>\n",
              "    </tr>\n",
              "    <tr>\n",
              "      <th>4</th>\n",
              "      <td>7cb117e7-d8f3-400b-aeb3-a84fa3fb54e8</td>\n",
              "      <td>NaN</td>\n",
              "      <td>c40b7fc4-07f1-4c78-abac-121bde38e267.png</td>\n",
              "      <td>1b2e1b3d-46f2-4c3f-b741-a8d5099ce710.png</td>\n",
              "      <td>4</td>\n",
              "      <td>NaN</td>\n",
              "      <td>NaN</td>\n",
              "      <td>c40b7fc4-07f1-4c78-abac-121bde38e267.png</td>\n",
              "      <td>0</td>\n",
              "      <td>1b2e1b3d-46f2-4c3f-b741-a8d5099ce710.png</td>\n",
              "      <td>4</td>\n",
              "    </tr>\n",
              "    <tr>\n",
              "      <th>...</th>\n",
              "      <td>...</td>\n",
              "      <td>...</td>\n",
              "      <td>...</td>\n",
              "      <td>...</td>\n",
              "      <td>...</td>\n",
              "      <td>...</td>\n",
              "      <td>...</td>\n",
              "      <td>...</td>\n",
              "      <td>...</td>\n",
              "      <td>...</td>\n",
              "      <td>...</td>\n",
              "    </tr>\n",
              "    <tr>\n",
              "      <th>47725</th>\n",
              "      <td>a561496a-90af-41ba-a064-299d57cb763a</td>\n",
              "      <td>45f1d10e-55c9-4a30-bc6b-ee9a58e2ad7d.png</td>\n",
              "      <td>aebed50b-afe5-48d6-bfc5-10610bb365e5.png</td>\n",
              "      <td>58aa30b0-9381-4754-bbbd-2c848918fb52.png</td>\n",
              "      <td>98</td>\n",
              "      <td>45f1d10e-55c9-4a30-bc6b-ee9a58e2ad7d.png</td>\n",
              "      <td>8.0</td>\n",
              "      <td>aebed50b-afe5-48d6-bfc5-10610bb365e5.png</td>\n",
              "      <td>4</td>\n",
              "      <td>58aa30b0-9381-4754-bbbd-2c848918fb52.png</td>\n",
              "      <td>5</td>\n",
              "    </tr>\n",
              "    <tr>\n",
              "      <th>47726</th>\n",
              "      <td>a561496a-90af-41ba-a064-299d57cb763a</td>\n",
              "      <td>45f1d10e-55c9-4a30-bc6b-ee9a58e2ad7d.png</td>\n",
              "      <td>aebed50b-afe5-48d6-bfc5-10610bb365e5.png</td>\n",
              "      <td>58aa30b0-9381-4754-bbbd-2c848918fb52.png</td>\n",
              "      <td>98</td>\n",
              "      <td>45f1d10e-55c9-4a30-bc6b-ee9a58e2ad7d.png</td>\n",
              "      <td>8.0</td>\n",
              "      <td>aebed50b-afe5-48d6-bfc5-10610bb365e5.png</td>\n",
              "      <td>4</td>\n",
              "      <td>58aa30b0-9381-4754-bbbd-2c848918fb52.png</td>\n",
              "      <td>5</td>\n",
              "    </tr>\n",
              "    <tr>\n",
              "      <th>47727</th>\n",
              "      <td>1b3f8298-c6c2-439c-b396-10f8e36e2089</td>\n",
              "      <td>24a5e71c-bc34-4adb-8c76-160b2c990989.png</td>\n",
              "      <td>a199c672-1f2b-4c31-a2f1-e94814bd5e05.png</td>\n",
              "      <td>0b2ee805-9264-464b-b586-1daec3bb52e9.png</td>\n",
              "      <td>98</td>\n",
              "      <td>24a5e71c-bc34-4adb-8c76-160b2c990989.png</td>\n",
              "      <td>8.0</td>\n",
              "      <td>a199c672-1f2b-4c31-a2f1-e94814bd5e05.png</td>\n",
              "      <td>4</td>\n",
              "      <td>0b2ee805-9264-464b-b586-1daec3bb52e9.png</td>\n",
              "      <td>5</td>\n",
              "    </tr>\n",
              "    <tr>\n",
              "      <th>47728</th>\n",
              "      <td>1b3f8298-c6c2-439c-b396-10f8e36e2089</td>\n",
              "      <td>24a5e71c-bc34-4adb-8c76-160b2c990989.png</td>\n",
              "      <td>a199c672-1f2b-4c31-a2f1-e94814bd5e05.png</td>\n",
              "      <td>0b2ee805-9264-464b-b586-1daec3bb52e9.png</td>\n",
              "      <td>98</td>\n",
              "      <td>24a5e71c-bc34-4adb-8c76-160b2c990989.png</td>\n",
              "      <td>8.0</td>\n",
              "      <td>a199c672-1f2b-4c31-a2f1-e94814bd5e05.png</td>\n",
              "      <td>4</td>\n",
              "      <td>0b2ee805-9264-464b-b586-1daec3bb52e9.png</td>\n",
              "      <td>5</td>\n",
              "    </tr>\n",
              "    <tr>\n",
              "      <th>47729</th>\n",
              "      <td>a561496a-90af-41ba-a064-299d57cb763a</td>\n",
              "      <td>45f1d10e-55c9-4a30-bc6b-ee9a58e2ad7d.png</td>\n",
              "      <td>aebed50b-afe5-48d6-bfc5-10610bb365e5.png</td>\n",
              "      <td>58aa30b0-9381-4754-bbbd-2c848918fb52.png</td>\n",
              "      <td>98</td>\n",
              "      <td>45f1d10e-55c9-4a30-bc6b-ee9a58e2ad7d.png</td>\n",
              "      <td>8.0</td>\n",
              "      <td>aebed50b-afe5-48d6-bfc5-10610bb365e5.png</td>\n",
              "      <td>4</td>\n",
              "      <td>58aa30b0-9381-4754-bbbd-2c848918fb52.png</td>\n",
              "      <td>5</td>\n",
              "    </tr>\n",
              "  </tbody>\n",
              "</table>\n",
              "<p>47730 rows × 11 columns</p>\n",
              "</div>"
            ],
            "text/plain": [
              "                                       id_x  ... category\n",
              "0      7c5fda39-c4a6-4d49-a0f6-751c7cd72bb4  ...        1\n",
              "1      7e15ec1b-fe36-4a9e-a1cd-7c160e6a1b9c  ...        1\n",
              "2      96b5d8b6-61cd-49f2-b22f-16fe25483cbc  ...        1\n",
              "3      84ce5493-7e0f-4aee-8bb7-f799d714b5b3  ...        4\n",
              "4      7cb117e7-d8f3-400b-aeb3-a84fa3fb54e8  ...        4\n",
              "...                                     ...  ...      ...\n",
              "47725  a561496a-90af-41ba-a064-299d57cb763a  ...        5\n",
              "47726  a561496a-90af-41ba-a064-299d57cb763a  ...        5\n",
              "47727  1b3f8298-c6c2-439c-b396-10f8e36e2089  ...        5\n",
              "47728  1b3f8298-c6c2-439c-b396-10f8e36e2089  ...        5\n",
              "47729  a561496a-90af-41ba-a064-299d57cb763a  ...        5\n",
              "\n",
              "[47730 rows x 11 columns]"
            ]
          },
          "metadata": {
            "tags": []
          },
          "execution_count": 51
        }
      ]
    },
    {
      "cell_type": "code",
      "metadata": {
        "id": "z-mFWI9l3vs4"
      },
      "source": [
        "df_drop = merg_data.drop(merg_data.columns[[1, 2, 3,5,7,9]],axis=1)"
      ],
      "execution_count": 49,
      "outputs": []
    },
    {
      "cell_type": "code",
      "metadata": {
        "id": "uYZ8YsMs60BK",
        "outputId": "b3025658-c5a2-498f-cdbb-687b8b06485e",
        "colab": {
          "base_uri": "https://localhost:8080/",
          "height": 419
        }
      },
      "source": [
        "df_drop"
      ],
      "execution_count": 50,
      "outputs": [
        {
          "output_type": "execute_result",
          "data": {
            "text/html": [
              "<div>\n",
              "<style scoped>\n",
              "    .dataframe tbody tr th:only-of-type {\n",
              "        vertical-align: middle;\n",
              "    }\n",
              "\n",
              "    .dataframe tbody tr th {\n",
              "        vertical-align: top;\n",
              "    }\n",
              "\n",
              "    .dataframe thead th {\n",
              "        text-align: right;\n",
              "    }\n",
              "</style>\n",
              "<table border=\"1\" class=\"dataframe\">\n",
              "  <thead>\n",
              "    <tr style=\"text-align: right;\">\n",
              "      <th></th>\n",
              "      <th>predict</th>\n",
              "      <th>category_x</th>\n",
              "      <th>category_y</th>\n",
              "      <th>category</th>\n",
              "    </tr>\n",
              "  </thead>\n",
              "  <tbody>\n",
              "    <tr>\n",
              "      <th>0</th>\n",
              "      <td>9</td>\n",
              "      <td>NaN</td>\n",
              "      <td>8</td>\n",
              "      <td>1</td>\n",
              "    </tr>\n",
              "    <tr>\n",
              "      <th>1</th>\n",
              "      <td>9</td>\n",
              "      <td>NaN</td>\n",
              "      <td>8</td>\n",
              "      <td>1</td>\n",
              "    </tr>\n",
              "    <tr>\n",
              "      <th>2</th>\n",
              "      <td>9</td>\n",
              "      <td>NaN</td>\n",
              "      <td>8</td>\n",
              "      <td>1</td>\n",
              "    </tr>\n",
              "    <tr>\n",
              "      <th>3</th>\n",
              "      <td>4</td>\n",
              "      <td>NaN</td>\n",
              "      <td>0</td>\n",
              "      <td>4</td>\n",
              "    </tr>\n",
              "    <tr>\n",
              "      <th>4</th>\n",
              "      <td>4</td>\n",
              "      <td>NaN</td>\n",
              "      <td>0</td>\n",
              "      <td>4</td>\n",
              "    </tr>\n",
              "    <tr>\n",
              "      <th>...</th>\n",
              "      <td>...</td>\n",
              "      <td>...</td>\n",
              "      <td>...</td>\n",
              "      <td>...</td>\n",
              "    </tr>\n",
              "    <tr>\n",
              "      <th>47725</th>\n",
              "      <td>98</td>\n",
              "      <td>8.0</td>\n",
              "      <td>4</td>\n",
              "      <td>5</td>\n",
              "    </tr>\n",
              "    <tr>\n",
              "      <th>47726</th>\n",
              "      <td>98</td>\n",
              "      <td>8.0</td>\n",
              "      <td>4</td>\n",
              "      <td>5</td>\n",
              "    </tr>\n",
              "    <tr>\n",
              "      <th>47727</th>\n",
              "      <td>98</td>\n",
              "      <td>8.0</td>\n",
              "      <td>4</td>\n",
              "      <td>5</td>\n",
              "    </tr>\n",
              "    <tr>\n",
              "      <th>47728</th>\n",
              "      <td>98</td>\n",
              "      <td>8.0</td>\n",
              "      <td>4</td>\n",
              "      <td>5</td>\n",
              "    </tr>\n",
              "    <tr>\n",
              "      <th>47729</th>\n",
              "      <td>98</td>\n",
              "      <td>8.0</td>\n",
              "      <td>4</td>\n",
              "      <td>5</td>\n",
              "    </tr>\n",
              "  </tbody>\n",
              "</table>\n",
              "<p>47730 rows × 4 columns</p>\n",
              "</div>"
            ],
            "text/plain": [
              "       predict  category_x  category_y  category\n",
              "0            9         NaN           8         1\n",
              "1            9         NaN           8         1\n",
              "2            9         NaN           8         1\n",
              "3            4         NaN           0         4\n",
              "4            4         NaN           0         4\n",
              "...        ...         ...         ...       ...\n",
              "47725       98         8.0           4         5\n",
              "47726       98         8.0           4         5\n",
              "47727       98         8.0           4         5\n",
              "47728       98         8.0           4         5\n",
              "47729       98         8.0           4         5\n",
              "\n",
              "[47730 rows x 4 columns]"
            ]
          },
          "metadata": {
            "tags": []
          },
          "execution_count": 50
        }
      ]
    },
    {
      "cell_type": "code",
      "metadata": {
        "id": "EONizO5p1hrq"
      },
      "source": [
        "#df_upsampled.fillna(-)"
      ],
      "execution_count": null,
      "outputs": []
    }
  ]
}