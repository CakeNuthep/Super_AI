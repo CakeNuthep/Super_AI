{
  "nbformat": 4,
  "nbformat_minor": 0,
  "metadata": {
    "colab": {
      "name": "IMDB pytorch.ipynb",
      "provenance": [],
      "collapsed_sections": [],
      "include_colab_link": true
    },
    "kernelspec": {
      "name": "python3",
      "display_name": "Python 3"
    },
    "accelerator": "GPU"
  },
  "cells": [
    {
      "cell_type": "markdown",
      "metadata": {
        "id": "view-in-github",
        "colab_type": "text"
      },
      "source": [
        "<a href=\"https://colab.research.google.com/github/CakeNuthep/Super_AI/blob/master/LSTM/IMDB_pytorch.ipynb\" target=\"_parent\"><img src=\"https://colab.research.google.com/assets/colab-badge.svg\" alt=\"Open In Colab\"/></a>"
      ]
    },
    {
      "cell_type": "code",
      "metadata": {
        "id": "gYPPc_aXYZDE"
      },
      "source": [
        "import torch\n",
        "from torchtext import data\n",
        "\n",
        "SEED = 1234\n",
        "\n",
        "torch.manual_seed(SEED)\n",
        "torch.backends.cudnn.deterministic = True\n",
        "\n",
        "TEXT = data.Field(tokenize = 'spacy')\n",
        "LABEL = data.LabelField(dtype = torch.float)"
      ],
      "execution_count": null,
      "outputs": []
    },
    {
      "cell_type": "code",
      "metadata": {
        "id": "fuNfSgoDYguJ",
        "outputId": "f003c426-0b1e-4b65-f609-8b9dc9a810f3",
        "colab": {
          "base_uri": "https://localhost:8080/",
          "height": 52
        }
      },
      "source": [
        "from torchtext import datasets\n",
        "\n",
        "train_data, test_data = datasets.IMDB.splits(TEXT, LABEL)"
      ],
      "execution_count": null,
      "outputs": [
        {
          "output_type": "stream",
          "text": [
            "\raclImdb_v1.tar.gz:   0%|          | 0.00/84.1M [00:00<?, ?B/s]"
          ],
          "name": "stderr"
        },
        {
          "output_type": "stream",
          "text": [
            "downloading aclImdb_v1.tar.gz\n"
          ],
          "name": "stdout"
        },
        {
          "output_type": "stream",
          "text": [
            "aclImdb_v1.tar.gz: 100%|██████████| 84.1M/84.1M [00:03<00:00, 23.5MB/s]\n"
          ],
          "name": "stderr"
        }
      ]
    },
    {
      "cell_type": "code",
      "metadata": {
        "id": "v9pxhAaSYi_H",
        "outputId": "eee68d00-3856-4105-c053-d996ecefedb8",
        "colab": {
          "base_uri": "https://localhost:8080/",
          "height": 52
        }
      },
      "source": [
        "print(f'Number of training examples: {len(train_data)}')\n",
        "print(f'Number of testing examples: {len(test_data)}')"
      ],
      "execution_count": null,
      "outputs": [
        {
          "output_type": "stream",
          "text": [
            "Number of training examples: 25000\n",
            "Number of testing examples: 25000\n"
          ],
          "name": "stdout"
        }
      ]
    },
    {
      "cell_type": "code",
      "metadata": {
        "id": "Ox-tjM3GYlK0",
        "outputId": "124ddb28-7242-492b-e139-1f960433d8a2",
        "colab": {
          "base_uri": "https://localhost:8080/",
          "height": 55
        }
      },
      "source": [
        "print(vars(train_data.examples[0]))"
      ],
      "execution_count": null,
      "outputs": [
        {
          "output_type": "stream",
          "text": [
            "{'text': ['I', 'have', 'the', 'entire', 'Weissmuller', 'Tarzan', 'series', 'on', 'DVD', '(', 'fully', 'restored', 'editions', ')', '&', 'I', 'never', 'tire', 'of', 'watching', 'them', '.', 'My', 'personal', 'favorite', 'is', '\"', 'Tarzan', 'and', 'His', 'Mate', '\"', ',', 'due', 'entirely', '(', 'well', 'almost', 'entirely', ')', 'to', 'Maureen', \"O'Sullivan\", \"'s\", 'costume', 'and', 'the', 'occasional', 'flashes', 'of', 'her', 'genital', 'area', 'beneath', 'that', 'leather', 'flap', 'hanging', 'in', 'front', '.', 'Before', 'anyone', 'claims', 'that', 'A', '-', 'It', 'was', \"n't\", 'really', 'her', ',', 'or', 'B', '-', 'It', 'was', \"n't\", 'really', 'what', 'it', 'looks', 'like', ',', 'let', 'me', 'say', 'that', 'I', 'have', 'watched', 'it', 'numerous', 'time', ',', 'in', 'high', 'zoom', 'mode', ',', 'and', 'trust', 'me', '...', 'it', 'IS', 'her', ',', 'AND', 'she', 'is', 'completely', 'naked', 'underneath', 'that', 'costume', '...', 'several', 'times', ',', 'especially', 'during', 'the', 'lion', 'attack', 'at', 'the', 'end', ',', 'careful', 'viewing', 'in', 'slow', 'motion', 'and', 'maximum', 'zoom', 'will', 'reveal', 'that', 'she', 'was', 'shaved', 'except', 'for', 'a', 'tiny', 'patch', 'of', 'dark', 'hair', 'covering', 'her', 'labia', '...', 'There', 'is', 'NO', 'mistake', 'about', 'that', 'at', 'all', '.', 'As', 'to', 'the', 'swimming', 'scene', 'being', 'a', 'body', 'double', 'in', 'a', '\"', 'skin', '\"', 'suit', ',', 'yes', ',', 'it', 'is', 'a', 'double', ',', 'BUT', 'she', 'is', 'NOT', 'wearing', 'any', '\"', 'skin', '\"', 'suit', 'or', 'anything', 'else', '...', 'again', ',', 'slow', 'motion', 'and', 'maximum', 'zoom', 'shows', 'everything', 'to', 'those', 'who', 'want', 'to', 'see', 'it', '.', 'Now', ',', 'that', 'controversy', 'out', 'of', 'the', 'way', ',', 'let', \"'s\", 'move', 'on', 'the', 'actual', 'movie', '...', 'I', 'thought', 'the', 'script', 'was', 'really', 'well', 'thought', 'out', 'and', 'written', 'tightly', '...', 'The', 'action', 'sequences', 'were', 'simply', 'great', ',', 'although', 'it', 'is', 'obviously', 'a', 'stuntman', 'riding', 'the', 'rhino', ',', 'Weissmuller', 'actually', 'wrestles', 'the', 'big', 'male', 'lion', '...', 'The', 'use', 'of', 'background', 'shots', 'that', 'were', 'second', 'unit', 'stuff', 'from', 'Africa', 'is', 'very', 'well', 'blended', 'with', 'the', 'studio', '&', 'US', 'locations', 'making', 'it', 'sometimes', 'hard', 'to', 'tell', 'which', 'is', 'which', '.', 'Do', \"n't\", 'complain', 'too', 'much', 'though', ',', 'remember', 'that', '90', '%', 'of', 'ALL', 'films', 'is', 'phony', 'anyway', ',', 'so', 'just', 'relax', 'and', 'enjoy', 'the', 'damned', 'thing', 'with', 'a', 'big', 'bowl', 'of', 'popcorn', ',', 'some', 'cold', 'beer', ',', 'and', 'a', 'fresh', 'pack', 'of', 'smokes', '...', 'a', 'sexy', 'and', 'willing', 'girlfriend', '/', 'wife', 'is', \"n't\", 'out', 'of', 'line', 'either', '...', 'lol', '.', 'Oh', '...', 'One', 'final', 'word', 'about', 'nudity', '...', 'at', 'the', 'very', 'beginning', ',', 'while', 'the', 'white', 'hunters', 'are', 'speaking', 'dialogue', ',', 'keep', 'your', 'eyes', 'on', 'the', 'background', 'extras', '...', 'there', 'are', 'several', 'good', 'shots', 'of', 'nude', 'African', 'girls', '(', 'obviously', 'shot', 'on', 'location', ')', 'behind', 'them', '.', 'One', 'more', 'thing', ',', 'the', 'movie', 'is', 'not', 'racist', 'by', 'the', 'standards', 'of', 'the', '1930', \"'s\", 'until', 'the', \"1960's\", '...', 'that', \"'s\", 'the', 'way', 'colored', 'people', 'were', 'thought', 'of', 'and', 'portrayed', 'back', 'then', '.', 'Shaft', 'had', \"n't\", 'even', 'been', 'thought', 'about', 'at', 'that', 'time', ',', 'nor', 'would', 'audiences', 'have', 'accepted', 'any', 'other', 'portrayals', 'of', 'them', 'at', 'the', 'time', 'in', 'history', '.', 'Safaris', 'actually', 'did', 'use', 'natives', 'carrying', 'luggage', 'on', 'their', 'heads', '...', 'and', 'Tiny', \"'s\", 'character', 'did', 'die', 'a', 'heroic', 'death', 'trying', 'to', 'save', 'the', 'white', 'hunters', 'and', 'Jane', '.', 'As', 'a', 'matter', 'of', 'fact', ',', 'it', 'was', \"n't\", 'until', 'Gene', 'Autry', 'treated', 'the', 'native', 'Americans', 'and', 'colored', 'people', 'in', 'his', 'Westerns', 'like', 'real', 'human', 'beings', 'that', 'Hollywood', 'began', 'to', 'see', 'that', 'it', 'was', 'okay', 'to', 'do', 'so', '.'], 'label': 'pos'}\n"
          ],
          "name": "stdout"
        }
      ]
    },
    {
      "cell_type": "code",
      "metadata": {
        "id": "f88EbDVcZ0wL"
      },
      "source": [
        "import random\n",
        "\n",
        "train_data, valid_data = train_data.split(random_state = random.seed(SEED))"
      ],
      "execution_count": null,
      "outputs": []
    },
    {
      "cell_type": "code",
      "metadata": {
        "id": "-V30riaHZ4EI",
        "outputId": "b61e5011-d1d5-403b-fce8-76fddbcfe9a1",
        "colab": {
          "base_uri": "https://localhost:8080/",
          "height": 69
        }
      },
      "source": [
        "print(f'Number of training examples: {len(train_data)}')\n",
        "print(f'Number of validation examples: {len(valid_data)}')\n",
        "print(f'Number of testing examples: {len(test_data)}')"
      ],
      "execution_count": null,
      "outputs": [
        {
          "output_type": "stream",
          "text": [
            "Number of training examples: 17500\n",
            "Number of validation examples: 7500\n",
            "Number of testing examples: 25000\n"
          ],
          "name": "stdout"
        }
      ]
    },
    {
      "cell_type": "code",
      "metadata": {
        "id": "bHFh4TuBZ8cx"
      },
      "source": [
        "MAX_VOCAB_SIZE = 25_000\n",
        "\n",
        "TEXT.build_vocab(train_data, max_size = MAX_VOCAB_SIZE)\n",
        "LABEL.build_vocab(train_data)"
      ],
      "execution_count": null,
      "outputs": []
    },
    {
      "cell_type": "code",
      "metadata": {
        "id": "FQ0gQ_uzaBTX",
        "outputId": "23d4163d-234a-4b62-8736-16a7e2e45cce",
        "colab": {
          "base_uri": "https://localhost:8080/",
          "height": 52
        }
      },
      "source": [
        "print(f\"Unique tokens in TEXT vocabulary: {len(TEXT.vocab)}\")\n",
        "print(f\"Unique tokens in LABEL vocabulary: {len(LABEL.vocab)}\")"
      ],
      "execution_count": null,
      "outputs": [
        {
          "output_type": "stream",
          "text": [
            "Unique tokens in TEXT vocabulary: 25002\n",
            "Unique tokens in LABEL vocabulary: 2\n"
          ],
          "name": "stdout"
        }
      ]
    },
    {
      "cell_type": "code",
      "metadata": {
        "id": "yOtEm2IIaFwi",
        "outputId": "d8abbfec-5809-4270-fe55-b53398b1f987",
        "colab": {
          "base_uri": "https://localhost:8080/",
          "height": 55
        }
      },
      "source": [
        "print(TEXT.vocab.freqs.most_common(20))"
      ],
      "execution_count": null,
      "outputs": [
        {
          "output_type": "stream",
          "text": [
            "[('the', 202797), (',', 191887), ('.', 164573), ('and', 109256), ('a', 109180), ('of', 100766), ('to', 93964), ('is', 76314), ('in', 61157), ('I', 54021), ('it', 53420), ('that', 49042), ('\"', 44109), (\"'s\", 43253), ('this', 42272), ('-', 36985), ('/><br', 35665), ('was', 34786), ('as', 30414), ('with', 29979)]\n"
          ],
          "name": "stdout"
        }
      ]
    },
    {
      "cell_type": "code",
      "metadata": {
        "id": "eng3UxJ5aIll",
        "outputId": "c52abd20-1cda-4c4d-ab28-80871d5099a6",
        "colab": {
          "base_uri": "https://localhost:8080/",
          "height": 35
        }
      },
      "source": [
        "print(TEXT.vocab.itos[:10])"
      ],
      "execution_count": null,
      "outputs": [
        {
          "output_type": "stream",
          "text": [
            "['<unk>', '<pad>', 'the', ',', '.', 'and', 'a', 'of', 'to', 'is']\n"
          ],
          "name": "stdout"
        }
      ]
    },
    {
      "cell_type": "code",
      "metadata": {
        "id": "DR4Lfr9waOVg",
        "outputId": "12dca315-9ab2-4a54-8971-6b9676507be7",
        "colab": {
          "base_uri": "https://localhost:8080/",
          "height": 35
        }
      },
      "source": [
        "print(LABEL.vocab.stoi)"
      ],
      "execution_count": null,
      "outputs": [
        {
          "output_type": "stream",
          "text": [
            "defaultdict(<function _default_unk_index at 0x7fc557619b70>, {'neg': 0, 'pos': 1})\n"
          ],
          "name": "stdout"
        }
      ]
    },
    {
      "cell_type": "code",
      "metadata": {
        "id": "OsaE4tqMaRve"
      },
      "source": [
        "BATCH_SIZE = 64\n",
        "\n",
        "device = torch.device('cuda' if torch.cuda.is_available() else 'cpu')\n",
        "\n",
        "train_iterator, valid_iterator, test_iterator = data.BucketIterator.splits(\n",
        "    (train_data, valid_data, test_data), \n",
        "    batch_size = BATCH_SIZE,\n",
        "    device = device)"
      ],
      "execution_count": null,
      "outputs": []
    },
    {
      "cell_type": "code",
      "metadata": {
        "id": "SyH_cg7PaWUY"
      },
      "source": [
        "import torch.nn as nn\n",
        "\n",
        "class RNN(nn.Module):\n",
        "    def __init__(self, input_dim, embedding_dim, hidden_dim, output_dim):\n",
        "        \n",
        "        super().__init__()\n",
        "        \n",
        "        self.embedding = nn.Embedding(input_dim, embedding_dim)\n",
        "        \n",
        "        self.rnn = nn.LSTM(embedding_dim, hidden_dim)\n",
        "        \n",
        "        self.fc = nn.Linear(hidden_dim, output_dim)\n",
        "        \n",
        "    def forward(self, text):\n",
        "\n",
        "        #text = [sent len, batch size]\n",
        "        \n",
        "        embedded = self.embedding(text)\n",
        "        \n",
        "        #embedded = [sent len, batch size, emb dim]\n",
        "        \n",
        "        output, (hidden, cell) = self.rnn(embedded)\n",
        "        \n",
        "        #output = [sent len, batch size, hid dim]\n",
        "        #hidden = [1, batch size, hid dim]\n",
        "        \n",
        "        assert torch.equal(output[-1,:,:], hidden.squeeze(0))\n",
        "        \n",
        "        return self.fc(hidden.squeeze(0))"
      ],
      "execution_count": null,
      "outputs": []
    },
    {
      "cell_type": "code",
      "metadata": {
        "id": "0vCsB14pa8k6"
      },
      "source": [
        "INPUT_DIM = len(TEXT.vocab)\n",
        "EMBEDDING_DIM = 100\n",
        "HIDDEN_DIM = 256\n",
        "OUTPUT_DIM = 1 # binary problem\n",
        "\n",
        "model = RNN(INPUT_DIM, EMBEDDING_DIM, HIDDEN_DIM, OUTPUT_DIM)"
      ],
      "execution_count": null,
      "outputs": []
    },
    {
      "cell_type": "code",
      "metadata": {
        "id": "ZSLBVJ6AbXaw"
      },
      "source": [
        "import torch.optim as optim\n",
        "\n",
        "optimizer = optim.SGD(model.parameters(), lr=1e-3)"
      ],
      "execution_count": null,
      "outputs": []
    },
    {
      "cell_type": "code",
      "metadata": {
        "id": "ZMM7QnECbi-s"
      },
      "source": [
        "criterion = nn.BCEWithLogitsLoss()"
      ],
      "execution_count": null,
      "outputs": []
    },
    {
      "cell_type": "code",
      "metadata": {
        "id": "6j0hKLytbmAk"
      },
      "source": [
        "model = model.to(device)\n",
        "criterion = criterion.to(device)"
      ],
      "execution_count": null,
      "outputs": []
    },
    {
      "cell_type": "code",
      "metadata": {
        "id": "KsFzd1kDbpxz"
      },
      "source": [
        "def binary_accuracy(preds, y):\n",
        "    \"\"\"\n",
        "    Returns accuracy per batch, i.e. if you get 8/10 right, this returns 0.8, NOT 8\n",
        "    \"\"\"\n",
        "\n",
        "    #round predictions to the closest integer\n",
        "    rounded_preds = torch.round(torch.sigmoid(preds))\n",
        "    correct = (rounded_preds == y).float() #convert into float for division \n",
        "    acc = correct.sum() / len(correct)\n",
        "    return acc"
      ],
      "execution_count": null,
      "outputs": []
    },
    {
      "cell_type": "code",
      "metadata": {
        "id": "reEbCfo4bwj2"
      },
      "source": [
        "def train(model, iterator, optimizer, criterion):\n",
        "    \n",
        "    epoch_loss = 0\n",
        "    epoch_acc = 0\n",
        "    \n",
        "    model.train()\n",
        "    \n",
        "    for batch in iterator:\n",
        "        \n",
        "        optimizer.zero_grad()\n",
        "                \n",
        "        predictions = model(batch.text).squeeze(1)\n",
        "        \n",
        "        loss = criterion(predictions, batch.label)\n",
        "        \n",
        "        acc = binary_accuracy(predictions, batch.label)\n",
        "        \n",
        "        loss.backward()\n",
        "        \n",
        "        optimizer.step()\n",
        "        \n",
        "        epoch_loss += loss.item()\n",
        "        epoch_acc += acc.item()\n",
        "        \n",
        "    return epoch_loss / len(iterator), epoch_acc / len(iterator)"
      ],
      "execution_count": null,
      "outputs": []
    },
    {
      "cell_type": "code",
      "metadata": {
        "id": "TO0aIQ1cb1yy"
      },
      "source": [
        "def evaluate(model, iterator, criterion):\n",
        "    \n",
        "    epoch_loss = 0\n",
        "    epoch_acc = 0\n",
        "    \n",
        "    model.eval()\n",
        "    \n",
        "    with torch.no_grad():\n",
        "    \n",
        "        for batch in iterator:\n",
        "\n",
        "            predictions = model(batch.text).squeeze(1)\n",
        "            \n",
        "            loss = criterion(predictions, batch.label)\n",
        "            \n",
        "            acc = binary_accuracy(predictions, batch.label)\n",
        "\n",
        "            epoch_loss += loss.item()\n",
        "            epoch_acc += acc.item()\n",
        "        \n",
        "    return epoch_loss / len(iterator), epoch_acc / len(iterator)"
      ],
      "execution_count": null,
      "outputs": []
    },
    {
      "cell_type": "code",
      "metadata": {
        "id": "y0eULMT2b6W0"
      },
      "source": [
        "import time\n",
        "\n",
        "def epoch_time(start_time, end_time):\n",
        "    elapsed_time = end_time - start_time\n",
        "    elapsed_mins = int(elapsed_time / 60)\n",
        "    elapsed_secs = int(elapsed_time - (elapsed_mins * 60))\n",
        "    return elapsed_mins, elapsed_secs"
      ],
      "execution_count": null,
      "outputs": []
    },
    {
      "cell_type": "code",
      "metadata": {
        "id": "0Mv8wWThb-Xd",
        "outputId": "36d3bf10-31f4-4002-8a3c-16700b4906b8",
        "colab": {
          "base_uri": "https://localhost:8080/",
          "height": 277
        }
      },
      "source": [
        "N_EPOCHS = 5\n",
        "\n",
        "best_valid_loss = float('inf')\n",
        "\n",
        "for epoch in range(N_EPOCHS):\n",
        "\n",
        "    start_time = time.time()\n",
        "    \n",
        "    train_loss, train_acc = train(model, train_iterator, optimizer, criterion)\n",
        "    valid_loss, valid_acc = evaluate(model, valid_iterator, criterion)\n",
        "    \n",
        "    end_time = time.time()\n",
        "\n",
        "    epoch_mins, epoch_secs = epoch_time(start_time, end_time)\n",
        "    \n",
        "    if valid_loss < best_valid_loss:\n",
        "        best_valid_loss = valid_loss\n",
        "        torch.save(model.state_dict(), 'tut1-model.pt')\n",
        "    \n",
        "    print(f'Epoch: {epoch+1:02} | Epoch Time: {epoch_mins}m {epoch_secs}s')\n",
        "    print(f'\\tTrain Loss: {train_loss:.3f} | Train Acc: {train_acc*100:.2f}%')\n",
        "    print(f'\\t Val. Loss: {valid_loss:.3f} |  Val. Acc: {valid_acc*100:.2f}%')"
      ],
      "execution_count": null,
      "outputs": [
        {
          "output_type": "stream",
          "text": [
            "Epoch: 01 | Epoch Time: 0m 25s\n",
            "\tTrain Loss: 0.693 | Train Acc: 50.49%\n",
            "\t Val. Loss: 0.694 |  Val. Acc: 49.45%\n",
            "Epoch: 02 | Epoch Time: 0m 24s\n",
            "\tTrain Loss: 0.693 | Train Acc: 50.41%\n",
            "\t Val. Loss: 0.694 |  Val. Acc: 49.33%\n",
            "Epoch: 03 | Epoch Time: 0m 25s\n",
            "\tTrain Loss: 0.693 | Train Acc: 50.35%\n",
            "\t Val. Loss: 0.693 |  Val. Acc: 49.30%\n",
            "Epoch: 04 | Epoch Time: 0m 25s\n",
            "\tTrain Loss: 0.693 | Train Acc: 50.42%\n",
            "\t Val. Loss: 0.693 |  Val. Acc: 49.37%\n",
            "Epoch: 05 | Epoch Time: 0m 26s\n",
            "\tTrain Loss: 0.693 | Train Acc: 50.44%\n",
            "\t Val. Loss: 0.693 |  Val. Acc: 49.42%\n"
          ],
          "name": "stdout"
        }
      ]
    },
    {
      "cell_type": "code",
      "metadata": {
        "id": "Hr3zfPtLE3RF"
      },
      "source": [
        ""
      ],
      "execution_count": null,
      "outputs": []
    }
  ]
}