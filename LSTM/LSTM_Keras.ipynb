{
  "nbformat": 4,
  "nbformat_minor": 0,
  "metadata": {
    "colab": {
      "name": "LSTM Keras.ipynb",
      "provenance": [],
      "collapsed_sections": [],
      "include_colab_link": true
    },
    "kernelspec": {
      "name": "python3",
      "display_name": "Python 3"
    },
    "accelerator": "GPU"
  },
  "cells": [
    {
      "cell_type": "markdown",
      "metadata": {
        "id": "view-in-github",
        "colab_type": "text"
      },
      "source": [
        "<a href=\"https://colab.research.google.com/github/CakeNuthep/Super_AI/blob/master/LSTM/LSTM_Keras.ipynb\" target=\"_parent\"><img src=\"https://colab.research.google.com/assets/colab-badge.svg\" alt=\"Open In Colab\"/></a>"
      ]
    },
    {
      "cell_type": "code",
      "metadata": {
        "id": "VvDLS_YK03qw"
      },
      "source": [
        "import tensorflow as tf\n",
        "from tensorflow.keras.datasets import imdb\n",
        "import numpy as np"
      ],
      "execution_count": null,
      "outputs": []
    },
    {
      "cell_type": "code",
      "metadata": {
        "id": "m2X1dmJd2vjo"
      },
      "source": [
        "# https://www.tensorflow.org/api_docs/python/tf/keras/datasets/imdb/load_data\n",
        "NUM_WORDS = 20000\n",
        "(x_train, y_train), (x_test, y_test) = imdb.load_data(num_words=NUM_WORDS)"
      ],
      "execution_count": null,
      "outputs": []
    },
    {
      "cell_type": "code",
      "metadata": {
        "id": "vjskDck3suRJ",
        "outputId": "24edc837-eeaf-42ff-85a9-6a20b36e17d7",
        "colab": {
          "base_uri": "https://localhost:8080/",
          "height": 52
        }
      },
      "source": [
        "print(len(x_train[0]))\n",
        "print(len(x_train[1]))"
      ],
      "execution_count": null,
      "outputs": [
        {
          "output_type": "stream",
          "text": [
            "218\n",
            "189\n"
          ],
          "name": "stdout"
        }
      ]
    },
    {
      "cell_type": "code",
      "metadata": {
        "id": "MNRxBP8q2xRK"
      },
      "source": [
        "MAX_LENGTH = 300\n",
        "\n",
        "x_train_2D = np.zeros([25000,MAX_LENGTH],dtype=np.int32)\n",
        "for i in range(x_train.shape[0]):\n",
        "    if len(x_train[i]) >= MAX_LENGTH:\n",
        "        x_train_2D[i,:] = x_train[i][0:MAX_LENGTH]\n",
        "    else:\n",
        "        x_train_2D[i,0:len(x_train[i])] = x_train[i]\n",
        "        x_train_2D[i,len(x_train[i]):] = NUM_WORDS + 1\n",
        "\n",
        "x_test_2D = np.zeros([25000,MAX_LENGTH],dtype=np.int32)\n",
        "for i in range(x_test.shape[0]):\n",
        "    if len(x_test[i]) >= MAX_LENGTH:\n",
        "        x_test_2D[i,:] = x_test[i][0:MAX_LENGTH]\n",
        "    else:\n",
        "        x_test_2D[i,0:len(x_test[i])] = x_test[i]\n",
        "        x_test_2D[i,len(x_test[i]):] = NUM_WORDS + 1"
      ],
      "execution_count": null,
      "outputs": []
    },
    {
      "cell_type": "code",
      "metadata": {
        "id": "o7X8quGUvKIq",
        "outputId": "a9a0b1a2-bf86-4651-fe86-ceed29f15bc1",
        "colab": {
          "base_uri": "https://localhost:8080/",
          "height": 537
        }
      },
      "source": [
        "whos"
      ],
      "execution_count": null,
      "outputs": [
        {
          "output_type": "stream",
          "text": [
            "Variable                        Type          Data/Info\n",
            "-------------------------------------------------------\n",
            "Bidirectional                   type          <class 'tensorflow.python<...>.wrappers.Bidirectional'>\n",
            "Conv1D                          type          <class 'tensorflow.python<...>rs.convolutional.Conv1D'>\n",
            "Dense                           type          <class 'tensorflow.python<...>keras.layers.core.Dense'>\n",
            "Dropout                         type          <class 'tensorflow.python<...>ras.layers.core.Dropout'>\n",
            "Embedding                       type          <class 'tensorflow.python<...>rs.embeddings.Embedding'>\n",
            "Flatten                         type          <class 'tensorflow.python<...>ras.layers.core.Flatten'>\n",
            "Input                           function      <function Input at 0x7fbe74fc9e18>\n",
            "LSTM                            type          <class 'tensorflow.python<...>ayers.recurrent_v2.LSTM'>\n",
            "MAX_LENGTH                      int           300\n",
            "MaxPool1D                       type          <class 'tensorflow.python<...>rs.pooling.MaxPooling1D'>\n",
            "Model                           type          <class 'tensorflow.python<...>s.engine.training.Model'>\n",
            "NUM_WORDS                       int           20000\n",
            "RMSprop                         ABCMeta       <class 'tensorflow.python<...>izer_v2.rmsprop.RMSprop'>\n",
            "SparseCategoricalCrossentropy   type          <class 'tensorflow.python<...>CategoricalCrossentropy'>\n",
            "i                               int           24999\n",
            "imdb                            module        <module 'tensorflow.keras<...>tasets/imdb/__init__.py'>\n",
            "input                           Tensor        Tensor(\"input_1:0\", shape<...>one, 300), dtype=float32)\n",
            "model                           Functional    <tensorflow.python.keras.<...>object at 0x7fbe6e7bb630>\n",
            "np                              module        <module 'numpy' from '/us<...>kages/numpy/__init__.py'>\n",
            "out                             Tensor        Tensor(\"dense_1/Softmax:0<...>(None, 2), dtype=float32)\n",
            "tf                              module        <module 'tensorflow' from<...>/tensorflow/__init__.py'>\n",
            "x                               Tensor        Tensor(\"dropout/cond/Iden<...>one, 128), dtype=float32)\n",
            "x_test                          ndarray       25000: 25000 elems, type `object`, 200000 bytes (195.3125 kb)\n",
            "x_test_2D                       ndarray       25000x300: 7500000 elems, type `int32`, 30000000 bytes (28.6102294921875 Mb)\n",
            "x_train                         ndarray       25000: 25000 elems, type `object`, 200000 bytes (195.3125 kb)\n",
            "x_train_2D                      ndarray       25000x300: 7500000 elems, type `int32`, 30000000 bytes (28.6102294921875 Mb)\n",
            "y_test                          ndarray       25000: 25000 elems, type `int64`, 200000 bytes (195.3125 kb)\n",
            "y_train                         ndarray       25000: 25000 elems, type `int64`, 200000 bytes (195.3125 kb)\n"
          ],
          "name": "stdout"
        }
      ]
    },
    {
      "cell_type": "code",
      "metadata": {
        "id": "OlmLkL2V23CR"
      },
      "source": [
        "from tensorflow.keras import Model\n",
        "from tensorflow.keras.layers import Dense, Flatten, Dropout, LSTM, Embedding, Input, Bidirectional, Conv1D, MaxPool1D\n",
        "from tensorflow.keras.losses import SparseCategoricalCrossentropy\n",
        "from tensorflow.keras.optimizers import RMSprop"
      ],
      "execution_count": null,
      "outputs": []
    },
    {
      "cell_type": "code",
      "metadata": {
        "id": "8UGbqxrE5bLt"
      },
      "source": [
        "input = Input((MAX_LENGTH,)) # 300\n",
        "x = Embedding(NUM_WORDS+2, 400)(input) # remove this layer if use separate embedding such as fasttext/pythai etc. Feed 3D embedding directly to model\n",
        "x = Conv1D(32,3,padding='same',activation='relu')(x)\n",
        "x = MaxPool1D()(x) #(batch,150,32)\n",
        "\n",
        "x = Bidirectional( LSTM(100, return_sequences=True) )(x) #3D\n",
        "x = Bidirectional( LSTM(100, return_sequences=False) )(x) \n",
        "\n",
        "x = Dense(128, activation='relu')(x)\n",
        "x = Dropout(0.2)(x)\n",
        "out = Dense(2, activation='softmax')(x)"
      ],
      "execution_count": null,
      "outputs": []
    },
    {
      "cell_type": "code",
      "metadata": {
        "id": "gKIWrZE66LJO",
        "outputId": "806db4d2-f498-4b2e-a732-03347cc94a37",
        "colab": {
          "base_uri": "https://localhost:8080/",
          "height": 468
        }
      },
      "source": [
        "model = Model(input, out)\n",
        "model.summary()"
      ],
      "execution_count": null,
      "outputs": [
        {
          "output_type": "stream",
          "text": [
            "Model: \"functional_3\"\n",
            "_________________________________________________________________\n",
            "Layer (type)                 Output Shape              Param #   \n",
            "=================================================================\n",
            "input_2 (InputLayer)         [(None, 300)]             0         \n",
            "_________________________________________________________________\n",
            "embedding_1 (Embedding)      (None, 300, 400)          8000800   \n",
            "_________________________________________________________________\n",
            "conv1d_1 (Conv1D)            (None, 300, 32)           38432     \n",
            "_________________________________________________________________\n",
            "max_pooling1d_1 (MaxPooling1 (None, 150, 32)           0         \n",
            "_________________________________________________________________\n",
            "bidirectional_2 (Bidirection (None, 150, 200)          106400    \n",
            "_________________________________________________________________\n",
            "bidirectional_3 (Bidirection (None, 200)               240800    \n",
            "_________________________________________________________________\n",
            "dense_2 (Dense)              (None, 128)               25728     \n",
            "_________________________________________________________________\n",
            "dropout_1 (Dropout)          (None, 128)               0         \n",
            "_________________________________________________________________\n",
            "dense_3 (Dense)              (None, 2)                 258       \n",
            "=================================================================\n",
            "Total params: 8,412,418\n",
            "Trainable params: 8,412,418\n",
            "Non-trainable params: 0\n",
            "_________________________________________________________________\n"
          ],
          "name": "stdout"
        }
      ]
    },
    {
      "cell_type": "code",
      "metadata": {
        "id": "guHpdXpf6NWp"
      },
      "source": [
        "model.compile(\n",
        "    optimizer=RMSprop(learning_rate=0.0005, momentum=0.9),\n",
        "    loss=SparseCategoricalCrossentropy(),\n",
        "    metrics=['accuracy'])"
      ],
      "execution_count": null,
      "outputs": []
    },
    {
      "cell_type": "code",
      "metadata": {
        "id": "898r_Kpl6g5e",
        "outputId": "4f0fc903-9c92-403d-8342-69c10ebac232",
        "colab": {
          "base_uri": "https://localhost:8080/",
          "height": 208
        }
      },
      "source": [
        "model.fit(x_train_2D, y_train, epochs=5)"
      ],
      "execution_count": null,
      "outputs": [
        {
          "output_type": "stream",
          "text": [
            "Epoch 1/5\n",
            "782/782 [==============================] - 31s 39ms/step - loss: 0.5263 - accuracy: 0.7402\n",
            "Epoch 2/5\n",
            "782/782 [==============================] - 30s 38ms/step - loss: 0.3190 - accuracy: 0.8702\n",
            "Epoch 3/5\n",
            "782/782 [==============================] - 30s 39ms/step - loss: 0.2447 - accuracy: 0.9061\n",
            "Epoch 4/5\n",
            "782/782 [==============================] - 30s 39ms/step - loss: 0.1949 - accuracy: 0.9289\n",
            "Epoch 5/5\n",
            "782/782 [==============================] - 30s 39ms/step - loss: 0.1559 - accuracy: 0.9475\n"
          ],
          "name": "stdout"
        },
        {
          "output_type": "execute_result",
          "data": {
            "text/plain": [
              "<tensorflow.python.keras.callbacks.History at 0x7fbdbfe69630>"
            ]
          },
          "metadata": {
            "tags": []
          },
          "execution_count": 20
        }
      ]
    },
    {
      "cell_type": "code",
      "metadata": {
        "id": "0mtvBaqW7tNB",
        "outputId": "0109d758-7d6b-4c3e-dff7-decb64b08438",
        "colab": {
          "base_uri": "https://localhost:8080/",
          "height": 52
        }
      },
      "source": [
        "model.evaluate(x_test_2D,  y_test, verbose=2)"
      ],
      "execution_count": null,
      "outputs": [
        {
          "output_type": "stream",
          "text": [
            "782/782 - 11s - loss: 0.3278 - accuracy: 0.8758\n"
          ],
          "name": "stdout"
        },
        {
          "output_type": "execute_result",
          "data": {
            "text/plain": [
              "[0.3278350532054901, 0.8758400082588196]"
            ]
          },
          "metadata": {
            "tags": []
          },
          "execution_count": 21
        }
      ]
    },
    {
      "cell_type": "code",
      "metadata": {
        "id": "MwhnMMpryw97"
      },
      "source": [
        ""
      ],
      "execution_count": null,
      "outputs": []
    }
  ]
}