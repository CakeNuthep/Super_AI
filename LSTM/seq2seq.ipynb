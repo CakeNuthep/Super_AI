{
  "nbformat": 4,
  "nbformat_minor": 0,
  "metadata": {
    "colab": {
      "name": "seq2seq.ipynb",
      "provenance": [],
      "collapsed_sections": [],
      "toc_visible": true,
      "include_colab_link": true
    },
    "kernelspec": {
      "name": "python3",
      "display_name": "Python 3"
    },
    "accelerator": "GPU"
  },
  "cells": [
    {
      "cell_type": "markdown",
      "metadata": {
        "id": "view-in-github",
        "colab_type": "text"
      },
      "source": [
        "<a href=\"https://colab.research.google.com/github/CakeNuthep/Super_AI/blob/master/LSTM/seq2seq.ipynb\" target=\"_parent\"><img src=\"https://colab.research.google.com/assets/colab-badge.svg\" alt=\"Open In Colab\"/></a>"
      ]
    },
    {
      "cell_type": "code",
      "metadata": {
        "id": "9lGOwCRkUByw",
        "outputId": "a40763dc-5d6f-4232-8130-af512f03ffcb",
        "colab": {
          "base_uri": "https://localhost:8080/",
          "height": 84
        }
      },
      "source": [
        "# cell 1\n",
        "%tensorflow_version"
      ],
      "execution_count": null,
      "outputs": [
        {
          "output_type": "stream",
          "text": [
            "Currently selected TF version: 2.x\n",
            "Available versions:\n",
            "* 1.x\n",
            "* 2.x\n"
          ],
          "name": "stdout"
        }
      ]
    },
    {
      "cell_type": "code",
      "metadata": {
        "id": "wFxyRknnTtmC",
        "outputId": "707f8886-cd21-44a4-f412-5a27a6b277d1",
        "colab": {
          "base_uri": "https://localhost:8080/",
          "height": 202
        }
      },
      "source": [
        "# cell 2\n",
        "!wget http://www.manythings.org/anki/tha-eng.zip"
      ],
      "execution_count": null,
      "outputs": [
        {
          "output_type": "stream",
          "text": [
            "--2020-09-22 03:04:57--  http://www.manythings.org/anki/tha-eng.zip\n",
            "Resolving www.manythings.org (www.manythings.org)... 172.67.173.198, 104.24.109.196, 104.24.108.196, ...\n",
            "Connecting to www.manythings.org (www.manythings.org)|172.67.173.198|:80... connected.\n",
            "HTTP request sent, awaiting response... 200 OK\n",
            "Length: 105315 (103K) [application/zip]\n",
            "Saving to: ‘tha-eng.zip’\n",
            "\n",
            "tha-eng.zip         100%[===================>] 102.85K  --.-KB/s    in 0.1s    \n",
            "\n",
            "2020-09-22 03:04:58 (775 KB/s) - ‘tha-eng.zip’ saved [105315/105315]\n",
            "\n"
          ],
          "name": "stdout"
        }
      ]
    },
    {
      "cell_type": "code",
      "metadata": {
        "id": "IDpD28gLUFnK",
        "outputId": "c996ec5d-2dde-4dc2-8d3e-257b10cf4f35",
        "colab": {
          "base_uri": "https://localhost:8080/",
          "height": 67
        }
      },
      "source": [
        "# cell 3\n",
        "!unzip tha-eng.zip"
      ],
      "execution_count": null,
      "outputs": [
        {
          "output_type": "stream",
          "text": [
            "Archive:  tha-eng.zip\n",
            "  inflating: _about.txt              \n",
            "  inflating: tha.txt                 \n"
          ],
          "name": "stdout"
        }
      ]
    },
    {
      "cell_type": "code",
      "metadata": {
        "id": "DTaFmu87UI1k",
        "outputId": "34ea1207-12f8-4d45-e319-27963b531322",
        "colab": {
          "base_uri": "https://localhost:8080/",
          "height": 185
        }
      },
      "source": [
        "# cell 4\n",
        "!head tha.txt"
      ],
      "execution_count": null,
      "outputs": [
        {
          "output_type": "stream",
          "text": [
            "Hi.\tสวัสดี\tCC-BY 2.0 (France) Attribution: tatoeba.org #538123 (CM) & #499079 (ojiisan)\n",
            "Run.\tวิ่ง\tCC-BY 2.0 (France) Attribution: tatoeba.org #4008918 (JSakuragi) & #8676110 (pastelite)\n",
            "Who?\tใคร?\tCC-BY 2.0 (France) Attribution: tatoeba.org #2083030 (CK) & #7878433 (pastelite)\n",
            "Wow!\tว้าว!\tCC-BY 2.0 (France) Attribution: tatoeba.org #52027 (Zifre) & #7878663 (pastelite)\n",
            "Fire!\tยิง!\tCC-BY 2.0 (France) Attribution: tatoeba.org #1829639 (Spamster) & #8675907 (pastelite)\n",
            "Help!\tช่วยด้วย!\tCC-BY 2.0 (France) Attribution: tatoeba.org #435084 (lukaszpp) & #7784241 (pastelite)\n",
            "Jump!\tกระโดด!\tCC-BY 2.0 (France) Attribution: tatoeba.org #1102981 (jamessilver) & #7784245 (pastelite)\n",
            "Jump.\tกระโดด\tCC-BY 2.0 (France) Attribution: tatoeba.org #631038 (Shishir) & #7784244 (pastelite)\n",
            "Stop!\tหยุด!\tCC-BY 2.0 (France) Attribution: tatoeba.org #448320 (FeuDRenais) & #7784240 (pastelite)\n",
            "Wait.\tรอก่อน\tCC-BY 2.0 (France) Attribution: tatoeba.org #3048304 (camilozeta) & #7784248 (pastelite)\n"
          ],
          "name": "stdout"
        }
      ]
    },
    {
      "cell_type": "code",
      "metadata": {
        "id": "HTwe7quYUMTg"
      },
      "source": [
        "# cell 5\n",
        "from keras.models import Model\n",
        "from keras.layers import Input, LSTM, Dense\n",
        "from keras.optimizers import RMSprop\n",
        "import numpy as np"
      ],
      "execution_count": null,
      "outputs": []
    },
    {
      "cell_type": "code",
      "metadata": {
        "id": "I_WLD8zDUTl2"
      },
      "source": [
        "# cell 6\n",
        "batch_size = 64  # Batch size for training.\n",
        "epochs = 100  # Number of epochs to train for.\n",
        "latent_dim = 256  # Latent dimensionality of the encoding space.\n",
        "num_samples = 10000  # Number of samples to train on.\n",
        "# Path to the data txt file on disk.\n",
        "data_path = 'tha.txt'"
      ],
      "execution_count": null,
      "outputs": []
    },
    {
      "cell_type": "code",
      "metadata": {
        "id": "vsT6HO8LUXYH"
      },
      "source": [
        "# cell 7\n",
        "# Vectorize the data.\n",
        "input_texts = []\n",
        "target_texts = []\n",
        "input_characters = set() # unique characters in input\n",
        "target_characters = set() # unique characters in target\n",
        "\n",
        "with open(data_path, 'r', encoding='utf-8') as f:\n",
        "    lines = f.read().split('\\n')\n",
        "\n",
        "for line in lines[: min(num_samples, len(lines) - 1)]: # train only on num_samples\n",
        "    input_text, target_text, _ = line.split('\\t') # split by tabs and get only the first two strings\n",
        "    # We use \"tab\" as the \"start sequence\" character\n",
        "    # for the targets, and \"\\n\" as \"end sequence\" character.\n",
        "    target_text = '\\t' + target_text + '\\n' # pad \\n to use as end of sequence\n",
        "    input_texts.append(input_text)\n",
        "    target_texts.append(target_text)\n",
        "\n",
        "    # populate the sets for both the input and target\n",
        "    for char in input_text:\n",
        "        if char not in input_characters:\n",
        "            input_characters.add(char)\n",
        "    for char in target_text:\n",
        "        if char not in target_characters:\n",
        "            target_characters.add(char)"
      ],
      "execution_count": null,
      "outputs": []
    },
    {
      "cell_type": "code",
      "metadata": {
        "id": "HD1tJRFja8nQ",
        "outputId": "f7139d00-a224-4a47-962b-25d787a72773",
        "colab": {
          "base_uri": "https://localhost:8080/",
          "height": 50
        }
      },
      "source": [
        "# cell 8\n",
        "print(input_texts[0:5])\n",
        "print(target_texts[0:5])"
      ],
      "execution_count": null,
      "outputs": [
        {
          "output_type": "stream",
          "text": [
            "['Hi.', 'Run.', 'Who?', 'Wow!', 'Fire!']\n",
            "['\\tสวัสดี\\n', '\\tวิ่ง\\n', '\\tใคร?\\n', '\\tว้าว!\\n', '\\tยิง!\\n']\n"
          ],
          "name": "stdout"
        }
      ]
    },
    {
      "cell_type": "code",
      "metadata": {
        "id": "FkQCmKurUeQP"
      },
      "source": [
        "# cell 9\n",
        "input_characters = sorted(list(input_characters)) # convert the set to list and sort\n",
        "target_characters = sorted(list(target_characters)) # convert the set to list and sort\n",
        "num_encoder_tokens = len(input_characters) # number of unique characters in input\n",
        "num_decoder_tokens = len(target_characters) # number of unique characters in target\n",
        "\n",
        "max_encoder_seq_length = max([len(txt) for txt in input_texts]) # find the longest sentence\n",
        "max_decoder_seq_length = max([len(txt) for txt in target_texts]) # find the longest sentence"
      ],
      "execution_count": null,
      "outputs": []
    },
    {
      "cell_type": "code",
      "metadata": {
        "id": "RP-fLUDiUg2o",
        "outputId": "7a2eadc3-256f-43ae-80ef-e30d790a81e1",
        "colab": {
          "base_uri": "https://localhost:8080/",
          "height": 101
        }
      },
      "source": [
        "# cell 10\n",
        "print('Number of samples:', len(input_texts))\n",
        "print('Number of unique input tokens:', num_encoder_tokens)\n",
        "print('Number of unique output tokens:', num_decoder_tokens)\n",
        "print('Max sequence length for inputs:', max_encoder_seq_length)\n",
        "print('Max sequence length for outputs:', max_decoder_seq_length)"
      ],
      "execution_count": null,
      "outputs": [
        {
          "output_type": "stream",
          "text": [
            "Number of samples: 2887\n",
            "Number of unique input tokens: 74\n",
            "Number of unique output tokens: 98\n",
            "Max sequence length for inputs: 100\n",
            "Max sequence length for outputs: 119\n"
          ],
          "name": "stdout"
        }
      ]
    },
    {
      "cell_type": "code",
      "metadata": {
        "id": "grXEnF3ZUi4F"
      },
      "source": [
        "# cell 11\n",
        "# dicts that map char to int\n",
        "input_token_index = dict(\n",
        "    [(char, i) for i, char in enumerate(input_characters)])\n",
        "target_token_index = dict(\n",
        "    [(char, i) for i, char in enumerate(target_characters)])\n",
        "\n",
        "encoder_input_data = np.zeros(\n",
        "    (len(input_texts), max_encoder_seq_length, num_encoder_tokens),\n",
        "    dtype='float32')\n",
        "decoder_input_data = np.zeros(\n",
        "    (len(input_texts), max_decoder_seq_length, num_decoder_tokens),\n",
        "    dtype='float32')\n",
        "decoder_target_data = np.zeros(\n",
        "    (len(input_texts), max_decoder_seq_length, num_decoder_tokens),\n",
        "    dtype='float32')"
      ],
      "execution_count": null,
      "outputs": []
    },
    {
      "cell_type": "code",
      "metadata": {
        "id": "YjYt0Kz7L5f4",
        "outputId": "efa336e9-7706-44ee-c989-11c5e208dfad",
        "colab": {
          "base_uri": "https://localhost:8080/",
          "height": 34
        }
      },
      "source": [
        "print(encoder_input_data.shape) # batch, time, features (each char is one feature, the feature dimension is one-hot)"
      ],
      "execution_count": null,
      "outputs": [
        {
          "output_type": "stream",
          "text": [
            "(2887, 100, 74)\n"
          ],
          "name": "stdout"
        }
      ]
    },
    {
      "cell_type": "code",
      "metadata": {
        "id": "Ajwv_vHUdH_K",
        "outputId": "976a9322-c534-4449-ddf6-5b0198478001",
        "colab": {
          "base_uri": "https://localhost:8080/",
          "height": 70
        }
      },
      "source": [
        "print(input_token_index)\n",
        "print(target_token_index)"
      ],
      "execution_count": null,
      "outputs": [
        {
          "output_type": "stream",
          "text": [
            "{' ': 0, '!': 1, '\"': 2, '#': 3, '$': 4, '%': 5, '&': 6, \"'\": 7, ',': 8, '-': 9, '.': 10, '0': 11, '1': 12, '2': 13, '3': 14, '4': 15, '5': 16, '6': 17, '7': 18, '8': 19, '9': 20, ':': 21, '?': 22, 'A': 23, 'B': 24, 'C': 25, 'D': 26, 'E': 27, 'F': 28, 'G': 29, 'H': 30, 'I': 31, 'J': 32, 'K': 33, 'L': 34, 'M': 35, 'N': 36, 'O': 37, 'P': 38, 'R': 39, 'S': 40, 'T': 41, 'U': 42, 'V': 43, 'W': 44, 'Y': 45, 'a': 46, 'b': 47, 'c': 48, 'd': 49, 'e': 50, 'f': 51, 'g': 52, 'h': 53, 'i': 54, 'j': 55, 'k': 56, 'l': 57, 'm': 58, 'n': 59, 'o': 60, 'p': 61, 'q': 62, 'r': 63, 's': 64, 't': 65, 'u': 66, 'v': 67, 'w': 68, 'x': 69, 'y': 70, 'z': 71, '₂': 72, '€': 73}\n",
            "{'\\t': 0, '\\n': 1, ' ': 2, '!': 3, '\"': 4, '%': 5, '(': 6, ')': 7, ',': 8, '.': 9, '/': 10, '0': 11, '1': 12, '2': 13, '3': 14, '4': 15, '5': 16, '6': 17, '7': 18, '8': 19, '9': 20, ':': 21, '?': 22, 'F': 23, 'H': 24, 'O': 25, 'a': 26, 'b': 27, 'c': 28, 'e': 29, 'k': 30, 'o': 31, 'ก': 32, 'ข': 33, 'ค': 34, 'ฆ': 35, 'ง': 36, 'จ': 37, 'ฉ': 38, 'ช': 39, 'ซ': 40, 'ญ': 41, 'ฎ': 42, 'ฏ': 43, 'ฐ': 44, 'ฑ': 45, 'ฒ': 46, 'ณ': 47, 'ด': 48, 'ต': 49, 'ถ': 50, 'ท': 51, 'ธ': 52, 'น': 53, 'บ': 54, 'ป': 55, 'ผ': 56, 'ฝ': 57, 'พ': 58, 'ฟ': 59, 'ภ': 60, 'ม': 61, 'ย': 62, 'ร': 63, 'ฤ': 64, 'ล': 65, 'ว': 66, 'ศ': 67, 'ษ': 68, 'ส': 69, 'ห': 70, 'ฬ': 71, 'อ': 72, 'ฮ': 73, 'ะ': 74, 'ั': 75, 'า': 76, 'ำ': 77, 'ิ': 78, 'ี': 79, 'ึ': 80, 'ื': 81, 'ุ': 82, 'ู': 83, 'เ': 84, 'แ': 85, 'โ': 86, 'ใ': 87, 'ไ': 88, 'ๆ': 89, '็': 90, '่': 91, '้': 92, '๊': 93, '๋': 94, '์': 95, 'ํ': 96, '₂': 97}\n"
          ],
          "name": "stdout"
        }
      ]
    },
    {
      "cell_type": "code",
      "metadata": {
        "id": "MJObOERbUq1A"
      },
      "source": [
        "# cell 14*\n",
        "for i, (input_text, target_text) in enumerate(zip(input_texts, target_texts)): # zip the two lists together so can iterate over them at the same time\n",
        "\n",
        "    for t, char in enumerate(input_text):\n",
        "        encoder_input_data[i, t, input_token_index[char]] = 1. # make the position of the char 1 (one hot vector style)\n",
        "    encoder_input_data[i, t + 1:, input_token_index[' ']] = 1. # make rows after sequence finished all = 1 (t+1 till the end) to mark the sequence had already ended. Basically use space as padding\n",
        "\n",
        "    for t, char in enumerate(target_text):\n",
        "        # decoder_target_data is ahead of decoder_input_data by one timestep\n",
        "        decoder_input_data[i, t, target_token_index[char]] = 1.\n",
        "        if t > 0:\n",
        "            # decoder_target_data will be ahead by one timestep\n",
        "            # and will not include the start character.\n",
        "            decoder_target_data[i, t - 1, target_token_index[char]] = 1. # -1 is shift to the right 1 unit in time, like math\n",
        "    decoder_input_data[i, t + 1:, target_token_index[' ']] = 1. # same as above\n",
        "    decoder_target_data[i, t:, target_token_index[' ']] = 1. # save as above"
      ],
      "execution_count": null,
      "outputs": []
    },
    {
      "cell_type": "code",
      "metadata": {
        "id": "tKuXDTCNiLKx",
        "outputId": "4572661b-55fa-43bc-ebb2-5d2b4895c03a",
        "colab": {
          "base_uri": "https://localhost:8080/",
          "height": 134
        }
      },
      "source": [
        "print(encoder_input_data[0])"
      ],
      "execution_count": null,
      "outputs": [
        {
          "output_type": "stream",
          "text": [
            "[[0. 0. 0. ... 0. 0. 0.]\n",
            " [0. 0. 0. ... 0. 0. 0.]\n",
            " [0. 0. 0. ... 0. 0. 0.]\n",
            " ...\n",
            " [1. 0. 0. ... 0. 0. 0.]\n",
            " [1. 0. 0. ... 0. 0. 0.]\n",
            " [1. 0. 0. ... 0. 0. 0.]]\n"
          ],
          "name": "stdout"
        }
      ]
    },
    {
      "cell_type": "code",
      "metadata": {
        "id": "kaTQ4W9DUvFV"
      },
      "source": [
        "# cell 16*\n",
        "# Define an input sequence and process it.\n",
        "encoder_inputs = Input(shape=(None, num_encoder_tokens)) # None in the first dim is not for batch, it is for time index, so model can accept inputs with different length\n",
        "encoder = LSTM(latent_dim, return_state=True) # return the last state (NOT the same as return_sequence)\n",
        "encoder_outputs, state_h, state_c = encoder(encoder_inputs) # return both the cell state and the regular h state\n",
        "# We discard `encoder_outputs` and only keep the states.\n",
        "encoder_states = [state_h, state_c]\n",
        "\n",
        "# Set up the decoder, using `encoder_states` as initial state.\n",
        "decoder_inputs = Input(shape=(None, num_decoder_tokens))\n",
        "# We set up our decoder to return full output sequences,\n",
        "# and to return internal states as well. We don't use the\n",
        "# return states in the training model, but we will use them in inference.\n",
        "decoder_lstm = LSTM(latent_dim, return_sequences=True, return_state=True)\n",
        "decoder_outputs, _, _ = decoder_lstm(decoder_inputs,\n",
        "                                     initial_state=encoder_states)\n",
        "decoder_dense = Dense(num_decoder_tokens, activation='softmax')\n",
        "decoder_outputs = decoder_dense(decoder_outputs)"
      ],
      "execution_count": null,
      "outputs": []
    },
    {
      "cell_type": "code",
      "metadata": {
        "id": "PuJbvpg5VFjB"
      },
      "source": [
        "# cell 17\n",
        "# Define the model that will turn\n",
        "# `encoder_input_data` & `decoder_input_data` into `decoder_target_data`\n",
        "model = Model([encoder_inputs, decoder_inputs], decoder_outputs)"
      ],
      "execution_count": null,
      "outputs": []
    },
    {
      "cell_type": "code",
      "metadata": {
        "id": "TaO5sX8oVH9N",
        "outputId": "117a393c-1170-4b7c-812c-10c8f281b8d5",
        "colab": {
          "base_uri": "https://localhost:8080/",
          "height": 353
        }
      },
      "source": [
        "# cell 18*\n",
        "# print summary\n",
        "model.compile(optimizer=RMSprop(learning_rate=0.0005, momentum=0.9), loss='categorical_crossentropy',\n",
        "              metrics=['accuracy'])\n",
        "model.summary()"
      ],
      "execution_count": null,
      "outputs": [
        {
          "output_type": "stream",
          "text": [
            "Model: \"functional_1\"\n",
            "__________________________________________________________________________________________________\n",
            "Layer (type)                    Output Shape         Param #     Connected to                     \n",
            "==================================================================================================\n",
            "input_1 (InputLayer)            [(None, None, 74)]   0                                            \n",
            "__________________________________________________________________________________________________\n",
            "input_2 (InputLayer)            [(None, None, 98)]   0                                            \n",
            "__________________________________________________________________________________________________\n",
            "lstm (LSTM)                     [(None, 256), (None, 338944      input_1[0][0]                    \n",
            "__________________________________________________________________________________________________\n",
            "lstm_1 (LSTM)                   [(None, None, 256),  363520      input_2[0][0]                    \n",
            "                                                                 lstm[0][1]                       \n",
            "                                                                 lstm[0][2]                       \n",
            "__________________________________________________________________________________________________\n",
            "dense (Dense)                   (None, None, 98)     25186       lstm_1[0][0]                     \n",
            "==================================================================================================\n",
            "Total params: 727,650\n",
            "Trainable params: 727,650\n",
            "Non-trainable params: 0\n",
            "__________________________________________________________________________________________________\n"
          ],
          "name": "stdout"
        }
      ]
    },
    {
      "cell_type": "code",
      "metadata": {
        "id": "tor-mf8RVPXP",
        "outputId": "5fd81654-e727-4d94-d7d0-d35cdb6eeb77",
        "colab": {
          "base_uri": "https://localhost:8080/",
          "height": 1000
        }
      },
      "source": [
        "# train and save\n",
        "model.fit([encoder_input_data, decoder_input_data], decoder_target_data,\n",
        "          batch_size=batch_size,\n",
        "          epochs=epochs,\n",
        "          validation_split=0.5)\n",
        "# Save model\n",
        "model.save('s2s.h5')"
      ],
      "execution_count": null,
      "outputs": [
        {
          "output_type": "stream",
          "text": [
            "Epoch 1/100\n",
            "23/23 [==============================] - 1s 45ms/step - loss: 0.1575 - accuracy: 0.9564 - val_loss: 0.4196 - val_accuracy: 0.8974\n",
            "Epoch 2/100\n",
            "23/23 [==============================] - 1s 35ms/step - loss: 0.1524 - accuracy: 0.9582 - val_loss: 0.4242 - val_accuracy: 0.8968\n",
            "Epoch 3/100\n",
            "23/23 [==============================] - 1s 34ms/step - loss: 0.1490 - accuracy: 0.9589 - val_loss: 0.4391 - val_accuracy: 0.8936\n",
            "Epoch 4/100\n",
            "23/23 [==============================] - 1s 34ms/step - loss: 0.1464 - accuracy: 0.9599 - val_loss: 0.4389 - val_accuracy: 0.8943\n",
            "Epoch 5/100\n",
            "23/23 [==============================] - 1s 35ms/step - loss: 0.1445 - accuracy: 0.9603 - val_loss: 0.4463 - val_accuracy: 0.8924\n",
            "Epoch 6/100\n",
            "23/23 [==============================] - 1s 35ms/step - loss: 0.1422 - accuracy: 0.9609 - val_loss: 0.4465 - val_accuracy: 0.8924\n",
            "Epoch 7/100\n",
            "23/23 [==============================] - 1s 35ms/step - loss: 0.1398 - accuracy: 0.9618 - val_loss: 0.4531 - val_accuracy: 0.8911\n",
            "Epoch 8/100\n",
            "23/23 [==============================] - 1s 34ms/step - loss: 0.1393 - accuracy: 0.9617 - val_loss: 0.4592 - val_accuracy: 0.8901\n",
            "Epoch 9/100\n",
            "23/23 [==============================] - 1s 35ms/step - loss: 0.1373 - accuracy: 0.9622 - val_loss: 0.4576 - val_accuracy: 0.8904\n",
            "Epoch 10/100\n",
            "23/23 [==============================] - 1s 34ms/step - loss: 0.1353 - accuracy: 0.9629 - val_loss: 0.4667 - val_accuracy: 0.8886\n",
            "Epoch 11/100\n",
            "23/23 [==============================] - 1s 35ms/step - loss: 0.1329 - accuracy: 0.9639 - val_loss: 0.4739 - val_accuracy: 0.8879\n",
            "Epoch 12/100\n",
            "23/23 [==============================] - 1s 35ms/step - loss: 0.1325 - accuracy: 0.9640 - val_loss: 0.4726 - val_accuracy: 0.8882\n",
            "Epoch 13/100\n",
            "23/23 [==============================] - 1s 35ms/step - loss: 0.1307 - accuracy: 0.9640 - val_loss: 0.4826 - val_accuracy: 0.8870\n",
            "Epoch 14/100\n",
            "23/23 [==============================] - 1s 34ms/step - loss: 0.1306 - accuracy: 0.9639 - val_loss: 0.4824 - val_accuracy: 0.8868\n",
            "Epoch 15/100\n",
            "23/23 [==============================] - 1s 34ms/step - loss: 0.1279 - accuracy: 0.9650 - val_loss: 0.4913 - val_accuracy: 0.8855\n",
            "Epoch 16/100\n",
            "23/23 [==============================] - 1s 35ms/step - loss: 0.1265 - accuracy: 0.9656 - val_loss: 0.4907 - val_accuracy: 0.8850\n",
            "Epoch 17/100\n",
            "23/23 [==============================] - 1s 35ms/step - loss: 0.1262 - accuracy: 0.9655 - val_loss: 0.5011 - val_accuracy: 0.8845\n",
            "Epoch 18/100\n",
            "23/23 [==============================] - 1s 35ms/step - loss: 0.1250 - accuracy: 0.9657 - val_loss: 0.5015 - val_accuracy: 0.8841\n",
            "Epoch 19/100\n",
            "23/23 [==============================] - 1s 35ms/step - loss: 0.1239 - accuracy: 0.9662 - val_loss: 0.4999 - val_accuracy: 0.8842\n",
            "Epoch 20/100\n",
            "23/23 [==============================] - 1s 35ms/step - loss: 0.1222 - accuracy: 0.9666 - val_loss: 0.5041 - val_accuracy: 0.8840\n",
            "Epoch 21/100\n",
            "23/23 [==============================] - 1s 35ms/step - loss: 0.1213 - accuracy: 0.9670 - val_loss: 0.5134 - val_accuracy: 0.8823\n",
            "Epoch 22/100\n",
            "23/23 [==============================] - 1s 35ms/step - loss: 0.1204 - accuracy: 0.9672 - val_loss: 0.5170 - val_accuracy: 0.8828\n",
            "Epoch 23/100\n",
            "23/23 [==============================] - 1s 34ms/step - loss: 0.1190 - accuracy: 0.9675 - val_loss: 0.5191 - val_accuracy: 0.8829\n",
            "Epoch 24/100\n",
            "23/23 [==============================] - 1s 35ms/step - loss: 0.1180 - accuracy: 0.9681 - val_loss: 0.5183 - val_accuracy: 0.8823\n",
            "Epoch 25/100\n",
            "23/23 [==============================] - 1s 35ms/step - loss: 0.1173 - accuracy: 0.9680 - val_loss: 0.5224 - val_accuracy: 0.8817\n",
            "Epoch 26/100\n",
            "23/23 [==============================] - 1s 35ms/step - loss: 0.1161 - accuracy: 0.9682 - val_loss: 0.5310 - val_accuracy: 0.8815\n",
            "Epoch 27/100\n",
            "23/23 [==============================] - 1s 35ms/step - loss: 0.1150 - accuracy: 0.9686 - val_loss: 0.5320 - val_accuracy: 0.8811\n",
            "Epoch 28/100\n",
            "23/23 [==============================] - 1s 35ms/step - loss: 0.1135 - accuracy: 0.9690 - val_loss: 0.5387 - val_accuracy: 0.8810\n",
            "Epoch 29/100\n",
            "23/23 [==============================] - 1s 34ms/step - loss: 0.1127 - accuracy: 0.9692 - val_loss: 0.5427 - val_accuracy: 0.8806\n",
            "Epoch 30/100\n",
            "23/23 [==============================] - 1s 34ms/step - loss: 0.1121 - accuracy: 0.9693 - val_loss: 0.5449 - val_accuracy: 0.8799\n",
            "Epoch 31/100\n",
            "23/23 [==============================] - 1s 35ms/step - loss: 0.1111 - accuracy: 0.9698 - val_loss: 0.5475 - val_accuracy: 0.8793\n",
            "Epoch 32/100\n",
            "23/23 [==============================] - 1s 35ms/step - loss: 0.1101 - accuracy: 0.9700 - val_loss: 0.5491 - val_accuracy: 0.8795\n",
            "Epoch 33/100\n",
            "23/23 [==============================] - 1s 35ms/step - loss: 0.1090 - accuracy: 0.9702 - val_loss: 0.5590 - val_accuracy: 0.8791\n",
            "Epoch 34/100\n",
            "23/23 [==============================] - 1s 35ms/step - loss: 0.1076 - accuracy: 0.9708 - val_loss: 0.5613 - val_accuracy: 0.8790\n",
            "Epoch 35/100\n",
            "23/23 [==============================] - 1s 35ms/step - loss: 0.1074 - accuracy: 0.9708 - val_loss: 0.5685 - val_accuracy: 0.8787\n",
            "Epoch 36/100\n",
            "23/23 [==============================] - 1s 35ms/step - loss: 0.1068 - accuracy: 0.9706 - val_loss: 0.5625 - val_accuracy: 0.8791\n",
            "Epoch 37/100\n",
            "23/23 [==============================] - 1s 34ms/step - loss: 0.1058 - accuracy: 0.9713 - val_loss: 0.5657 - val_accuracy: 0.8782\n",
            "Epoch 38/100\n",
            "23/23 [==============================] - 1s 35ms/step - loss: 0.1051 - accuracy: 0.9713 - val_loss: 0.5756 - val_accuracy: 0.8778\n",
            "Epoch 39/100\n",
            "23/23 [==============================] - 1s 35ms/step - loss: 0.1050 - accuracy: 0.9711 - val_loss: 0.5713 - val_accuracy: 0.8787\n",
            "Epoch 40/100\n",
            "23/23 [==============================] - 1s 35ms/step - loss: 0.1029 - accuracy: 0.9720 - val_loss: 0.5858 - val_accuracy: 0.8774\n",
            "Epoch 41/100\n",
            "23/23 [==============================] - 1s 35ms/step - loss: 0.1020 - accuracy: 0.9722 - val_loss: 0.5797 - val_accuracy: 0.8775\n",
            "Epoch 42/100\n",
            "23/23 [==============================] - 1s 35ms/step - loss: 0.1016 - accuracy: 0.9723 - val_loss: 0.5800 - val_accuracy: 0.8775\n",
            "Epoch 43/100\n",
            "23/23 [==============================] - 1s 35ms/step - loss: 0.1011 - accuracy: 0.9724 - val_loss: 0.5881 - val_accuracy: 0.8770\n",
            "Epoch 44/100\n",
            "23/23 [==============================] - 1s 35ms/step - loss: 0.1000 - accuracy: 0.9728 - val_loss: 0.5874 - val_accuracy: 0.8774\n",
            "Epoch 45/100\n",
            "23/23 [==============================] - 1s 35ms/step - loss: 0.0993 - accuracy: 0.9730 - val_loss: 0.5935 - val_accuracy: 0.8780\n",
            "Epoch 46/100\n",
            "23/23 [==============================] - 1s 36ms/step - loss: 0.0982 - accuracy: 0.9732 - val_loss: 0.5929 - val_accuracy: 0.8765\n",
            "Epoch 47/100\n",
            "23/23 [==============================] - 1s 35ms/step - loss: 0.1096 - accuracy: 0.9698 - val_loss: 0.6005 - val_accuracy: 0.8763\n",
            "Epoch 48/100\n",
            "23/23 [==============================] - 1s 35ms/step - loss: 0.1036 - accuracy: 0.9711 - val_loss: 0.5962 - val_accuracy: 0.8765\n",
            "Epoch 49/100\n",
            "23/23 [==============================] - 1s 35ms/step - loss: 0.0987 - accuracy: 0.9729 - val_loss: 0.5920 - val_accuracy: 0.8778\n",
            "Epoch 50/100\n",
            "23/23 [==============================] - 1s 34ms/step - loss: 0.0969 - accuracy: 0.9734 - val_loss: 0.6022 - val_accuracy: 0.8763\n",
            "Epoch 51/100\n",
            "23/23 [==============================] - 1s 36ms/step - loss: 0.0967 - accuracy: 0.9734 - val_loss: 0.6094 - val_accuracy: 0.8755\n",
            "Epoch 52/100\n",
            "23/23 [==============================] - 1s 35ms/step - loss: 0.0950 - accuracy: 0.9742 - val_loss: 0.6155 - val_accuracy: 0.8751\n",
            "Epoch 53/100\n",
            "23/23 [==============================] - 1s 34ms/step - loss: 0.0942 - accuracy: 0.9744 - val_loss: 0.6153 - val_accuracy: 0.8765\n",
            "Epoch 54/100\n",
            "23/23 [==============================] - 1s 35ms/step - loss: 0.0944 - accuracy: 0.9738 - val_loss: 0.6193 - val_accuracy: 0.8760\n",
            "Epoch 55/100\n",
            "23/23 [==============================] - 1s 34ms/step - loss: 0.0937 - accuracy: 0.9742 - val_loss: 0.6192 - val_accuracy: 0.8757\n",
            "Epoch 56/100\n",
            "23/23 [==============================] - 1s 34ms/step - loss: 0.0925 - accuracy: 0.9747 - val_loss: 0.6192 - val_accuracy: 0.8762\n",
            "Epoch 57/100\n",
            "23/23 [==============================] - 1s 35ms/step - loss: 0.0917 - accuracy: 0.9745 - val_loss: 0.6259 - val_accuracy: 0.8755\n",
            "Epoch 58/100\n",
            "23/23 [==============================] - 1s 34ms/step - loss: 0.0916 - accuracy: 0.9748 - val_loss: 0.6283 - val_accuracy: 0.8753\n",
            "Epoch 59/100\n",
            "23/23 [==============================] - 1s 35ms/step - loss: 0.0911 - accuracy: 0.9751 - val_loss: 0.6301 - val_accuracy: 0.8754\n",
            "Epoch 60/100\n",
            "23/23 [==============================] - 1s 35ms/step - loss: 0.0900 - accuracy: 0.9753 - val_loss: 0.6382 - val_accuracy: 0.8758\n",
            "Epoch 61/100\n",
            "23/23 [==============================] - 1s 35ms/step - loss: 0.0897 - accuracy: 0.9752 - val_loss: 0.6393 - val_accuracy: 0.8747\n",
            "Epoch 62/100\n",
            "23/23 [==============================] - 1s 35ms/step - loss: 0.0895 - accuracy: 0.9752 - val_loss: 0.6398 - val_accuracy: 0.8745\n",
            "Epoch 63/100\n",
            "23/23 [==============================] - 1s 35ms/step - loss: 0.0895 - accuracy: 0.9752 - val_loss: 0.6417 - val_accuracy: 0.8747\n",
            "Epoch 64/100\n",
            "23/23 [==============================] - 1s 34ms/step - loss: 0.0884 - accuracy: 0.9754 - val_loss: 0.6502 - val_accuracy: 0.8739\n",
            "Epoch 65/100\n",
            "23/23 [==============================] - 1s 34ms/step - loss: 0.0881 - accuracy: 0.9756 - val_loss: 0.6438 - val_accuracy: 0.8747\n",
            "Epoch 66/100\n",
            "23/23 [==============================] - 1s 35ms/step - loss: 0.0880 - accuracy: 0.9756 - val_loss: 0.6453 - val_accuracy: 0.8744\n",
            "Epoch 67/100\n",
            "23/23 [==============================] - 1s 34ms/step - loss: 0.0873 - accuracy: 0.9755 - val_loss: 0.6532 - val_accuracy: 0.8746\n",
            "Epoch 68/100\n",
            "23/23 [==============================] - 1s 34ms/step - loss: 0.0867 - accuracy: 0.9759 - val_loss: 0.6571 - val_accuracy: 0.8742\n",
            "Epoch 69/100\n",
            "23/23 [==============================] - 1s 34ms/step - loss: 0.0862 - accuracy: 0.9759 - val_loss: 0.6599 - val_accuracy: 0.8740\n",
            "Epoch 70/100\n",
            "23/23 [==============================] - 1s 35ms/step - loss: 0.0858 - accuracy: 0.9760 - val_loss: 0.6672 - val_accuracy: 0.8735\n",
            "Epoch 71/100\n",
            "23/23 [==============================] - 1s 34ms/step - loss: 0.0859 - accuracy: 0.9758 - val_loss: 0.6626 - val_accuracy: 0.8736\n",
            "Epoch 72/100\n",
            "23/23 [==============================] - 1s 34ms/step - loss: 0.0858 - accuracy: 0.9758 - val_loss: 0.6599 - val_accuracy: 0.8737\n",
            "Epoch 73/100\n",
            "23/23 [==============================] - 1s 35ms/step - loss: 0.0868 - accuracy: 0.9755 - val_loss: 0.6707 - val_accuracy: 0.8728\n",
            "Epoch 74/100\n",
            "23/23 [==============================] - 1s 35ms/step - loss: 0.0850 - accuracy: 0.9761 - val_loss: 0.6672 - val_accuracy: 0.8735\n",
            "Epoch 75/100\n",
            "23/23 [==============================] - 1s 35ms/step - loss: 0.0844 - accuracy: 0.9763 - val_loss: 0.6648 - val_accuracy: 0.8733\n",
            "Epoch 76/100\n",
            "23/23 [==============================] - 1s 34ms/step - loss: 0.0840 - accuracy: 0.9764 - val_loss: 0.6752 - val_accuracy: 0.8739\n",
            "Epoch 77/100\n",
            "23/23 [==============================] - 1s 36ms/step - loss: 0.0840 - accuracy: 0.9764 - val_loss: 0.6764 - val_accuracy: 0.8727\n",
            "Epoch 78/100\n",
            "23/23 [==============================] - 1s 35ms/step - loss: 0.0833 - accuracy: 0.9766 - val_loss: 0.6801 - val_accuracy: 0.8724\n",
            "Epoch 79/100\n",
            "23/23 [==============================] - 1s 35ms/step - loss: 0.0829 - accuracy: 0.9766 - val_loss: 0.6752 - val_accuracy: 0.8731\n",
            "Epoch 80/100\n",
            "23/23 [==============================] - 1s 35ms/step - loss: 0.0825 - accuracy: 0.9766 - val_loss: 0.6786 - val_accuracy: 0.8732\n",
            "Epoch 81/100\n",
            "23/23 [==============================] - 1s 36ms/step - loss: 0.0824 - accuracy: 0.9766 - val_loss: 0.6843 - val_accuracy: 0.8730\n",
            "Epoch 82/100\n",
            "23/23 [==============================] - 1s 36ms/step - loss: 0.0820 - accuracy: 0.9767 - val_loss: 0.6861 - val_accuracy: 0.8738\n",
            "Epoch 83/100\n",
            "23/23 [==============================] - 1s 35ms/step - loss: 0.0814 - accuracy: 0.9769 - val_loss: 0.6860 - val_accuracy: 0.8725\n",
            "Epoch 84/100\n",
            "23/23 [==============================] - 1s 35ms/step - loss: 0.0808 - accuracy: 0.9771 - val_loss: 0.6905 - val_accuracy: 0.8723\n",
            "Epoch 85/100\n",
            "23/23 [==============================] - 1s 35ms/step - loss: 0.0809 - accuracy: 0.9770 - val_loss: 0.6914 - val_accuracy: 0.8728\n",
            "Epoch 86/100\n",
            "23/23 [==============================] - 1s 35ms/step - loss: 0.0808 - accuracy: 0.9768 - val_loss: 0.6944 - val_accuracy: 0.8728\n",
            "Epoch 87/100\n",
            "23/23 [==============================] - 1s 36ms/step - loss: 0.0803 - accuracy: 0.9770 - val_loss: 0.6996 - val_accuracy: 0.8721\n",
            "Epoch 88/100\n",
            "23/23 [==============================] - 1s 36ms/step - loss: 0.0804 - accuracy: 0.9768 - val_loss: 0.7084 - val_accuracy: 0.8719\n",
            "Epoch 89/100\n",
            "23/23 [==============================] - 1s 35ms/step - loss: 0.0806 - accuracy: 0.9769 - val_loss: 0.6995 - val_accuracy: 0.8718\n",
            "Epoch 90/100\n",
            "23/23 [==============================] - 1s 35ms/step - loss: 0.0803 - accuracy: 0.9769 - val_loss: 0.7020 - val_accuracy: 0.8720\n",
            "Epoch 91/100\n",
            "23/23 [==============================] - 1s 34ms/step - loss: 0.0805 - accuracy: 0.9769 - val_loss: 0.7011 - val_accuracy: 0.8716\n",
            "Epoch 92/100\n",
            "23/23 [==============================] - 1s 34ms/step - loss: 0.0796 - accuracy: 0.9773 - val_loss: 0.7068 - val_accuracy: 0.8719\n",
            "Epoch 93/100\n",
            "23/23 [==============================] - 1s 35ms/step - loss: 0.0794 - accuracy: 0.9770 - val_loss: 0.7085 - val_accuracy: 0.8720\n",
            "Epoch 94/100\n",
            "23/23 [==============================] - 1s 34ms/step - loss: 0.0791 - accuracy: 0.9773 - val_loss: 0.7125 - val_accuracy: 0.8715\n",
            "Epoch 95/100\n",
            "23/23 [==============================] - 1s 35ms/step - loss: 0.0787 - accuracy: 0.9772 - val_loss: 0.7105 - val_accuracy: 0.8720\n",
            "Epoch 96/100\n",
            "23/23 [==============================] - 1s 35ms/step - loss: 0.0782 - accuracy: 0.9774 - val_loss: 0.7311 - val_accuracy: 0.8709\n",
            "Epoch 97/100\n",
            "23/23 [==============================] - 1s 35ms/step - loss: 0.0779 - accuracy: 0.9774 - val_loss: 0.7169 - val_accuracy: 0.8713\n",
            "Epoch 98/100\n",
            "23/23 [==============================] - 1s 34ms/step - loss: 0.0779 - accuracy: 0.9771 - val_loss: 0.7241 - val_accuracy: 0.8708\n",
            "Epoch 99/100\n",
            "23/23 [==============================] - 1s 35ms/step - loss: 0.0776 - accuracy: 0.9773 - val_loss: 0.7262 - val_accuracy: 0.8714\n",
            "Epoch 100/100\n",
            "23/23 [==============================] - 1s 34ms/step - loss: 0.0774 - accuracy: 0.9771 - val_loss: 0.7240 - val_accuracy: 0.8719\n"
          ],
          "name": "stdout"
        }
      ]
    },
    {
      "cell_type": "markdown",
      "metadata": {
        "id": "8ILEPhk5WjJ-"
      },
      "source": [
        "# Inference Mode"
      ]
    },
    {
      "cell_type": "code",
      "metadata": {
        "id": "PS6WnjZTWnMZ"
      },
      "source": [
        "# Next: inference mode (sampling).\n",
        "# Here's the drill:\n",
        "# 1) encode input and retrieve initial decoder state\n",
        "# 2) run one step of decoder with this initial state\n",
        "# and a \"start of sequence\" token as target.\n",
        "# Output will be the next target token\n",
        "# 3) Repeat with the current target token and current states\n",
        "\n",
        "# Define sampling models\n",
        "encoder_model = Model(encoder_inputs, encoder_states)\n",
        "\n",
        "decoder_state_input_h = Input(shape=(latent_dim,))\n",
        "decoder_state_input_c = Input(shape=(latent_dim,))\n",
        "decoder_states_inputs = [decoder_state_input_h, decoder_state_input_c]\n",
        "\n",
        "decoder_outputs, state_h, state_c = decoder_lstm(\n",
        "    decoder_inputs, initial_state=decoder_states_inputs)\n",
        "decoder_states = [state_h, state_c]\n",
        "decoder_outputs = decoder_dense(decoder_outputs)\n",
        "\n",
        "decoder_model = Model(\n",
        "    [decoder_inputs] + decoder_states_inputs, # list concatenation, not arithmetic add\n",
        "    [decoder_outputs] + decoder_states) # also output its own states (both c and h)"
      ],
      "execution_count": null,
      "outputs": []
    },
    {
      "cell_type": "code",
      "metadata": {
        "id": "CcbrbisLWn9n"
      },
      "source": [
        "# Reverse-lookup token index to decode sequences back to\n",
        "# something readable.\n",
        "reverse_input_char_index = dict(\n",
        "    (i, char) for char, i in input_token_index.items())\n",
        "reverse_target_char_index = dict(\n",
        "    (i, char) for char, i in target_token_index.items())"
      ],
      "execution_count": null,
      "outputs": []
    },
    {
      "cell_type": "code",
      "metadata": {
        "id": "vFs_1vJ3WrL7"
      },
      "source": [
        "def decode_sequence(input_seq):\n",
        "    # Encode the input as state vectors.\n",
        "    states_value = encoder_model.predict(input_seq)\n",
        "\n",
        "    # Generate empty target sequence of length 1.\n",
        "    target_seq = np.zeros((1, 1, num_decoder_tokens))\n",
        "    # Populate the first character of target sequence with the start character.\n",
        "    target_seq[0, 0, target_token_index['\\t']] = 1.\n",
        "\n",
        "    # Sampling loop for a batch of sequences\n",
        "    # (to simplify, here we assume a batch of size 1).\n",
        "    stop_condition = False\n",
        "    decoded_sentence = ''\n",
        "    while not stop_condition:\n",
        "        output_tokens, h, c = decoder_model.predict(\n",
        "            [target_seq] + states_value)\n",
        "\n",
        "        # Sample a token\n",
        "        sampled_token_index = np.argmax(output_tokens[0, -1, :])\n",
        "        sampled_char = reverse_target_char_index[sampled_token_index]\n",
        "        decoded_sentence += sampled_char\n",
        "\n",
        "        # Exit condition: either hit max length\n",
        "        # or find stop character.\n",
        "        if (sampled_char == '\\n' or\n",
        "           len(decoded_sentence) > max_decoder_seq_length):\n",
        "            stop_condition = True\n",
        "\n",
        "        # Update the target sequence (of length 1).\n",
        "        target_seq = np.zeros((1, 1, num_decoder_tokens))\n",
        "        target_seq[0, 0, sampled_token_index] = 1.\n",
        "\n",
        "        # Update states\n",
        "        states_value = [h, c]\n",
        "\n",
        "    return decoded_sentence"
      ],
      "execution_count": null,
      "outputs": []
    },
    {
      "cell_type": "code",
      "metadata": {
        "id": "6TDJr9fdWvBa",
        "outputId": "0e44cf22-8897-47fc-9070-0336615f5f88",
        "colab": {
          "base_uri": "https://localhost:8080/",
          "height": 1000
        }
      },
      "source": [
        "for seq_index in range(100):\n",
        "    # Take one sequence (part of the training set)\n",
        "    # for trying out decoding.\n",
        "    input_seq = encoder_input_data[seq_index: seq_index + 1]\n",
        "    decoded_sentence = decode_sequence(input_seq)\n",
        "    print('-')\n",
        "    print('Input sentence:', input_texts[seq_index])\n",
        "    print('Decoded sentence:', decoded_sentence)"
      ],
      "execution_count": null,
      "outputs": [
        {
          "output_type": "stream",
          "text": [
            "-\n",
            "Input sentence: Hi.\n",
            "Decoded sentence: ฉันเป็นคนอาศิที่ฉัน\n",
            "\n",
            "-\n",
            "Input sentence: Run.\n",
            "Decoded sentence: ฉันเป็นคนอาศิที่ฉัน\n",
            "\n",
            "-\n",
            "Input sentence: Who?\n",
            "Decoded sentence: ฉันเป็นคนอาศิที่ฉัน\n",
            "\n",
            "-\n",
            "Input sentence: Wow!\n",
            "Decoded sentence: ฉันเป็นคนอาศิที่ฉัน\n",
            "\n",
            "-\n",
            "Input sentence: Fire!\n",
            "Decoded sentence: ฉันเป็นคนอาศิที่ฉัน\n",
            "\n",
            "-\n",
            "Input sentence: Help!\n",
            "Decoded sentence: ฉันเป็นคนอาศิที่ฉัน\n",
            "\n",
            "-\n",
            "Input sentence: Jump!\n",
            "Decoded sentence: ฉันเป็นคนอาศิที่ฉัน\n",
            "\n",
            "-\n",
            "Input sentence: Jump.\n",
            "Decoded sentence: ฉันเป็นคนอาศิที่ฉัน\n",
            "\n",
            "-\n",
            "Input sentence: Stop!\n",
            "Decoded sentence: ฉันเป็นคนอาศิที่ฉัน\n",
            "\n",
            "-\n",
            "Input sentence: Wait.\n",
            "Decoded sentence: ฉันเป็นคนอาศิที่ฉัน\n",
            "\n",
            "-\n",
            "Input sentence: Go on.\n",
            "Decoded sentence: ฉันเป็นคนอาศิที่ฉัน\n",
            "\n",
            "-\n",
            "Input sentence: Hello!\n",
            "Decoded sentence: ฉันเป็นคนอาศิที่ฉัน\n",
            "\n",
            "-\n",
            "Input sentence: Hurry!\n",
            "Decoded sentence: ฉันเป็นคนอาศิที่ฉัน\n",
            "\n",
            "-\n",
            "Input sentence: I see.\n",
            "Decoded sentence: ฉันเป็นคนอาศิที่ฉัน\n",
            "\n",
            "-\n",
            "Input sentence: I try.\n",
            "Decoded sentence: ฉันเป็นคนอาศิที่ฉัน\n",
            "\n",
            "-\n",
            "Input sentence: I won!\n",
            "Decoded sentence: ฉันเป็นคนอาศิที่ฉัน\n",
            "\n",
            "-\n",
            "Input sentence: Oh no!\n",
            "Decoded sentence: ฉันเป็นคนอาศิที่ฉัน\n",
            "\n",
            "-\n",
            "Input sentence: Relax.\n",
            "Decoded sentence: ฉันเป็นคนอาศิที่ฉัน\n",
            "\n",
            "-\n",
            "Input sentence: Smile.\n",
            "Decoded sentence: ฉันเป็นคนอาศิที่ฉัน\n",
            "\n",
            "-\n",
            "Input sentence: Attack!\n",
            "Decoded sentence: ฉันเป็นคนอาศิที่ฉัน\n",
            "\n",
            "-\n",
            "Input sentence: Cheers!\n",
            "Decoded sentence: ฉันเป็นคนอาศิที่ฉัน\n",
            "\n",
            "-\n",
            "Input sentence: Freeze!\n",
            "Decoded sentence: ฉันเป็นคนอาศิที่ฉัน\n",
            "\n",
            "-\n",
            "Input sentence: Freeze!\n",
            "Decoded sentence: ฉันเป็นคนอาศิที่ฉัน\n",
            "\n",
            "-\n",
            "Input sentence: Get up.\n",
            "Decoded sentence: ฉันเป็นคนอาศิที่ฉัน\n",
            "\n",
            "-\n",
            "Input sentence: Go now.\n",
            "Decoded sentence: ฉันเป็นคนอาศิที่ฉัน\n",
            "\n",
            "-\n",
            "Input sentence: Got it!\n",
            "Decoded sentence: ฉันเป็นคนอาศิที่ฉัน\n",
            "\n",
            "-\n",
            "Input sentence: Got it!\n",
            "Decoded sentence: ฉันเป็นคนอาศิที่ฉัน\n",
            "\n",
            "-\n",
            "Input sentence: Got it!\n",
            "Decoded sentence: ฉันเป็นคนอาศิที่ฉัน\n",
            "\n",
            "-\n",
            "Input sentence: Got it?\n",
            "Decoded sentence: ฉันเป็นคนอาศิที่ฉัน\n",
            "\n",
            "-\n",
            "Input sentence: He ran.\n",
            "Decoded sentence: ฉันเป็นคนอาศิที่ฉัน\n",
            "\n",
            "-\n",
            "Input sentence: Hop in.\n",
            "Decoded sentence: ฉันเป็นคนอาศิที่ฉัน\n",
            "\n",
            "-\n",
            "Input sentence: Hug me.\n",
            "Decoded sentence: ฉันเป็นคนอาศิที่ฉัน\n",
            "\n",
            "-\n",
            "Input sentence: I fell.\n",
            "Decoded sentence: ฉันเป็นคนอาศิที่ฉัน\n",
            "\n",
            "-\n",
            "Input sentence: I left.\n",
            "Decoded sentence: ฉันเป็นคนอาศิที่ฉัน\n",
            "\n",
            "-\n",
            "Input sentence: I lied.\n",
            "Decoded sentence: ฉันเป็นคนอาศิที่ฉัน\n",
            "\n",
            "-\n",
            "Input sentence: I lost.\n",
            "Decoded sentence: ฉันเป็นคนอาศิที่ฉัน\n",
            "\n",
            "-\n",
            "Input sentence: I quit.\n",
            "Decoded sentence: ฉันเป็นคนอาศิที่ฉัน\n",
            "\n",
            "-\n",
            "Input sentence: I work.\n",
            "Decoded sentence: ฉันเป็นคนอาศิที่ฉัน\n",
            "\n",
            "-\n",
            "Input sentence: I'm 19.\n",
            "Decoded sentence: ฉันเป็นคนอาศิที่ฉัน\n",
            "\n",
            "-\n",
            "Input sentence: I'm OK.\n",
            "Decoded sentence: ฉันเป็นคนอาศิที่ฉัน\n",
            "\n",
            "-\n",
            "Input sentence: I'm OK.\n",
            "Decoded sentence: ฉันเป็นคนอาศิที่ฉัน\n",
            "\n",
            "-\n",
            "Input sentence: I'm up.\n",
            "Decoded sentence: ฉันเป็นคนอาศิที่ฉัน\n",
            "\n",
            "-\n",
            "Input sentence: Listen.\n",
            "Decoded sentence: ฉันเป็นคนอาศิที่ฉัน\n",
            "\n",
            "-\n",
            "Input sentence: Listen.\n",
            "Decoded sentence: ฉันเป็นคนอาศิที่ฉัน\n",
            "\n",
            "-\n",
            "Input sentence: No way!\n",
            "Decoded sentence: ฉันเป็นคนอาศิที่ฉัน\n",
            "\n",
            "-\n",
            "Input sentence: Really?\n",
            "Decoded sentence: ฉันเป็นคนอาศิที่ฉัน\n",
            "\n",
            "-\n",
            "Input sentence: Try it.\n",
            "Decoded sentence: ฉันเป็นคนอาศิที่ฉัน\n",
            "\n",
            "-\n",
            "Input sentence: We try.\n",
            "Decoded sentence: ฉันเป็นคนอาศิที่ฉัน\n",
            "\n",
            "-\n",
            "Input sentence: We won.\n",
            "Decoded sentence: ฉันเป็นคนอาศิที่ฉัน\n",
            "\n",
            "-\n",
            "Input sentence: Why me?\n",
            "Decoded sentence: ฉันเป็นคนอาศิที่ฉัน\n",
            "\n",
            "-\n",
            "Input sentence: Ask Tom.\n",
            "Decoded sentence: ฉันเป็นคนอาศิที่ฉัน\n",
            "\n",
            "-\n",
            "Input sentence: Awesome!\n",
            "Decoded sentence: ฉันเป็นคนอาศิที่ฉัน\n",
            "\n",
            "-\n",
            "Input sentence: Beat it.\n",
            "Decoded sentence: ฉันเป็นคนอาศิที่ฉัน\n",
            "\n",
            "-\n",
            "Input sentence: Call me.\n",
            "Decoded sentence: ฉันเป็นคนอาศิที่ฉัน\n",
            "\n",
            "-\n",
            "Input sentence: Come in.\n",
            "Decoded sentence: ฉันเป็นคนอาศิที่ฉัน\n",
            "\n",
            "-\n",
            "Input sentence: Get out!\n",
            "Decoded sentence: ฉันเป็นคนอาศิที่ฉัน\n",
            "\n",
            "-\n",
            "Input sentence: Get out.\n",
            "Decoded sentence: ฉันเป็นคนอาศิที่ฉัน\n",
            "\n",
            "-\n",
            "Input sentence: Go away!\n",
            "Decoded sentence: ฉันเป็นคนอาศิที่ฉัน\n",
            "\n",
            "-\n",
            "Input sentence: Go away.\n",
            "Decoded sentence: ฉันเป็นคนอาศิที่ฉัน\n",
            "\n",
            "-\n",
            "Input sentence: Go away.\n",
            "Decoded sentence: ฉันเป็นคนอาศิที่ฉัน\n",
            "\n",
            "-\n",
            "Input sentence: Go home.\n",
            "Decoded sentence: ฉันเป็นคนอาศิที่ฉัน\n",
            "\n",
            "-\n",
            "Input sentence: Goodbye!\n",
            "Decoded sentence: ฉันเป็นคนอาศิที่ฉัน\n",
            "\n",
            "-\n",
            "Input sentence: He runs.\n",
            "Decoded sentence: ฉันเป็นคนอาศิที่ฉัน\n",
            "\n",
            "-\n",
            "Input sentence: Help me!\n",
            "Decoded sentence: ฉันเป็นคนอาศิที่ฉัน\n",
            "\n",
            "-\n",
            "Input sentence: Help me.\n",
            "Decoded sentence: ฉันเป็นคนอาศิที่ฉัน\n",
            "\n",
            "-\n",
            "Input sentence: Hi, Tom.\n",
            "Decoded sentence: ฉันเป็นคนอาศิที่ฉัน\n",
            "\n",
            "-\n",
            "Input sentence: Hold it!\n",
            "Decoded sentence: ฉันเป็นคนอาศิที่ฉัน\n",
            "\n",
            "-\n",
            "Input sentence: I agree.\n",
            "Decoded sentence: ฉันเป็นคนอาศิที่ฉัน\n",
            "\n",
            "-\n",
            "Input sentence: I'll go.\n",
            "Decoded sentence: ฉันเป็นคนอาศิที่ฉัน\n",
            "\n",
            "-\n",
            "Input sentence: I'm Tom.\n",
            "Decoded sentence: ฉันเป็นคนอาศิที่ฉัน\n",
            "\n",
            "-\n",
            "Input sentence: I'm hot.\n",
            "Decoded sentence: ฉันเป็นคนอาศิที่ฉัน\n",
            "\n",
            "-\n",
            "Input sentence: I'm ill.\n",
            "Decoded sentence: ฉันเป็นคนอาศิที่ฉัน\n",
            "\n",
            "-\n",
            "Input sentence: I'm shy.\n",
            "Decoded sentence: ฉันเป็นคนอาศิที่ฉัน\n",
            "\n",
            "-\n",
            "Input sentence: It's OK.\n",
            "Decoded sentence: ฉันเป็นคนอาศิที่ฉัน\n",
            "\n",
            "-\n",
            "Input sentence: It's OK.\n",
            "Decoded sentence: ฉันเป็นคนอาศิที่ฉัน\n",
            "\n",
            "-\n",
            "Input sentence: It's me.\n",
            "Decoded sentence: ฉันเป็นคนอาศิที่ฉัน\n",
            "\n",
            "-\n",
            "Input sentence: Me, too.\n",
            "Decoded sentence: ฉันเป็นคนอาศิที่ฉัน\n",
            "\n",
            "-\n",
            "Input sentence: Open up.\n",
            "Decoded sentence: ฉันเป็นคนอาศิที่ฉัน\n",
            "\n",
            "-\n",
            "Input sentence: Perfect!\n",
            "Decoded sentence: ฉันเป็นคนอาศิที่ฉัน\n",
            "\n",
            "-\n",
            "Input sentence: Perfect!\n",
            "Decoded sentence: ฉันเป็นคนอาศิที่ฉัน\n",
            "\n",
            "-\n",
            "Input sentence: Show me.\n",
            "Decoded sentence: ฉันเป็นคนอาศิที่ฉัน\n",
            "\n",
            "-\n",
            "Input sentence: Shut up!\n",
            "Decoded sentence: ฉันเป็นคนอาศิที่ฉัน\n",
            "\n",
            "-\n",
            "Input sentence: Tell me.\n",
            "Decoded sentence: ฉันเป็นคนอาศิที่ฉัน\n",
            "\n",
            "-\n",
            "Input sentence: Tom ran.\n",
            "Decoded sentence: ฉันเป็นคนอาศิที่ฉัน\n",
            "\n",
            "-\n",
            "Input sentence: Wake up!\n",
            "Decoded sentence: ฉันเป็นคนอาศิที่ฉัน\n",
            "\n",
            "-\n",
            "Input sentence: Wake up.\n",
            "Decoded sentence: ฉันเป็นคนอาศิที่ฉัน\n",
            "\n",
            "-\n",
            "Input sentence: Wash up.\n",
            "Decoded sentence: ฉันเป็นคนอาศิที่ฉัน\n",
            "\n",
            "-\n",
            "Input sentence: We lost.\n",
            "Decoded sentence: ฉันเป็นคนอาศิที่ฉัน\n",
            "\n",
            "-\n",
            "Input sentence: Welcome.\n",
            "Decoded sentence: ฉันเป็นคนอาศิที่ฉัน\n",
            "\n",
            "-\n",
            "Input sentence: Who won?\n",
            "Decoded sentence: ฉันเป็นคนอาศิที่ฉัน\n",
            "\n",
            "-\n",
            "Input sentence: You run.\n",
            "Decoded sentence: ฉันเป็นคนอาศิที่ฉัน\n",
            "\n",
            "-\n",
            "Input sentence: Be a man.\n",
            "Decoded sentence: ฉันเป็นคนอาศิที่ฉัน\n",
            "\n",
            "-\n",
            "Input sentence: Be quiet.\n",
            "Decoded sentence: ฉันเป็นคนอาศิที่ฉัน\n",
            "\n",
            "-\n",
            "Input sentence: Call Tom.\n",
            "Decoded sentence: ฉันเป็นคนอาศิที่ฉัน\n",
            "\n",
            "-\n",
            "Input sentence: Cheer up!\n",
            "Decoded sentence: ฉันเป็นคนอาศิที่ฉัน\n",
            "\n",
            "-\n",
            "Input sentence: Don't go.\n",
            "Decoded sentence: ฉันเป็นคนอาศิที่ฉัน\n",
            "\n",
            "-\n",
            "Input sentence: Find Tom.\n",
            "Decoded sentence: ฉันเป็นคนอาศิที่ฉัน\n",
            "\n",
            "-\n",
            "Input sentence: Grab Tom.\n",
            "Decoded sentence: ฉันเป็นคนอาศิที่ฉัน\n",
            "\n",
            "-\n",
            "Input sentence: Grab him.\n",
            "Decoded sentence: ฉันเป็นคนอาศิที่ฉัน\n",
            "\n",
            "-\n",
            "Input sentence: Have fun.\n",
            "Decoded sentence: ฉันเป็นคนอาศิที่ฉัน\n",
            "\n"
          ],
          "name": "stdout"
        }
      ]
    },
    {
      "cell_type": "code",
      "metadata": {
        "id": "eaVWqsI9Wyt_"
      },
      "source": [
        ""
      ],
      "execution_count": null,
      "outputs": []
    }
  ]
}