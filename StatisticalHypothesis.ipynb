{
  "nbformat": 4,
  "nbformat_minor": 0,
  "metadata": {
    "colab": {
      "name": "Untitled7.ipynb",
      "provenance": [],
      "authorship_tag": "ABX9TyMk2BlrzAaV+ZO8u9WVbOnC",
      "include_colab_link": true
    },
    "kernelspec": {
      "name": "python3",
      "display_name": "Python 3"
    }
  },
  "cells": [
    {
      "cell_type": "markdown",
      "metadata": {
        "id": "view-in-github",
        "colab_type": "text"
      },
      "source": [
        "<a href=\"https://colab.research.google.com/github/CakeNuthep/Super_AI/blob/master/StatisticalHypothesis.ipynb\" target=\"_parent\"><img src=\"https://colab.research.google.com/assets/colab-badge.svg\" alt=\"Open In Colab\"/></a>"
      ]
    },
    {
      "cell_type": "markdown",
      "metadata": {
        "id": "6SsH9Fv9-ZV2"
      },
      "source": [
        "# สมมุติฐาน\n",
        "H0 = ทั้งสองวิธีได้ยอดขายเท่ากัน (D0 = 0)\n",
        "\n",
        "H1 = ยอดขายที่วางสินค้าระดับชั้นสายตาสูงกว่าที่ระดับต่ำกว่าสายตา (D0 > 0)\n",
        "\n",
        "กำหนดให้ Alpha = 0.01"
      ]
    },
    {
      "cell_type": "code",
      "metadata": {
        "id": "zUXx_vr45DoC"
      },
      "source": [
        "from scipy import stats\n",
        "import numpy as np"
      ],
      "execution_count": 1,
      "outputs": []
    },
    {
      "cell_type": "code",
      "metadata": {
        "id": "MHOIuHFE5rep"
      },
      "source": [
        "eye_level = [181,172,190,187,210,202,166,173,183,184]\n",
        "bellow_eye_level = [178,172,185,184,201,201,160,168,180,179] \n"
      ],
      "execution_count": 2,
      "outputs": []
    },
    {
      "cell_type": "code",
      "metadata": {
        "id": "8dGblYpc64Sn",
        "outputId": "0aeec240-f30c-4244-da91-2e5943005945",
        "colab": {
          "base_uri": "https://localhost:8080/",
          "height": 194
        }
      },
      "source": [
        "# cal diff\n",
        "eye_level = np.array(eye_level)\n",
        "bellow_eye_level = np.array(bellow_eye_level)\n",
        "\n",
        "diff_data = np.subtract(eye_level,bellow_eye_level)\n",
        "diff_data = np.reshape(diff_data,(len(diff_data),1))\n",
        "diff_data"
      ],
      "execution_count": 3,
      "outputs": [
        {
          "output_type": "execute_result",
          "data": {
            "text/plain": [
              "array([[3],\n",
              "       [0],\n",
              "       [5],\n",
              "       [3],\n",
              "       [9],\n",
              "       [1],\n",
              "       [6],\n",
              "       [5],\n",
              "       [3],\n",
              "       [5]])"
            ]
          },
          "metadata": {
            "tags": []
          },
          "execution_count": 3
        }
      ]
    },
    {
      "cell_type": "code",
      "metadata": {
        "id": "tpCjnI135o4k",
        "outputId": "e445e421-38ee-457d-e1c9-e4534f3f364e",
        "colab": {
          "base_uri": "https://localhost:8080/",
          "height": 52
        }
      },
      "source": [
        "# 1. Set assumption: D0=0.0 vs H1: D0 > 0 (One-tail testing)\n",
        "Mu_D0=0\n",
        "tail=1 # Valid value of tail are -1,1,2\n",
        "\n",
        "# 2. Set level of significance:\n",
        "alpha = 0.01\n",
        "\n",
        "# 3. Select a statistical test: t-test\n",
        "tval,pval =stats.ttest_1samp(diff_data,Mu_D0)\n",
        "\n",
        "# 4. Draw the conclusion based on p-value.\n",
        "pval=pval/2.0 \n",
        "if tail==-1.0:\n",
        "    print(\"p-value: %f\" % pval)\n",
        "    if (pval<alpha and tval <0) :\n",
        "        print(\" Reject the null hypothesis (H0)\")\n",
        "    else:\n",
        "        print(\" Fail to reject the null hypothesis (H0)\")\n",
        "else : \n",
        "    print(\"p-value: %f\" % pval)\n",
        "    if (pval<alpha and tval > 0) :\n",
        "        print(\" Reject the null hypothesis (H0)\")\n",
        "    else:\n",
        "        print(\" Fail to reject the null hypothesis (H0)\")"
      ],
      "execution_count": 8,
      "outputs": [
        {
          "output_type": "stream",
          "text": [
            "p-value: 0.000424\n",
            " Reject the null hypothesis (H0)\n"
          ],
          "name": "stdout"
        }
      ]
    },
    {
      "cell_type": "markdown",
      "metadata": {
        "id": "Gb39PDO-Au-z"
      },
      "source": [
        "# จากผลที่ได้\n",
        "\n",
        "ค่า p-value มีค่าเป็น 0.000424 ซึ่งมีค่าน้อยกว่า alpha ดังนั้น จึงเป็นการปฎิเสธสมมุติฐานหลัก หรือก็คือ  ยอดขายที่วางสินค้าระดับชั้นสายตามียอดขายสูงกว่าที่ระดับต่ำกว่าสายตา"
      ]
    }
  ]
}